{
 "cells": [
  {
   "cell_type": "code",
   "execution_count": 159,
   "metadata": {},
   "outputs": [],
   "source": [
    "import pandas as pd\n",
    "import tqdm\n",
    "import datetime\n",
    "from datetime import timedelta\n",
    "import os"
   ]
  },
  {
   "cell_type": "markdown",
   "metadata": {},
   "source": [
    "# Učitavanje originalnih podataka "
   ]
  },
  {
   "cell_type": "code",
   "execution_count": 160,
   "metadata": {},
   "outputs": [],
   "source": [
    "dataset_path = '../data/raw/export_df.parquet'"
   ]
  },
  {
   "cell_type": "code",
   "execution_count": 161,
   "metadata": {},
   "outputs": [
    {
     "data": {
      "text/html": [
       "<div>\n",
       "<style scoped>\n",
       "    .dataframe tbody tr th:only-of-type {\n",
       "        vertical-align: middle;\n",
       "    }\n",
       "\n",
       "    .dataframe tbody tr th {\n",
       "        vertical-align: top;\n",
       "    }\n",
       "\n",
       "    .dataframe thead th {\n",
       "        text-align: right;\n",
       "    }\n",
       "</style>\n",
       "<table border=\"1\" class=\"dataframe\">\n",
       "  <thead>\n",
       "    <tr style=\"text-align: right;\">\n",
       "      <th></th>\n",
       "      <th>hotel_id</th>\n",
       "      <th>datum_dolaska</th>\n",
       "      <th>datum_kreiranja_rezervacije</th>\n",
       "      <th>datum_odjave</th>\n",
       "      <th>datum_otkazivanja_rezervacije</th>\n",
       "      <th>broj_odraslih_gostiju</th>\n",
       "      <th>broj_djece_gostiju</th>\n",
       "      <th>zemlja_gosta</th>\n",
       "      <th>kanal_prodaje_id</th>\n",
       "      <th>tip_sobe_id</th>\n",
       "      <th>cijena_nocenja</th>\n",
       "      <th>status_rezervacije</th>\n",
       "      <th>rezervacija_id</th>\n",
       "      <th>gost_id</th>\n",
       "    </tr>\n",
       "  </thead>\n",
       "  <tbody>\n",
       "    <tr>\n",
       "      <th>0</th>\n",
       "      <td>0</td>\n",
       "      <td>2015-07-01</td>\n",
       "      <td>2015-01-21</td>\n",
       "      <td>2015-07-01</td>\n",
       "      <td>None</td>\n",
       "      <td>2</td>\n",
       "      <td>0.0</td>\n",
       "      <td>PRT</td>\n",
       "      <td>0</td>\n",
       "      <td>0</td>\n",
       "      <td>100.000000</td>\n",
       "      <td>Check-Out</td>\n",
       "      <td>1313223</td>\n",
       "      <td>1077152</td>\n",
       "    </tr>\n",
       "    <tr>\n",
       "      <th>1</th>\n",
       "      <td>0</td>\n",
       "      <td>2015-07-01</td>\n",
       "      <td>2015-06-10</td>\n",
       "      <td>2015-07-01</td>\n",
       "      <td>None</td>\n",
       "      <td>2</td>\n",
       "      <td>0.0</td>\n",
       "      <td>PRT</td>\n",
       "      <td>0</td>\n",
       "      <td>0</td>\n",
       "      <td>100.000000</td>\n",
       "      <td>Check-Out</td>\n",
       "      <td>1313224</td>\n",
       "      <td>1017906</td>\n",
       "    </tr>\n",
       "    <tr>\n",
       "      <th>2</th>\n",
       "      <td>0</td>\n",
       "      <td>2015-07-01</td>\n",
       "      <td>2015-05-13</td>\n",
       "      <td>2015-07-02</td>\n",
       "      <td>None</td>\n",
       "      <td>1</td>\n",
       "      <td>0.0</td>\n",
       "      <td>GBR</td>\n",
       "      <td>0</td>\n",
       "      <td>1</td>\n",
       "      <td>64.991345</td>\n",
       "      <td>Check-Out</td>\n",
       "      <td>1313225</td>\n",
       "      <td>1039896</td>\n",
       "    </tr>\n",
       "    <tr>\n",
       "      <th>3</th>\n",
       "      <td>0</td>\n",
       "      <td>2015-07-01</td>\n",
       "      <td>2014-05-30</td>\n",
       "      <td>2015-07-02</td>\n",
       "      <td>None</td>\n",
       "      <td>1</td>\n",
       "      <td>0.0</td>\n",
       "      <td>GBR</td>\n",
       "      <td>1</td>\n",
       "      <td>1</td>\n",
       "      <td>74.368897</td>\n",
       "      <td>Check-Out</td>\n",
       "      <td>1313226</td>\n",
       "      <td>1008245</td>\n",
       "    </tr>\n",
       "    <tr>\n",
       "      <th>4</th>\n",
       "      <td>0</td>\n",
       "      <td>2015-07-01</td>\n",
       "      <td>2014-07-06</td>\n",
       "      <td>2015-07-03</td>\n",
       "      <td>None</td>\n",
       "      <td>2</td>\n",
       "      <td>0.0</td>\n",
       "      <td>GBR</td>\n",
       "      <td>2</td>\n",
       "      <td>1</td>\n",
       "      <td>130.973278</td>\n",
       "      <td>Check-Out</td>\n",
       "      <td>1313227</td>\n",
       "      <td>1093703</td>\n",
       "    </tr>\n",
       "  </tbody>\n",
       "</table>\n",
       "</div>"
      ],
      "text/plain": [
       "   hotel_id datum_dolaska datum_kreiranja_rezervacije datum_odjave  \\\n",
       "0         0    2015-07-01                  2015-01-21   2015-07-01   \n",
       "1         0    2015-07-01                  2015-06-10   2015-07-01   \n",
       "2         0    2015-07-01                  2015-05-13   2015-07-02   \n",
       "3         0    2015-07-01                  2014-05-30   2015-07-02   \n",
       "4         0    2015-07-01                  2014-07-06   2015-07-03   \n",
       "\n",
       "  datum_otkazivanja_rezervacije  broj_odraslih_gostiju  broj_djece_gostiju  \\\n",
       "0                          None                      2                 0.0   \n",
       "1                          None                      2                 0.0   \n",
       "2                          None                      1                 0.0   \n",
       "3                          None                      1                 0.0   \n",
       "4                          None                      2                 0.0   \n",
       "\n",
       "  zemlja_gosta  kanal_prodaje_id  tip_sobe_id  cijena_nocenja  \\\n",
       "0          PRT                 0            0      100.000000   \n",
       "1          PRT                 0            0      100.000000   \n",
       "2          GBR                 0            1       64.991345   \n",
       "3          GBR                 1            1       74.368897   \n",
       "4          GBR                 2            1      130.973278   \n",
       "\n",
       "  status_rezervacije  rezervacija_id  gost_id  \n",
       "0          Check-Out         1313223  1077152  \n",
       "1          Check-Out         1313224  1017906  \n",
       "2          Check-Out         1313225  1039896  \n",
       "3          Check-Out         1313226  1008245  \n",
       "4          Check-Out         1313227  1093703  "
      ]
     },
     "execution_count": 161,
     "metadata": {},
     "output_type": "execute_result"
    }
   ],
   "source": [
    "data = pd.read_parquet(dataset_path)\n",
    "data.head()\n"
   ]
  },
  {
   "cell_type": "markdown",
   "metadata": {},
   "source": [
    "#### Uklanjanje zapisa (redaka) gdje je zemlja gosta 0 "
   ]
  },
  {
   "cell_type": "code",
   "execution_count": 162,
   "metadata": {},
   "outputs": [],
   "source": [
    "data = data[~(data['zemlja_gosta']=='0')]"
   ]
  },
  {
   "cell_type": "markdown",
   "metadata": {},
   "source": [
    "#### Dodavanje stupca  ukupno_gostiju ; broj djece za svaki redak (djeca + odrasli)"
   ]
  },
  {
   "cell_type": "code",
   "execution_count": 163,
   "metadata": {},
   "outputs": [],
   "source": [
    "data['ukupno_gostiju'] = data['broj_odraslih_gostiju'] + data['broj_djece_gostiju']\n",
    "data['ukupno_gostiju'] = data['ukupno_gostiju'].astype('int')"
   ]
  },
  {
   "cell_type": "markdown",
   "metadata": {},
   "source": [
    "#### Uklanjanje rezervacija u kojima nema gostiju, odnosno ukupan je broj gostiju 0"
   ]
  },
  {
   "cell_type": "markdown",
   "metadata": {},
   "source": [
    "NOTE: Zašto ove retke uklanjamo sada, a ne nakon primjene statističke ili metode strojnog učenja? Jer ovdje govorimo o retcima u kojima je broj gostiju nula, što znači kako su ti podaci nevaljani: označen je dolazak gosta, odnosno očekujemo da je gost došao, ali je zbog nekog razloga krivo postavljen broj gostiju te možemo reći da su ovdje krivo uneseni podaci"
   ]
  },
  {
   "cell_type": "code",
   "execution_count": 164,
   "metadata": {},
   "outputs": [],
   "source": [
    "data = data[data['ukupno_gostiju'] != 0]"
   ]
  },
  {
   "cell_type": "markdown",
   "metadata": {},
   "source": [
    "#### Dodavanje stupca duljina boravka"
   ]
  },
  {
   "cell_type": "code",
   "execution_count": 165,
   "metadata": {},
   "outputs": [],
   "source": [
    "data['duljina_boravka'] = data['datum_odjave'] - data['datum_dolaska']\n",
    "data['duljina_boravka'] = data['duljina_boravka'].dt.days"
   ]
  },
  {
   "cell_type": "markdown",
   "metadata": {},
   "source": [
    "#### Uklanjanje redaka gdje je duljina boravka 0"
   ]
  },
  {
   "cell_type": "code",
   "execution_count": 166,
   "metadata": {},
   "outputs": [],
   "source": [
    "data = data[data['duljina_boravka']>0]"
   ]
  },
  {
   "cell_type": "markdown",
   "metadata": {},
   "source": [
    "#### Dodavanje stupca raspon_dolazak_rezervacija"
   ]
  },
  {
   "cell_type": "code",
   "execution_count": 167,
   "metadata": {},
   "outputs": [],
   "source": [
    "data['raspon_dolazak_rezervacija'] = (data['datum_dolaska'] - data['datum_kreiranja_rezervacije']).dt.days"
   ]
  },
  {
   "cell_type": "markdown",
   "metadata": {},
   "source": [
    "#### Uklanjanje (u zaseban df) radaka s otkazanim rezervacijama"
   ]
  },
  {
   "cell_type": "code",
   "execution_count": 168,
   "metadata": {},
   "outputs": [
    {
     "data": {
      "text/html": [
       "<div>\n",
       "<style scoped>\n",
       "    .dataframe tbody tr th:only-of-type {\n",
       "        vertical-align: middle;\n",
       "    }\n",
       "\n",
       "    .dataframe tbody tr th {\n",
       "        vertical-align: top;\n",
       "    }\n",
       "\n",
       "    .dataframe thead th {\n",
       "        text-align: right;\n",
       "    }\n",
       "</style>\n",
       "<table border=\"1\" class=\"dataframe\">\n",
       "  <thead>\n",
       "    <tr style=\"text-align: right;\">\n",
       "      <th></th>\n",
       "      <th>hotel_id</th>\n",
       "      <th>datum_dolaska</th>\n",
       "      <th>datum_kreiranja_rezervacije</th>\n",
       "      <th>datum_odjave</th>\n",
       "      <th>datum_otkazivanja_rezervacije</th>\n",
       "      <th>broj_odraslih_gostiju</th>\n",
       "      <th>broj_djece_gostiju</th>\n",
       "      <th>zemlja_gosta</th>\n",
       "      <th>kanal_prodaje_id</th>\n",
       "      <th>tip_sobe_id</th>\n",
       "      <th>cijena_nocenja</th>\n",
       "      <th>status_rezervacije</th>\n",
       "      <th>rezervacija_id</th>\n",
       "      <th>gost_id</th>\n",
       "      <th>ukupno_gostiju</th>\n",
       "      <th>duljina_boravka</th>\n",
       "      <th>raspon_dolazak_rezervacija</th>\n",
       "    </tr>\n",
       "  </thead>\n",
       "  <tbody>\n",
       "    <tr>\n",
       "      <th>0</th>\n",
       "      <td>0</td>\n",
       "      <td>2015-07-01</td>\n",
       "      <td>2015-05-13</td>\n",
       "      <td>2015-07-02</td>\n",
       "      <td>None</td>\n",
       "      <td>1</td>\n",
       "      <td>0.0</td>\n",
       "      <td>GBR</td>\n",
       "      <td>0</td>\n",
       "      <td>1</td>\n",
       "      <td>64.991345</td>\n",
       "      <td>Check-Out</td>\n",
       "      <td>1313225</td>\n",
       "      <td>1039896</td>\n",
       "      <td>1</td>\n",
       "      <td>1</td>\n",
       "      <td>49</td>\n",
       "    </tr>\n",
       "    <tr>\n",
       "      <th>1</th>\n",
       "      <td>0</td>\n",
       "      <td>2015-07-01</td>\n",
       "      <td>2014-05-30</td>\n",
       "      <td>2015-07-02</td>\n",
       "      <td>None</td>\n",
       "      <td>1</td>\n",
       "      <td>0.0</td>\n",
       "      <td>GBR</td>\n",
       "      <td>1</td>\n",
       "      <td>1</td>\n",
       "      <td>74.368897</td>\n",
       "      <td>Check-Out</td>\n",
       "      <td>1313226</td>\n",
       "      <td>1008245</td>\n",
       "      <td>1</td>\n",
       "      <td>1</td>\n",
       "      <td>397</td>\n",
       "    </tr>\n",
       "    <tr>\n",
       "      <th>2</th>\n",
       "      <td>0</td>\n",
       "      <td>2015-07-01</td>\n",
       "      <td>2014-07-06</td>\n",
       "      <td>2015-07-03</td>\n",
       "      <td>None</td>\n",
       "      <td>2</td>\n",
       "      <td>0.0</td>\n",
       "      <td>GBR</td>\n",
       "      <td>2</td>\n",
       "      <td>1</td>\n",
       "      <td>130.973278</td>\n",
       "      <td>Check-Out</td>\n",
       "      <td>1313227</td>\n",
       "      <td>1093703</td>\n",
       "      <td>2</td>\n",
       "      <td>2</td>\n",
       "      <td>360</td>\n",
       "    </tr>\n",
       "    <tr>\n",
       "      <th>3</th>\n",
       "      <td>0</td>\n",
       "      <td>2015-07-01</td>\n",
       "      <td>2015-04-21</td>\n",
       "      <td>2015-07-03</td>\n",
       "      <td>None</td>\n",
       "      <td>2</td>\n",
       "      <td>0.0</td>\n",
       "      <td>GBR</td>\n",
       "      <td>2</td>\n",
       "      <td>1</td>\n",
       "      <td>143.304560</td>\n",
       "      <td>Check-Out</td>\n",
       "      <td>1313228</td>\n",
       "      <td>1044263</td>\n",
       "      <td>2</td>\n",
       "      <td>2</td>\n",
       "      <td>71</td>\n",
       "    </tr>\n",
       "    <tr>\n",
       "      <th>4</th>\n",
       "      <td>0</td>\n",
       "      <td>2015-07-01</td>\n",
       "      <td>2015-06-25</td>\n",
       "      <td>2015-07-03</td>\n",
       "      <td>None</td>\n",
       "      <td>2</td>\n",
       "      <td>0.0</td>\n",
       "      <td>PRT</td>\n",
       "      <td>0</td>\n",
       "      <td>0</td>\n",
       "      <td>161.502814</td>\n",
       "      <td>Check-Out</td>\n",
       "      <td>1313229</td>\n",
       "      <td>1022260</td>\n",
       "      <td>2</td>\n",
       "      <td>2</td>\n",
       "      <td>6</td>\n",
       "    </tr>\n",
       "  </tbody>\n",
       "</table>\n",
       "</div>"
      ],
      "text/plain": [
       "   hotel_id datum_dolaska datum_kreiranja_rezervacije datum_odjave  \\\n",
       "0         0    2015-07-01                  2015-05-13   2015-07-02   \n",
       "1         0    2015-07-01                  2014-05-30   2015-07-02   \n",
       "2         0    2015-07-01                  2014-07-06   2015-07-03   \n",
       "3         0    2015-07-01                  2015-04-21   2015-07-03   \n",
       "4         0    2015-07-01                  2015-06-25   2015-07-03   \n",
       "\n",
       "  datum_otkazivanja_rezervacije  broj_odraslih_gostiju  broj_djece_gostiju  \\\n",
       "0                          None                      1                 0.0   \n",
       "1                          None                      1                 0.0   \n",
       "2                          None                      2                 0.0   \n",
       "3                          None                      2                 0.0   \n",
       "4                          None                      2                 0.0   \n",
       "\n",
       "  zemlja_gosta  kanal_prodaje_id  tip_sobe_id  cijena_nocenja  \\\n",
       "0          GBR                 0            1       64.991345   \n",
       "1          GBR                 1            1       74.368897   \n",
       "2          GBR                 2            1      130.973278   \n",
       "3          GBR                 2            1      143.304560   \n",
       "4          PRT                 0            0      161.502814   \n",
       "\n",
       "  status_rezervacije  rezervacija_id  gost_id  ukupno_gostiju  \\\n",
       "0          Check-Out         1313225  1039896               1   \n",
       "1          Check-Out         1313226  1008245               1   \n",
       "2          Check-Out         1313227  1093703               2   \n",
       "3          Check-Out         1313228  1044263               2   \n",
       "4          Check-Out         1313229  1022260               2   \n",
       "\n",
       "   duljina_boravka  raspon_dolazak_rezervacija  \n",
       "0                1                          49  \n",
       "1                1                         397  \n",
       "2                2                         360  \n",
       "3                2                          71  \n",
       "4                2                           6  "
      ]
     },
     "execution_count": 168,
     "metadata": {},
     "output_type": "execute_result"
    }
   ],
   "source": [
    "data_canceled = data[data['datum_otkazivanja_rezervacije'].notna()]\n",
    "data_canceled = data_canceled.reset_index(drop=True)\n",
    "data = data[~data['datum_otkazivanja_rezervacije'].notna()]\n",
    "data = data.reset_index(drop=True)\n",
    "data.head(5)"
   ]
  },
  {
   "cell_type": "code",
   "execution_count": 169,
   "metadata": {},
   "outputs": [
    {
     "data": {
      "text/html": [
       "<div>\n",
       "<style scoped>\n",
       "    .dataframe tbody tr th:only-of-type {\n",
       "        vertical-align: middle;\n",
       "    }\n",
       "\n",
       "    .dataframe tbody tr th {\n",
       "        vertical-align: top;\n",
       "    }\n",
       "\n",
       "    .dataframe thead th {\n",
       "        text-align: right;\n",
       "    }\n",
       "</style>\n",
       "<table border=\"1\" class=\"dataframe\">\n",
       "  <thead>\n",
       "    <tr style=\"text-align: right;\">\n",
       "      <th></th>\n",
       "      <th>hotel_id</th>\n",
       "      <th>datum_dolaska</th>\n",
       "      <th>datum_kreiranja_rezervacije</th>\n",
       "      <th>datum_odjave</th>\n",
       "      <th>datum_otkazivanja_rezervacije</th>\n",
       "      <th>broj_odraslih_gostiju</th>\n",
       "      <th>broj_djece_gostiju</th>\n",
       "      <th>zemlja_gosta</th>\n",
       "      <th>kanal_prodaje_id</th>\n",
       "      <th>tip_sobe_id</th>\n",
       "      <th>cijena_nocenja</th>\n",
       "      <th>status_rezervacije</th>\n",
       "      <th>rezervacija_id</th>\n",
       "      <th>gost_id</th>\n",
       "      <th>ukupno_gostiju</th>\n",
       "      <th>duljina_boravka</th>\n",
       "      <th>raspon_dolazak_rezervacija</th>\n",
       "    </tr>\n",
       "  </thead>\n",
       "  <tbody>\n",
       "    <tr>\n",
       "      <th>0</th>\n",
       "      <td>0</td>\n",
       "      <td>2015-07-01</td>\n",
       "      <td>2015-06-30</td>\n",
       "      <td>2015-07-04</td>\n",
       "      <td>2015-05-06</td>\n",
       "      <td>2</td>\n",
       "      <td>0.0</td>\n",
       "      <td>PRT</td>\n",
       "      <td>2</td>\n",
       "      <td>1</td>\n",
       "      <td>61.437192</td>\n",
       "      <td>Canceled</td>\n",
       "      <td>1313231</td>\n",
       "      <td>1075633</td>\n",
       "      <td>2</td>\n",
       "      <td>3</td>\n",
       "      <td>1</td>\n",
       "    </tr>\n",
       "    <tr>\n",
       "      <th>1</th>\n",
       "      <td>0</td>\n",
       "      <td>2015-07-01</td>\n",
       "      <td>2015-06-28</td>\n",
       "      <td>2015-07-04</td>\n",
       "      <td>2015-04-22</td>\n",
       "      <td>2</td>\n",
       "      <td>0.0</td>\n",
       "      <td>PRT</td>\n",
       "      <td>2</td>\n",
       "      <td>2</td>\n",
       "      <td>150.365262</td>\n",
       "      <td>Canceled</td>\n",
       "      <td>1313232</td>\n",
       "      <td>1056139</td>\n",
       "      <td>2</td>\n",
       "      <td>3</td>\n",
       "      <td>3</td>\n",
       "    </tr>\n",
       "    <tr>\n",
       "      <th>2</th>\n",
       "      <td>0</td>\n",
       "      <td>2015-07-01</td>\n",
       "      <td>2015-04-17</td>\n",
       "      <td>2015-07-05</td>\n",
       "      <td>2015-06-23</td>\n",
       "      <td>2</td>\n",
       "      <td>0.0</td>\n",
       "      <td>PRT</td>\n",
       "      <td>2</td>\n",
       "      <td>3</td>\n",
       "      <td>142.635814</td>\n",
       "      <td>Canceled</td>\n",
       "      <td>1313233</td>\n",
       "      <td>1020092</td>\n",
       "      <td>2</td>\n",
       "      <td>4</td>\n",
       "      <td>75</td>\n",
       "    </tr>\n",
       "    <tr>\n",
       "      <th>3</th>\n",
       "      <td>0</td>\n",
       "      <td>2015-07-01</td>\n",
       "      <td>2015-01-04</td>\n",
       "      <td>2015-07-08</td>\n",
       "      <td>2015-05-11</td>\n",
       "      <td>2</td>\n",
       "      <td>0.0</td>\n",
       "      <td>PRT</td>\n",
       "      <td>2</td>\n",
       "      <td>3</td>\n",
       "      <td>113.277032</td>\n",
       "      <td>Canceled</td>\n",
       "      <td>1313250</td>\n",
       "      <td>1018277</td>\n",
       "      <td>2</td>\n",
       "      <td>7</td>\n",
       "      <td>178</td>\n",
       "    </tr>\n",
       "    <tr>\n",
       "      <th>4</th>\n",
       "      <td>0</td>\n",
       "      <td>2015-07-01</td>\n",
       "      <td>2015-01-01</td>\n",
       "      <td>2015-07-11</td>\n",
       "      <td>2015-05-29</td>\n",
       "      <td>2</td>\n",
       "      <td>0.0</td>\n",
       "      <td>PRT</td>\n",
       "      <td>0</td>\n",
       "      <td>3</td>\n",
       "      <td>105.416363</td>\n",
       "      <td>Canceled</td>\n",
       "      <td>1313255</td>\n",
       "      <td>1035627</td>\n",
       "      <td>2</td>\n",
       "      <td>10</td>\n",
       "      <td>181</td>\n",
       "    </tr>\n",
       "  </tbody>\n",
       "</table>\n",
       "</div>"
      ],
      "text/plain": [
       "   hotel_id datum_dolaska datum_kreiranja_rezervacije datum_odjave  \\\n",
       "0         0    2015-07-01                  2015-06-30   2015-07-04   \n",
       "1         0    2015-07-01                  2015-06-28   2015-07-04   \n",
       "2         0    2015-07-01                  2015-04-17   2015-07-05   \n",
       "3         0    2015-07-01                  2015-01-04   2015-07-08   \n",
       "4         0    2015-07-01                  2015-01-01   2015-07-11   \n",
       "\n",
       "  datum_otkazivanja_rezervacije  broj_odraslih_gostiju  broj_djece_gostiju  \\\n",
       "0                    2015-05-06                      2                 0.0   \n",
       "1                    2015-04-22                      2                 0.0   \n",
       "2                    2015-06-23                      2                 0.0   \n",
       "3                    2015-05-11                      2                 0.0   \n",
       "4                    2015-05-29                      2                 0.0   \n",
       "\n",
       "  zemlja_gosta  kanal_prodaje_id  tip_sobe_id  cijena_nocenja  \\\n",
       "0          PRT                 2            1       61.437192   \n",
       "1          PRT                 2            2      150.365262   \n",
       "2          PRT                 2            3      142.635814   \n",
       "3          PRT                 2            3      113.277032   \n",
       "4          PRT                 0            3      105.416363   \n",
       "\n",
       "  status_rezervacije  rezervacija_id  gost_id  ukupno_gostiju  \\\n",
       "0           Canceled         1313231  1075633               2   \n",
       "1           Canceled         1313232  1056139               2   \n",
       "2           Canceled         1313233  1020092               2   \n",
       "3           Canceled         1313250  1018277               2   \n",
       "4           Canceled         1313255  1035627               2   \n",
       "\n",
       "   duljina_boravka  raspon_dolazak_rezervacija  \n",
       "0                3                           1  \n",
       "1                3                           3  \n",
       "2                4                          75  \n",
       "3                7                         178  \n",
       "4               10                         181  "
      ]
     },
     "execution_count": 169,
     "metadata": {},
     "output_type": "execute_result"
    }
   ],
   "source": [
    "data_canceled.head()"
   ]
  },
  {
   "cell_type": "markdown",
   "metadata": {},
   "source": [
    "####  Uklanjanje stupaca: \n",
    "   - datum otkazivanja rezervacije (ovdje imamo samo neotkazane rezervacije)\n",
    "   - datum odjave : jer je autokoreliran s stupcima datum dolaska i duljina boravka\n",
    "   - broj_odraslih_gostiju\tte broj_djece_gostiju uklanjamo kako smo dodali stupac ukupan broj gostiju\n",
    "   - status rezervacije (sve su vrijednosti iste iste - 'Check-Out')\n",
    "   - rezervacija_id - od 74553 zapisa imamo i 74553 unikatne vrijednosti identifikatora\n",
    "    (NE ODBACUJEMO gost_id jer od 74553 zapisaimamo 69764 gosta, što znači da imamo ponavljajućih gostiju)\n",
    "   - datum_kreiranja_rezervacije - dodan je stupac raspon_dolazak_rezervacija koji označava razliku dana dolaska i kreiranja rezervacije \n",
    "   "
   ]
  },
  {
   "cell_type": "code",
   "execution_count": 170,
   "metadata": {},
   "outputs": [
    {
     "data": {
      "text/html": [
       "<div>\n",
       "<style scoped>\n",
       "    .dataframe tbody tr th:only-of-type {\n",
       "        vertical-align: middle;\n",
       "    }\n",
       "\n",
       "    .dataframe tbody tr th {\n",
       "        vertical-align: top;\n",
       "    }\n",
       "\n",
       "    .dataframe thead th {\n",
       "        text-align: right;\n",
       "    }\n",
       "</style>\n",
       "<table border=\"1\" class=\"dataframe\">\n",
       "  <thead>\n",
       "    <tr style=\"text-align: right;\">\n",
       "      <th></th>\n",
       "      <th>hotel_id</th>\n",
       "      <th>datum_dolaska</th>\n",
       "      <th>zemlja_gosta</th>\n",
       "      <th>kanal_prodaje_id</th>\n",
       "      <th>tip_sobe_id</th>\n",
       "      <th>cijena_nocenja</th>\n",
       "      <th>gost_id</th>\n",
       "      <th>ukupno_gostiju</th>\n",
       "      <th>duljina_boravka</th>\n",
       "      <th>raspon_dolazak_rezervacija</th>\n",
       "    </tr>\n",
       "  </thead>\n",
       "  <tbody>\n",
       "    <tr>\n",
       "      <th>0</th>\n",
       "      <td>0</td>\n",
       "      <td>2015-07-01</td>\n",
       "      <td>GBR</td>\n",
       "      <td>0</td>\n",
       "      <td>1</td>\n",
       "      <td>64.991345</td>\n",
       "      <td>1039896</td>\n",
       "      <td>1</td>\n",
       "      <td>1</td>\n",
       "      <td>49</td>\n",
       "    </tr>\n",
       "    <tr>\n",
       "      <th>1</th>\n",
       "      <td>0</td>\n",
       "      <td>2015-07-01</td>\n",
       "      <td>GBR</td>\n",
       "      <td>1</td>\n",
       "      <td>1</td>\n",
       "      <td>74.368897</td>\n",
       "      <td>1008245</td>\n",
       "      <td>1</td>\n",
       "      <td>1</td>\n",
       "      <td>397</td>\n",
       "    </tr>\n",
       "    <tr>\n",
       "      <th>2</th>\n",
       "      <td>0</td>\n",
       "      <td>2015-07-01</td>\n",
       "      <td>GBR</td>\n",
       "      <td>2</td>\n",
       "      <td>1</td>\n",
       "      <td>130.973278</td>\n",
       "      <td>1093703</td>\n",
       "      <td>2</td>\n",
       "      <td>2</td>\n",
       "      <td>360</td>\n",
       "    </tr>\n",
       "    <tr>\n",
       "      <th>3</th>\n",
       "      <td>0</td>\n",
       "      <td>2015-07-01</td>\n",
       "      <td>GBR</td>\n",
       "      <td>2</td>\n",
       "      <td>1</td>\n",
       "      <td>143.304560</td>\n",
       "      <td>1044263</td>\n",
       "      <td>2</td>\n",
       "      <td>2</td>\n",
       "      <td>71</td>\n",
       "    </tr>\n",
       "    <tr>\n",
       "      <th>4</th>\n",
       "      <td>0</td>\n",
       "      <td>2015-07-01</td>\n",
       "      <td>PRT</td>\n",
       "      <td>0</td>\n",
       "      <td>0</td>\n",
       "      <td>161.502814</td>\n",
       "      <td>1022260</td>\n",
       "      <td>2</td>\n",
       "      <td>2</td>\n",
       "      <td>6</td>\n",
       "    </tr>\n",
       "  </tbody>\n",
       "</table>\n",
       "</div>"
      ],
      "text/plain": [
       "   hotel_id datum_dolaska zemlja_gosta  kanal_prodaje_id  tip_sobe_id  \\\n",
       "0         0    2015-07-01          GBR                 0            1   \n",
       "1         0    2015-07-01          GBR                 1            1   \n",
       "2         0    2015-07-01          GBR                 2            1   \n",
       "3         0    2015-07-01          GBR                 2            1   \n",
       "4         0    2015-07-01          PRT                 0            0   \n",
       "\n",
       "   cijena_nocenja  gost_id  ukupno_gostiju  duljina_boravka  \\\n",
       "0       64.991345  1039896               1                1   \n",
       "1       74.368897  1008245               1                1   \n",
       "2      130.973278  1093703               2                2   \n",
       "3      143.304560  1044263               2                2   \n",
       "4      161.502814  1022260               2                2   \n",
       "\n",
       "   raspon_dolazak_rezervacija  \n",
       "0                          49  \n",
       "1                         397  \n",
       "2                         360  \n",
       "3                          71  \n",
       "4                           6  "
      ]
     },
     "execution_count": 170,
     "metadata": {},
     "output_type": "execute_result"
    }
   ],
   "source": [
    "data = data.drop(columns = ['datum_otkazivanja_rezervacije','datum_odjave','broj_odraslih_gostiju','broj_djece_gostiju','status_rezervacije','rezervacija_id','datum_kreiranja_rezervacije'],axis=1)\n",
    "data_canceled = data_canceled.drop(columns = ['datum_odjave','broj_odraslih_gostiju','broj_djece_gostiju','status_rezervacije','rezervacija_id','datum_kreiranja_rezervacije'],axis=1)\n",
    "data.head()"
   ]
  },
  {
   "cell_type": "markdown",
   "metadata": {},
   "source": [
    "#### Odvajanje na hotel 0 (Resort) te na hotel 1 (City)"
   ]
  },
  {
   "cell_type": "code",
   "execution_count": 171,
   "metadata": {},
   "outputs": [],
   "source": [
    "dataResort = data[data['hotel_id'] == 0]\n",
    "dataCity = data[data['hotel_id'] == 1]\n",
    "\n",
    "assert len(dataResort) + len(dataCity) == len(data)"
   ]
  },
  {
   "cell_type": "markdown",
   "metadata": {},
   "source": [
    "# Stvaranje podatkovnih okvira na dnevnoj, tjednoj, mjesečnoj i godišnjoj razini za oba hotela"
   ]
  },
  {
   "cell_type": "markdown",
   "metadata": {},
   "source": [
    "## Hotel 1 (City Hotel)"
   ]
  },
  {
   "cell_type": "markdown",
   "metadata": {},
   "source": [
    "### Dnevna razina"
   ]
  },
  {
   "cell_type": "code",
   "execution_count": null,
   "metadata": {},
   "outputs": [],
   "source": [
    "daily_guest_counts_city_hotel = {}\n",
    "for index, row in dataCity.iterrows():\n",
    "    \n",
    "    arrival_date = row['datum_dolaska']\n",
    "    length_of_stay = row['duljina_boravka']\n",
    "    number_of_guests = row['ukupno_gostiju']\n",
    "    \n",
    "    for day in range(length_of_stay + 1):\n",
    "        current_day = arrival_date + timedelta(days=day)\n",
    "\n",
    "        if current_day not in daily_guest_counts_city_hotel: #init\n",
    "            daily_guest_counts_city_hotel[current_day] = 0\n",
    "\n",
    "        daily_guest_counts_city_hotel[current_day] += number_of_guests\n",
    "\n",
    "NumberOfGuestsDailyCity = pd.DataFrame(list(daily_guest_counts_city_hotel.items()), columns=['Date', 'NumberOfGuests'])"
   ]
  },
  {
   "cell_type": "code",
   "execution_count": null,
   "metadata": {},
   "outputs": [],
   "source": [
    "NumberOfGuestsDailyCity['Date'] = pd.to_datetime(NumberOfGuestsDailyCity['Date'])\n",
    "NumberOfGuestsDailyCity = NumberOfGuestsDailyCity.sort_values(by='Date')\n",
    "NumberOfGuestsDailyCity = NumberOfGuestsDailyCity.set_index('Date')\n",
    "NumberOfGuestsDailyCity.head(5)"
   ]
  },
  {
   "cell_type": "code",
   "execution_count": null,
   "metadata": {},
   "outputs": [],
   "source": [
    "NumberOfArrivalsDailyCity = dataCity.groupby('datum_dolaska').size()\n",
    "NumberOfArrivalsDailyCity = NumberOfArrivalsDailyCity.resample('D').sum().to_frame(name='NumberOfArrivals')\n",
    "NumberOfArrivalsDailyCity.head(5)"
   ]
  },
  {
   "cell_type": "code",
   "execution_count": null,
   "metadata": {
    "scrolled": true
   },
   "outputs": [],
   "source": [
    "NumberOfNewGuestsDailyCity = dataCity['ukupno_gostiju'].groupby(dataCity['datum_dolaska']).sum()\n",
    "NumberOfNewGuestsDailyCity = NumberOfNewGuestsDailyCity.resample('d').sum().to_frame()\n",
    "NumberOfNewGuestsDailyCity.head(5)"
   ]
  },
  {
   "cell_type": "markdown",
   "metadata": {},
   "source": [
    "### Tjedna razina"
   ]
  },
  {
   "cell_type": "code",
   "execution_count": null,
   "metadata": {},
   "outputs": [],
   "source": [
    "NumberOfGuestsWeeklyCity = NumberOfGuestsDailyCity.resample('W').sum()"
   ]
  },
  {
   "cell_type": "code",
   "execution_count": null,
   "metadata": {},
   "outputs": [],
   "source": [
    "NumberOfArrivalsWeeklyCity =NumberOfArrivalsDailyCity.resample('W').sum()"
   ]
  },
  {
   "cell_type": "code",
   "execution_count": null,
   "metadata": {},
   "outputs": [],
   "source": [
    "NumberOfNewGuestsWeeklyCity = NumberOfNewGuestsDailyCity.resample('W').sum()"
   ]
  },
  {
   "cell_type": "markdown",
   "metadata": {},
   "source": [
    "### Mjesečna razina"
   ]
  },
  {
   "cell_type": "code",
   "execution_count": null,
   "metadata": {},
   "outputs": [],
   "source": [
    "NumberOfGuestsMonthlyCity = NumberOfGuestsDailyCity.resample('ME').sum()"
   ]
  },
  {
   "cell_type": "code",
   "execution_count": null,
   "metadata": {},
   "outputs": [],
   "source": [
    "NumberOfArrivalsMonthlyCity =NumberOfArrivalsDailyCity.resample('ME').sum()"
   ]
  },
  {
   "cell_type": "code",
   "execution_count": null,
   "metadata": {},
   "outputs": [],
   "source": [
    "NumberOfNewGuestsMonthlyCity = NumberOfNewGuestsDailyCity.resample('ME').sum()"
   ]
  },
  {
   "cell_type": "markdown",
   "metadata": {},
   "source": [
    "### Godišnja razina"
   ]
  },
  {
   "cell_type": "code",
   "execution_count": null,
   "metadata": {},
   "outputs": [],
   "source": [
    "NumberOfGuestsYearlyCity = NumberOfGuestsDailyCity.resample('YE').sum()"
   ]
  },
  {
   "cell_type": "code",
   "execution_count": null,
   "metadata": {},
   "outputs": [],
   "source": [
    "NumberOfArrivalsYearlyCity =NumberOfArrivalsDailyCity.resample('YE').sum()"
   ]
  },
  {
   "cell_type": "code",
   "execution_count": null,
   "metadata": {},
   "outputs": [],
   "source": [
    "NumberOfNewGuestsYearlyCity = NumberOfNewGuestsDailyCity.resample('YE').sum()"
   ]
  },
  {
   "cell_type": "markdown",
   "metadata": {},
   "source": [
    "## Hotel 0 (Resort Hotel)"
   ]
  },
  {
   "cell_type": "markdown",
   "metadata": {},
   "source": [
    "### Dnevna razina"
   ]
  },
  {
   "cell_type": "code",
   "execution_count": null,
   "metadata": {},
   "outputs": [],
   "source": [
    "daily_guest_counts_resort_hotel = {}\n",
    "\n",
    "for index, row in dataResort.iterrows():\n",
    "    arrival_date = row['datum_dolaska']\n",
    "    length_of_stay = row['duljina_boravka']\n",
    "    number_of_guests = row['ukupno_gostiju']\n",
    "    \n",
    "    for day in range(length_of_stay + 1):\n",
    "        current_day = arrival_date + timedelta(days=day)\n",
    "\n",
    "        if current_day not in daily_guest_counts_resort_hotel: #init\n",
    "            daily_guest_counts_resort_hotel[current_day] = 0\n",
    "\n",
    "        daily_guest_counts_resort_hotel[current_day] += number_of_guests\n",
    "\n",
    "NumberOfGuestsDailyResort = pd.DataFrame(list(daily_guest_counts_resort_hotel.items()), columns=['Date', 'NumberOfGuests'])"
   ]
  },
  {
   "cell_type": "code",
   "execution_count": null,
   "metadata": {},
   "outputs": [],
   "source": [
    "NumberOfGuestsDailyResort['Date'] = pd.to_datetime(NumberOfGuestsDailyResort['Date'])\n",
    "NumberOfGuestsDailyResort = NumberOfGuestsDailyResort.sort_values(by='Date')\n",
    "NumberOfGuestsDailyResort = NumberOfGuestsDailyResort.set_index('Date')\n",
    "NumberOfGuestsDailyResort.head(5)"
   ]
  },
  {
   "cell_type": "code",
   "execution_count": null,
   "metadata": {},
   "outputs": [],
   "source": [
    "NumberOfArrivalsDailyResort = dataResort.groupby('datum_dolaska').size()\n",
    "NumberOfArrivalsDailyResort = NumberOfArrivalsDailyResort.resample('D').sum().to_frame(name='NumberOfArrivals')\n",
    "NumberOfArrivalsDailyResort.head(5)"
   ]
  },
  {
   "cell_type": "code",
   "execution_count": null,
   "metadata": {},
   "outputs": [],
   "source": [
    "NumberOfNewGuestsDailyResort = dataResort['ukupno_gostiju'].groupby(dataResort['datum_dolaska']).sum()\n",
    "NumberOfNewGuestsDailyResort = NumberOfNewGuestsDailyResort.resample('d').sum().to_frame()\n",
    "NumberOfNewGuestsDailyResort.head(5)"
   ]
  },
  {
   "cell_type": "markdown",
   "metadata": {},
   "source": [
    "### Tjedna razina"
   ]
  },
  {
   "cell_type": "code",
   "execution_count": null,
   "metadata": {},
   "outputs": [],
   "source": [
    "NumberOfGuestsWeeklyResort = NumberOfGuestsDailyResort.resample('W').sum()"
   ]
  },
  {
   "cell_type": "code",
   "execution_count": null,
   "metadata": {},
   "outputs": [],
   "source": [
    "NumberOfArrivalsWeeklyResort = NumberOfArrivalsDailyResort.resample('W').sum()"
   ]
  },
  {
   "cell_type": "code",
   "execution_count": null,
   "metadata": {},
   "outputs": [],
   "source": [
    "NumberOfNewGuestsWeeklyResort = NumberOfNewGuestsDailyResort.resample('W').sum()"
   ]
  },
  {
   "cell_type": "markdown",
   "metadata": {},
   "source": [
    "### Mjesečna razina"
   ]
  },
  {
   "cell_type": "code",
   "execution_count": null,
   "metadata": {},
   "outputs": [],
   "source": [
    "NumberOfGuestsMonthlyResort = NumberOfNewGuestsDailyResort.resample('ME').sum()"
   ]
  },
  {
   "cell_type": "code",
   "execution_count": null,
   "metadata": {},
   "outputs": [],
   "source": [
    "NumberOfArrivalsMonthlyResort = NumberOfArrivalsDailyResort.resample('ME').sum()"
   ]
  },
  {
   "cell_type": "code",
   "execution_count": null,
   "metadata": {},
   "outputs": [],
   "source": [
    "NumberOfNewGuestsMonthlyResort = NumberOfNewGuestsDailyResort.resample('ME').sum()"
   ]
  },
  {
   "cell_type": "markdown",
   "metadata": {},
   "source": [
    "### Godišnja razina"
   ]
  },
  {
   "cell_type": "code",
   "execution_count": null,
   "metadata": {},
   "outputs": [],
   "source": [
    "NumberOfGuestsYearlyResort = NumberOfGuestsDailyResort.resample('YE').sum()"
   ]
  },
  {
   "cell_type": "code",
   "execution_count": null,
   "metadata": {},
   "outputs": [],
   "source": [
    "NumberOfArrivalsYearlyResort = NumberOfArrivalsDailyResort.resample('YE').sum()"
   ]
  },
  {
   "cell_type": "code",
   "execution_count": null,
   "metadata": {},
   "outputs": [],
   "source": [
    "NumberOfNewGuestsYearlyResort = NumberOfNewGuestsDailyResort.resample('YE').sum()"
   ]
  },
  {
   "cell_type": "markdown",
   "metadata": {},
   "source": [
    "### Spremanje podatakovnih okvira (interim za sada)"
   ]
  },
  {
   "cell_type": "code",
   "execution_count": 176,
   "metadata": {},
   "outputs": [],
   "source": [
    "DATA_PATH = '../data/interim'\n",
    "DATA_HOTEL0_BASE_PATH = '../data/interim/hotel_0'\n",
    "DATA_HOTEL1_BASE_PATH = '../data/interim/hotel_1'"
   ]
  },
  {
   "cell_type": "code",
   "execution_count": 177,
   "metadata": {},
   "outputs": [],
   "source": [
    "data.to_parquet(os.path.join(DATA_PATH,\"data_no_cancellations.parquet\"))\n",
    "data_canceled.to_parquet(os.path.join(DATA_PATH,\"data_cancellations.parquet\"))\n",
    "dataCity.to_parquet(os.path.join(DATA_HOTEL0_BASE_PATH,\"hotel0cleaned.parquet\"))\n",
    "dataResort.to_parquet(os.path.join(DATA_HOTEL1_BASE_PATH,\"hotel1cleaned.parquet\"))\n",
    "\n"
   ]
  },
  {
   "cell_type": "code",
   "execution_count": null,
   "metadata": {},
   "outputs": [],
   "source": [
    "NumberOfGuestsDailyCity.to_parquet(os.path.join(DATA_HOTEL0_BASE_PATH,\"daily\",\"daily_guests.parquet\"))\n",
    "NumberOfArrivalsDailyCity.to_parquet(os.path.join(DATA_HOTEL0_BASE_PATH,\"daily\",\"daily_arrivals.parquet\")) \n",
    "NumberOfNewGuestsDailyCity.to_parquet(os.path.join(DATA_HOTEL0_BASE_PATH,\"daily\",\"daily_new_guests.parquet\"))\n",
    "NumberOfGuestsWeeklyCity.to_parquet(os.path.join(DATA_HOTEL0_BASE_PATH,\"weekly\",\"weekly_guests.parquet\")) \n",
    "NumberOfArrivalsWeeklyCity.to_parquet(os.path.join(DATA_HOTEL0_BASE_PATH,\"weekly\",\"weekly_arrivals.parquet\")) \n",
    "NumberOfNewGuestsWeeklyCity.to_parquet(os.path.join(DATA_HOTEL0_BASE_PATH,\"weekly\",\"weekly_new_guests.parquet\"))\n",
    "NumberOfGuestsMonthlyCity.to_parquet(os.path.join(DATA_HOTEL0_BASE_PATH,\"monthly\",\"monthly_guests.parquet\")) \n",
    "NumberOfArrivalsMonthlyCity.to_parquet(os.path.join(DATA_HOTEL0_BASE_PATH,\"monthly\",\"monthly_arrivals.parquet\"))\n",
    "NumberOfNewGuestsMonthlyCity.to_parquet(os.path.join(DATA_HOTEL0_BASE_PATH,\"monthly\",\"monthly_new_guests.parquet\"))\n",
    "NumberOfGuestsYearlyCity.to_parquet(os.path.join(DATA_HOTEL0_BASE_PATH,\"yearly\",\"yearly_guests.parquet\"))\n",
    "NumberOfArrivalsYearlyCity.to_parquet(os.path.join(DATA_HOTEL0_BASE_PATH,\"yearly\",\"yearly_arrivals.parquet\")) \n",
    "NumberOfNewGuestsYearlyCity.to_parquet(os.path.join(DATA_HOTEL0_BASE_PATH,\"yearly\",\"yearly_new_guests.parquet\"))"
   ]
  },
  {
   "cell_type": "code",
   "execution_count": null,
   "metadata": {},
   "outputs": [],
   "source": [
    "NumberOfGuestsDailyResort.to_parquet(os.path.join(DATA_HOTEL1_BASE_PATH,\"daily\",\"daily_guests.parquet\"))\n",
    "NumberOfArrivalsDailyResort.to_parquet(os.path.join(DATA_HOTEL1_BASE_PATH,\"daily\",\"daily_arrivals.parquet\"))\n",
    "NumberOfNewGuestsDailyResort.to_parquet(os.path.join(DATA_HOTEL1_BASE_PATH,\"daily\",\"daily_new_guests.parquet\"))\n",
    "NumberOfGuestsWeeklyResort.to_parquet(os.path.join(DATA_HOTEL1_BASE_PATH,\"weekly\",\"weekly_guests.parquet\"))\n",
    "NumberOfArrivalsWeeklyResort.to_parquet(os.path.join(DATA_HOTEL1_BASE_PATH,\"weekly\",\"weekly_arrivals.parquet\"))\n",
    "NumberOfNewGuestsWeeklyResort.to_parquet(os.path.join(DATA_HOTEL1_BASE_PATH,\"weekly\",\"weekly_new_guests.parquet\"))\n",
    "NumberOfGuestsMonthlyResort.to_parquet(os.path.join(DATA_HOTEL1_BASE_PATH,\"monthly\",\"monthly_guests.parquet\"))\n",
    "NumberOfArrivalsMonthlyResort.to_parquet(os.path.join(DATA_HOTEL1_BASE_PATH,\"monthly\",\"monthly_arrivals.parquet\"))\n",
    "NumberOfNewGuestsMonthlyResort.to_parquet(os.path.join(DATA_HOTEL1_BASE_PATH,\"monthly\",\"monthly_new_guests.parquet\"))\n",
    "NumberOfGuestsYearlyResort.to_parquet(os.path.join(DATA_HOTEL1_BASE_PATH,\"yearly\",\"yearly_guests.parquet\"))\n",
    "NumberOfArrivalsYearlyResort.to_parquet(os.path.join(DATA_HOTEL1_BASE_PATH,\"yearly\",\"yearly_arrivals.parquet\"))\n",
    "NumberOfNewGuestsYearlyResort.to_parquet(os.path.join(DATA_HOTEL1_BASE_PATH,\"yearly\",\"yearly_new_guests.parquet\"))"
   ]
  }
 ],
 "metadata": {
  "kernelspec": {
   "display_name": "Python 3 (ipykernel)",
   "language": "python",
   "name": "python3"
  },
  "language_info": {
   "codemirror_mode": {
    "name": "ipython",
    "version": 3
   },
   "file_extension": ".py",
   "mimetype": "text/x-python",
   "name": "python",
   "nbconvert_exporter": "python",
   "pygments_lexer": "ipython3",
   "version": "3.10.7"
  }
 },
 "nbformat": 4,
 "nbformat_minor": 4
}
