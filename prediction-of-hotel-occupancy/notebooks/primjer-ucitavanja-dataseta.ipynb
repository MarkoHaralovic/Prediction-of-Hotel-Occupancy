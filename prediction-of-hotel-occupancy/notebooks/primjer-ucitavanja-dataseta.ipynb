{
 "cells": [
  {
   "cell_type": "code",
   "execution_count": 3,
   "id": "235341fca7f2be58",
   "metadata": {
    "ExecuteTime": {
     "end_time": "2024-01-29T08:50:50.344415800Z",
     "start_time": "2024-01-29T08:50:45.158460900Z"
    },
    "collapsed": false
   },
   "outputs": [
    {
     "name": "stderr",
     "output_type": "stream",
     "text": [
      "WARNING: There was an error checking the latest version of pip.\n"
     ]
    },
    {
     "name": "stdout",
     "output_type": "stream",
     "text": [
      "Requirement already satisfied: pandas in c:\\python311\\lib\\site-packages (2.0.3)\n",
      "Requirement already satisfied: python-dateutil>=2.8.2 in c:\\python311\\lib\\site-packages (from pandas) (2.8.2)\n",
      "Requirement already satisfied: pytz>=2020.1 in c:\\python311\\lib\\site-packages (from pandas) (2023.3)\n",
      "Requirement already satisfied: tzdata>=2022.1 in c:\\python311\\lib\\site-packages (from pandas) (2023.3)\n",
      "Requirement already satisfied: numpy>=1.21.0 in c:\\python311\\lib\\site-packages (from pandas) (1.25.0)\n",
      "Requirement already satisfied: six>=1.5 in c:\\python311\\lib\\site-packages (from python-dateutil>=2.8.2->pandas) (1.16.0)\n",
      "Requirement already satisfied: parquet in c:\\python311\\lib\\site-packages (1.3.1)\n",
      "Requirement already satisfied: thriftpy2 in c:\\python311\\lib\\site-packages (from parquet) (0.4.17)\n",
      "Requirement already satisfied: ply<4.0,>=3.4 in c:\\python311\\lib\\site-packages (from thriftpy2->parquet) (3.11)\n",
      "Requirement already satisfied: six~=1.15 in c:\\python311\\lib\\site-packages (from thriftpy2->parquet) (1.16.0)\n"
     ]
    },
    {
     "name": "stderr",
     "output_type": "stream",
     "text": [
      "WARNING: There was an error checking the latest version of pip.\n"
     ]
    },
    {
     "name": "stdout",
     "output_type": "stream",
     "text": [
      "Requirement already satisfied: pyarrow in c:\\python311\\lib\\site-packages (15.0.0)\n",
      "Requirement already satisfied: numpy<2,>=1.16.6 in c:\\python311\\lib\\site-packages (from pyarrow) (1.25.0)\n"
     ]
    },
    {
     "name": "stderr",
     "output_type": "stream",
     "text": [
      "WARNING: There was an error checking the latest version of pip.\n"
     ]
    }
   ],
   "source": [
    "# install pandas and parquet\n",
    "!pip install pandas\n",
    "!pip install parquet\n",
    "!pip install pyarrow"
   ]
  },
  {
   "cell_type": "markdown",
   "id": "3f0eb7acd12d95c7",
   "metadata": {
    "collapsed": false
   },
   "source": [
    "Opis kolona:\n",
    "\n",
    "- datum_dolaska - datum kada bi gost trebao stići u hotel\n",
    "- datum_kreiranja_rezervacije - datum kada je rezervacija kreirana\n",
    "- datum_odjave - datum kada je gost napustio hotel\n",
    "- datum_otkazivanja_rezervacije - datum kada je rezervacija otkazana\n",
    "- broj_odraslih_gostiju - broj odraslih koji će boraviti u rezerviranim sobama\n",
    "- broj_djece_gostiju - broj djece koji će boraviti u rezerviranim sobama\n",
    "- zemlja_gosta - zemlja iz koje gost dolazi. Kategorije su zapisane u ISO 3155–3:2013 formatu\n",
    "- kanal_prodaje_id - id kanala prodaje preko kojeg je rezervacija napravljena (primjeri: direktna rezervacija, agencija, online)\n",
    "- tip_sobe_id - id tipa sobe koju je gost rezervirao\n",
    "- cijena_nocenja - cijena jednog noćenja za pojedinu rezeraciju\n",
    "- status_rezervacije - status rezervacije (Check-Out, Canceled, No-Show)\n",
    "- rezervacija_id - id rezervacije\n",
    "- gost_id - id gosta"
   ]
  },
  {
   "cell_type": "code",
   "execution_count": 4,
   "id": "initial_id",
   "metadata": {
    "ExecuteTime": {
     "end_time": "2024-01-29T08:50:50.387046Z",
     "start_time": "2024-01-29T08:50:50.343409Z"
    },
    "collapsed": false
   },
   "outputs": [],
   "source": [
    "import pandas as pd\n",
    "dataset_path = '../data/raw/export_df.parquet'"
   ]
  },
  {
   "cell_type": "code",
   "execution_count": 5,
   "id": "6823a84f0853585",
   "metadata": {
    "ExecuteTime": {
     "end_time": "2024-01-29T08:50:50.407100400Z",
     "start_time": "2024-01-29T08:50:50.358919400Z"
    },
    "collapsed": false
   },
   "outputs": [
    {
     "data": {
      "text/html": [
       "<div>\n",
       "<style scoped>\n",
       "    .dataframe tbody tr th:only-of-type {\n",
       "        vertical-align: middle;\n",
       "    }\n",
       "\n",
       "    .dataframe tbody tr th {\n",
       "        vertical-align: top;\n",
       "    }\n",
       "\n",
       "    .dataframe thead th {\n",
       "        text-align: right;\n",
       "    }\n",
       "</style>\n",
       "<table border=\"1\" class=\"dataframe\">\n",
       "  <thead>\n",
       "    <tr style=\"text-align: right;\">\n",
       "      <th></th>\n",
       "      <th>hotel_id</th>\n",
       "      <th>datum_dolaska</th>\n",
       "      <th>datum_kreiranja_rezervacije</th>\n",
       "      <th>datum_odjave</th>\n",
       "      <th>datum_otkazivanja_rezervacije</th>\n",
       "      <th>broj_odraslih_gostiju</th>\n",
       "      <th>broj_djece_gostiju</th>\n",
       "      <th>zemlja_gosta</th>\n",
       "      <th>kanal_prodaje_id</th>\n",
       "      <th>tip_sobe_id</th>\n",
       "      <th>cijena_nocenja</th>\n",
       "      <th>status_rezervacije</th>\n",
       "      <th>rezervacija_id</th>\n",
       "      <th>gost_id</th>\n",
       "    </tr>\n",
       "  </thead>\n",
       "  <tbody>\n",
       "    <tr>\n",
       "      <th>0</th>\n",
       "      <td>0</td>\n",
       "      <td>2015-07-01</td>\n",
       "      <td>2015-01-21</td>\n",
       "      <td>2015-07-01</td>\n",
       "      <td>None</td>\n",
       "      <td>2</td>\n",
       "      <td>0.0</td>\n",
       "      <td>PRT</td>\n",
       "      <td>0</td>\n",
       "      <td>0</td>\n",
       "      <td>100.000000</td>\n",
       "      <td>Check-Out</td>\n",
       "      <td>1313223</td>\n",
       "      <td>1077152</td>\n",
       "    </tr>\n",
       "    <tr>\n",
       "      <th>1</th>\n",
       "      <td>0</td>\n",
       "      <td>2015-07-01</td>\n",
       "      <td>2015-06-10</td>\n",
       "      <td>2015-07-01</td>\n",
       "      <td>None</td>\n",
       "      <td>2</td>\n",
       "      <td>0.0</td>\n",
       "      <td>PRT</td>\n",
       "      <td>0</td>\n",
       "      <td>0</td>\n",
       "      <td>100.000000</td>\n",
       "      <td>Check-Out</td>\n",
       "      <td>1313224</td>\n",
       "      <td>1017906</td>\n",
       "    </tr>\n",
       "    <tr>\n",
       "      <th>2</th>\n",
       "      <td>0</td>\n",
       "      <td>2015-07-01</td>\n",
       "      <td>2015-05-13</td>\n",
       "      <td>2015-07-02</td>\n",
       "      <td>None</td>\n",
       "      <td>1</td>\n",
       "      <td>0.0</td>\n",
       "      <td>GBR</td>\n",
       "      <td>0</td>\n",
       "      <td>1</td>\n",
       "      <td>64.991345</td>\n",
       "      <td>Check-Out</td>\n",
       "      <td>1313225</td>\n",
       "      <td>1039896</td>\n",
       "    </tr>\n",
       "    <tr>\n",
       "      <th>3</th>\n",
       "      <td>0</td>\n",
       "      <td>2015-07-01</td>\n",
       "      <td>2014-05-30</td>\n",
       "      <td>2015-07-02</td>\n",
       "      <td>None</td>\n",
       "      <td>1</td>\n",
       "      <td>0.0</td>\n",
       "      <td>GBR</td>\n",
       "      <td>1</td>\n",
       "      <td>1</td>\n",
       "      <td>74.368897</td>\n",
       "      <td>Check-Out</td>\n",
       "      <td>1313226</td>\n",
       "      <td>1008245</td>\n",
       "    </tr>\n",
       "    <tr>\n",
       "      <th>4</th>\n",
       "      <td>0</td>\n",
       "      <td>2015-07-01</td>\n",
       "      <td>2014-07-06</td>\n",
       "      <td>2015-07-03</td>\n",
       "      <td>None</td>\n",
       "      <td>2</td>\n",
       "      <td>0.0</td>\n",
       "      <td>GBR</td>\n",
       "      <td>2</td>\n",
       "      <td>1</td>\n",
       "      <td>130.973278</td>\n",
       "      <td>Check-Out</td>\n",
       "      <td>1313227</td>\n",
       "      <td>1093703</td>\n",
       "    </tr>\n",
       "  </tbody>\n",
       "</table>\n",
       "</div>"
      ],
      "text/plain": [
       "   hotel_id datum_dolaska datum_kreiranja_rezervacije datum_odjave  \\\n",
       "0         0    2015-07-01                  2015-01-21   2015-07-01   \n",
       "1         0    2015-07-01                  2015-06-10   2015-07-01   \n",
       "2         0    2015-07-01                  2015-05-13   2015-07-02   \n",
       "3         0    2015-07-01                  2014-05-30   2015-07-02   \n",
       "4         0    2015-07-01                  2014-07-06   2015-07-03   \n",
       "\n",
       "  datum_otkazivanja_rezervacije  broj_odraslih_gostiju  broj_djece_gostiju  \\\n",
       "0                          None                      2                 0.0   \n",
       "1                          None                      2                 0.0   \n",
       "2                          None                      1                 0.0   \n",
       "3                          None                      1                 0.0   \n",
       "4                          None                      2                 0.0   \n",
       "\n",
       "  zemlja_gosta  kanal_prodaje_id  tip_sobe_id  cijena_nocenja  \\\n",
       "0          PRT                 0            0      100.000000   \n",
       "1          PRT                 0            0      100.000000   \n",
       "2          GBR                 0            1       64.991345   \n",
       "3          GBR                 1            1       74.368897   \n",
       "4          GBR                 2            1      130.973278   \n",
       "\n",
       "  status_rezervacije  rezervacija_id  gost_id  \n",
       "0          Check-Out         1313223  1077152  \n",
       "1          Check-Out         1313224  1017906  \n",
       "2          Check-Out         1313225  1039896  \n",
       "3          Check-Out         1313226  1008245  \n",
       "4          Check-Out         1313227  1093703  "
      ]
     },
     "execution_count": 5,
     "metadata": {},
     "output_type": "execute_result"
    }
   ],
   "source": [
    "df = pd.read_parquet(dataset_path)\n",
    "df.head()"
   ]
  },
  {
   "cell_type": "code",
   "execution_count": 6,
   "id": "37dd3cb131466aa4",
   "metadata": {
    "ExecuteTime": {
     "end_time": "2024-01-29T08:50:50.448378Z",
     "start_time": "2024-01-29T08:50:50.404101300Z"
    },
    "collapsed": false
   },
   "outputs": [
    {
     "name": "stdout",
     "output_type": "stream",
     "text": [
      "<class 'pandas.core.frame.DataFrame'>\n",
      "RangeIndex: 119210 entries, 0 to 119209\n",
      "Data columns (total 14 columns):\n",
      " #   Column                         Non-Null Count   Dtype         \n",
      "---  ------                         --------------   -----         \n",
      " 0   hotel_id                       119210 non-null  int32         \n",
      " 1   datum_dolaska                  119210 non-null  datetime64[ns]\n",
      " 2   datum_kreiranja_rezervacije    119210 non-null  datetime64[ns]\n",
      " 3   datum_odjave                   119210 non-null  datetime64[ns]\n",
      " 4   datum_otkazivanja_rezervacije  44199 non-null   object        \n",
      " 5   broj_odraslih_gostiju          119210 non-null  int64         \n",
      " 6   broj_djece_gostiju             119210 non-null  float64       \n",
      " 7   zemlja_gosta                   119210 non-null  object        \n",
      " 8   kanal_prodaje_id               119210 non-null  int32         \n",
      " 9   tip_sobe_id                    119210 non-null  int32         \n",
      " 10  cijena_nocenja                 119210 non-null  float64       \n",
      " 11  status_rezervacije             119210 non-null  object        \n",
      " 12  rezervacija_id                 119210 non-null  int32         \n",
      " 13  gost_id                        119210 non-null  int32         \n",
      "dtypes: datetime64[ns](3), float64(2), int32(5), int64(1), object(3)\n",
      "memory usage: 10.5+ MB\n"
     ]
    }
   ],
   "source": [
    "df.info()"
   ]
  },
  {
   "cell_type": "code",
   "execution_count": 7,
   "id": "d75e36c2c35c5920",
   "metadata": {
    "ExecuteTime": {
     "end_time": "2024-01-29T08:50:50.469463900Z",
     "start_time": "2024-01-29T08:50:50.420110Z"
    },
    "collapsed": false
   },
   "outputs": [
    {
     "data": {
      "text/html": [
       "<div>\n",
       "<style scoped>\n",
       "    .dataframe tbody tr th:only-of-type {\n",
       "        vertical-align: middle;\n",
       "    }\n",
       "\n",
       "    .dataframe tbody tr th {\n",
       "        vertical-align: top;\n",
       "    }\n",
       "\n",
       "    .dataframe thead th {\n",
       "        text-align: right;\n",
       "    }\n",
       "</style>\n",
       "<table border=\"1\" class=\"dataframe\">\n",
       "  <thead>\n",
       "    <tr style=\"text-align: right;\">\n",
       "      <th></th>\n",
       "      <th>hotel_id</th>\n",
       "      <th>datum_dolaska</th>\n",
       "      <th>datum_kreiranja_rezervacije</th>\n",
       "      <th>datum_odjave</th>\n",
       "      <th>broj_odraslih_gostiju</th>\n",
       "      <th>broj_djece_gostiju</th>\n",
       "      <th>kanal_prodaje_id</th>\n",
       "      <th>tip_sobe_id</th>\n",
       "      <th>cijena_nocenja</th>\n",
       "      <th>rezervacija_id</th>\n",
       "      <th>gost_id</th>\n",
       "    </tr>\n",
       "  </thead>\n",
       "  <tbody>\n",
       "    <tr>\n",
       "      <th>count</th>\n",
       "      <td>119210.000000</td>\n",
       "      <td>119210</td>\n",
       "      <td>119210</td>\n",
       "      <td>119210</td>\n",
       "      <td>119210.000000</td>\n",
       "      <td>119210.000000</td>\n",
       "      <td>119210.000000</td>\n",
       "      <td>119210.000000</td>\n",
       "      <td>119210.000000</td>\n",
       "      <td>1.192100e+05</td>\n",
       "      <td>1.192100e+05</td>\n",
       "    </tr>\n",
       "    <tr>\n",
       "      <th>mean</th>\n",
       "      <td>0.664063</td>\n",
       "      <td>2016-09-18 04:45:19.825518080</td>\n",
       "      <td>2016-06-06 09:30:00.513379584</td>\n",
       "      <td>2016-09-21 14:59:07.635265792</td>\n",
       "      <td>1.859206</td>\n",
       "      <td>0.112004</td>\n",
       "      <td>1.702357</td>\n",
       "      <td>1.503179</td>\n",
       "      <td>123.182994</td>\n",
       "      <td>1.372828e+06</td>\n",
       "      <td>1.053647e+06</td>\n",
       "    </tr>\n",
       "    <tr>\n",
       "      <th>min</th>\n",
       "      <td>0.000000</td>\n",
       "      <td>2015-01-01 00:00:00</td>\n",
       "      <td>2013-06-25 00:00:00</td>\n",
       "      <td>2015-01-03 00:00:00</td>\n",
       "      <td>0.000000</td>\n",
       "      <td>0.000000</td>\n",
       "      <td>0.000000</td>\n",
       "      <td>0.000000</td>\n",
       "      <td>40.003037</td>\n",
       "      <td>1.313223e+06</td>\n",
       "      <td>1.000000e+06</td>\n",
       "    </tr>\n",
       "    <tr>\n",
       "      <th>25%</th>\n",
       "      <td>0.000000</td>\n",
       "      <td>2016-02-29 00:00:00</td>\n",
       "      <td>2015-11-30 00:00:00</td>\n",
       "      <td>2016-03-03 00:00:00</td>\n",
       "      <td>2.000000</td>\n",
       "      <td>0.000000</td>\n",
       "      <td>2.000000</td>\n",
       "      <td>1.000000</td>\n",
       "      <td>80.917473</td>\n",
       "      <td>1.343025e+06</td>\n",
       "      <td>1.026866e+06</td>\n",
       "    </tr>\n",
       "    <tr>\n",
       "      <th>50%</th>\n",
       "      <td>1.000000</td>\n",
       "      <td>2016-10-08 00:00:00</td>\n",
       "      <td>2016-06-24 00:00:00</td>\n",
       "      <td>2016-10-11 00:00:00</td>\n",
       "      <td>2.000000</td>\n",
       "      <td>0.000000</td>\n",
       "      <td>2.000000</td>\n",
       "      <td>1.000000</td>\n",
       "      <td>109.455175</td>\n",
       "      <td>1.372828e+06</td>\n",
       "      <td>1.053626e+06</td>\n",
       "    </tr>\n",
       "    <tr>\n",
       "      <th>75%</th>\n",
       "      <td>1.000000</td>\n",
       "      <td>2017-03-15 00:00:00</td>\n",
       "      <td>2016-12-27 00:00:00</td>\n",
       "      <td>2017-03-19 00:00:00</td>\n",
       "      <td>2.000000</td>\n",
       "      <td>0.000000</td>\n",
       "      <td>2.000000</td>\n",
       "      <td>2.000000</td>\n",
       "      <td>146.425535</td>\n",
       "      <td>1.402630e+06</td>\n",
       "      <td>1.080427e+06</td>\n",
       "    </tr>\n",
       "    <tr>\n",
       "      <th>max</th>\n",
       "      <td>1.000000</td>\n",
       "      <td>2017-12-31 00:00:00</td>\n",
       "      <td>2017-12-31 00:00:00</td>\n",
       "      <td>2018-01-14 00:00:00</td>\n",
       "      <td>55.000000</td>\n",
       "      <td>10.000000</td>\n",
       "      <td>4.000000</td>\n",
       "      <td>8.000000</td>\n",
       "      <td>7351.295691</td>\n",
       "      <td>1.432432e+06</td>\n",
       "      <td>1.107288e+06</td>\n",
       "    </tr>\n",
       "    <tr>\n",
       "      <th>std</th>\n",
       "      <td>0.472319</td>\n",
       "      <td>NaN</td>\n",
       "      <td>NaN</td>\n",
       "      <td>NaN</td>\n",
       "      <td>0.575186</td>\n",
       "      <td>0.412849</td>\n",
       "      <td>0.681164</td>\n",
       "      <td>1.125512</td>\n",
       "      <td>65.494762</td>\n",
       "      <td>3.441311e+04</td>\n",
       "      <td>3.095049e+04</td>\n",
       "    </tr>\n",
       "  </tbody>\n",
       "</table>\n",
       "</div>"
      ],
      "text/plain": [
       "            hotel_id                  datum_dolaska  \\\n",
       "count  119210.000000                         119210   \n",
       "mean        0.664063  2016-09-18 04:45:19.825518080   \n",
       "min         0.000000            2015-01-01 00:00:00   \n",
       "25%         0.000000            2016-02-29 00:00:00   \n",
       "50%         1.000000            2016-10-08 00:00:00   \n",
       "75%         1.000000            2017-03-15 00:00:00   \n",
       "max         1.000000            2017-12-31 00:00:00   \n",
       "std         0.472319                            NaN   \n",
       "\n",
       "         datum_kreiranja_rezervacije                   datum_odjave  \\\n",
       "count                         119210                         119210   \n",
       "mean   2016-06-06 09:30:00.513379584  2016-09-21 14:59:07.635265792   \n",
       "min              2013-06-25 00:00:00            2015-01-03 00:00:00   \n",
       "25%              2015-11-30 00:00:00            2016-03-03 00:00:00   \n",
       "50%              2016-06-24 00:00:00            2016-10-11 00:00:00   \n",
       "75%              2016-12-27 00:00:00            2017-03-19 00:00:00   \n",
       "max              2017-12-31 00:00:00            2018-01-14 00:00:00   \n",
       "std                              NaN                            NaN   \n",
       "\n",
       "       broj_odraslih_gostiju  broj_djece_gostiju  kanal_prodaje_id  \\\n",
       "count          119210.000000       119210.000000     119210.000000   \n",
       "mean                1.859206            0.112004          1.702357   \n",
       "min                 0.000000            0.000000          0.000000   \n",
       "25%                 2.000000            0.000000          2.000000   \n",
       "50%                 2.000000            0.000000          2.000000   \n",
       "75%                 2.000000            0.000000          2.000000   \n",
       "max                55.000000           10.000000          4.000000   \n",
       "std                 0.575186            0.412849          0.681164   \n",
       "\n",
       "         tip_sobe_id  cijena_nocenja  rezervacija_id       gost_id  \n",
       "count  119210.000000   119210.000000    1.192100e+05  1.192100e+05  \n",
       "mean        1.503179      123.182994    1.372828e+06  1.053647e+06  \n",
       "min         0.000000       40.003037    1.313223e+06  1.000000e+06  \n",
       "25%         1.000000       80.917473    1.343025e+06  1.026866e+06  \n",
       "50%         1.000000      109.455175    1.372828e+06  1.053626e+06  \n",
       "75%         2.000000      146.425535    1.402630e+06  1.080427e+06  \n",
       "max         8.000000     7351.295691    1.432432e+06  1.107288e+06  \n",
       "std         1.125512       65.494762    3.441311e+04  3.095049e+04  "
      ]
     },
     "execution_count": 7,
     "metadata": {},
     "output_type": "execute_result"
    }
   ],
   "source": [
    "df.describe()"
   ]
  },
  {
   "cell_type": "code",
   "execution_count": 8,
   "id": "906feff0",
   "metadata": {},
   "outputs": [
    {
     "name": "stdout",
     "output_type": "stream",
     "text": [
      "[0 1]\n"
     ]
    }
   ],
   "source": [
    "hotel_id_unique = df['hotel_id'].unique()\n",
    "print(hotel_id_unique)"
   ]
  },
  {
   "cell_type": "code",
   "execution_count": 9,
   "id": "2aab8d53",
   "metadata": {},
   "outputs": [],
   "source": [
    "hotel_zero = df[df['hotel_id'] == 0]\n",
    "hotel_one = df[df['hotel_id'] == 1]\n",
    "\n",
    "assert (len(hotel_zero)+ len(hotel_one)) == len(df)"
   ]
  },
  {
   "cell_type": "code",
   "execution_count": 10,
   "id": "8bdea938",
   "metadata": {},
   "outputs": [
    {
     "name": "stdout",
     "output_type": "stream",
     "text": [
      "Prvi hotel ima 33.5936582501468 % svih zapisa \n",
      "Prvi hotel ima 66.4063417498532 % svih zapisa \n"
     ]
    }
   ],
   "source": [
    "print(f\"Prvi hotel ima {len(hotel_zero)/len(df)*100} % svih zapisa \")\n",
    "print(f\"Prvi hotel ima {len(hotel_one)/len(df)*100} % svih zapisa \")\n",
    "\n"
   ]
  },
  {
   "cell_type": "code",
   "execution_count": 11,
   "id": "f78038ca",
   "metadata": {},
   "outputs": [
    {
     "name": "stdout",
     "output_type": "stream",
     "text": [
      "zemlja_gosta\n",
      "PRT    17790\n",
      "GBR     6754\n",
      "ESP     3937\n",
      "IRL     2163\n",
      "FRA     1591\n",
      "DEU     1217\n",
      "CN       693\n",
      "NLD      507\n",
      "USA      473\n",
      "0        464\n",
      "ITA      447\n",
      "BEL      442\n",
      "CHE      433\n",
      "BRA      422\n",
      "POL      328\n",
      "SWE      301\n",
      "AUT      210\n",
      "RUS      193\n",
      "ROU      176\n",
      "FIN      150\n",
      "CHN      133\n",
      "NOR      119\n",
      "AUS       86\n",
      "LUX       78\n",
      "MAR       76\n",
      "Name: count, dtype: int64\n"
     ]
    }
   ],
   "source": [
    "print(hotel_zero['zemlja_gosta'].value_counts()[0:25])"
   ]
  },
  {
   "cell_type": "code",
   "execution_count": 12,
   "id": "6ec0cc04",
   "metadata": {},
   "outputs": [
    {
     "name": "stdout",
     "output_type": "stream",
     "text": [
      "zemlja_gosta\n",
      "PRT    32096\n",
      "FRA     8220\n",
      "GBR     5738\n",
      "DEU     5578\n",
      "ESP     4788\n",
      "ITA     3120\n",
      "BEL     1762\n",
      "BRA     1701\n",
      "USA     1525\n",
      "NLD     1525\n",
      "IRL     1391\n",
      "CHE     1236\n",
      "AUT     1000\n",
      "CHN      820\n",
      "SWE      686\n",
      "CN       610\n",
      "ISR      605\n",
      "POL      566\n",
      "NOR      459\n",
      "RUS      428\n",
      "DNK      344\n",
      "AGO      336\n",
      "AUS      313\n",
      "ROU      309\n",
      "FIN      273\n",
      "Name: count, dtype: int64\n"
     ]
    }
   ],
   "source": [
    "print(hotel_one['zemlja_gosta'].value_counts()[0:25])"
   ]
  },
  {
   "cell_type": "code",
   "execution_count": 13,
   "id": "22715f4b",
   "metadata": {},
   "outputs": [
    {
     "name": "stdout",
     "output_type": "stream",
     "text": [
      "Imamo 94 Hrvata i 552 nepoznatih zemalja gosta\n"
     ]
    }
   ],
   "source": [
    "croats = df[df['zemlja_gosta'] == 'HRV']\n",
    "zeros = df[df['zemlja_gosta'] == '0']\n",
    "\n",
    "print(f\"Imamo {len(croats)} Hrvata i {len(zeros)} nepoznatih zemalja gosta\")\n"
   ]
  },
  {
   "cell_type": "code",
   "execution_count": 14,
   "id": "9e5a8a7c",
   "metadata": {},
   "outputs": [],
   "source": [
    "df_copy = df\n",
    "df_copy['datum_dolaska'] = pd.to_datetime(df_copy['datum_dolaska'])\n",
    "\n",
    "\n",
    "df_copy['duljina_boravka'] = df_copy['datum_odjave'] - df_copy['datum_dolaska']\n",
    "df_copy['duljina_boravka'] = df_copy['duljina_boravka'].dt.days\n",
    "\n"
   ]
  },
  {
   "cell_type": "code",
   "execution_count": 15,
   "id": "9acd4202",
   "metadata": {},
   "outputs": [
    {
     "name": "stdout",
     "output_type": "stream",
     "text": [
      "0    0\n",
      "1    0\n",
      "2    1\n",
      "3    1\n",
      "4    2\n",
      "5    2\n",
      "6    2\n",
      "7    2\n",
      "8    3\n",
      "9    3\n",
      "Name: duljina_boravka, dtype: int64\n"
     ]
    }
   ],
   "source": [
    "print(df_copy['duljina_boravka'].head(10)) #Rezervacija nije otkazana, a gosti su došli i otišli isti dan?"
   ]
  },
  {
   "cell_type": "code",
   "execution_count": 16,
   "id": "01aa4bf2",
   "metadata": {},
   "outputs": [
    {
     "name": "stdout",
     "output_type": "stream",
     "text": [
      "Looking at period form 2015-01-01 00:00:00 to 2017-12-31 00:00:00\n"
     ]
    }
   ],
   "source": [
    "min_date = df_copy['datum_dolaska'].min()\n",
    "max_date = df_copy['datum_dolaska'].max()\n",
    "\n",
    "print(f\"Looking at period form {min_date} to {max_date}\")"
   ]
  },
  {
   "cell_type": "code",
   "execution_count": 17,
   "id": "c334b167",
   "metadata": {},
   "outputs": [],
   "source": [
    "df_2015 = df_copy[df_copy['datum_dolaska'].dt.year == 2015]\n",
    "df_2016 = df_copy[df_copy['datum_dolaska'].dt.year == 2016]\n",
    "df_2017 = df_copy[df_copy['datum_dolaska'].dt.year == 2017]\n",
    "\n",
    "\n",
    "assert len(df_2015) + len(df_2016) + len(df_2017) == len(df_copy)\n"
   ]
  },
  {
   "cell_type": "code",
   "execution_count": 18,
   "id": "bf436b93",
   "metadata": {},
   "outputs": [
    {
     "name": "stdout",
     "output_type": "stream",
     "text": [
      "U 2015 ima 13043 Portugalaca\n",
      "U 2016 ima 23023 Portugalaca\n",
      "U 2017 ima 13820 Portugalaca\n"
     ]
    }
   ],
   "source": [
    "print(f\"U 2015 ima {len(df_2015[df_2015['zemlja_gosta']=='PRT'])} Portugalaca\")\n",
    "print(f\"U 2016 ima {len(df_2016[df_2016['zemlja_gosta']=='PRT'])} Portugalaca\")\n",
    "print(f\"U 2017 ima {len(df_2017[df_2017['zemlja_gosta']=='PRT'])} Portugalaca\")\n"
   ]
  },
  {
   "cell_type": "code",
   "execution_count": 19,
   "id": "fd8afe79",
   "metadata": {},
   "outputs": [
    {
     "name": "stdout",
     "output_type": "stream",
     "text": [
      "U 2015 Portugalci ostvarili 23090 noćenja\n",
      "U 2016 Portugalci ostvarili 39118 noćenja\n",
      "U 2017 Portugalci ostvarili 25618 noćenja\n"
     ]
    }
   ],
   "source": [
    "print(f\"U 2015 Portugalci ostvarili {df_2015[(df_2015['zemlja_gosta'] == 'PRT') & df_2015['datum_otkazivanja_rezervacije'].notna()]['duljina_boravka'].sum()} noćenja\")\n",
    "print(f\"U 2016 Portugalci ostvarili {df_2016[(df_2016['zemlja_gosta'] == 'PRT') & df_2016['datum_otkazivanja_rezervacije'].notna()]['duljina_boravka'].sum()} noćenja\")\n",
    "print(f\"U 2017 Portugalci ostvarili {df_2017[(df_2017['zemlja_gosta'] == 'PRT') & df_2017['datum_otkazivanja_rezervacije'].notna()]['duljina_boravka'].sum()} noćenja\")\n",
    "\n"
   ]
  },
  {
   "cell_type": "markdown",
   "id": "1260d4ac",
   "metadata": {},
   "source": [
    "##### Generalno te po nacionalosti, na koji se dan najviše kreira rezervacija.\n",
    "##### Povezivanje i s blagdanima po nekim nacijama (državni te lokalni blagdani uzeti u obzir)\n",
    "##### Gledamo stupce :  datum_kreiranja_rezervacije,datum_dolaska,datum_odjave,datum_otkazivanja_rezervacije,"
   ]
  },
  {
   "cell_type": "code",
   "execution_count": 25,
   "id": "d395d469",
   "metadata": {},
   "outputs": [],
   "source": [
    "from datetime import datetime"
   ]
  },
  {
   "cell_type": "code",
   "execution_count": 26,
   "id": "772bbed6",
   "metadata": {},
   "outputs": [],
   "source": [
    "df_copy['dan_rezervacije'] = df_copy['datum_kreiranja_rezervacije'].dt.strftime('%A')\n",
    "df_copy['dan_dolaska'] = df_copy['datum_dolaska'].dt.strftime('%A')\n",
    "df_copy['dan_odjave'] = df_copy['datum_odjave'].dt.strftime('%A')\n",
    "df_copy['dan_otkazivanja'] = df_copy['datum_otkazivanja_rezervacije'].apply(lambda x: datetime.strptime(x, '%Y-%m-%d').strftime('%A') if pd.notna(x) else None)\n"
   ]
  },
  {
   "cell_type": "code",
   "execution_count": 30,
   "id": "0cbf753a",
   "metadata": {},
   "outputs": [
    {
     "data": {
      "text/html": [
       "<div>\n",
       "<style scoped>\n",
       "    .dataframe tbody tr th:only-of-type {\n",
       "        vertical-align: middle;\n",
       "    }\n",
       "\n",
       "    .dataframe tbody tr th {\n",
       "        vertical-align: top;\n",
       "    }\n",
       "\n",
       "    .dataframe thead th {\n",
       "        text-align: right;\n",
       "    }\n",
       "</style>\n",
       "<table border=\"1\" class=\"dataframe\">\n",
       "  <thead>\n",
       "    <tr style=\"text-align: right;\">\n",
       "      <th></th>\n",
       "      <th>hotel_id</th>\n",
       "      <th>datum_dolaska</th>\n",
       "      <th>datum_kreiranja_rezervacije</th>\n",
       "      <th>datum_odjave</th>\n",
       "      <th>datum_otkazivanja_rezervacije</th>\n",
       "      <th>broj_odraslih_gostiju</th>\n",
       "      <th>broj_djece_gostiju</th>\n",
       "      <th>zemlja_gosta</th>\n",
       "      <th>kanal_prodaje_id</th>\n",
       "      <th>tip_sobe_id</th>\n",
       "      <th>cijena_nocenja</th>\n",
       "      <th>status_rezervacije</th>\n",
       "      <th>rezervacija_id</th>\n",
       "      <th>gost_id</th>\n",
       "      <th>duljina_boravka</th>\n",
       "      <th>dan_rezervacije</th>\n",
       "      <th>dan_dolaska</th>\n",
       "      <th>dan_odjave</th>\n",
       "      <th>dan_otkazivanja</th>\n",
       "    </tr>\n",
       "  </thead>\n",
       "  <tbody>\n",
       "    <tr>\n",
       "      <th>0</th>\n",
       "      <td>0</td>\n",
       "      <td>2015-07-01</td>\n",
       "      <td>2015-01-21</td>\n",
       "      <td>2015-07-01</td>\n",
       "      <td>None</td>\n",
       "      <td>2</td>\n",
       "      <td>0.0</td>\n",
       "      <td>PRT</td>\n",
       "      <td>0</td>\n",
       "      <td>0</td>\n",
       "      <td>100.000000</td>\n",
       "      <td>Check-Out</td>\n",
       "      <td>1313223</td>\n",
       "      <td>1077152</td>\n",
       "      <td>0</td>\n",
       "      <td>Wednesday</td>\n",
       "      <td>Wednesday</td>\n",
       "      <td>Wednesday</td>\n",
       "      <td>None</td>\n",
       "    </tr>\n",
       "    <tr>\n",
       "      <th>1</th>\n",
       "      <td>0</td>\n",
       "      <td>2015-07-01</td>\n",
       "      <td>2015-06-10</td>\n",
       "      <td>2015-07-01</td>\n",
       "      <td>None</td>\n",
       "      <td>2</td>\n",
       "      <td>0.0</td>\n",
       "      <td>PRT</td>\n",
       "      <td>0</td>\n",
       "      <td>0</td>\n",
       "      <td>100.000000</td>\n",
       "      <td>Check-Out</td>\n",
       "      <td>1313224</td>\n",
       "      <td>1017906</td>\n",
       "      <td>0</td>\n",
       "      <td>Wednesday</td>\n",
       "      <td>Wednesday</td>\n",
       "      <td>Wednesday</td>\n",
       "      <td>None</td>\n",
       "    </tr>\n",
       "    <tr>\n",
       "      <th>2</th>\n",
       "      <td>0</td>\n",
       "      <td>2015-07-01</td>\n",
       "      <td>2015-05-13</td>\n",
       "      <td>2015-07-02</td>\n",
       "      <td>None</td>\n",
       "      <td>1</td>\n",
       "      <td>0.0</td>\n",
       "      <td>GBR</td>\n",
       "      <td>0</td>\n",
       "      <td>1</td>\n",
       "      <td>64.991345</td>\n",
       "      <td>Check-Out</td>\n",
       "      <td>1313225</td>\n",
       "      <td>1039896</td>\n",
       "      <td>1</td>\n",
       "      <td>Wednesday</td>\n",
       "      <td>Wednesday</td>\n",
       "      <td>Thursday</td>\n",
       "      <td>None</td>\n",
       "    </tr>\n",
       "    <tr>\n",
       "      <th>3</th>\n",
       "      <td>0</td>\n",
       "      <td>2015-07-01</td>\n",
       "      <td>2014-05-30</td>\n",
       "      <td>2015-07-02</td>\n",
       "      <td>None</td>\n",
       "      <td>1</td>\n",
       "      <td>0.0</td>\n",
       "      <td>GBR</td>\n",
       "      <td>1</td>\n",
       "      <td>1</td>\n",
       "      <td>74.368897</td>\n",
       "      <td>Check-Out</td>\n",
       "      <td>1313226</td>\n",
       "      <td>1008245</td>\n",
       "      <td>1</td>\n",
       "      <td>Friday</td>\n",
       "      <td>Wednesday</td>\n",
       "      <td>Thursday</td>\n",
       "      <td>None</td>\n",
       "    </tr>\n",
       "    <tr>\n",
       "      <th>4</th>\n",
       "      <td>0</td>\n",
       "      <td>2015-07-01</td>\n",
       "      <td>2014-07-06</td>\n",
       "      <td>2015-07-03</td>\n",
       "      <td>None</td>\n",
       "      <td>2</td>\n",
       "      <td>0.0</td>\n",
       "      <td>GBR</td>\n",
       "      <td>2</td>\n",
       "      <td>1</td>\n",
       "      <td>130.973278</td>\n",
       "      <td>Check-Out</td>\n",
       "      <td>1313227</td>\n",
       "      <td>1093703</td>\n",
       "      <td>2</td>\n",
       "      <td>Sunday</td>\n",
       "      <td>Wednesday</td>\n",
       "      <td>Friday</td>\n",
       "      <td>None</td>\n",
       "    </tr>\n",
       "    <tr>\n",
       "      <th>5</th>\n",
       "      <td>0</td>\n",
       "      <td>2015-07-01</td>\n",
       "      <td>2015-04-21</td>\n",
       "      <td>2015-07-03</td>\n",
       "      <td>None</td>\n",
       "      <td>2</td>\n",
       "      <td>0.0</td>\n",
       "      <td>GBR</td>\n",
       "      <td>2</td>\n",
       "      <td>1</td>\n",
       "      <td>143.304560</td>\n",
       "      <td>Check-Out</td>\n",
       "      <td>1313228</td>\n",
       "      <td>1044263</td>\n",
       "      <td>2</td>\n",
       "      <td>Tuesday</td>\n",
       "      <td>Wednesday</td>\n",
       "      <td>Friday</td>\n",
       "      <td>None</td>\n",
       "    </tr>\n",
       "    <tr>\n",
       "      <th>6</th>\n",
       "      <td>0</td>\n",
       "      <td>2015-07-01</td>\n",
       "      <td>2015-06-25</td>\n",
       "      <td>2015-07-03</td>\n",
       "      <td>None</td>\n",
       "      <td>2</td>\n",
       "      <td>0.0</td>\n",
       "      <td>PRT</td>\n",
       "      <td>0</td>\n",
       "      <td>0</td>\n",
       "      <td>161.502814</td>\n",
       "      <td>Check-Out</td>\n",
       "      <td>1313229</td>\n",
       "      <td>1022260</td>\n",
       "      <td>2</td>\n",
       "      <td>Thursday</td>\n",
       "      <td>Wednesday</td>\n",
       "      <td>Friday</td>\n",
       "      <td>None</td>\n",
       "    </tr>\n",
       "    <tr>\n",
       "      <th>7</th>\n",
       "      <td>0</td>\n",
       "      <td>2015-07-01</td>\n",
       "      <td>2014-09-15</td>\n",
       "      <td>2015-07-03</td>\n",
       "      <td>None</td>\n",
       "      <td>2</td>\n",
       "      <td>0.0</td>\n",
       "      <td>PRT</td>\n",
       "      <td>0</td>\n",
       "      <td>0</td>\n",
       "      <td>151.176542</td>\n",
       "      <td>Check-Out</td>\n",
       "      <td>1313230</td>\n",
       "      <td>1101557</td>\n",
       "      <td>2</td>\n",
       "      <td>Monday</td>\n",
       "      <td>Wednesday</td>\n",
       "      <td>Friday</td>\n",
       "      <td>None</td>\n",
       "    </tr>\n",
       "    <tr>\n",
       "      <th>8</th>\n",
       "      <td>0</td>\n",
       "      <td>2015-07-01</td>\n",
       "      <td>2015-06-30</td>\n",
       "      <td>2015-07-04</td>\n",
       "      <td>2015-05-06</td>\n",
       "      <td>2</td>\n",
       "      <td>0.0</td>\n",
       "      <td>PRT</td>\n",
       "      <td>2</td>\n",
       "      <td>1</td>\n",
       "      <td>61.437192</td>\n",
       "      <td>Canceled</td>\n",
       "      <td>1313231</td>\n",
       "      <td>1075633</td>\n",
       "      <td>3</td>\n",
       "      <td>Tuesday</td>\n",
       "      <td>Wednesday</td>\n",
       "      <td>Saturday</td>\n",
       "      <td>Wednesday</td>\n",
       "    </tr>\n",
       "    <tr>\n",
       "      <th>9</th>\n",
       "      <td>0</td>\n",
       "      <td>2015-07-01</td>\n",
       "      <td>2015-06-28</td>\n",
       "      <td>2015-07-04</td>\n",
       "      <td>2015-04-22</td>\n",
       "      <td>2</td>\n",
       "      <td>0.0</td>\n",
       "      <td>PRT</td>\n",
       "      <td>2</td>\n",
       "      <td>2</td>\n",
       "      <td>150.365262</td>\n",
       "      <td>Canceled</td>\n",
       "      <td>1313232</td>\n",
       "      <td>1056139</td>\n",
       "      <td>3</td>\n",
       "      <td>Sunday</td>\n",
       "      <td>Wednesday</td>\n",
       "      <td>Saturday</td>\n",
       "      <td>Wednesday</td>\n",
       "    </tr>\n",
       "  </tbody>\n",
       "</table>\n",
       "</div>"
      ],
      "text/plain": [
       "   hotel_id datum_dolaska datum_kreiranja_rezervacije datum_odjave  \\\n",
       "0         0    2015-07-01                  2015-01-21   2015-07-01   \n",
       "1         0    2015-07-01                  2015-06-10   2015-07-01   \n",
       "2         0    2015-07-01                  2015-05-13   2015-07-02   \n",
       "3         0    2015-07-01                  2014-05-30   2015-07-02   \n",
       "4         0    2015-07-01                  2014-07-06   2015-07-03   \n",
       "5         0    2015-07-01                  2015-04-21   2015-07-03   \n",
       "6         0    2015-07-01                  2015-06-25   2015-07-03   \n",
       "7         0    2015-07-01                  2014-09-15   2015-07-03   \n",
       "8         0    2015-07-01                  2015-06-30   2015-07-04   \n",
       "9         0    2015-07-01                  2015-06-28   2015-07-04   \n",
       "\n",
       "  datum_otkazivanja_rezervacije  broj_odraslih_gostiju  broj_djece_gostiju  \\\n",
       "0                          None                      2                 0.0   \n",
       "1                          None                      2                 0.0   \n",
       "2                          None                      1                 0.0   \n",
       "3                          None                      1                 0.0   \n",
       "4                          None                      2                 0.0   \n",
       "5                          None                      2                 0.0   \n",
       "6                          None                      2                 0.0   \n",
       "7                          None                      2                 0.0   \n",
       "8                    2015-05-06                      2                 0.0   \n",
       "9                    2015-04-22                      2                 0.0   \n",
       "\n",
       "  zemlja_gosta  kanal_prodaje_id  tip_sobe_id  cijena_nocenja  \\\n",
       "0          PRT                 0            0      100.000000   \n",
       "1          PRT                 0            0      100.000000   \n",
       "2          GBR                 0            1       64.991345   \n",
       "3          GBR                 1            1       74.368897   \n",
       "4          GBR                 2            1      130.973278   \n",
       "5          GBR                 2            1      143.304560   \n",
       "6          PRT                 0            0      161.502814   \n",
       "7          PRT                 0            0      151.176542   \n",
       "8          PRT                 2            1       61.437192   \n",
       "9          PRT                 2            2      150.365262   \n",
       "\n",
       "  status_rezervacije  rezervacija_id  gost_id  duljina_boravka  \\\n",
       "0          Check-Out         1313223  1077152                0   \n",
       "1          Check-Out         1313224  1017906                0   \n",
       "2          Check-Out         1313225  1039896                1   \n",
       "3          Check-Out         1313226  1008245                1   \n",
       "4          Check-Out         1313227  1093703                2   \n",
       "5          Check-Out         1313228  1044263                2   \n",
       "6          Check-Out         1313229  1022260                2   \n",
       "7          Check-Out         1313230  1101557                2   \n",
       "8           Canceled         1313231  1075633                3   \n",
       "9           Canceled         1313232  1056139                3   \n",
       "\n",
       "  dan_rezervacije dan_dolaska dan_odjave dan_otkazivanja  \n",
       "0       Wednesday   Wednesday  Wednesday            None  \n",
       "1       Wednesday   Wednesday  Wednesday            None  \n",
       "2       Wednesday   Wednesday   Thursday            None  \n",
       "3          Friday   Wednesday   Thursday            None  \n",
       "4          Sunday   Wednesday     Friday            None  \n",
       "5         Tuesday   Wednesday     Friday            None  \n",
       "6        Thursday   Wednesday     Friday            None  \n",
       "7          Monday   Wednesday     Friday            None  \n",
       "8         Tuesday   Wednesday   Saturday       Wednesday  \n",
       "9          Sunday   Wednesday   Saturday       Wednesday  "
      ]
     },
     "execution_count": 30,
     "metadata": {},
     "output_type": "execute_result"
    }
   ],
   "source": [
    "df_copy.head(10)"
   ]
  },
  {
   "cell_type": "markdown",
   "id": "1fd453c9",
   "metadata": {},
   "source": [
    "### Vizuali"
   ]
  },
  {
   "cell_type": "code",
   "execution_count": 29,
   "id": "3989fdc6",
   "metadata": {},
   "outputs": [],
   "source": [
    "import matplotlib.pyplot as plt\n",
    "import seaborn as sns"
   ]
  },
  {
   "cell_type": "code",
   "execution_count": 54,
   "id": "8695bb7f",
   "metadata": {},
   "outputs": [],
   "source": [
    "df_copy['is_cancellation'] = df_copy['datum_otkazivanja_rezervacije'].notna()\n",
    "\n",
    "grouped_hotel = df_copy.groupby('hotel_id').agg({'is_cancellation': ['sum', 'count']})\n",
    "grouped_hotel.columns = ['cancellations', 'total_bookings']\n",
    "grouped_hotel['cancellation_percentage'] = (grouped_hotel['cancellations'] / grouped_hotel['total_bookings']) * 100\n",
    "\n",
    "grouped_nationality = df_copy.groupby('zemlja_gosta').agg({'is_cancellation': ['sum', 'count']})\n",
    "grouped_nationality.columns = ['cancellations', 'total_bookings']\n",
    "grouped_nationality['cancellation_percentage'] = (grouped_nationality['cancellations'] / grouped_nationality['total_bookings']) * 100\n",
    "\n",
    "grouped_channel = df_copy.groupby('kanal_prodaje_id').agg({'is_cancellation': ['sum', 'count']})\n",
    "grouped_channel.columns = ['cancellations', 'total_bookings']\n",
    "grouped_channel['cancellation_percentage'] = (grouped_channel['cancellations'] / grouped_channel['total_bookings']) * 100"
   ]
  },
  {
   "cell_type": "code",
   "execution_count": 70,
   "id": "95a3609a",
   "metadata": {},
   "outputs": [
    {
     "name": "stdout",
     "output_type": "stream",
     "text": [
      "44199\n",
      "75011\n"
     ]
    }
   ],
   "source": [
    "df_copy['is_cancellation'] = df_copy['datum_otkazivanja_rezervacije'].notna()\n",
    "print(len(df_copy[df_copy['is_cancellation'] == True]))\n",
    "print(len(df_copy[df_copy['is_cancellation'] == False]))"
   ]
  },
  {
   "cell_type": "code",
   "execution_count": 66,
   "id": "a0770ec0",
   "metadata": {},
   "outputs": [
    {
     "name": "stdout",
     "output_type": "stream",
     "text": [
      "zemlja_gosta\n",
      "0       17.028986\n",
      "ABW      0.000000\n",
      "AGO     55.710306\n",
      "ALB     27.272727\n",
      "AND     71.428571\n",
      "          ...    \n",
      "VGB    100.000000\n",
      "VNM     25.000000\n",
      "ZAF     38.961039\n",
      "ZMB     50.000000\n",
      "ZWE     60.000000\n",
      "Name: cancellation_percentage, Length: 173, dtype: float64\n"
     ]
    }
   ],
   "source": [
    "print(grouped_nationality['cancellation_percentage'])\n"
   ]
  },
  {
   "cell_type": "code",
   "execution_count": 64,
   "id": "8d37fce3",
   "metadata": {},
   "outputs": [
    {
     "name": "stdout",
     "output_type": "stream",
     "text": [
      "zemlja_gosta\n",
      "0       94\n",
      "ABW      0\n",
      "AGO    200\n",
      "ALB      3\n",
      "AND      5\n",
      "      ... \n",
      "VGB      1\n",
      "VNM      2\n",
      "ZAF     30\n",
      "ZMB      1\n",
      "ZWE      3\n",
      "Name: cancellations, Length: 173, dtype: int64\n"
     ]
    }
   ],
   "source": [
    "print(grouped_nationality['cancellations'])"
   ]
  },
  {
   "cell_type": "code",
   "execution_count": 60,
   "id": "470f0bb0",
   "metadata": {},
   "outputs": [
    {
     "data": {
      "text/plain": [
       "zemlja_gosta\n",
       "0       17.028986\n",
       "ABW      0.000000\n",
       "AGO     55.710306\n",
       "ALB     27.272727\n",
       "AND     71.428571\n",
       "          ...    \n",
       "VGB    100.000000\n",
       "VNM     25.000000\n",
       "ZAF     38.961039\n",
       "ZMB     50.000000\n",
       "ZWE     60.000000\n",
       "Name: cancellation_percentage, Length: 173, dtype: float64"
      ]
     },
     "execution_count": 60,
     "metadata": {},
     "output_type": "execute_result"
    }
   ],
   "source": [
    "print(grouped_hotel['cancellation_percentage'])\n",
    "print(grouped_hotel['cancellations'])"
   ]
  },
  {
   "cell_type": "code",
   "execution_count": 57,
   "id": "cbb3ddaf",
   "metadata": {},
   "outputs": [
    {
     "data": {
      "text/plain": [
       "kanal_prodaje_id\n",
       "0    17.486825\n",
       "1    22.056834\n",
       "2    41.059847\n",
       "3    80.000000\n",
       "4    19.170984\n",
       "Name: cancellation_percentage, dtype: float64"
      ]
     },
     "execution_count": 57,
     "metadata": {},
     "output_type": "execute_result"
    }
   ],
   "source": [
    "print(grouped_channel['cancellation_percentage'])\n",
    "print(grouped_channel['cancellations'])"
   ]
  }
 ],
 "metadata": {
  "kernelspec": {
   "display_name": "Python 3",
   "language": "python",
   "name": "python3"
  },
  "language_info": {
   "codemirror_mode": {
    "name": "ipython",
    "version": 3
   },
   "file_extension": ".py",
   "mimetype": "text/x-python",
   "name": "python",
   "nbconvert_exporter": "python",
   "pygments_lexer": "ipython3",
   "version": "3.11.5"
  }
 },
 "nbformat": 4,
 "nbformat_minor": 5
}
