{
 "cells": [
  {
   "cell_type": "code",
   "execution_count": null,
   "metadata": {},
   "outputs": [],
   "source": [
    "import pandas as pd\n",
    "import seaborn as sns\n",
    "import matplotlib.pyplot as plt\n",
    "import math\n",
    "from matplotlib.ticker import MaxNLocator\n",
    "import numpy as np\n",
    "from datetime import datetime\n",
    "\n",
    "dataset_path = '../data/raw/export_df.parquet'"
   ]
  },
  {
   "cell_type": "code",
   "execution_count": null,
   "metadata": {},
   "outputs": [],
   "source": [
    "data = pd.read_parquet(dataset_path)\n",
    "data.head()\n",
    "\n",
    "df_copy = data.copy()"
   ]
  },
  {
   "cell_type": "markdown",
   "metadata": {},
   "source": [
    "Opis kolona:\n",
    "\n",
    "- datum_dolaska - datum kada bi gost trebao stići u hotel\n",
    "- datum_kreiranja_rezervacije - datum kada je rezervacija kreirana\n",
    "- datum_odjave - datum kada je gost napustio hotel\n",
    "- datum_otkazivanja_rezervacije - datum kada je rezervacija otkazana\n",
    "- broj_odraslih_gostiju - broj odraslih koji će boraviti u rezerviranim sobama\n",
    "- broj_djece_gostiju - broj djece koji će boraviti u rezerviranim sobama\n",
    "- zemlja_gosta - zemlja iz koje gost dolazi. Kategorije su zapisane u ISO 3155–3:2013 formatu\n",
    "- kanal_prodaje_id - id kanala prodaje preko kojeg je rezervacija napravljena (primjeri: direktna rezervacija, agencija, online)\n",
    "- tip_sobe_id - id tipa sobe koju je gost rezervirao\n",
    "- cijena_nocenja - cijena jednog noćenja za pojedinu rezeraciju\n",
    "- status_rezervacije - status rezervacije (Check-Out, Canceled, No-Show)\n",
    "- rezervacija_id - id rezervacije\n",
    "- gost_id - id gosta"
   ]
  },
  {
   "cell_type": "code",
   "execution_count": null,
   "metadata": {},
   "outputs": [],
   "source": [
    "hotel_zero = data[data['hotel_id'] == 0]\n",
    "hotel_one = data[data['hotel_id'] == 1]\n",
    "\n",
    "assert (len(hotel_zero)+ len(hotel_one)) == len(data)"
   ]
  },
  {
   "cell_type": "code",
   "execution_count": null,
   "metadata": {},
   "outputs": [],
   "source": [
    "print(f\"Prvi hotel ima {len(hotel_zero)/len(data)*100} % svih zapisa \")\n",
    "print(f\"Drugi hotel ima {len(hotel_one)/len(data)*100} % svih zapisa \")\n",
    "\n"
   ]
  },
  {
   "cell_type": "code",
   "execution_count": null,
   "metadata": {},
   "outputs": [],
   "source": [
    "print(hotel_zero['zemlja_gosta'].value_counts()[0:25])"
   ]
  },
  {
   "cell_type": "code",
   "execution_count": null,
   "metadata": {},
   "outputs": [],
   "source": [
    "print(hotel_one['zemlja_gosta'].value_counts()[0:25])"
   ]
  },
  {
   "cell_type": "code",
   "execution_count": null,
   "metadata": {},
   "outputs": [],
   "source": [
    "df_copy['datum_dolaska'] = pd.to_datetime(df_copy['datum_dolaska'])\n",
    "\n",
    "\n",
    "df_copy['duljina_boravka'] = df_copy['datum_odjave'] - df_copy['datum_dolaska']\n",
    "df_copy['duljina_boravka'] = df_copy['duljina_boravka'].dt.days\n"
   ]
  },
  {
   "cell_type": "code",
   "execution_count": null,
   "metadata": {},
   "outputs": [],
   "source": [
    "min_date = df_copy['datum_dolaska'].min()\n",
    "max_date = df_copy['datum_dolaska'].max()\n",
    "\n",
    "print(f\"Svi zapisi su u razdoblju od {min_date} do {max_date}\")"
   ]
  },
  {
   "cell_type": "markdown",
   "metadata": {},
   "source": [
    "### Vizuali"
   ]
  },
  {
   "cell_type": "code",
   "execution_count": null,
   "metadata": {},
   "outputs": [],
   "source": [
    "import matplotlib.pyplot as plt\n",
    "import seaborn as sns"
   ]
  },
  {
   "cell_type": "code",
   "execution_count": null,
   "metadata": {},
   "outputs": [],
   "source": [
    "df_copy['is_cancellation'] = df_copy['datum_otkazivanja_rezervacije'].notna()\n",
    "\n",
    "grouped_hotel = df_copy.groupby('hotel_id').agg({'is_cancellation': ['sum', 'count']})\n",
    "grouped_hotel.columns = ['cancellations', 'total_bookings']\n",
    "grouped_hotel['cancellation_percentage'] = (grouped_hotel['cancellations'] / grouped_hotel['total_bookings']) * 100\n",
    "\n",
    "grouped_nationality = df_copy.groupby('zemlja_gosta').agg({'is_cancellation': ['sum', 'count']})\n",
    "grouped_nationality.columns = ['cancellations', 'total_bookings']\n",
    "grouped_nationality['cancellation_percentage'] = (grouped_nationality['cancellations'] / grouped_nationality['total_bookings']) * 100\n",
    "\n",
    "grouped_channel = df_copy.groupby('kanal_prodaje_id').agg({'is_cancellation': ['sum', 'count']})\n",
    "grouped_channel.columns = ['cancellations', 'total_bookings']\n",
    "grouped_channel['cancellation_percentage'] = (grouped_channel['cancellations'] / grouped_channel['total_bookings']) * 100"
   ]
  },
  {
   "cell_type": "code",
   "execution_count": null,
   "metadata": {},
   "outputs": [],
   "source": [
    "print(grouped_nationality['cancellation_percentage'][0:5])\n"
   ]
  },
  {
   "cell_type": "code",
   "execution_count": null,
   "metadata": {},
   "outputs": [],
   "source": [
    "print(grouped_nationality['cancellations'][0:5])"
   ]
  },
  {
   "cell_type": "code",
   "execution_count": null,
   "metadata": {},
   "outputs": [],
   "source": [
    "mean_price_hotel_zero, mean_price_hotel_one  =np.mean(hotel_zero['cijena_nocenja']), np.mean(hotel_one['cijena_nocenja'])\n",
    "std_price_hotel_zero, std_price_hotel_one  =np.std(hotel_zero['cijena_nocenja']), np.std(hotel_one['cijena_nocenja'])\n"
   ]
  },
  {
   "cell_type": "code",
   "execution_count": null,
   "metadata": {},
   "outputs": [],
   "source": [
    "q11 = np.percentile(hotel_zero['cijena_nocenja'], 25)\n",
    "q31 = np.percentile(hotel_zero['cijena_nocenja'], 75)\n",
    "iqr1 = q31 - q11\n",
    "threshold1 = 1.5 * iqr1\n",
    "outliers1 = np.where((hotel_zero['cijena_nocenja'] < q11 - threshold1) | (hotel_zero['cijena_nocenja'] > q31 + threshold1))\n",
    " \n",
    "print(len(outliers1[0])/len(hotel_zero['cijena_nocenja'])*100)\n"
   ]
  },
  {
   "cell_type": "code",
   "execution_count": null,
   "metadata": {},
   "outputs": [],
   "source": [
    "q12 = np.percentile(hotel_one['cijena_nocenja'], 25)\n",
    "q32 = np.percentile(hotel_one['cijena_nocenja'], 75)\n",
    "iqr2 = q31 - q12\n",
    "threshold2 = 1.5 * iqr2\n",
    "outliers2 = np.where((hotel_one['cijena_nocenja'] < q12 - threshold2) | (hotel_one['cijena_nocenja'] > q32 + threshold2))\n",
    " \n",
    "print(len(outliers2[0])/len(hotel_one['cijena_nocenja'])*100)\n"
   ]
  },
  {
   "cell_type": "code",
   "execution_count": null,
   "metadata": {},
   "outputs": [],
   "source": [
    "dict = plt.boxplot([hotel_zero['cijena_nocenja'], hotel_one['cijena_nocenja']], showfliers=False,showmeans=True)"
   ]
  },
  {
   "cell_type": "markdown",
   "metadata": {},
   "source": [
    "### Datumi gdje je datum otkazivanja nakon datuma dolaska"
   ]
  },
  {
   "cell_type": "code",
   "execution_count": null,
   "metadata": {},
   "outputs": [],
   "source": [
    "krivi_datumi = df_copy[df_copy['datum_otkazivanja_rezervacije'] > df_copy['datum_dolaska']]\n",
    "print(f\"Ukupno {len(krivi_datumi)} redaka s neispravnim datumima\")\n",
    "print(krivi_datumi.head(3))"
   ]
  },
  {
   "cell_type": "markdown",
   "metadata": {},
   "source": [
    "#### Obrađivanje stupca datum dolaska "
   ]
  },
  {
   "cell_type": "code",
   "execution_count": null,
   "metadata": {},
   "outputs": [],
   "source": [
    "def process_arrival_date(df, years=None):\n",
    "    df['datum_dolaska'] = pd.to_datetime(df['datum_dolaska'], errors='coerce')\n",
    "\n",
    "    df['year'] = df['datum_dolaska'].dt.year\n",
    "    df['month'] = df['datum_dolaska'].dt.month\n",
    "    df['week'] = df['datum_dolaska'].dt.isocalendar().week.astype(float)\n",
    "    df['day'] = df['datum_dolaska'].dt.day\n",
    "    df['dayofweek'] = df['datum_dolaska'].dt.dayofweek\n",
    "    df['quarter'] = df['datum_dolaska'].dt.quarter\n",
    "    df['dayofyear'] = df['datum_dolaska'].dt.dayofyear\n",
    "\n",
    "    if years is not None:\n",
    "        if not isinstance(years, list):\n",
    "            years = [years]  \n",
    "        df = df[df['year'].isin(years)]\n",
    "\n",
    "    return df\n"
   ]
  },
  {
   "cell_type": "code",
   "execution_count": null,
   "metadata": {},
   "outputs": [],
   "source": [
    "df = process_arrival_date(df_copy)\n",
    "\n",
    "df['booking_status'] = df['datum_otkazivanja_rezervacije'].notna().astype(int)\n",
    "\n",
    "dolasci_po_hotelu = df.groupby(['datum_dolaska', 'hotel_id']).size().rename('booking_count').reset_index()\n",
    "\n",
    "fig, ax = plt.subplots(2, 1, figsize=(16, 12))\n",
    "\n",
    "sns.lineplot(data=dolasci_po_hotelu,\n",
    "             x='datum_dolaska',\n",
    "             y='booking_count',\n",
    "             hue='hotel_id',\n",
    "             ax=ax[0]\n",
    "             )\n",
    "\n",
    "ax[0].set_title('Broj dolaska po danu po hotelu')\n",
    "\n",
    "otkazivanja_po_hotelu = df.groupby(['datum_dolaska', 'hotel_id'])['booking_status'].mean().reset_index()\n",
    "\n",
    "sns.lineplot(data=otkazivanja_po_hotelu,\n",
    "             x='datum_dolaska',\n",
    "             y='booking_status',\n",
    "             hue='hotel_id',\n",
    "             ax=ax[1]\n",
    "      )\n",
    "\n",
    "ax[1].set_title('Prosječan broj otkazivanja po danu po hotelu')\n",
    "\n",
    "plt.tight_layout()\n",
    "plt.show()"
   ]
  },
  {
   "cell_type": "markdown",
   "metadata": {},
   "source": [
    "### Isti vizual samo za 2015\n"
   ]
  },
  {
   "cell_type": "code",
   "execution_count": null,
   "metadata": {},
   "outputs": [],
   "source": [
    "df = process_arrival_date(df_copy,years=[2015])\n",
    "\n",
    "df['booking_status'] = df['datum_otkazivanja_rezervacije'].notna().astype(int)\n",
    "\n",
    "dolasci_po_hotelu = df.groupby(['datum_dolaska', 'hotel_id']).size().rename('booking_count').reset_index()\n",
    "\n",
    "fig, ax = plt.subplots(2, 1, figsize=(16, 12))\n",
    "\n",
    "sns.lineplot(data=dolasci_po_hotelu,\n",
    "             x='datum_dolaska',\n",
    "             y='booking_count',\n",
    "             hue='hotel_id',\n",
    "             ax=ax[0]\n",
    "             )\n",
    "\n",
    "ax[0].set_title('Broj dolaska po danu po hotelu 2015')\n",
    "\n",
    "otkazivanja_po_hotelu = df.groupby(['datum_dolaska', 'hotel_id'])['booking_status'].mean().reset_index()\n",
    "\n",
    "sns.lineplot(data=otkazivanja_po_hotelu,\n",
    "             x='datum_dolaska',\n",
    "             y='booking_status',\n",
    "             hue='hotel_id',\n",
    "             ax=ax[1]\n",
    "      )\n",
    "\n",
    "ax[1].set_title('Prosječan broj otkazivanja po danu po hotelu 2015')\n",
    "\n",
    "plt.tight_layout()\n",
    "plt.show()"
   ]
  },
  {
   "cell_type": "markdown",
   "metadata": {},
   "source": [
    "### Isti vizuali samo za 2016\n"
   ]
  },
  {
   "cell_type": "code",
   "execution_count": null,
   "metadata": {},
   "outputs": [],
   "source": [
    "df = process_arrival_date(df_copy,years=[2016])\n",
    "\n",
    "df['booking_status'] = df['datum_otkazivanja_rezervacije'].notna().astype(int)\n",
    "\n",
    "dolasci_po_hotelu = df.groupby(['datum_dolaska', 'hotel_id']).size().rename('booking_count').reset_index()\n",
    "\n",
    "fig, ax = plt.subplots(2, 1, figsize=(16, 12))\n",
    "\n",
    "sns.lineplot(data=dolasci_po_hotelu,\n",
    "             x='datum_dolaska',\n",
    "             y='booking_count',\n",
    "             hue='hotel_id',\n",
    "             ax=ax[0]\n",
    "             )\n",
    "\n",
    "ax[0].set_title('Broj dolaska po danu po hotelu 2016')\n",
    "\n",
    "otkazivanja_po_hotelu = df.groupby(['datum_dolaska', 'hotel_id'])['booking_status'].mean().reset_index()\n",
    "\n",
    "sns.lineplot(data=otkazivanja_po_hotelu,\n",
    "             x='datum_dolaska',\n",
    "             y='booking_status',\n",
    "             hue='hotel_id',\n",
    "             ax=ax[1]\n",
    "      )\n",
    "\n",
    "ax[1].set_title('Prosječan broj otkazivanja po danu po hotelu 2016')\n",
    "\n",
    "plt.tight_layout()\n",
    "plt.show()"
   ]
  },
  {
   "cell_type": "markdown",
   "metadata": {},
   "source": [
    "### Isti vizuali samo za 2017\n"
   ]
  },
  {
   "cell_type": "code",
   "execution_count": null,
   "metadata": {},
   "outputs": [],
   "source": [
    "df = process_arrival_date(df_copy,years=[2017])\n",
    "\n",
    "df['booking_status'] = df['datum_otkazivanja_rezervacije'].notna().astype(int)\n",
    "\n",
    "dolasci_po_hotelu = df.groupby(['datum_dolaska', 'hotel_id']).size().rename('booking_count').reset_index()\n",
    "\n",
    "fig, ax = plt.subplots(2, 1, figsize=(16, 12))\n",
    "\n",
    "sns.lineplot(data=dolasci_po_hotelu,\n",
    "             x='datum_dolaska',\n",
    "             y='booking_count',\n",
    "             hue='hotel_id',\n",
    "             ax=ax[0]\n",
    "             )\n",
    "\n",
    "ax[0].set_title('Broj dolaska po danu po hotelu 2017')\n",
    "\n",
    "otkazivanja_po_hotelu = df.groupby(['datum_dolaska', 'hotel_id'])['booking_status'].mean().reset_index()\n",
    "\n",
    "sns.lineplot(data=otkazivanja_po_hotelu,\n",
    "             x='datum_dolaska',\n",
    "             y='booking_status',\n",
    "             hue='hotel_id',\n",
    "             ax=ax[1]\n",
    "      )\n",
    "\n",
    "ax[1].set_title('Prosječan broj otkazivanja po danu po hotelu 2017')\n",
    "\n",
    "plt.tight_layout()\n",
    "plt.show()"
   ]
  },
  {
   "cell_type": "code",
   "execution_count": null,
   "metadata": {},
   "outputs": [],
   "source": [
    "feature_dates = ['day', 'week', 'year', 'quarter']\n",
    "\n",
    "n_cols = 2\n",
    "n_rows = math.ceil(len(feature_dates) / n_cols)\n",
    "fig, ax = plt.subplots(n_rows, n_cols, figsize=(16, n_rows * 5))\n",
    "ax = ax.flatten()\n",
    "\n",
    "for i, feature in enumerate(feature_dates):\n",
    "    sns.countplot(data=df_copy, x=feature, ax=ax[i], color='skyblue')\n",
    "    ax[i].set_title(f'{feature.capitalize()} Distribution')\n",
    "    ax[i].set_xlabel(feature.capitalize())\n",
    "    ax[i].set_ylabel('Count')\n",
    "\n",
    "    xticks = ax[i].get_xticklabels()\n",
    "    xticks = [int(float(x.get_text())) for x in xticks if x.get_text()]\n",
    "    ax[i].set_xticklabels(xticks, rotation=45)\n",
    "\n",
    "    if len(ax[i].get_xticklabels()) > 10:\n",
    "        ax[i].xaxis.set_major_locator(MaxNLocator(10))\n",
    "\n",
    "for j in range(i + 1, len(ax)):\n",
    "    ax[j].axis('off')\n",
    "\n",
    "plt.tight_layout()\n",
    "plt.show()"
   ]
  },
  {
   "cell_type": "code",
   "execution_count": null,
   "metadata": {},
   "outputs": [],
   "source": [
    "df_copy['duljina_boravka'] = df_copy['datum_odjave'] - df_copy['datum_dolaska']\n",
    "df_copy['duljina_boravka'] = df_copy['duljina_boravka'].dt.days"
   ]
  },
  {
   "cell_type": "code",
   "execution_count": null,
   "metadata": {},
   "outputs": [],
   "source": [
    "nationality_counts = df_copy['zemlja_gosta'].value_counts()\n",
    "\n",
    "top_nationalities = nationality_counts.head(8)\n",
    "top_nationalities['Others'] = nationality_counts[8:].sum()\n",
    "\n",
    "plt.figure(figsize=(8, 8))\n",
    "top_nationalities.plot.pie(autopct='%1.1f%%')\n",
    "plt.title('Distibucija dolaženja po nacionalnosti gostiju')\n",
    "plt.ylabel('') \n",
    "\n",
    "\n",
    "df_copy['nacionalnost'] = df_copy['zemlja_gosta'].apply(lambda x: x if x in nationality_counts.head(8).index.tolist() else 'Others')\n",
    "\n",
    "plt.figure(figsize=(12, 8))\n",
    "sns.boxplot(x='nacionalnost', y='duljina_boravka', data=df_copy, palette='Set3')\n",
    "plt.title('Distribucija duljine boravka po nacionalnosti gostiju')\n",
    "plt.xlabel('Nacionalnost')\n",
    "plt.ylabel('Duljina boravka')\n",
    "plt.xticks(rotation=45)  # Rotate x-axis labels for better readability\n",
    "\n",
    "plt.show()\n"
   ]
  },
  {
   "cell_type": "code",
   "execution_count": null,
   "metadata": {},
   "outputs": [],
   "source": []
  }
 ],
 "metadata": {
  "kernelspec": {
   "display_name": "Python 3",
   "language": "python",
   "name": "python3"
  },
  "language_info": {
   "codemirror_mode": {
    "name": "ipython",
    "version": 3
   },
   "file_extension": ".py",
   "mimetype": "text/x-python",
   "name": "python",
   "nbconvert_exporter": "python",
   "pygments_lexer": "ipython3",
   "version": "3.11.5"
  }
 },
 "nbformat": 4,
 "nbformat_minor": 2
}
