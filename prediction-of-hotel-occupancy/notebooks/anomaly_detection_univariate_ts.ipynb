{
 "cells": [
  {
   "cell_type": "code",
   "execution_count": null,
   "metadata": {},
   "outputs": [],
   "source": [
    "import pandas as pd\n",
    "import seaborn as sns\n",
    "import matplotlib.pyplot as plt\n",
    "import matplotlib.dates as mdates\n",
    "import math\n",
    "from matplotlib.ticker import MaxNLocator\n",
    "import numpy as np\n",
    "from datetime import datetime\n",
    "\n",
    "dataset_path = '../data/raw/export_df.parquet'"
   ]
  },
  {
   "cell_type": "markdown",
   "metadata": {},
   "source": [
    "# Predprocesuiranje podataka"
   ]
  },
  {
   "cell_type": "code",
   "execution_count": null,
   "metadata": {},
   "outputs": [],
   "source": [
    "data = pd.read_parquet(dataset_path)\n",
    "data.head()\n"
   ]
  },
  {
   "cell_type": "markdown",
   "metadata": {},
   "source": [
    "#### Uklanjanje zapisa (redaka) gdje je zemlja gosta 0 "
   ]
  },
  {
   "cell_type": "code",
   "execution_count": null,
   "metadata": {},
   "outputs": [],
   "source": [
    "data = data[~(data['zemlja_gosta']=='0')]"
   ]
  },
  {
   "cell_type": "markdown",
   "metadata": {},
   "source": [
    "#### Uklanjanje radaka s otkazanim rezervacijama"
   ]
  },
  {
   "cell_type": "markdown",
   "metadata": {},
   "source": [
    "Zasada se fokusiramo na otklanjanjem outliera kod pojedinih hotela i to za ostvarene dolaske, moguće je proširiti na anomalije\n",
    " i kod otkazivanja, što bi ukazivalo da je neočekivana potražnja za hotelom te bi se možda moglo tumačiti zbog čega je došlo do toga, ali isto je tako korisno i ako vidimo da je veći broj otkazivanja kod cijenovnih anomalija\n",
    " "
   ]
  },
  {
   "cell_type": "code",
   "execution_count": null,
   "metadata": {},
   "outputs": [],
   "source": [
    "data = data[~data['datum_otkazivanja_rezervacije'].notna()]\n",
    "data = data.reset_index(drop=True)\n",
    "data.head(5)"
   ]
  },
  {
   "cell_type": "markdown",
   "metadata": {},
   "source": [
    "#### Dodavanje stupca duljina_boravka"
   ]
  },
  {
   "cell_type": "code",
   "execution_count": null,
   "metadata": {},
   "outputs": [],
   "source": [
    "data['duljina_boravka'] = data['datum_odjave'] - data['datum_dolaska']\n",
    "data['duljina_boravka'] = data['duljina_boravka'].dt.days\n",
    "data.head(10)\n"
   ]
  },
  {
   "cell_type": "markdown",
   "metadata": {},
   "source": [
    "#### Dodavanje stupca  ukupno_gostiju ; broj djece za svaki redak (djeca + odrasli)"
   ]
  },
  {
   "cell_type": "code",
   "execution_count": null,
   "metadata": {},
   "outputs": [],
   "source": [
    "data['ukupno_gostiju'] = data['broj_odraslih_gostiju'] + data['broj_djece_gostiju']"
   ]
  },
  {
   "cell_type": "markdown",
   "metadata": {},
   "source": [
    "##### Uklanjanje rezervacija u kojima nema gostiju, odnosno ukupan je broj gostiju 0"
   ]
  },
  {
   "cell_type": "markdown",
   "metadata": {},
   "source": [
    "NOTE: Zašto ove retke uklanjamo sada, a ne nakon primjene statističke ili metode strojnog učenja? Jer ovdje govorimo o retcima u kojima je broj gpstiju nula, što znači kako su ti podaci nevaljani: označen je dolazak gosta, odnosno očekujemo da je gost došao, ali je zbog nekog razloga krivo postavljen broj gostiju te možemo reći da su ovdje krivo uneseni podaci"
   ]
  },
  {
   "cell_type": "code",
   "execution_count": null,
   "metadata": {},
   "outputs": [],
   "source": [
    "data = data[data['ukupno_gostiju'] != 0]"
   ]
  },
  {
   "cell_type": "markdown",
   "metadata": {},
   "source": [
    "#### Dodavanje stupca raspon_dolazak_rezervacija"
   ]
  },
  {
   "cell_type": "code",
   "execution_count": null,
   "metadata": {},
   "outputs": [],
   "source": [
    "data['raspon_dolazak_rezervacija'] = (data['datum_dolaska'] - data['datum_kreiranja_rezervacije']).dt.days"
   ]
  },
  {
   "cell_type": "markdown",
   "metadata": {},
   "source": [
    "####  Uklanjanje stupaca: \n",
    "   - datum otkazivanja rezervacije (ovdej imamo samo neotkazane rezervacije)\n",
    "   - datum odjave : jer je autokoreliran s stupcima datum dolaska i duljina boravka\n",
    "   - broj_odraslih_gostiju\tte broj_djece_gostiju uklanjamo kako smo dodali stupac ukupan broj gostiju\n",
    "   - status rezervacije (sve su vrijednosti iste iste - 'Check-Out')\n",
    "   - rezervacija_id - od 74553 zapisa imamo i 74553 unikatne vrijednosti identifikatora\n",
    "    (NE ODBACUJEMO gost_id jer od 74553 zapisaimamo 69764 gosta, što znači da imamo ponavljajućih gostiju)\n",
    "   - datun_kreiranja_rezervacije - dodan je stupac raspon_dolazak_rezervacija koji označava razliku dana dolaska i kreiranja rezervacije \n",
    "   "
   ]
  },
  {
   "cell_type": "code",
   "execution_count": null,
   "metadata": {},
   "outputs": [],
   "source": [
    "data = data.drop(columns = ['datum_otkazivanja_rezervacije','datum_odjave','broj_odraslih_gostiju','broj_djece_gostiju','status_rezervacije','rezervacija_id','datum_kreiranja_rezervacije'],axis=1)\n",
    "data.head()"
   ]
  },
  {
   "cell_type": "code",
   "execution_count": null,
   "metadata": {},
   "outputs": [],
   "source": [
    "# data['datum_dolaska'] = pd.to_datetime(data['datum_dolaska'], errors='coerce')\n",
    "# data.set_index('datum_dolaska', inplace=True)"
   ]
  },
  {
   "cell_type": "code",
   "execution_count": null,
   "metadata": {},
   "outputs": [],
   "source": [
    "dataResort = data[data['hotel_id'] == 0]\n",
    "dataCity = data[data['hotel_id'] == 1]\n",
    "\n",
    "assert len(dataResort) + len(dataCity) == len(data)"
   ]
  },
  {
   "cell_type": "markdown",
   "metadata": {},
   "source": [
    "- Na kojeme vremenskom okviru gledati outliere? \n",
    "- Kako pohraniti podatke na tjednoj razini u neku smislenu cjelinu?\n",
    "    (agregacija na tjednoj razini u neku smislenu cjelinu, pogotovo s kategoričkim varijablama)"
   ]
  },
  {
   "cell_type": "markdown",
   "metadata": {},
   "source": [
    "# Tjedna razina (promatramo tjednu fluktuaciju broja gostiju) za oba hotela"
   ]
  },
  {
   "cell_type": "code",
   "execution_count": null,
   "metadata": {},
   "outputs": [],
   "source": [
    "NumberOfGuestsWeeklyCity = dataCity['ukupno_gostiju'].groupby(dataCity['datum_dolaska']).sum()\n",
    "NumberOfGuestsWeeklyCity = NumberOfGuestsWeeklyCity.resample('W').sum().to_frame()\n",
    "NumberOfGuestsWeeklyCity.head(5)"
   ]
  },
  {
   "cell_type": "code",
   "execution_count": null,
   "metadata": {},
   "outputs": [],
   "source": [
    "NumberOfGuestsWeeklyResort = dataResort['ukupno_gostiju'].groupby(dataResort['datum_dolaska']).sum()\n",
    "NumberOfGuestsWeeklyResort = NumberOfGuestsWeeklyResort.resample('W').sum().to_frame()\n",
    "# NumberOfGuestsMonthlyResort.head(5)"
   ]
  },
  {
   "cell_type": "markdown",
   "metadata": {},
   "source": [
    "## Naivan pristup : interkvartalni rang"
   ]
  },
  {
   "attachments": {
    "image.png": {
     "image/png": "[encoded data removed]"
    }
   },
   "cell_type": "markdown",
   "metadata": {},
   "source": [
    " ![image.png](attachment:image.png)"
   ]
  },
  {
   "cell_type": "code",
   "execution_count": null,
   "metadata": {},
   "outputs": [],
   "source": [
    "q11 = np.percentile(NumberOfGuestsWeeklyResort['ukupno_gostiju'], 25)\n",
    "q31 = np.percentile(NumberOfGuestsWeeklyResort['ukupno_gostiju'],75)\n",
    "iqr1 = q31 - q11\n",
    "threshold1 = 1.5 * iqr1\n",
    "outliers1 = np.where((NumberOfGuestsWeeklyResort['ukupno_gostiju'] < q11 - threshold1) | (NumberOfGuestsWeeklyResort['ukupno_gostiju'] > q31 + threshold1))\n",
    " \n",
    "plt.figure(figsize=(10, 6))\n",
    "plt.plot(NumberOfGuestsWeeklyResort.index, NumberOfGuestsWeeklyResort['ukupno_gostiju'], label='Number of Guests')\n",
    "\n",
    "for outlier in outliers1[0]:\n",
    "    plt.scatter(NumberOfGuestsWeeklyResort.index[outlier], NumberOfGuestsWeeklyResort['ukupno_gostiju'].iloc[outlier], color='red')\n",
    "\n",
    "plt.xlabel('Tjedan dolaska')\n",
    "plt.ylabel('Ukupan broj gostiju')\n",
    "plt.title('Ukupan broj gostiju na tjednoj razini Resort Hotela')\n",
    "plt.legend()\n",
    "plt.show()\n"
   ]
  },
  {
   "cell_type": "code",
   "execution_count": null,
   "metadata": {},
   "outputs": [],
   "source": [
    "q12 = np.percentile(NumberOfGuestsWeeklyCity['ukupno_gostiju'], 25)\n",
    "q32 = np.percentile(NumberOfGuestsWeeklyCity['ukupno_gostiju'],75)\n",
    "iqr2 = q32 - q12\n",
    "threshold2 = 1.5 * iqr2\n",
    "outliers2 = np.where((NumberOfGuestsWeeklyCity['ukupno_gostiju'] < q12 - threshold2) | (NumberOfGuestsWeeklyCity['ukupno_gostiju'] > q32 + threshold2))\n",
    " \n",
    "plt.figure(figsize=(10, 6))\n",
    "plt.plot(NumberOfGuestsWeeklyCity.index, NumberOfGuestsWeeklyCity['ukupno_gostiju'], label='Number of Guests')\n",
    "\n",
    "for outlier in outliers2[0]:\n",
    "    plt.scatter(NumberOfGuestsWeeklyCity.index[outlier], NumberOfGuestsWeeklyCity['ukupno_gostiju'].iloc[outlier], color='red')\n",
    "\n",
    "plt.xlabel('Tjedan dolaska')\n",
    "plt.ylabel('Ukupan broj gostiju')\n",
    "plt.title('Ukupan broj gostiju na tjednoj razini City Hotela')\n",
    "plt.legend()\n",
    "plt.show()\n"
   ]
  },
  {
   "cell_type": "markdown",
   "metadata": {},
   "source": [
    "#### ADTK OutlierDetector\n",
    "\n",
    "\" performs multivariate time-independent outlier detection and identifies outliers as anomalies. The multivariate outlier detection algorithm could be those in scikit-learn or other packages following same API.\""
   ]
  },
  {
   "cell_type": "code",
   "execution_count": null,
   "metadata": {},
   "outputs": [],
   "source": [
    "from adtk.detector import OutlierDetector\n",
    "from sklearn.neighbors import LocalOutlierFactor"
   ]
  },
  {
   "cell_type": "code",
   "execution_count": null,
   "metadata": {},
   "outputs": [],
   "source": [
    "outlier_detector = OutlierDetector(LocalOutlierFactor(contamination=0.05))\n",
    "anomalies_resort = outlier_detector.fit_detect(NumberOfGuestsWeeklyResort)"
   ]
  },
  {
   "cell_type": "code",
   "execution_count": null,
   "metadata": {},
   "outputs": [],
   "source": [
    "plt.figure(figsize=(10, 6))\n",
    "plt.plot(NumberOfGuestsWeeklyResort.index, NumberOfGuestsWeeklyResort['ukupno_gostiju'], label='Number of Guests')\n",
    "\n",
    "for anomaly_date in anomalies_resort[anomalies_resort].index:\n",
    "    if anomaly_date in NumberOfGuestsWeeklyResort.index:\n",
    "        plt.scatter(anomaly_date, NumberOfGuestsWeeklyResort.loc[anomaly_date, 'ukupno_gostiju'], color='red')\n",
    "\n",
    "plt.xlabel('Tjedan dolaska')\n",
    "plt.ylabel('Ukupan broj gostiju')\n",
    "plt.title('Ukupan broj gostiju na tjednoj razini Resort Hotela')\n",
    "plt.legend()\n",
    "plt.show()"
   ]
  },
  {
   "cell_type": "code",
   "execution_count": null,
   "metadata": {},
   "outputs": [],
   "source": [
    "outlier_detector = OutlierDetector(LocalOutlierFactor(contamination=0.05))\n",
    "anomalies_city = outlier_detector.fit_detect(NumberOfGuestsWeeklyCity)"
   ]
  },
  {
   "cell_type": "code",
   "execution_count": null,
   "metadata": {},
   "outputs": [],
   "source": [
    "plt.figure(figsize=(10, 6))\n",
    "plt.plot(NumberOfGuestsWeeklyCity.index, NumberOfGuestsWeeklyCity['ukupno_gostiju'], label='Number of Guests')\n",
    "\n",
    "for anomaly_date in anomalies_city[anomalies_city].index:\n",
    "    if anomaly_date in NumberOfGuestsWeeklyCity.index:\n",
    "        plt.scatter(anomaly_date, NumberOfGuestsWeeklyCity.loc[anomaly_date, 'ukupno_gostiju'], color='red')\n",
    "\n",
    "plt.xlabel('Tjedan dolaska')\n",
    "plt.ylabel('Ukupan broj gostiju')\n",
    "plt.title('Ukupan broj gostiju na tjednoj razini City Hotela')\n",
    "plt.legend()\n",
    "plt.show()"
   ]
  },
  {
   "cell_type": "markdown",
   "metadata": {},
   "source": [
    "## (Unsupervised) Isolation Forests na univarijatnim podacima "
   ]
  },
  {
   "cell_type": "markdown",
   "metadata": {},
   "source": [
    "A sliding window is a common technique for analyzing time series data. It involves dividing the data into overlapping or non-overlapping chunks, or “windows,” and analyzing each window separately. This can be useful for identifying patterns or trends that may not be apparent when analyzing the entire dataset.\n",
    "\n",
    "To use a sliding window with the isolation forest algorithm for anomaly detection, you can concatenate the data of each window and apply the algorithm to the resulting data matrix.\n",
    "\n",
    "they do not require any feature engineering (such as normalizing, resampling and scaling)"
   ]
  },
  {
   "cell_type": "markdown",
   "metadata": {},
   "source": [
    " Isolation Score for the Isolation Forest"
   ]
  },
  {
   "attachments": {
    "image.png": {
     "image/png": "[encoded data removed]"
    }
   },
   "cell_type": "markdown",
   "metadata": {},
   "source": [
    "\n",
    " ![image.png](attachment:image.png)"
   ]
  },
  {
   "cell_type": "markdown",
   "metadata": {},
   "source": [
    "- h(x) - This is the average search height for 'x' from the isolation trees constructed \n",
    "- c(n) is the average search height (or depth) to find any general node in your isolation trees\n",
    "- n is the number of external nodes in the Binary Search Tree (sample size)\n",
    "- Note: External nodes are leaf nodes that could not be split further and reside at the bottom of the tree. "
   ]
  },
  {
   "cell_type": "code",
   "execution_count": null,
   "metadata": {},
   "outputs": [],
   "source": [
    "from sklearn.ensemble import IsolationForest\n",
    "from sklearn.preprocessing import StandardScaler"
   ]
  },
  {
   "cell_type": "code",
   "execution_count": null,
   "metadata": {},
   "outputs": [],
   "source": [
    "pd.plotting.lag_plot(NumberOfGuestsWeeklyCity, lag=1)"
   ]
  },
  {
   "cell_type": "code",
   "execution_count": null,
   "metadata": {},
   "outputs": [],
   "source": [
    "pd.plotting.lag_plot(NumberOfGuestsWeeklyResort, lag=1)"
   ]
  },
  {
   "cell_type": "code",
   "execution_count": null,
   "metadata": {},
   "outputs": [],
   "source": [
    "if_model_city = IsolationForest(random_state = 0, \n",
    "                                contamination = outliers_fraction,\n",
    "                                bootstrap=False,\n",
    "                                verbose=True\n",
    "                                )"
   ]
  },
  {
   "cell_type": "code",
   "execution_count": null,
   "metadata": {},
   "outputs": [],
   "source": [
    "if_model_city.fit(NumberOfGuestsWeeklyCity['ukupno_gostiju'].values.reshape(-1,1))"
   ]
  },
  {
   "cell_type": "code",
   "execution_count": null,
   "metadata": {},
   "outputs": [],
   "source": [
    "NumberOfGuestsWeeklyCity['score'] = if_model_city.decision_function(NumberOfGuestsWeeklyCity['ukupno_gostiju'].values.reshape(-1,1))\n",
    "NumberOfGuestsWeeklyCity['anomaly_value'] = if_model_city.predict(NumberOfGuestsWeeklyCity['ukupno_gostiju'].values.reshape(-1,1))\n",
    "NumberOfGuestsWeeklyCity.head()"
   ]
  },
  {
   "cell_type": "code",
   "execution_count": null,
   "metadata": {},
   "outputs": [],
   "source": [
    "outliers_city = NumberOfGuestsWeeklyCity[NumberOfGuestsWeeklyCity['anomaly_value'] == -1]\n",
    "outlier_index = list(outliers_city.index)\n",
    "\n",
    "#1 - nije outlier, -1 - outlier\n",
    "print(NumberOfGuestsWeeklyCity['anomaly_value'].value_counts())\n",
    "NumberOfGuestsWeeklyCity['anomaly_value'].value_counts().plot(kind = 'bar')"
   ]
  },
  {
   "cell_type": "code",
   "execution_count": null,
   "metadata": {},
   "outputs": [],
   "source": [
    "plt.figure(figsize = (16, 8))\n",
    "\n",
    "plt.plot(NumberOfGuestsWeeklyCity['ukupno_gostiju'], marker = '.')\n",
    "plt.plot(outliers_city['ukupno_gostiju'], 'o', color = 'red', label = 'outlier')\n",
    "plt.title('Detekcija outliera Isolation Forestom za city hotel an tjednoj razini')\n",
    "\n",
    "plt.xlabel('Tjedan dolaska')\n",
    "plt.ylabel('Broj godstiju na tjednoj razini')\n",
    "plt.legend()"
   ]
  },
  {
   "cell_type": "code",
   "execution_count": null,
   "metadata": {},
   "outputs": [],
   "source": [
    "if_model_resort = IsolationForest(random_state = 0, contamination =\"auto\",bootstrap=False,verbose=True)"
   ]
  },
  {
   "cell_type": "code",
   "execution_count": null,
   "metadata": {},
   "outputs": [],
   "source": [
    "if_model_resort.fit(NumberOfGuestsWeeklyResort['ukupno_gostiju'].values.reshape(-1,1))"
   ]
  },
  {
   "cell_type": "code",
   "execution_count": null,
   "metadata": {},
   "outputs": [],
   "source": [
    "NumberOfGuestsWeeklyResort['score'] = if_model_city.decision_function(NumberOfGuestsWeeklyResort['ukupno_gostiju'].values.reshape(-1,1))\n",
    "NumberOfGuestsWeeklyResort['anomaly_value'] = if_model_city.predict(NumberOfGuestsWeeklyResort['ukupno_gostiju'].values.reshape(-1,1))\n",
    "NumberOfGuestsWeeklyResort.head()"
   ]
  },
  {
   "cell_type": "code",
   "execution_count": null,
   "metadata": {},
   "outputs": [],
   "source": [
    "outliers_resort = NumberOfGuestsWeeklyResort[NumberOfGuestsWeeklyResort['anomaly_value'] == -1]\n",
    "outlier_index_resort = list(outliers_resort.index)\n",
    "\n",
    "#1 - nije outlier, -1 - outlier\n",
    "print(NumberOfGuestsWeeklyResort['anomaly_value'].value_counts())\n",
    "NumberOfGuestsWeeklyResort['anomaly_value'].value_counts().plot(kind = 'bar')"
   ]
  },
  {
   "cell_type": "code",
   "execution_count": null,
   "metadata": {},
   "outputs": [],
   "source": [
    "plt.figure(figsize = (16, 8))\n",
    "\n",
    "plt.plot(NumberOfGuestsWeeklyResort['ukupno_gostiju'], marker = '.')\n",
    "plt.plot(outliers_resort['ukupno_gostiju'], 'o', color = 'red', label = 'outlier')\n",
    "plt.title('Detekcija outliera Isolation Forestom za Resort hotel an tjednoj razini')\n",
    "\n",
    "plt.xlabel('Tjedan dolaska')\n",
    "plt.ylabel('Broj gostiju na tjednoj razini')\n",
    "plt.legend()"
   ]
  },
  {
   "cell_type": "markdown",
   "metadata": {},
   "source": [
    "# TODO\n",
    "- modelirati na mjesečnoj i dnevnoj razini   \n",
    "- probati metode poput jednoklasnog SVM-a, MA i local outlier factora\n",
    "- proširiti na multivarijantnu analizu podataka \n",
    "      - agregacija podataka na razini dana,tjedna, mjeseca\n",
    "      - provlačiti kroz neki pokretni prozor"
   ]
  }
 ],
 "metadata": {
  "kernelspec": {
   "display_name": "env",
   "language": "python",
   "name": "python3"
  },
  "language_info": {
   "codemirror_mode": {
    "name": "ipython",
    "version": 3
   },
   "file_extension": ".py",
   "mimetype": "text/x-python",
   "name": "python",
   "nbconvert_exporter": "python",
   "pygments_lexer": "ipython3",
   "version": "3.11.5"
  }
 },
 "nbformat": 4,
 "nbformat_minor": 2
}
