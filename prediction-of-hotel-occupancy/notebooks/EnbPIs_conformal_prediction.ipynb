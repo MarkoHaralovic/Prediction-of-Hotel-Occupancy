{
 "cells": [
  {
   "cell_type": "code",
   "execution_count": 28,
   "metadata": {},
   "outputs": [],
   "source": [
    "import numpy as np\n",
    "import pandas as pd\n",
    "\n",
    "from sklearn.model_selection import train_test_split\n",
    "import matplotlib.pyplot as plt\n",
    "\n",
    "from sklearn.pipeline import make_pipeline\n",
    "from sklearn.preprocessing import OrdinalEncoder\n",
    "from sklearn.compose import ColumnTransformer\n",
    "from sklearn.ensemble import HistGradientBoostingRegressor\n",
    "\n",
    "from fortuna.conformal import EnbPI\n",
    "from fortuna.metric.regression import prediction_interval_coverage_probability"
   ]
  },
  {
   "cell_type": "code",
   "execution_count": 29,
   "metadata": {},
   "outputs": [],
   "source": [
    "from sklearn.datasets import fetch_openml\n",
    "\n",
    "bike_sharing = fetch_openml(\n",
    "    \"Bike_Sharing_Demand\", version=2, as_frame=True, parser=\"pandas\"\n",
    ")\n",
    "df = bike_sharing.frame"
   ]
  },
  {
   "cell_type": "code",
   "execution_count": 30,
   "metadata": {},
   "outputs": [
    {
     "data": {
      "text/html": [
       "<div>\n",
       "<style scoped>\n",
       "    .dataframe tbody tr th:only-of-type {\n",
       "        vertical-align: middle;\n",
       "    }\n",
       "\n",
       "    .dataframe tbody tr th {\n",
       "        vertical-align: top;\n",
       "    }\n",
       "\n",
       "    .dataframe thead th {\n",
       "        text-align: right;\n",
       "    }\n",
       "</style>\n",
       "<table border=\"1\" class=\"dataframe\">\n",
       "  <thead>\n",
       "    <tr style=\"text-align: right;\">\n",
       "      <th></th>\n",
       "      <th>season</th>\n",
       "      <th>year</th>\n",
       "      <th>month</th>\n",
       "      <th>hour</th>\n",
       "      <th>holiday</th>\n",
       "      <th>weekday</th>\n",
       "      <th>workingday</th>\n",
       "      <th>weather</th>\n",
       "      <th>temp</th>\n",
       "      <th>feel_temp</th>\n",
       "      <th>humidity</th>\n",
       "      <th>windspeed</th>\n",
       "      <th>count</th>\n",
       "    </tr>\n",
       "  </thead>\n",
       "  <tbody>\n",
       "    <tr>\n",
       "      <th>0</th>\n",
       "      <td>spring</td>\n",
       "      <td>0</td>\n",
       "      <td>1</td>\n",
       "      <td>0</td>\n",
       "      <td>False</td>\n",
       "      <td>6</td>\n",
       "      <td>False</td>\n",
       "      <td>clear</td>\n",
       "      <td>9.84</td>\n",
       "      <td>14.395</td>\n",
       "      <td>0.81</td>\n",
       "      <td>0.0</td>\n",
       "      <td>16</td>\n",
       "    </tr>\n",
       "    <tr>\n",
       "      <th>1</th>\n",
       "      <td>spring</td>\n",
       "      <td>0</td>\n",
       "      <td>1</td>\n",
       "      <td>1</td>\n",
       "      <td>False</td>\n",
       "      <td>6</td>\n",
       "      <td>False</td>\n",
       "      <td>clear</td>\n",
       "      <td>9.02</td>\n",
       "      <td>13.635</td>\n",
       "      <td>0.80</td>\n",
       "      <td>0.0</td>\n",
       "      <td>40</td>\n",
       "    </tr>\n",
       "    <tr>\n",
       "      <th>2</th>\n",
       "      <td>spring</td>\n",
       "      <td>0</td>\n",
       "      <td>1</td>\n",
       "      <td>2</td>\n",
       "      <td>False</td>\n",
       "      <td>6</td>\n",
       "      <td>False</td>\n",
       "      <td>clear</td>\n",
       "      <td>9.02</td>\n",
       "      <td>13.635</td>\n",
       "      <td>0.80</td>\n",
       "      <td>0.0</td>\n",
       "      <td>32</td>\n",
       "    </tr>\n",
       "    <tr>\n",
       "      <th>3</th>\n",
       "      <td>spring</td>\n",
       "      <td>0</td>\n",
       "      <td>1</td>\n",
       "      <td>3</td>\n",
       "      <td>False</td>\n",
       "      <td>6</td>\n",
       "      <td>False</td>\n",
       "      <td>clear</td>\n",
       "      <td>9.84</td>\n",
       "      <td>14.395</td>\n",
       "      <td>0.75</td>\n",
       "      <td>0.0</td>\n",
       "      <td>13</td>\n",
       "    </tr>\n",
       "    <tr>\n",
       "      <th>4</th>\n",
       "      <td>spring</td>\n",
       "      <td>0</td>\n",
       "      <td>1</td>\n",
       "      <td>4</td>\n",
       "      <td>False</td>\n",
       "      <td>6</td>\n",
       "      <td>False</td>\n",
       "      <td>clear</td>\n",
       "      <td>9.84</td>\n",
       "      <td>14.395</td>\n",
       "      <td>0.75</td>\n",
       "      <td>0.0</td>\n",
       "      <td>1</td>\n",
       "    </tr>\n",
       "  </tbody>\n",
       "</table>\n",
       "</div>"
      ],
      "text/plain": [
       "   season  year  month  hour holiday  weekday workingday weather  temp  \\\n",
       "0  spring     0      1     0   False        6      False   clear  9.84   \n",
       "1  spring     0      1     1   False        6      False   clear  9.02   \n",
       "2  spring     0      1     2   False        6      False   clear  9.02   \n",
       "3  spring     0      1     3   False        6      False   clear  9.84   \n",
       "4  spring     0      1     4   False        6      False   clear  9.84   \n",
       "\n",
       "   feel_temp  humidity  windspeed  count  \n",
       "0     14.395      0.81        0.0     16  \n",
       "1     13.635      0.80        0.0     40  \n",
       "2     13.635      0.80        0.0     32  \n",
       "3     14.395      0.75        0.0     13  \n",
       "4     14.395      0.75        0.0      1  "
      ]
     },
     "execution_count": 30,
     "metadata": {},
     "output_type": "execute_result"
    }
   ],
   "source": [
    "df.head()"
   ]
  },
  {
   "cell_type": "code",
   "execution_count": 5,
   "metadata": {},
   "outputs": [
    {
     "data": {
      "text/plain": [
       "weekday  hour\n",
       "0        0        93.990385\n",
       "         1        77.432692\n",
       "         2        61.627451\n",
       "         3        31.144231\n",
       "         4         9.362745\n",
       "                    ...    \n",
       "6        19      239.932692\n",
       "         20      180.865385\n",
       "         21      156.000000\n",
       "         22      139.663462\n",
       "         23      115.855769\n",
       "Name: count, Length: 168, dtype: float64"
      ]
     },
     "execution_count": 5,
     "metadata": {},
     "output_type": "execute_result"
    }
   ],
   "source": [
    "df.groupby([\"weekday\", \"hour\"])[\"count\"].mean()"
   ]
  },
  {
   "cell_type": "code",
   "execution_count": 6,
   "metadata": {},
   "outputs": [
    {
     "data": {
      "image/png": "[encoded data removed]",
      "text/plain": [
       "<Figure size 1200x200 with 1 Axes>"
      ]
     },
     "metadata": {},
     "output_type": "display_data"
    }
   ],
   "source": [
    "fig, ax = plt.subplots(figsize=(12, 2))\n",
    "average_week_demand = df.groupby([\"weekday\", \"hour\"])[\"count\"].mean()\n",
    "average_week_demand.plot(ax=ax)\n",
    "_ = ax.set(\n",
    "    title=\"Average hourly bike demand during the week\",\n",
    "    xticks=[i * 24 for i in range(7)],\n",
    "    xticklabels=[\"Sun\", \"Mon\", \"Tue\", \"Wed\", \"Thu\", \"Fri\", \"Sat\"],\n",
    "    xlabel=\"Time of the week\",\n",
    "    ylabel=\"Number of bike rentals\",\n",
    ")"
   ]
  },
  {
   "cell_type": "code",
   "execution_count": 32,
   "metadata": {},
   "outputs": [],
   "source": [
    "df = df.sample(500)\n",
    "y = df[\"count\"] / df[\"count\"].max()\n",
    "X = df.drop(\"count\", axis=\"columns\")\n",
    "X_train, X_test = train_test_split(X, test_size=0.2, shuffle=False)\n",
    "y_train, y_test = train_test_split(y, test_size=0.2, shuffle=False)\n",
    "     "
   ]
  },
  {
   "cell_type": "code",
   "execution_count": 38,
   "metadata": {},
   "outputs": [],
   "source": [
    "class DataFrameBootstrapper:\n",
    "    def __init__(self, n_samples: int):\n",
    "        self.n_samples = n_samples\n",
    "\n",
    "    def __call__(\n",
    "        self, X: np.ndarray, y: np.ndarray\n",
    "    ) -> tuple[np.ndarray, list[tuple[np.ndarray, np.ndarray]]]:\n",
    "        indices = np.random.choice(y.shape[0], size=(self.n_samples, y.shape[0]))\n",
    "        return indices, [(X.iloc[idx], y.iloc[idx]) for idx in indices]"
   ]
  },
  {
   "cell_type": "code",
   "execution_count": 39,
   "metadata": {},
   "outputs": [],
   "source": [
    "n_bs_samples = 10\n",
    "bs_indices, bs_train_data = DataFrameBootstrapper(n_samples=n_bs_samples)(\n",
    "    X_train, y_train\n",
    ")\n",
    "  "
   ]
  },
  {
   "cell_type": "code",
   "execution_count": 15,
   "metadata": {},
   "outputs": [
    {
     "data": {
      "text/plain": [
       "(10, 400)"
      ]
     },
     "execution_count": 15,
     "metadata": {},
     "output_type": "execute_result"
    }
   ],
   "source": [
    "bs_indices.shape"
   ]
  },
  {
   "cell_type": "code",
   "execution_count": 16,
   "metadata": {},
   "outputs": [
    {
     "data": {
      "text/plain": [
       "array([[230, 189, 185, ..., 115, 348,  83],\n",
       "       [318, 259, 356, ...,  20, 152,  78],\n",
       "       [130, 112,  99, ...,  44,  61,  62],\n",
       "       ...,\n",
       "       [128,  77, 319, ..., 332, 107, 253],\n",
       "       [181, 142, 343, ..., 101, 129, 302],\n",
       "       [217, 301, 220, ...,  16,  38,  27]])"
      ]
     },
     "execution_count": 16,
     "metadata": {},
     "output_type": "execute_result"
    }
   ],
   "source": [
    "bs_indices"
   ]
  },
  {
   "cell_type": "code",
   "execution_count": 17,
   "metadata": {},
   "outputs": [
    {
     "data": {
      "text/plain": [
       "(400, 12)"
      ]
     },
     "execution_count": 17,
     "metadata": {},
     "output_type": "execute_result"
    }
   ],
   "source": [
    "X_train.shape"
   ]
  },
  {
   "cell_type": "code",
   "execution_count": 18,
   "metadata": {},
   "outputs": [
    {
     "data": {
      "text/plain": [
       "10"
      ]
     },
     "execution_count": 18,
     "metadata": {},
     "output_type": "execute_result"
    }
   ],
   "source": [
    "len(bs_train_data)"
   ]
  },
  {
   "cell_type": "code",
   "execution_count": 19,
   "metadata": {},
   "outputs": [
    {
     "data": {
      "text/html": [
       "<div>\n",
       "<style scoped>\n",
       "    .dataframe tbody tr th:only-of-type {\n",
       "        vertical-align: middle;\n",
       "    }\n",
       "\n",
       "    .dataframe tbody tr th {\n",
       "        vertical-align: top;\n",
       "    }\n",
       "\n",
       "    .dataframe thead th {\n",
       "        text-align: right;\n",
       "    }\n",
       "</style>\n",
       "<table border=\"1\" class=\"dataframe\">\n",
       "  <thead>\n",
       "    <tr style=\"text-align: right;\">\n",
       "      <th></th>\n",
       "      <th>season</th>\n",
       "      <th>year</th>\n",
       "      <th>month</th>\n",
       "      <th>hour</th>\n",
       "      <th>holiday</th>\n",
       "      <th>weekday</th>\n",
       "      <th>workingday</th>\n",
       "      <th>weather</th>\n",
       "      <th>temp</th>\n",
       "      <th>feel_temp</th>\n",
       "      <th>humidity</th>\n",
       "      <th>windspeed</th>\n",
       "    </tr>\n",
       "  </thead>\n",
       "  <tbody>\n",
       "    <tr>\n",
       "      <th>17308</th>\n",
       "      <td>spring</td>\n",
       "      <td>1</td>\n",
       "      <td>12</td>\n",
       "      <td>1</td>\n",
       "      <td>False</td>\n",
       "      <td>6</td>\n",
       "      <td>False</td>\n",
       "      <td>misty</td>\n",
       "      <td>9.84</td>\n",
       "      <td>12.120</td>\n",
       "      <td>0.75</td>\n",
       "      <td>6.0032</td>\n",
       "    </tr>\n",
       "    <tr>\n",
       "      <th>9120</th>\n",
       "      <td>spring</td>\n",
       "      <td>1</td>\n",
       "      <td>1</td>\n",
       "      <td>22</td>\n",
       "      <td>False</td>\n",
       "      <td>5</td>\n",
       "      <td>True</td>\n",
       "      <td>misty</td>\n",
       "      <td>8.20</td>\n",
       "      <td>9.850</td>\n",
       "      <td>0.37</td>\n",
       "      <td>15.0013</td>\n",
       "    </tr>\n",
       "    <tr>\n",
       "      <th>12413</th>\n",
       "      <td>summer</td>\n",
       "      <td>1</td>\n",
       "      <td>6</td>\n",
       "      <td>10</td>\n",
       "      <td>False</td>\n",
       "      <td>3</td>\n",
       "      <td>True</td>\n",
       "      <td>clear</td>\n",
       "      <td>24.60</td>\n",
       "      <td>31.060</td>\n",
       "      <td>0.46</td>\n",
       "      <td>6.0032</td>\n",
       "    </tr>\n",
       "    <tr>\n",
       "      <th>1129</th>\n",
       "      <td>spring</td>\n",
       "      <td>0</td>\n",
       "      <td>2</td>\n",
       "      <td>19</td>\n",
       "      <td>False</td>\n",
       "      <td>6</td>\n",
       "      <td>False</td>\n",
       "      <td>clear</td>\n",
       "      <td>13.94</td>\n",
       "      <td>15.150</td>\n",
       "      <td>0.29</td>\n",
       "      <td>23.9994</td>\n",
       "    </tr>\n",
       "    <tr>\n",
       "      <th>8711</th>\n",
       "      <td>spring</td>\n",
       "      <td>1</td>\n",
       "      <td>1</td>\n",
       "      <td>19</td>\n",
       "      <td>False</td>\n",
       "      <td>2</td>\n",
       "      <td>True</td>\n",
       "      <td>clear</td>\n",
       "      <td>4.92</td>\n",
       "      <td>4.545</td>\n",
       "      <td>0.28</td>\n",
       "      <td>27.9993</td>\n",
       "    </tr>\n",
       "    <tr>\n",
       "      <th>...</th>\n",
       "      <td>...</td>\n",
       "      <td>...</td>\n",
       "      <td>...</td>\n",
       "      <td>...</td>\n",
       "      <td>...</td>\n",
       "      <td>...</td>\n",
       "      <td>...</td>\n",
       "      <td>...</td>\n",
       "      <td>...</td>\n",
       "      <td>...</td>\n",
       "      <td>...</td>\n",
       "      <td>...</td>\n",
       "    </tr>\n",
       "    <tr>\n",
       "      <th>9427</th>\n",
       "      <td>spring</td>\n",
       "      <td>1</td>\n",
       "      <td>2</td>\n",
       "      <td>17</td>\n",
       "      <td>False</td>\n",
       "      <td>4</td>\n",
       "      <td>True</td>\n",
       "      <td>clear</td>\n",
       "      <td>17.22</td>\n",
       "      <td>21.210</td>\n",
       "      <td>0.54</td>\n",
       "      <td>32.9975</td>\n",
       "    </tr>\n",
       "    <tr>\n",
       "      <th>4411</th>\n",
       "      <td>fall</td>\n",
       "      <td>0</td>\n",
       "      <td>7</td>\n",
       "      <td>17</td>\n",
       "      <td>False</td>\n",
       "      <td>4</td>\n",
       "      <td>True</td>\n",
       "      <td>clear</td>\n",
       "      <td>35.26</td>\n",
       "      <td>37.880</td>\n",
       "      <td>0.36</td>\n",
       "      <td>16.9979</td>\n",
       "    </tr>\n",
       "    <tr>\n",
       "      <th>1715</th>\n",
       "      <td>spring</td>\n",
       "      <td>0</td>\n",
       "      <td>3</td>\n",
       "      <td>3</td>\n",
       "      <td>False</td>\n",
       "      <td>4</td>\n",
       "      <td>True</td>\n",
       "      <td>clear</td>\n",
       "      <td>13.94</td>\n",
       "      <td>16.665</td>\n",
       "      <td>0.66</td>\n",
       "      <td>11.0014</td>\n",
       "    </tr>\n",
       "    <tr>\n",
       "      <th>2302</th>\n",
       "      <td>summer</td>\n",
       "      <td>0</td>\n",
       "      <td>4</td>\n",
       "      <td>19</td>\n",
       "      <td>False</td>\n",
       "      <td>0</td>\n",
       "      <td>False</td>\n",
       "      <td>clear</td>\n",
       "      <td>20.50</td>\n",
       "      <td>24.240</td>\n",
       "      <td>0.77</td>\n",
       "      <td>12.9980</td>\n",
       "    </tr>\n",
       "    <tr>\n",
       "      <th>6294</th>\n",
       "      <td>winter</td>\n",
       "      <td>0</td>\n",
       "      <td>9</td>\n",
       "      <td>20</td>\n",
       "      <td>False</td>\n",
       "      <td>6</td>\n",
       "      <td>False</td>\n",
       "      <td>clear</td>\n",
       "      <td>25.42</td>\n",
       "      <td>28.790</td>\n",
       "      <td>0.83</td>\n",
       "      <td>0.0000</td>\n",
       "    </tr>\n",
       "  </tbody>\n",
       "</table>\n",
       "<p>400 rows × 12 columns</p>\n",
       "</div>"
      ],
      "text/plain": [
       "       season  year  month  hour holiday  weekday workingday weather   temp  \\\n",
       "17308  spring     1     12     1   False        6      False   misty   9.84   \n",
       "9120   spring     1      1    22   False        5       True   misty   8.20   \n",
       "12413  summer     1      6    10   False        3       True   clear  24.60   \n",
       "1129   spring     0      2    19   False        6      False   clear  13.94   \n",
       "8711   spring     1      1    19   False        2       True   clear   4.92   \n",
       "...       ...   ...    ...   ...     ...      ...        ...     ...    ...   \n",
       "9427   spring     1      2    17   False        4       True   clear  17.22   \n",
       "4411     fall     0      7    17   False        4       True   clear  35.26   \n",
       "1715   spring     0      3     3   False        4       True   clear  13.94   \n",
       "2302   summer     0      4    19   False        0      False   clear  20.50   \n",
       "6294   winter     0      9    20   False        6      False   clear  25.42   \n",
       "\n",
       "       feel_temp  humidity  windspeed  \n",
       "17308     12.120      0.75     6.0032  \n",
       "9120       9.850      0.37    15.0013  \n",
       "12413     31.060      0.46     6.0032  \n",
       "1129      15.150      0.29    23.9994  \n",
       "8711       4.545      0.28    27.9993  \n",
       "...          ...       ...        ...  \n",
       "9427      21.210      0.54    32.9975  \n",
       "4411      37.880      0.36    16.9979  \n",
       "1715      16.665      0.66    11.0014  \n",
       "2302      24.240      0.77    12.9980  \n",
       "6294      28.790      0.83     0.0000  \n",
       "\n",
       "[400 rows x 12 columns]"
      ]
     },
     "execution_count": 19,
     "metadata": {},
     "output_type": "execute_result"
    }
   ],
   "source": [
    "bs_train_data[0][0]"
   ]
  },
  {
   "cell_type": "code",
   "execution_count": 20,
   "metadata": {},
   "outputs": [
    {
     "data": {
      "text/plain": [
       "17308    0.038662\n",
       "9120     0.075235\n",
       "12413    0.212121\n",
       "1129     0.061651\n",
       "8711     0.163009\n",
       "           ...   \n",
       "9427     0.470219\n",
       "4411     0.594566\n",
       "1715     0.002090\n",
       "2302     0.136886\n",
       "6294     0.253918\n",
       "Name: count, Length: 400, dtype: float64"
      ]
     },
     "execution_count": 20,
     "metadata": {},
     "output_type": "execute_result"
    }
   ],
   "source": [
    "bs_train_data[0][1]"
   ]
  },
  {
   "cell_type": "code",
   "execution_count": 21,
   "metadata": {},
   "outputs": [
    {
     "name": "stdout",
     "output_type": "stream",
     "text": [
      "Index([12413,  1129,  8711,  8806,  6026,  6019,  4497,  8711, 12918, 12640,\n",
      "       ...\n",
      "        4940,  5324,   893, 14625,  1875,  7918,  6038,  5482,  4411,  6294],\n",
      "      dtype='int64', length=240)\n"
     ]
    }
   ],
   "source": [
    "# Get a boolean series where True indicates the index is duplicated\n",
    "duplicate_indices = bs_train_data[0][0].index.duplicated(keep=False)\n",
    "\n",
    "# Print the duplicated indices\n",
    "print(bs_train_data[0][0].index[duplicate_indices])"
   ]
  },
  {
   "cell_type": "code",
   "execution_count": 22,
   "metadata": {},
   "outputs": [
    {
     "data": {
      "text/html": [
       "<div>\n",
       "<style scoped>\n",
       "    .dataframe tbody tr th:only-of-type {\n",
       "        vertical-align: middle;\n",
       "    }\n",
       "\n",
       "    .dataframe tbody tr th {\n",
       "        vertical-align: top;\n",
       "    }\n",
       "\n",
       "    .dataframe thead th {\n",
       "        text-align: right;\n",
       "    }\n",
       "</style>\n",
       "<table border=\"1\" class=\"dataframe\">\n",
       "  <thead>\n",
       "    <tr style=\"text-align: right;\">\n",
       "      <th></th>\n",
       "      <th>season</th>\n",
       "      <th>year</th>\n",
       "      <th>month</th>\n",
       "      <th>hour</th>\n",
       "      <th>holiday</th>\n",
       "      <th>weekday</th>\n",
       "      <th>workingday</th>\n",
       "      <th>weather</th>\n",
       "      <th>temp</th>\n",
       "      <th>feel_temp</th>\n",
       "      <th>humidity</th>\n",
       "      <th>windspeed</th>\n",
       "    </tr>\n",
       "  </thead>\n",
       "  <tbody>\n",
       "    <tr>\n",
       "      <th>12413</th>\n",
       "      <td>summer</td>\n",
       "      <td>1</td>\n",
       "      <td>6</td>\n",
       "      <td>10</td>\n",
       "      <td>False</td>\n",
       "      <td>3</td>\n",
       "      <td>True</td>\n",
       "      <td>clear</td>\n",
       "      <td>24.6</td>\n",
       "      <td>31.06</td>\n",
       "      <td>0.46</td>\n",
       "      <td>6.0032</td>\n",
       "    </tr>\n",
       "    <tr>\n",
       "      <th>12413</th>\n",
       "      <td>summer</td>\n",
       "      <td>1</td>\n",
       "      <td>6</td>\n",
       "      <td>10</td>\n",
       "      <td>False</td>\n",
       "      <td>3</td>\n",
       "      <td>True</td>\n",
       "      <td>clear</td>\n",
       "      <td>24.6</td>\n",
       "      <td>31.06</td>\n",
       "      <td>0.46</td>\n",
       "      <td>6.0032</td>\n",
       "    </tr>\n",
       "  </tbody>\n",
       "</table>\n",
       "</div>"
      ],
      "text/plain": [
       "       season  year  month  hour holiday  weekday workingday weather  temp  \\\n",
       "12413  summer     1      6    10   False        3       True   clear  24.6   \n",
       "12413  summer     1      6    10   False        3       True   clear  24.6   \n",
       "\n",
       "       feel_temp  humidity  windspeed  \n",
       "12413      31.06      0.46     6.0032  \n",
       "12413      31.06      0.46     6.0032  "
      ]
     },
     "execution_count": 22,
     "metadata": {},
     "output_type": "execute_result"
    }
   ],
   "source": [
    "bs_train_data[0][0].loc[bs_train_data[0][0].index[duplicate_indices][0]]"
   ]
  },
  {
   "cell_type": "code",
   "execution_count": 23,
   "metadata": {},
   "outputs": [],
   "source": [
    "categorical_columns = [\"weather\", \"season\", \"holiday\", \"workingday\"]\n",
    "categories = [\n",
    "    [\"clear\", \"misty\", \"rain\", \"heavy_rain\"],\n",
    "    [\"spring\", \"summer\", \"fall\", \"winter\"],\n",
    "    [\"False\", \"True\"],\n",
    "    [\"False\", \"True\"],\n",
    "]\n",
    "ordinal_encoder = OrdinalEncoder(categories=categories)\n",
    "\n",
    "gbrt_pipeline = make_pipeline(\n",
    "    ColumnTransformer(\n",
    "        transformers=[\n",
    "            (\"categorical\", ordinal_encoder, categorical_columns),\n",
    "        ],\n",
    "        remainder=\"passthrough\",\n",
    "        verbose_feature_names_out=False,\n",
    "    ),\n",
    "    HistGradientBoostingRegressor(\n",
    "        categorical_features=categorical_columns,\n",
    "    ),\n",
    ").set_output(transform=\"pandas\")"
   ]
  },
  {
   "cell_type": "code",
   "execution_count": 24,
   "metadata": {},
   "outputs": [
    {
     "name": "stderr",
     "output_type": "stream",
     "text": [
      "c:\\lumen_2024\\Prediction-of-Hotel-Occupancy\\prediction-of-hotel-occupancy\\env\\Lib\\site-packages\\joblib\\externals\\loky\\backend\\context.py:136: UserWarning: Could not find the number of physical cores for the following reason:\n",
      "found 0 physical cores < 1\n",
      "Returning the number of logical cores instead. You can silence this warning by setting LOKY_MAX_CPU_COUNT to the number of cores you want to use.\n",
      "  warnings.warn(\n",
      "  File \"c:\\lumen_2024\\Prediction-of-Hotel-Occupancy\\prediction-of-hotel-occupancy\\env\\Lib\\site-packages\\joblib\\externals\\loky\\backend\\context.py\", line 282, in _count_physical_cores\n",
      "    raise ValueError(f\"found {cpu_count_physical} physical cores < 1\")\n"
     ]
    }
   ],
   "source": [
    "bs_train_preds = np.zeros((n_bs_samples, X_train.shape[0]))\n",
    "bs_test_preds = np.zeros((n_bs_samples, X_test.shape[0]))\n",
    "for i, batch in enumerate(bs_train_data):\n",
    "    gbrt_pipeline.fit(*batch)\n",
    "    bs_train_preds[i] = gbrt_pipeline.predict(X_train)\n",
    "    bs_test_preds[i] = gbrt_pipeline.predict(X_test)"
   ]
  },
  {
   "cell_type": "code",
   "execution_count": 25,
   "metadata": {},
   "outputs": [
    {
     "name": "stderr",
     "output_type": "stream",
     "text": [
      "No GPU/TPU found, falling back to CPU. (Set TF_CPP_MIN_LOG_LEVEL=0 and rerun for more info.)\n"
     ]
    }
   ],
   "source": [
    "conformal_intervals = EnbPI().conformal_interval(\n",
    "    bootstrap_indices=bs_indices,\n",
    "    bootstrap_train_preds=bs_train_preds,\n",
    "    bootstrap_test_preds=bs_test_preds,\n",
    "    train_targets=y_train.values,\n",
    "    error=0.05,\n",
    ")"
   ]
  },
  {
   "cell_type": "code",
   "execution_count": 26,
   "metadata": {},
   "outputs": [],
   "source": [
    "# In order to evaluate conditional coverage, we measure the Prediction Interval Coverage Probability (PICP), i.e. the percentage of\n",
    "# test target variables that actually falls within the conformal intervals. We further measure the percentage of intervals that contain the point\n",
    "# predictions given by the model. Finally, we measure the size of the conformal intervals, which EnbPI takes to be the same for every intervals\n",
    "# if no online feedback is provided, like in this case.\n",
    "     "
   ]
  },
  {
   "cell_type": "code",
   "execution_count": 27,
   "metadata": {},
   "outputs": [
    {
     "name": "stdout",
     "output_type": "stream",
     "text": [
      "Percentage of intervals containing average bootstrap predictions: 1.0.\n",
      "Percentage of intervals containing true targets: 0.9599999785423279.\n",
      "Size of the conformal intervals: 0.455223023891449\n"
     ]
    }
   ],
   "source": [
    "\n",
    "print(\n",
    "    \"Percentage of intervals containing average bootstrap predictions: \"\n",
    "    f\"{prediction_interval_coverage_probability(*conformal_intervals.T, bs_test_preds.mean(0))}.\"\n",
    ")\n",
    "print(\n",
    "    \"Percentage of intervals containing true targets: \"\n",
    "    f\"{prediction_interval_coverage_probability(*conformal_intervals.T, y_test.values)}.\"\n",
    ")\n",
    "print(f\"Size of the conformal intervals: {np.diff(conformal_intervals)[0][0]}\")"
   ]
  },
  {
   "cell_type": "markdown",
   "metadata": {},
   "source": [
    "In the example above, EnbPI assumes that all the predictions in the test dataset are done at once, without any online feedback from incoming observations of the test targets. As a consequence, the size of the conformal intervals is the same for all test data points."
   ]
  },
  {
   "cell_type": "code",
   "execution_count": 28,
   "metadata": {},
   "outputs": [
    {
     "data": {
      "text/plain": [
       "<matplotlib.legend.Legend at 0x22dac1a8610>"
      ]
     },
     "execution_count": 28,
     "metadata": {},
     "output_type": "execute_result"
    },
    {
     "data": {
      "image/png": "[encoded data removed]",
      "text/plain": [
       "<Figure size 1200x200 with 1 Axes>"
      ]
     },
     "metadata": {},
     "output_type": "display_data"
    }
   ],
   "source": [
    "def weakly_avg(x):\n",
    "    s = x.shape[0] // 7\n",
    "    x = x[: s * 7]\n",
    "    return x.reshape(7, s, *x.shape[1:]).mean(0)\n",
    "\n",
    "\n",
    "weekly_avg_test = weakly_avg(y_test.values)\n",
    "n_weeks = weekly_avg_test.shape[0]\n",
    "\n",
    "plt.figure(figsize=(12, 2))\n",
    "plt.plot(weakly_avg(y_test.values), label=\"weekly averaged true test target\")\n",
    "plt.fill_between(\n",
    "    np.arange(n_weeks),\n",
    "    *weakly_avg(conformal_intervals).T,\n",
    "    alpha=0.5,\n",
    "    color=\"C0\",\n",
    "    label=\"weekly averaged conformal interval\",\n",
    ")\n",
    "plt.xlabel(\"test weeks\", fontsize=14)\n",
    "plt.legend(fontsize=11, loc=\"upper right\")\n",
    "     \n"
   ]
  },
  {
   "cell_type": "markdown",
   "metadata": {},
   "source": [
    "EnbPI with online feedback"
   ]
  },
  {
   "cell_type": "code",
   "execution_count": 29,
   "metadata": {},
   "outputs": [],
   "source": [
    "batch_size = 1\n",
    "conformal_intervals2 = np.zeros((len(y_test), 2))\n",
    "for i in range(0, len(y_test), batch_size):\n",
    "    if i == 0:\n",
    "        conformal_intervals2[:batch_size], train_residuals = EnbPI().conformal_interval(\n",
    "            bootstrap_indices=bs_indices,\n",
    "            bootstrap_train_preds=bs_train_preds,\n",
    "            bootstrap_test_preds=bs_test_preds[:, :batch_size],\n",
    "            train_targets=y_train.values,\n",
    "            error=0.05,\n",
    "            return_residuals=True,\n",
    "        )\n",
    "    else:\n",
    "        (\n",
    "            conformal_intervals2[i : i + batch_size],\n",
    "            train_residuals,\n",
    "        ) = EnbPI().conformal_interval_from_residuals(\n",
    "            train_residuals=train_residuals,\n",
    "            bootstrap_new_train_preds=bs_test_preds[:, i - batch_size : i],\n",
    "            bootstrap_new_test_preds=bs_test_preds[:, i : i + batch_size],\n",
    "            new_train_targets=y_test.values[i - batch_size : i],\n",
    "            error=0.05,\n",
    "        )"
   ]
  },
  {
   "cell_type": "markdown",
   "metadata": {},
   "source": [
    "Similarly as done above, we compute the percentage of predictions and true test targets falling within the conformal intervals. Again, it is good to see that all conformal intervals include the point predictions. Also, the percentage of intervals containing the true targets increased to around 83%, getting closer to the desired coverage of 95%."
   ]
  },
  {
   "cell_type": "code",
   "execution_count": 30,
   "metadata": {},
   "outputs": [
    {
     "name": "stdout",
     "output_type": "stream",
     "text": [
      "Percentage of intervals containing average bootstrap predictions: 1.0.\n",
      "Percentage of intervals containing true targets: 0.9599999785423279.\n"
     ]
    }
   ],
   "source": [
    "print(\n",
    "    \"Percentage of intervals containing average bootstrap predictions: \"\n",
    "    f\"{prediction_interval_coverage_probability(*conformal_intervals2.T, bs_test_preds.mean(0))}.\"\n",
    ")\n",
    "print(\n",
    "    \"Percentage of intervals containing true targets: \"\n",
    "    f\"{prediction_interval_coverage_probability(*conformal_intervals2.T, y_test.values)}.\"\n",
    ")"
   ]
  },
  {
   "cell_type": "code",
   "execution_count": 31,
   "metadata": {},
   "outputs": [
    {
     "data": {
      "text/plain": [
       "<matplotlib.legend.Legend at 0x22dac72e990>"
      ]
     },
     "execution_count": 31,
     "metadata": {},
     "output_type": "execute_result"
    },
    {
     "data": {
      "image/png": "[encoded data removed]",
      "text/plain": [
       "<Figure size 1200x200 with 1 Axes>"
      ]
     },
     "metadata": {},
     "output_type": "display_data"
    }
   ],
   "source": [
    "plt.figure(figsize=(12, 2))\n",
    "plt.plot(weakly_avg(y_test.values), label=\"weekly averaged true test target\")\n",
    "plt.fill_between(\n",
    "    np.arange(n_weeks),\n",
    "    *weakly_avg(conformal_intervals2).T,\n",
    "    alpha=0.5,\n",
    "    color=\"C0\",\n",
    "    label=\"weekly averaged conformal interval\",\n",
    ")\n",
    "plt.xlabel(\"test weeks\", fontsize=14)\n",
    "plt.legend(fontsize=11, loc=\"upper right\")"
   ]
  },
  {
   "cell_type": "code",
   "execution_count": 32,
   "metadata": {},
   "outputs": [
    {
     "data": {
      "text/plain": [
       "<matplotlib.legend.Legend at 0x22db2d4a650>"
      ]
     },
     "execution_count": 32,
     "metadata": {},
     "output_type": "execute_result"
    },
    {
     "data": {
      "image/png": "[encoded data removed]",
      "text/plain": [
       "<Figure size 1200x200 with 1 Axes>"
      ]
     },
     "metadata": {},
     "output_type": "display_data"
    }
   ],
   "source": [
    "# The following plot compares the size of the intervals without and with online feedback.\n",
    "plt.figure(figsize=(12, 2))\n",
    "plt.title(\"Conformal interval size comparison\")\n",
    "plt.plot(np.diff(conformal_intervals), label=\"without online feedback\")\n",
    "plt.plot(np.diff(conformal_intervals2), label=\"with online feedback\")\n",
    "plt.xlabel(\"test set\", fontsize=14)\n",
    "plt.ylabel(\"size\", fontsize=14)\n",
    "plt.legend(fontsize=12)"
   ]
  },
  {
   "cell_type": "code",
   "execution_count": null,
   "metadata": {},
   "outputs": [],
   "source": []
  },
  {
   "cell_type": "code",
   "execution_count": null,
   "metadata": {},
   "outputs": [],
   "source": []
  },
  {
   "cell_type": "code",
   "execution_count": null,
   "metadata": {},
   "outputs": [],
   "source": []
  },
  {
   "cell_type": "code",
   "execution_count": null,
   "metadata": {},
   "outputs": [],
   "source": []
  },
  {
   "cell_type": "code",
   "execution_count": null,
   "metadata": {},
   "outputs": [],
   "source": []
  },
  {
   "cell_type": "code",
   "execution_count": null,
   "metadata": {},
   "outputs": [],
   "source": []
  },
  {
   "cell_type": "code",
   "execution_count": null,
   "metadata": {},
   "outputs": [],
   "source": []
  },
  {
   "cell_type": "code",
   "execution_count": null,
   "metadata": {},
   "outputs": [],
   "source": []
  },
  {
   "cell_type": "code",
   "execution_count": null,
   "metadata": {},
   "outputs": [],
   "source": []
  },
  {
   "cell_type": "code",
   "execution_count": null,
   "metadata": {},
   "outputs": [],
   "source": []
  },
  {
   "cell_type": "code",
   "execution_count": null,
   "metadata": {},
   "outputs": [],
   "source": []
  },
  {
   "cell_type": "code",
   "execution_count": null,
   "metadata": {},
   "outputs": [],
   "source": []
  },
  {
   "cell_type": "code",
   "execution_count": null,
   "metadata": {},
   "outputs": [],
   "source": []
  },
  {
   "cell_type": "code",
   "execution_count": null,
   "metadata": {},
   "outputs": [],
   "source": []
  },
  {
   "cell_type": "code",
   "execution_count": null,
   "metadata": {},
   "outputs": [],
   "source": []
  },
  {
   "cell_type": "code",
   "execution_count": null,
   "metadata": {},
   "outputs": [],
   "source": []
  },
  {
   "cell_type": "code",
   "execution_count": null,
   "metadata": {},
   "outputs": [],
   "source": []
  },
  {
   "cell_type": "code",
   "execution_count": null,
   "metadata": {},
   "outputs": [],
   "source": []
  },
  {
   "cell_type": "code",
   "execution_count": null,
   "metadata": {},
   "outputs": [],
   "source": []
  },
  {
   "cell_type": "code",
   "execution_count": null,
   "metadata": {},
   "outputs": [],
   "source": []
  },
  {
   "cell_type": "code",
   "execution_count": null,
   "metadata": {},
   "outputs": [],
   "source": []
  },
  {
   "cell_type": "code",
   "execution_count": null,
   "metadata": {},
   "outputs": [],
   "source": []
  },
  {
   "cell_type": "code",
   "execution_count": null,
   "metadata": {},
   "outputs": [],
   "source": []
  },
  {
   "cell_type": "code",
   "execution_count": null,
   "metadata": {},
   "outputs": [],
   "source": []
  },
  {
   "cell_type": "code",
   "execution_count": null,
   "metadata": {},
   "outputs": [],
   "source": []
  },
  {
   "cell_type": "code",
   "execution_count": null,
   "metadata": {},
   "outputs": [],
   "source": []
  },
  {
   "cell_type": "code",
   "execution_count": null,
   "metadata": {},
   "outputs": [],
   "source": []
  },
  {
   "cell_type": "code",
   "execution_count": null,
   "metadata": {},
   "outputs": [],
   "source": []
  },
  {
   "cell_type": "code",
   "execution_count": null,
   "metadata": {},
   "outputs": [],
   "source": []
  },
  {
   "cell_type": "code",
   "execution_count": null,
   "metadata": {},
   "outputs": [],
   "source": []
  },
  {
   "cell_type": "code",
   "execution_count": null,
   "metadata": {},
   "outputs": [],
   "source": []
  },
  {
   "cell_type": "code",
   "execution_count": null,
   "metadata": {},
   "outputs": [],
   "source": []
  },
  {
   "cell_type": "code",
   "execution_count": null,
   "metadata": {},
   "outputs": [],
   "source": []
  },
  {
   "cell_type": "code",
   "execution_count": null,
   "metadata": {},
   "outputs": [],
   "source": []
  },
  {
   "cell_type": "code",
   "execution_count": null,
   "metadata": {},
   "outputs": [],
   "source": []
  },
  {
   "cell_type": "code",
   "execution_count": null,
   "metadata": {},
   "outputs": [],
   "source": []
  },
  {
   "cell_type": "code",
   "execution_count": null,
   "metadata": {},
   "outputs": [],
   "source": []
  },
  {
   "cell_type": "code",
   "execution_count": null,
   "metadata": {},
   "outputs": [],
   "source": []
  },
  {
   "cell_type": "code",
   "execution_count": null,
   "metadata": {},
   "outputs": [],
   "source": []
  },
  {
   "cell_type": "code",
   "execution_count": null,
   "metadata": {},
   "outputs": [],
   "source": []
  }
 ],
 "metadata": {
  "kernelspec": {
   "display_name": "env",
   "language": "python",
   "name": "python3"
  },
  "language_info": {
   "codemirror_mode": {
    "name": "ipython",
    "version": 3
   },
   "file_extension": ".py",
   "mimetype": "text/x-python",
   "name": "python",
   "nbconvert_exporter": "python",
   "pygments_lexer": "ipython3",
   "version": "3.11.5"
  }
 },
 "nbformat": 4,
 "nbformat_minor": 2
}
