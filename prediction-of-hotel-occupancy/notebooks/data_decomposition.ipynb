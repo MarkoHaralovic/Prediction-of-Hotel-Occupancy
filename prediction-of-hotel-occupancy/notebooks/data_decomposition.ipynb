{
 "cells": [
  {
   "cell_type": "markdown",
   "metadata": {},
   "source": [
    "\n",
    "# Modeliranje i dekompozicija podataka\n",
    "\n",
    "Iako algoritmi za automatsko modeliranje kao što je `auto_arima` mogu proizvesti modele koji predviđaju sa zadovoljavajućom preciznosti, važno je razumjeti parametre odabranog modela i usporediti ih sa stvarnim svojstvima odabranog skupa podataka.\n"
   ]
  },
  {
   "cell_type": "code",
   "execution_count": null,
   "metadata": {},
   "outputs": [],
   "source": [
    "import warnings\n",
    "\n",
    "import matplotlib.pyplot as plt\n",
    "import pandas as pd\n",
    "\n",
    "from statsmodels.tsa.seasonal import STL\n",
    "\n",
    "warnings.filterwarnings(\"ignore\")"
   ]
  },
  {
   "cell_type": "markdown",
   "metadata": {},
   "source": [
    "## Učitavanje i proširivanje podataka s ciljnom varijablom\n",
    "\n",
    "Podatke razdvajamo u više skupova ovisno o kojem se hotelu radi (`hotel_id`) jer je očekivano da će se podaci za svaki od hotela ponašati različito i da će se predviđanje popunjenosti raditi za svaki hotel pojedinačno.\n",
    "\n",
    "Ciljna varijabla je ukupan broj gostiju u nekom hotelu u nekom vremenskom periodu, gdje smo odredili da vremenski period može biti:\n",
    "- dan\n",
    "- tjedan\n",
    "- mjesec\n",
    "- godina\n",
    "\n",
    "Čišćenje i proširivanje podataka radimo na način koji je opisan u bilježnici `ARIMA_occupancy_prediction.ipynb`."
   ]
  },
  {
   "cell_type": "code",
   "execution_count": null,
   "metadata": {},
   "outputs": [],
   "source": [
    "data = pd.read_parquet('../data/raw/export_df.parquet')\n",
    "data.head()"
   ]
  },
  {
   "cell_type": "code",
   "execution_count": null,
   "metadata": {},
   "outputs": [],
   "source": [
    "# Osnovno čišćenje podataka\n",
    "data = data[~(data['zemlja_gosta']=='0')]\n",
    "data['broj_djece_gostiju'] = data['broj_djece_gostiju'].astype(int)\n",
    "\n",
    "# Ukupan broj gostiju po zapisu\n",
    "data['ukupno_gostiju'] = data['broj_odraslih_gostiju'] + data['broj_djece_gostiju']\n",
    "\n",
    "# Duljina boravka\n",
    "data['duljina_boravka'] = data['datum_odjave'] - data['datum_dolaska']\n",
    "data['duljina_boravka'] = data['duljina_boravka'].dt.days\n",
    "\n",
    "# Rezervacije bez gostiju\n",
    "data = data[data['ukupno_gostiju'] != 0]\n",
    "\n",
    "# Otkazane rezervacije\n",
    "data = data[~data['datum_otkazivanja_rezervacije'].notna()]\n",
    "data = data.reset_index(drop=True)\n",
    "\n",
    "# Razdvoji podatke iz različitih hotela\n",
    "dataResort = data[data['hotel_id'] == 0]\n",
    "dataCity = data[data['hotel_id'] == 1]\n",
    "\n",
    "assert len(dataResort) + len(dataCity) == len(data)\n",
    "\n",
    "print(f\"Resort ima {len(dataResort)} zapisa\")\n",
    "print(f\"City ima {len(dataCity)} zapisa\")"
   ]
  },
  {
   "cell_type": "code",
   "execution_count": null,
   "metadata": {},
   "outputs": [],
   "source": [
    "# Ciljne varijable - hotel 0\n",
    "NumberOfGuestsResort = dataResort[['datum_dolaska', 'ukupno_gostiju']]\n",
    "\n",
    "NumberOfGuestsDailyResort = dataResort['ukupno_gostiju'].groupby(dataResort['datum_dolaska']).sum()\n",
    "NumberOfGuestsDailyResort = NumberOfGuestsDailyResort.resample('d').sum().to_frame()\n",
    "\n",
    "NumberOfGuestsWeeklyResort = dataResort['ukupno_gostiju'].groupby(dataResort['datum_dolaska']).sum()\n",
    "NumberOfGuestsWeeklyResort = NumberOfGuestsWeeklyResort.resample('w').sum().to_frame()\n",
    "\n",
    "NumberOfGuestsMonthlyResort = dataResort['ukupno_gostiju'].groupby(dataResort['datum_dolaska']).sum()\n",
    "NumberOfGuestsMonthlyResort = NumberOfGuestsMonthlyResort.resample('m').sum().to_frame()\n",
    "\n",
    "NumberOfGuestsYearlyResort = dataResort['ukupno_gostiju'].groupby(dataResort['datum_dolaska']).sum()\n",
    "NumberOfGuestsYearlyResort = NumberOfGuestsYearlyResort.resample('y').sum().to_frame()\n",
    "\n",
    "NumberOfGuestsMonthlyResort.head()"
   ]
  },
  {
   "cell_type": "code",
   "execution_count": null,
   "metadata": {},
   "outputs": [],
   "source": [
    "# Ciljne varijable - hotel 1\n",
    "NumberOfGuestsCity = dataCity[['datum_dolaska', 'ukupno_gostiju']]\n",
    "\n",
    "NumberOfGuestsDailyCity = dataCity['ukupno_gostiju'].groupby(dataCity['datum_dolaska']).sum()\n",
    "NumberOfGuestsDailyCity = NumberOfGuestsDailyCity.resample('d').sum().to_frame()\n",
    "\n",
    "NumberOfGuestsWeeklyCity = dataCity['ukupno_gostiju'].groupby(dataCity['datum_dolaska']).sum()\n",
    "NumberOfGuestsWeeklyCity = NumberOfGuestsWeeklyCity.resample('w').sum().to_frame()\n",
    "\n",
    "NumberOfGuestsMonthlyCity = dataCity['ukupno_gostiju'].groupby(dataCity['datum_dolaska']).sum()\n",
    "NumberOfGuestsMonthlyCity = NumberOfGuestsMonthlyCity.resample('m').sum().to_frame()\n",
    "\n",
    "NumberOfGuestsYearlyCity = dataCity['ukupno_gostiju'].groupby(dataCity['datum_dolaska']).sum()\n",
    "NumberOfGuestsYearlyCity = NumberOfGuestsYearlyCity.resample('y').sum().to_frame()\n",
    "\n",
    "NumberOfGuestsMonthlyCity.head()"
   ]
  },
  {
   "cell_type": "markdown",
   "metadata": {},
   "source": [
    "## STL dekompozicija"
   ]
  },
  {
   "cell_type": "markdown",
   "metadata": {},
   "source": [
    "### Hotel 0"
   ]
  },
  {
   "cell_type": "code",
   "execution_count": null,
   "metadata": {},
   "outputs": [],
   "source": [
    "plt.figure(figsize=(20,5))\n",
    "plt.plot(NumberOfGuestsDailyResort[:30])\n",
    "plt.show()"
   ]
  },
  {
   "cell_type": "markdown",
   "metadata": {},
   "source": [
    "dodat komentar vezan uz t.window, s.window, robust i periodicnost (7 - daily data with a weekly pattern)\n",
    "red velicine na y osi"
   ]
  },
  {
   "cell_type": "code",
   "execution_count": null,
   "metadata": {},
   "outputs": [],
   "source": [
    "stl = STL(NumberOfGuestsDailyResort, period=7, robust=True)\n",
    "res = stl.fit()\n",
    "fig = res.plot()\n",
    "fig.set_figwidth(20)\n",
    "fig.set_figheight(10)"
   ]
  },
  {
   "cell_type": "code",
   "execution_count": null,
   "metadata": {},
   "outputs": [],
   "source": [
    "stl = STL(NumberOfGuestsDailyResort, period=7, trend=31, seasonal=365, robust=True)\n",
    "res = stl.fit()\n",
    "fig = res.plot()\n",
    "fig.set_figwidth(20)\n",
    "fig.set_figheight(10)"
   ]
  },
  {
   "cell_type": "code",
   "execution_count": null,
   "metadata": {},
   "outputs": [],
   "source": [
    "plt.figure(figsize=(20,2))\n",
    "plt.plot(NumberOfGuestsWeeklyResort)\n",
    "plt.show()"
   ]
  },
  {
   "cell_type": "code",
   "execution_count": null,
   "metadata": {},
   "outputs": [],
   "source": [
    "stl = STL(NumberOfGuestsWeeklyResort, period=4, robust=True)\n",
    "res = stl.fit()\n",
    "fig = res.plot()\n",
    "fig.set_figwidth(20)\n",
    "fig.set_figheight(10)"
   ]
  },
  {
   "cell_type": "code",
   "execution_count": null,
   "metadata": {},
   "outputs": [],
   "source": [
    "stl = STL(NumberOfGuestsMonthlyResort, period=3, robust=True)\n",
    "res = stl.fit()\n",
    "fig = res.plot()\n",
    "fig.set_figwidth(20)\n",
    "fig.set_figheight(10)"
   ]
  },
  {
   "cell_type": "code",
   "execution_count": null,
   "metadata": {},
   "outputs": [],
   "source": []
  }
 ],
 "metadata": {
  "kernelspec": {
   "display_name": ".venv",
   "language": "python",
   "name": "python3"
  },
  "language_info": {
   "codemirror_mode": {
    "name": "ipython",
    "version": 3
   },
   "file_extension": ".py",
   "mimetype": "text/x-python",
   "name": "python",
   "nbconvert_exporter": "python",
   "pygments_lexer": "ipython3",
   "version": "3.10.7"
  }
 },
 "nbformat": 4,
 "nbformat_minor": 2
}
