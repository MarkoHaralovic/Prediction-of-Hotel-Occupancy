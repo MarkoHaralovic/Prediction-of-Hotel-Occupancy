{
 "cells": [
  {
   "cell_type": "markdown",
   "metadata": {},
   "source": [
    "## Učitavanje modula"
   ]
  },
  {
   "cell_type": "code",
   "execution_count": null,
   "metadata": {},
   "outputs": [],
   "source": [
    "import pandas as pd\n",
    "import seaborn as sns\n",
    "import matplotlib.pyplot as plt\n",
    "import matplotlib.dates as mdates\n",
    "import math\n",
    "from matplotlib.ticker import MaxNLocator\n",
    "import numpy as np\n",
    "from datetime import datetime\n",
    "import os\n",
    "import random"
   ]
  },
  {
   "cell_type": "markdown",
   "metadata": {},
   "source": [
    "## Učitavanje podataka"
   ]
  },
  {
   "cell_type": "code",
   "execution_count": null,
   "metadata": {},
   "outputs": [],
   "source": [
    "DATA_CLEANED_PATH = '../data/interim/data_no_cancellations.parquet'\n",
    "DATA_HOTEL0_BASE_PATH = '../data/interim/hotel_0'\n",
    "DATA_HOTEL1_BASE_PATH = '../data/interim/hotel_1'\n",
    "DATA_HOTEL0_PATH = '../data/interim/hotel_0/hotel0cleaned.parquet'\n",
    "DATA_HOTEL1_PATH = '../data/interim/hotel_1/hotel1cleaned.parquet'\n"
   ]
  },
  {
   "cell_type": "code",
   "execution_count": null,
   "metadata": {},
   "outputs": [],
   "source": [
    "NumberOfGuestsDailyResort = pd.read_parquet(os.path.join(DATA_HOTEL0_BASE_PATH, \"daily\", \"daily_guests.parquet\"))\n",
    "NumberOfArrivalsDailyResort = pd.read_parquet(os.path.join(DATA_HOTEL0_BASE_PATH, \"daily\", \"daily_arrivals.parquet\"))\n",
    "NumberOfNewGuestsDailyResort = pd.read_parquet(os.path.join(DATA_HOTEL0_BASE_PATH, \"daily\", \"daily_new_guests.parquet\"))\n",
    "\n",
    "NumberOfGuestsWeeklyResort = pd.read_parquet(os.path.join(DATA_HOTEL0_BASE_PATH, \"weekly\", \"weekly_guests.parquet\"))\n",
    "NumberOfArrivalsWeeklyResort = pd.read_parquet(os.path.join(DATA_HOTEL0_BASE_PATH, \"weekly\", \"weekly_arrivals.parquet\"))\n",
    "NumberOfNewGuestsWeeklyResort = pd.read_parquet(os.path.join(DATA_HOTEL0_BASE_PATH, \"weekly\", \"weekly_new_guests.parquet\"))\n",
    "\n",
    "NumberOfGuestsMonthlyResort = pd.read_parquet(os.path.join(DATA_HOTEL0_BASE_PATH, \"monthly\", \"monthly_guests.parquet\"))\n",
    "NumberOfArrivalsMonthlyResort = pd.read_parquet(os.path.join(DATA_HOTEL0_BASE_PATH, \"monthly\", \"monthly_arrivals.parquet\"))\n",
    "NumberOfNewGuestsMonthlyResort = pd.read_parquet(os.path.join(DATA_HOTEL0_BASE_PATH, \"monthly\", \"monthly_new_guests.parquet\"))\n",
    "\n",
    "NumberOfGuestsYearlyResort = pd.read_parquet(os.path.join(DATA_HOTEL0_BASE_PATH, \"yearly\", \"yearly_guests.parquet\"))\n",
    "NumberOfArrivalsYearlyResort = pd.read_parquet(os.path.join(DATA_HOTEL0_BASE_PATH, \"yearly\", \"yearly_arrivals.parquet\"))\n",
    "NumberOfNewGuestsYearlyResort = pd.read_parquet(os.path.join(DATA_HOTEL0_BASE_PATH, \"yearly\", \"yearly_new_guests.parquet\"))"
   ]
  },
  {
   "cell_type": "code",
   "execution_count": null,
   "metadata": {},
   "outputs": [],
   "source": [
    "NumberOfGuestsDailyCity = pd.read_parquet(os.path.join(DATA_HOTEL1_BASE_PATH, \"daily\", \"daily_guests.parquet\"))\n",
    "NumberOfArrivalsDailyCity = pd.read_parquet(os.path.join(DATA_HOTEL1_BASE_PATH, \"daily\", \"daily_arrivals.parquet\"))\n",
    "NumberOfNewGuestsDailyCity = pd.read_parquet(os.path.join(DATA_HOTEL1_BASE_PATH, \"daily\", \"daily_new_guests.parquet\"))\n",
    "\n",
    "NumberOfGuestsWeeklyCity = pd.read_parquet(os.path.join(DATA_HOTEL1_BASE_PATH, \"weekly\", \"weekly_guests.parquet\"))\n",
    "NumberOfArrivalsWeeklyCity = pd.read_parquet(os.path.join(DATA_HOTEL1_BASE_PATH, \"weekly\", \"weekly_arrivals.parquet\"))\n",
    "NumberOfNewGuestsWeeklyCity = pd.read_parquet(os.path.join(DATA_HOTEL1_BASE_PATH, \"weekly\", \"weekly_new_guests.parquet\"))\n",
    "\n",
    "NumberOfGuestsMonthlyCity = pd.read_parquet(os.path.join(DATA_HOTEL1_BASE_PATH, \"monthly\", \"monthly_guests.parquet\"))\n",
    "NumberOfArrivalsMonthlyCity = pd.read_parquet(os.path.join(DATA_HOTEL1_BASE_PATH, \"monthly\", \"monthly_arrivals.parquet\"))\n",
    "NumberOfNewGuestsMonthlyCity = pd.read_parquet(os.path.join(DATA_HOTEL1_BASE_PATH, \"monthly\", \"monthly_new_guests.parquet\"))\n",
    "\n",
    "NumberOfGuestsYearlyCity = pd.read_parquet(os.path.join(DATA_HOTEL1_BASE_PATH, \"yearly\", \"yearly_guests.parquet\"))\n",
    "NumberOfArrivalsYearlyCity = pd.read_parquet(os.path.join(DATA_HOTEL1_BASE_PATH, \"yearly\", \"yearly_arrivals.parquet\"))\n",
    "NumberOfNewGuestsYearlyCity = pd.read_parquet(os.path.join(DATA_HOTEL1_BASE_PATH, \"yearly\", \"yearly_new_guests.parquet\"))"
   ]
  },
  {
   "cell_type": "code",
   "execution_count": null,
   "metadata": {},
   "outputs": [],
   "source": [
    "NumberOfNewGuestsDailyCityCopy = NumberOfNewGuestsDailyCity.copy()\n",
    "NumberOfNewGuestsWeeklyCityCopy = NumberOfNewGuestsWeeklyCity.copy()\n",
    "NumberOfNewGuestsMonthlyCityCopy = NumberOfNewGuestsMonthlyCity.copy()"
   ]
  },
  {
   "cell_type": "code",
   "execution_count": null,
   "metadata": {},
   "outputs": [],
   "source": [
    "NumberOfGuestsDailyCityCopy = NumberOfGuestsDailyCity.copy()\n",
    "NumberOfGuestsWeeklyCityCopy = NumberOfGuestsWeeklyCity.copy()\n",
    "NumberOfGuestsMonthlyCityCopy = NumberOfGuestsMonthlyCity.copy()"
   ]
  },
  {
   "cell_type": "code",
   "execution_count": null,
   "metadata": {},
   "outputs": [],
   "source": [
    "data = pd.read_parquet(DATA_CLEANED_PATH)\n",
    "dataResort = pd.read_parquet(DATA_HOTEL0_PATH)\n",
    "dataCity = pd.read_parquet(DATA_HOTEL1_PATH)"
   ]
  },
  {
   "cell_type": "markdown",
   "metadata": {},
   "source": [
    "U bilježnici anomaly_detection.ipynb,u zaključku su opisani modeli koji uspješno detektiraju naomalije.\n",
    "Ti modeli će u ovoj bilježnici biti korišteni za smanjenje anomalija u podacima."
   ]
  },
  {
   "cell_type": "markdown",
   "metadata": {},
   "source": [
    "## Zaglađivanje anomalija broja novih gostiju kod City Hotela (hotel ID 1)"
   ]
  },
  {
   "cell_type": "markdown",
   "metadata": {},
   "source": [
    "**Problemi s anomalija kod City Hotela za dolaske novih gostiju (npr. 0 novih gostiju u nekim danima)**"
   ]
  },
  {
   "cell_type": "code",
   "execution_count": null,
   "metadata": {},
   "outputs": [],
   "source": [
    "indexes = NumberOfNewGuestsDailyCity[NumberOfNewGuestsDailyCity['ukupno_gostiju'] == 0].index\n",
    "periods = []\n",
    "start_date = indexes[0]\n",
    "for i in range(1, len(indexes)):\n",
    "    if (indexes[i] - indexes[i-1]).days > 1:\n",
    "        end_date = indexes[i-1]\n",
    "        periods.append((start_date, end_date))\n",
    "        start_date = indexes[i]\n",
    "\n",
    "periods.append((start_date, indexes[-1]))\n",
    "\n",
    "for start, end in periods:\n",
    "    print(f\"Periodi gdje je broj gostiju jednak nuli : od {start.date()} do {end.date()}, ukupno {(end - start).days+1} dana\")"
   ]
  },
  {
   "cell_type": "code",
   "execution_count": null,
   "metadata": {},
   "outputs": [],
   "source": [
    "indexes_valid = NumberOfNewGuestsDailyCity[NumberOfNewGuestsDailyCity['ukupno_gostiju'] != 0].index\n",
    "periods_valid = []\n",
    "start_date = indexes_valid[0]\n",
    "for i in range(1, len(indexes_valid)):\n",
    "    if (indexes_valid[i] - indexes_valid[i-1]).days > 1:\n",
    "        end_date = indexes_valid[i-1]\n",
    "        periods_valid.append((start_date, end_date))\n",
    "        start_date = indexes_valid[i]\n",
    "\n",
    "periods_valid.append((start_date, indexes_valid[-1]))\n",
    "\n",
    "for start, end in periods_valid:\n",
    "    print(f\"Periodi gdje je broj gostiju različit nuli : od {start.date()} do {end.date()}, ukupno {(end - start).days+1} dana\")"
   ]
  },
  {
   "cell_type": "markdown",
   "metadata": {},
   "source": [
    "ZAKLJUČAK\n",
    "- dio podataka gdje je duljina perioda gdje hotel nema gostiju dulja od tjedan dana ima smisla izbaciti, zajedno s podacima koji prethode, ako govorimo o \"malom \"uzorku \"čistih\" podataka koji prethode dugim anomalijama\n",
    "- kako je taj \"mali\" uzorak podataka koji smijemo izbaciti arbitraran, moguće je modelirati na više načina, s većom/manjom količinom izbacivanja podataka\n",
    "- manje periode ima smisla modelirati na način da se agregiraju srednje vrijednosti podatka iz susjedstva (npr. tjedan dana prije i poslije) ili interpolirati srednje vrijednosti iz susjedstva\n",
    "- prethodno može biti primjenjemo na dulje periode, ukoliko je potrebno\n",
    "- ARIMA model, kao i MAPE metrika, ne reagiraju dobro na anomalije, odnosno MAPE puca (zbog djeljenja s nulom) ako su ciljani podaci nula, odnosno u ovom slučaju za svaki slučaj kada je broj ukupnih gosti na bilo kojoj vremenskoj bazi jednak nuli\n"
   ]
  },
  {
   "cell_type": "code",
   "execution_count": null,
   "metadata": {},
   "outputs": [],
   "source": [
    "plt.figure(figsize=(16, 8))\n",
    "\n",
    "plt.plot(NumberOfNewGuestsDailyCity['ukupno_gostiju'], marker='.', label='Broj gostiju')\n",
    "plt.plot(NumberOfNewGuestsDailyCity.loc[indexes, 'ukupno_gostiju'], 'o', color='red', label='Problematične vrijednosti')\n",
    "\n",
    "plt.title('Broj novih gostiju City Hotel na dnevnoj razini')\n",
    "plt.xlabel('Dan dolaska')\n",
    "plt.ylabel('Broj novih gostiju na dnevnoj razini')\n",
    "\n",
    "plt.legend()\n",
    "plt.show()"
   ]
  },
  {
   "cell_type": "code",
   "execution_count": null,
   "metadata": {},
   "outputs": [],
   "source": [
    "indexes = NumberOfNewGuestsWeeklyCity[NumberOfNewGuestsWeeklyCity['ukupno_gostiju'] == 0].index\n",
    "periods = []\n",
    "start_date = indexes[0]\n",
    "\n",
    "for i in range(1, len(indexes)):\n",
    "    if (indexes[i] - indexes[i - 1]).days > 7:  \n",
    "        end_date = indexes[i - 1]\n",
    "        periods.append((start_date, end_date))\n",
    "        start_date = indexes[i]\n",
    "\n",
    "periods.append((start_date, indexes[-1]))\n",
    "\n",
    "plt.figure(figsize=(16, 8))\n",
    "plt.plot(NumberOfNewGuestsWeeklyCity['ukupno_gostiju'], marker='.', label='Broj gostiju')\n",
    "\n",
    "anomalous_period_count = 1\n",
    "normal_period_count = 1\n",
    "\n",
    "if periods[0][0] != NumberOfNewGuestsWeeklyCity.index.min():\n",
    "    first_normal_end = periods[0][0] - pd.Timedelta(weeks=1)\n",
    "    plt.text(NumberOfNewGuestsWeeklyCity.index.min(), max(NumberOfNewGuestsWeeklyCity['ukupno_gostiju']) * 0.9, f'Period {normal_period_count}', color='blue', rotation=90)\n",
    "    normal_period_count += 1\n",
    "\n",
    "for i, (start, end) in enumerate(periods):\n",
    "    plt.axvline(x=start, color='red', linestyle='--', lw=2)\n",
    "    plt.axvline(x=end, color='red', linestyle='--', lw=2)\n",
    "    plt.text(start, max(NumberOfNewGuestsWeeklyCity['ukupno_gostiju']) * 0.9, f'Period anomalija {anomalous_period_count}', color='red', rotation=90)\n",
    "    anomalous_period_count += 1\n",
    "\n",
    "    if i < len(periods) - 1:\n",
    "        next_start = periods[i + 1][0]\n",
    "        midpoint = pd.to_datetime((end.value + next_start.value) // 2)\n",
    "        plt.text(midpoint, max(NumberOfNewGuestsWeeklyCity['ukupno_gostiju']) * 0.9, f'Period {normal_period_count}', color='blue', rotation=90)\n",
    "        normal_period_count += 1\n",
    "\n",
    "if periods[-1][1] != NumberOfGuestsWeeklyCity.index.max():\n",
    "    last_normal_start = periods[-1][1] + pd.Timedelta(weeks=1)\n",
    "    plt.text(last_normal_start, max(NumberOfNewGuestsWeeklyCity['ukupno_gostiju']) * 0.9, f'Period {normal_period_count}', color='blue', rotation=90)\n",
    "    normal_period_count += 1\n",
    "\n",
    "plt.title('Broj novih gostiju City Hotel na tjednoj razini')\n",
    "plt.xlabel('Tjedan dolaska')\n",
    "plt.ylabel('Broj gostiju na tjednoj razini')\n",
    "\n",
    "plt.legend()\n",
    "plt.show()"
   ]
  },
  {
   "cell_type": "markdown",
   "metadata": {},
   "source": [
    "KOMENTAR\n",
    "- period 1, 2 te 3 označavaju periode podatak iz dataseta gdje postoji dnevni broj gostiju različit od nule, dok periodi anomalija vremenske\n",
    "periode gdje je ukupan broj gostiju jedan nuli\n",
    "- prvi period anomalija ćemo izbaciti iz dataseta, kao i period 1 regularnih podataka, kako se radi o kratkom peroidu validnih podataka \n",
    " (imamo 30 dana zapisa i 88 dana bez gostiju)\n",
    "- drugi period anomalija, kao i treći, razrješiti će se na sljedeći način:\n",
    "   - za drugi period anomalija gledati ćemo period 2 te određeni dio perioda 3 \"zdravih podataka\" te izračunati daily mean te dodati tu vrijednosti danima anomalija\n",
    "   - za treći period koristiti ćemo dio trećeg te četvrtog perioda zdravih podataka i na taj način amputirati podatke u dane anomalija\n",
    "- ovo se treba raditi na  podatkovnom okviru s dnevnim zapisima, kako na tjednoj razini ne vidimo veću granulaciju, odnosno postoje dani (jedan ili dva u nizu) u kojima \n",
    "  nema gostiju, ali koji se \"ne vide\" na tjednoj bazi,ali utječu na brog gostiju"
   ]
  },
  {
   "cell_type": "markdown",
   "metadata": {},
   "source": [
    "#### One Class SVM na podacima za detekciju anomalija"
   ]
  },
  {
   "cell_type": "markdown",
   "metadata": {},
   "source": [
    "##### Dnevna razina "
   ]
  },
  {
   "cell_type": "code",
   "execution_count": null,
   "metadata": {},
   "outputs": [],
   "source": [
    "from sklearn.preprocessing import StandardScaler\n",
    "scaler = StandardScaler()"
   ]
  },
  {
   "cell_type": "code",
   "execution_count": null,
   "metadata": {},
   "outputs": [],
   "source": [
    "daily_city_data = NumberOfNewGuestsDailyCity['ukupno_gostiju'].values.reshape(-1,1)\n",
    "daily_city_data_stand = scaler.fit_transform(daily_city_data)"
   ]
  },
  {
   "cell_type": "code",
   "execution_count": null,
   "metadata": {},
   "outputs": [],
   "source": [
    "from sklearn.svm import OneClassSVM"
   ]
  },
  {
   "cell_type": "code",
   "execution_count": null,
   "metadata": {},
   "outputs": [],
   "source": [
    "outliers_fraction = float(0.05)"
   ]
  },
  {
   "cell_type": "code",
   "execution_count": null,
   "metadata": {},
   "outputs": [],
   "source": [
    "osvm_city = OneClassSVM(nu = outliers_fraction, \n",
    "                   kernel = 'rbf', \n",
    "                   gamma = 0.001)\n",
    "osvm_city.fit(daily_city_data_stand)\n",
    "\n"
   ]
  },
  {
   "cell_type": "code",
   "execution_count": null,
   "metadata": {},
   "outputs": [],
   "source": [
    "NumberOfNewGuestsDailyCity['anomaly_value_osvm'] = osvm_city.predict(daily_city_data_stand)"
   ]
  },
  {
   "cell_type": "code",
   "execution_count": null,
   "metadata": {},
   "outputs": [],
   "source": [
    "plt.figure(figsize=(16, 8))\n",
    "\n",
    "plt.plot(NumberOfNewGuestsDailyCity['ukupno_gostiju'], marker='.')\n",
    "\n",
    "anomalies_osvm = NumberOfNewGuestsDailyCity[NumberOfNewGuestsDailyCity['anomaly_value_osvm'] == -1]\n",
    "plt.plot(anomalies_osvm['ukupno_gostiju'], 'o', color='red', label='Outlier')\n",
    "\n",
    "plt.title('Detekcija outliera One-Class SVM za City hotel na dnevnoj razini')\n",
    "plt.xlabel('Dan dolaska')\n",
    "plt.ylabel('Broj gostiju na dnevnoj razini')\n",
    "plt.legend()\n",
    "plt.show()\n"
   ]
  },
  {
   "cell_type": "markdown",
   "metadata": {},
   "source": [
    "Zaključak je kako vrijednosti u kojima je ukupan broj novih gostiju na dnevnoj razini jednak nuli stršeća vrijednsoti te je pretpostavka bila da su te vrijednosti anomalije. Problem s ostalim detektiranim anomalijama jest uisitnu potvrdiit da su to anomalije. Zaključak je kako ćemo te vrijednosti izgladiti drugim tehnikama, a zasad bismo trebali prethodno opsiane anomalije/podatke ukloniti iz skupa podataka."
   ]
  },
  {
   "cell_type": "markdown",
   "metadata": {},
   "source": [
    "##### Tjedna razina"
   ]
  },
  {
   "cell_type": "code",
   "execution_count": null,
   "metadata": {},
   "outputs": [],
   "source": [
    "weekly_city_data = NumberOfNewGuestsWeeklyCity['ukupno_gostiju'].values.reshape(-1,1)\n",
    "weekly_city_data_stand = scaler.fit_transform(weekly_city_data)"
   ]
  },
  {
   "cell_type": "code",
   "execution_count": null,
   "metadata": {},
   "outputs": [],
   "source": [
    "outliers_fraction = float(0.05)"
   ]
  },
  {
   "cell_type": "code",
   "execution_count": null,
   "metadata": {},
   "outputs": [],
   "source": [
    "osvm_city = OneClassSVM(nu = outliers_fraction, \n",
    "                   kernel = 'rbf', \n",
    "                   gamma = 0.01)\n",
    "osvm_city.fit(weekly_city_data_stand)\n",
    "\n"
   ]
  },
  {
   "cell_type": "code",
   "execution_count": null,
   "metadata": {},
   "outputs": [],
   "source": [
    "NumberOfNewGuestsWeeklyCity['anomaly_value_osvm'] = osvm_city.predict(weekly_city_data_stand)"
   ]
  },
  {
   "cell_type": "code",
   "execution_count": null,
   "metadata": {},
   "outputs": [],
   "source": [
    "plt.figure(figsize=(16, 8))\n",
    "\n",
    "plt.plot(NumberOfNewGuestsWeeklyCity['ukupno_gostiju'], marker='.')\n",
    "\n",
    "anomalies_osvm = NumberOfNewGuestsWeeklyCity[NumberOfNewGuestsWeeklyCity['anomaly_value_osvm'] == -1]\n",
    "plt.plot(anomalies_osvm['ukupno_gostiju'], 'o', color='red', label='Outlier')\n",
    "\n",
    "plt.title('Detekcija outliera One-Class SVM za City hotel na tjednoj razini')\n",
    "plt.xlabel('Tjedan dolaska')\n",
    "plt.ylabel('Broj gostiju na tjednoj razini')\n",
    "plt.legend()\n",
    "plt.show()\n"
   ]
  },
  {
   "cell_type": "markdown",
   "metadata": {},
   "source": [
    "##### Mjesečna razina"
   ]
  },
  {
   "cell_type": "code",
   "execution_count": null,
   "metadata": {},
   "outputs": [],
   "source": [
    "monthly_city_data = NumberOfNewGuestsMonthlyCity['ukupno_gostiju'].values.reshape(-1,1)\n",
    "monthly_city_data_stand = scaler.fit_transform(monthly_city_data)"
   ]
  },
  {
   "cell_type": "code",
   "execution_count": null,
   "metadata": {},
   "outputs": [],
   "source": [
    "outliers_fraction = float(0.05)"
   ]
  },
  {
   "cell_type": "code",
   "execution_count": null,
   "metadata": {},
   "outputs": [],
   "source": [
    "osvm_city = OneClassSVM(nu = outliers_fraction, \n",
    "                   kernel = 'rbf', \n",
    "                   gamma = 0.01)\n",
    "osvm_city.fit(monthly_city_data_stand)\n",
    "\n"
   ]
  },
  {
   "cell_type": "code",
   "execution_count": null,
   "metadata": {},
   "outputs": [],
   "source": [
    "NumberOfNewGuestsMonthlyCity['anomaly_value_osvm'] = osvm_city.predict(monthly_city_data_stand)"
   ]
  },
  {
   "cell_type": "code",
   "execution_count": null,
   "metadata": {},
   "outputs": [],
   "source": [
    "plt.figure(figsize=(16, 8))\n",
    "\n",
    "plt.plot(NumberOfNewGuestsMonthlyCity['ukupno_gostiju'], marker='.')\n",
    "\n",
    "anomalies_osvm = NumberOfNewGuestsMonthlyCity[NumberOfNewGuestsMonthlyCity['anomaly_value_osvm'] == -1]\n",
    "plt.plot(anomalies_osvm['ukupno_gostiju'], 'o', color='red', label='Outlier')\n",
    "\n",
    "plt.title('Detekcija outliera One-Class SVM za City hotel na mjesečnoj razini')\n",
    "plt.xlabel('Mjesec dolaska')\n",
    "plt.ylabel('Broj gostiju na mjesečnoj razini')\n",
    "plt.legend()\n",
    "plt.show()\n"
   ]
  },
  {
   "cell_type": "markdown",
   "metadata": {},
   "source": [
    "#### Brisanje, umetanje podataka i vizualizacija"
   ]
  },
  {
   "cell_type": "markdown",
   "metadata": {},
   "source": [
    "1.KORAK - brisanje podataka sve do kraja prvog područja anomalija - do 30-04-2015"
   ]
  },
  {
   "cell_type": "code",
   "execution_count": null,
   "metadata": {},
   "outputs": [],
   "source": [
    "cutoff_date = pd.to_datetime('2015-04-30')\n",
    "NumberOfNewGuestsDailyCity = NumberOfNewGuestsDailyCity[NumberOfNewGuestsDailyCity.index > cutoff_date]\n"
   ]
  },
  {
   "cell_type": "code",
   "execution_count": null,
   "metadata": {},
   "outputs": [],
   "source": [
    "NumberOfNewGuestsDailyCity.head()"
   ]
  },
  {
   "cell_type": "code",
   "execution_count": null,
   "metadata": {},
   "outputs": [],
   "source": [
    "indexes = NumberOfNewGuestsDailyCity[NumberOfNewGuestsDailyCity['ukupno_gostiju'] == 0].index\n",
    "periods = []\n",
    "start_date = indexes[0]\n",
    "for i in range(1, len(indexes)):\n",
    "    if (indexes[i] - indexes[i-1]).days >1:\n",
    "        end_date = indexes[i-1]\n",
    "        periods.append((start_date, end_date))\n",
    "        start_date = indexes[i]\n",
    "\n",
    "periods.append((start_date, indexes[-1]))\n",
    "for start, end in periods:\n",
    "    print(f\"Periodi gdje je broj gostiju jednak nuli : od {start.date()} do {end.date()}, ukupno {(end - start).days+1} dana\")\n",
    "    \n",
    "plt.figure(figsize=(16, 8))\n",
    "\n",
    "plt.plot(NumberOfNewGuestsDailyCity['ukupno_gostiju'], marker='.', label='Broj gostiju')\n",
    "plt.plot(NumberOfNewGuestsDailyCity.loc[indexes, 'ukupno_gostiju'], 'o', color='red', label='Problematične vrijednosti')\n",
    "\n",
    "plt.title('Broj gostiju City Hotel na dnevnoj razini')\n",
    "plt.xlabel('Dan dolaska')\n",
    "plt.ylabel('Broj gostiju na dnevnoj razini')\n",
    "\n",
    "plt.legend()\n",
    "plt.show()"
   ]
  },
  {
   "cell_type": "markdown",
   "metadata": {},
   "source": [
    "2.KORAK -umetanje podataka"
   ]
  },
  {
   "cell_type": "code",
   "execution_count": null,
   "metadata": {},
   "outputs": [],
   "source": [
    "indexes_valid = NumberOfNewGuestsDailyCity[NumberOfNewGuestsDailyCity['ukupno_gostiju'] != 0].index\n",
    "periods_valid = []\n",
    "start_date = indexes_valid[0]\n",
    "for i in range(1, len(indexes_valid)):\n",
    "    if (indexes_valid[i] - indexes_valid[i-1]).days > 1:\n",
    "        end_date = indexes_valid[i-1]\n",
    "        periods_valid.append((start_date, end_date))\n",
    "        start_date = indexes_valid[i]\n",
    "\n",
    "periods_valid.append((start_date, indexes_valid[-1]))\n",
    "\n",
    "for start, end in periods_valid:\n",
    "    print(f\"Periodi gdje je broj gostiju različit nuli : od {start.date()} do {end.date()}, ukupno {(end - start).days+1} dana\")"
   ]
  },
  {
   "cell_type": "code",
   "execution_count": null,
   "metadata": {},
   "outputs": [],
   "source": [
    "def calculate_mean_for_window(start, end):\n",
    "    window_data = NumberOfNewGuestsDailyCity[(NumberOfNewGuestsDailyCity.index >= start) & (NumberOfNewGuestsDailyCity.index <= end)]\n",
    "    #print(window_data)\n",
    "    return window_data['ukupno_gostiju'].mean(),window_data['prosjecna_cijena_po_osobi'].mean()\n"
   ]
  },
  {
   "cell_type": "code",
   "execution_count": null,
   "metadata": {},
   "outputs": [],
   "source": [
    "for start, end in periods:\n",
    "    period_length = (end - start).days\n",
    "\n",
    "    if period_length == 1:\n",
    "        window_start_before = start - pd.Timedelta(days=1)\n",
    "        window_end_after = end + pd.Timedelta(days=1)\n",
    "    elif period_length < 3:\n",
    "        window_start_before = start - pd.Timedelta(days=4) #moguće mijenati veličinu prozora\n",
    "        window_end_after = end + pd.Timedelta(days=4) #moguće mijenati veličinu prozora\n",
    "    else:\n",
    "        window_start_before = start - pd.Timedelta(days=6) #moguće mijenati veličinu prozora\n",
    "        window_end_after = end + pd.Timedelta(days=6) #moguće mijenati veličinu prozora\n",
    "\n",
    "    window_start_before = max(window_start_before, NumberOfNewGuestsDailyCity.index.min())\n",
    "    window_end_after = min(window_end_after, NumberOfNewGuestsDailyCity.index.max())\n",
    "    \n",
    "    mean_before, mean_price_before = calculate_mean_for_window(window_start_before, start - pd.Timedelta(days=1))\n",
    "    mean_after,mean_price_after = calculate_mean_for_window(end + pd.Timedelta(days=1), window_end_after)\n",
    "    \n",
    "    mean_value = (mean_before + mean_after) / 2\n",
    "    mean_price = (mean_price_before + mean_price_after) / 2\n",
    "    \n",
    "    for day in pd.date_range(start, end):\n",
    "        if day in NumberOfNewGuestsDailyCity.index:\n",
    "            variance_percentage = random.uniform(-0.2, 0.2)  # +/- 20%  varijance kako bismo simulirali stvarne podatke\n",
    "            varied_mean_value = mean_value + (mean_value * variance_percentage)\n",
    "            mean_price = mean_price + (mean_price * random.uniform(-0.05, 0.05))\n",
    "            NumberOfNewGuestsDailyCity.at[day, 'ukupno_gostiju'] = varied_mean_value\n",
    "            NumberOfNewGuestsDailyCity.at[day, 'prosjecna_cijena_po_osobi'] = mean_price"
   ]
  },
  {
   "cell_type": "code",
   "execution_count": null,
   "metadata": {},
   "outputs": [],
   "source": [
    "plt.figure(figsize=(16, 8))\n",
    "\n",
    "plt.plot(NumberOfNewGuestsDailyCity['ukupno_gostiju'], marker='.', label='Broj gostiju nakon transformacije', color='blue')\n",
    "plt.plot(NumberOfNewGuestsDailyCityCopy['ukupno_gostiju'], marker='.', label='Originalan broj gostiju', color='yellow')\n",
    "\n",
    "plt.title('Broj novih gostiju City Hotel na dnevnoj razini nakon čišćenja')\n",
    "plt.xlabel('Dan dolaska')\n",
    "plt.ylabel('Broj novih gostiju na dnevnoj razini')\n",
    "\n",
    "plt.legend()\n",
    "plt.show()\n"
   ]
  },
  {
   "cell_type": "code",
   "execution_count": null,
   "metadata": {},
   "outputs": [],
   "source": [
    "NumberOfNewGuestsWeeklyCity = NumberOfNewGuestsDailyCity.resample('W-SUN').sum()\n",
    "NumberOfNewGuestsWeeklyCity.index = NumberOfNewGuestsWeeklyCity.index - pd.DateOffset(days=6)\n",
    "NumberOfNewGuestsMonthlyCity = NumberOfNewGuestsDailyCity.resample('MS').sum()\n",
    "NumberOfNewGuestsYearlyCity = NumberOfNewGuestsDailyCity.resample('YS').sum()\n"
   ]
  },
  {
   "cell_type": "code",
   "execution_count": null,
   "metadata": {},
   "outputs": [],
   "source": [
    "plt.figure(figsize=(16, 8))\n",
    "\n",
    "plt.plot(NumberOfNewGuestsWeeklyCity['ukupno_gostiju'], marker='.', label='Broj gostiju nakon transformacije', color='blue')\n",
    "\n",
    "plt.plot(NumberOfNewGuestsWeeklyCityCopy['ukupno_gostiju'], marker='.', label='Originalan broj gostiju' , color='yellow')\n",
    "\n",
    "plt.title('Broj novih gostiju City Hotel na tjednoj razini nakon čišćenja')\n",
    "plt.xlabel('Tjedan dolaska')\n",
    "plt.ylabel('Broj novih gostiju na tjednoj razini')\n",
    "\n",
    "plt.legend()\n",
    "plt.show()"
   ]
  },
  {
   "cell_type": "code",
   "execution_count": null,
   "metadata": {},
   "outputs": [],
   "source": [
    "plt.figure(figsize=(16, 8))\n",
    "\n",
    "plt.plot(NumberOfNewGuestsMonthlyCity['ukupno_gostiju'], marker='.', label='Broj gostiju nakon transformacije')\n",
    "\n",
    "plt.plot(NumberOfNewGuestsMonthlyCityCopy['ukupno_gostiju'], marker='.', label='Originalan broj gostiju', color='yellow')\n",
    "plt.title('Broj novih gostiju City Hotel na mjesečnoj razini nakon čišćenja')\n",
    "plt.xlabel('Tjedan dolaska')\n",
    "plt.ylabel('Broj novih gostiju na mjesečnoj razini')\n",
    "\n",
    "plt.legend()\n",
    "plt.show()"
   ]
  },
  {
   "cell_type": "markdown",
   "metadata": {},
   "source": [
    "#### One Class SVM na tranformiranom skupu podataka"
   ]
  },
  {
   "cell_type": "code",
   "execution_count": null,
   "metadata": {},
   "outputs": [],
   "source": [
    "weekly_city_data = NumberOfNewGuestsWeeklyCity['ukupno_gostiju'].values.reshape(-1,1)\n",
    "weekly_city_data_stand = scaler.fit_transform(weekly_city_data)"
   ]
  },
  {
   "cell_type": "code",
   "execution_count": null,
   "metadata": {},
   "outputs": [],
   "source": [
    "outliers_fraction = float(0.01)"
   ]
  },
  {
   "cell_type": "code",
   "execution_count": null,
   "metadata": {},
   "outputs": [],
   "source": [
    "osvm_city = OneClassSVM(nu = outliers_fraction, \n",
    "                   kernel = 'rbf', \n",
    "                   gamma = 0.01)\n",
    "osvm_city.fit(weekly_city_data_stand)\n",
    "\n"
   ]
  },
  {
   "cell_type": "code",
   "execution_count": null,
   "metadata": {},
   "outputs": [],
   "source": [
    "NumberOfNewGuestsWeeklyCity['anomaly_value_osvm'] = osvm_city.predict(weekly_city_data_stand)"
   ]
  },
  {
   "cell_type": "code",
   "execution_count": null,
   "metadata": {},
   "outputs": [],
   "source": [
    "plt.figure(figsize=(16, 8))\n",
    "\n",
    "plt.plot(NumberOfNewGuestsWeeklyCity['ukupno_gostiju'], marker='.')\n",
    "\n",
    "anomalies_osvm = NumberOfNewGuestsWeeklyCity[NumberOfNewGuestsWeeklyCity['anomaly_value_osvm'] == -1]\n",
    "plt.plot(anomalies_osvm['ukupno_gostiju'], 'o', color='red', label='Outlier')\n",
    "\n",
    "plt.title('Detekcija outliera One-Class SVM za City hotel na tjednoj razini')\n",
    "plt.xlabel('Tjedan dolaska')\n",
    "plt.ylabel('Broj gostiju na tjednoj razini')\n",
    "plt.legend()\n",
    "plt.show()\n"
   ]
  },
  {
   "cell_type": "markdown",
   "metadata": {},
   "source": [
    "## Zaglađivanje anomalija broja svih gostiju kod City Hotela (hotel ID 1)"
   ]
  },
  {
   "cell_type": "markdown",
   "metadata": {},
   "source": [
    "**Problemi s anomalija kod City Hotela za ukupan broj gostiju**"
   ]
  },
  {
   "cell_type": "code",
   "execution_count": null,
   "metadata": {},
   "outputs": [],
   "source": [
    "indexes = NumberOfGuestsDailyCity[NumberOfGuestsDailyCity['ukupno_gostiju'] == 0].index\n",
    "periods = []\n",
    "start_date = indexes[0]\n",
    "for i in range(1, len(indexes)):\n",
    "    if (indexes[i] - indexes[i-1]).days > 1:\n",
    "        end_date = indexes[i-1]\n",
    "        periods.append((start_date, end_date))\n",
    "        start_date = indexes[i]\n",
    "\n",
    "periods.append((start_date, indexes[-1]))\n",
    "\n",
    "for start, end in periods:\n",
    "    print(f\"Periodi gdje je broj gostiju jednak nuli : od {start.date()} do {end.date()}, ukupno {(end - start).days+1} dana\")"
   ]
  },
  {
   "cell_type": "markdown",
   "metadata": {},
   "source": [
    "Manji broj perioda u kojima je broj gostiju jednak nuli, što je logično, kako su kraći periodi gdje je broj dolazaka 0 samo smanjili broj gostiju na razini hotela."
   ]
  },
  {
   "cell_type": "code",
   "execution_count": null,
   "metadata": {},
   "outputs": [],
   "source": [
    "indexes_valid = NumberOfGuestsDailyCity[NumberOfGuestsDailyCity['ukupno_gostiju'] != 0].index\n",
    "periods_valid = []\n",
    "start_date = indexes_valid[0]\n",
    "for i in range(1, len(indexes_valid)):\n",
    "    if (indexes_valid[i] - indexes_valid[i-1]).days > 1:\n",
    "        end_date = indexes_valid[i-1]\n",
    "        periods_valid.append((start_date, end_date))\n",
    "        start_date = indexes_valid[i]\n",
    "\n",
    "periods_valid.append((start_date, indexes_valid[-1]))\n",
    "\n",
    "for start, end in periods_valid:\n",
    "    print(f\"Periodi gdje je broj gostiju različit nuli : od {start.date()} do {end.date()}, ukupno {(end - start).days+1} dana\")"
   ]
  },
  {
   "cell_type": "code",
   "execution_count": null,
   "metadata": {},
   "outputs": [],
   "source": [
    "plt.figure(figsize=(16, 8))\n",
    "\n",
    "plt.plot(NumberOfGuestsDailyCity['ukupno_gostiju'], marker='.', label='Broj gostiju')\n",
    "plt.plot(NumberOfGuestsDailyCity.loc[indexes, 'ukupno_gostiju'], 'o', color='red', label='Problematične vrijednosti')\n",
    "\n",
    "plt.title('Ukupan broj gostiju City Hotel na dnevnoj razini')\n",
    "plt.xlabel('Dan dolaska')\n",
    "plt.ylabel('Broj novih gostiju na dnevnoj razini')\n",
    "\n",
    "plt.legend()\n",
    "plt.show()"
   ]
  },
  {
   "cell_type": "code",
   "execution_count": null,
   "metadata": {},
   "outputs": [],
   "source": [
    "indexes = NumberOfGuestsWeeklyCity[NumberOfGuestsWeeklyCity['ukupno_gostiju'] == 0].index\n",
    "periods = []\n",
    "start_date = indexes[0]\n",
    "\n",
    "for i in range(1, len(indexes)):\n",
    "    if (indexes[i] - indexes[i - 1]).days > 7:  \n",
    "        end_date = indexes[i - 1]\n",
    "        periods.append((start_date, end_date))\n",
    "        start_date = indexes[i]\n",
    "\n",
    "periods.append((start_date, indexes[-1]))\n",
    "\n",
    "plt.figure(figsize=(16, 8))\n",
    "plt.plot(NumberOfGuestsWeeklyCity['ukupno_gostiju'], marker='.', label='Broj gostiju')\n",
    "\n",
    "anomalous_period_count = 1\n",
    "normal_period_count = 1\n",
    "\n",
    "if periods[0][0] != NumberOfGuestsWeeklyCity.index.min():\n",
    "    first_normal_end = periods[0][0] - pd.Timedelta(weeks=1)\n",
    "    plt.text(NumberOfGuestsWeeklyCity.index.min(), max(NumberOfGuestsWeeklyCity['ukupno_gostiju']) * 0.9, f'Period {normal_period_count}', color='blue', rotation=90)\n",
    "    normal_period_count += 1\n",
    "\n",
    "for i, (start, end) in enumerate(periods):\n",
    "    print(start,end)\n",
    "    plt.axvline(x=start, color='red', linestyle='--', lw=2)\n",
    "    plt.axvline(x=end, color='red', linestyle='--', lw=2)\n",
    "    plt.text(start, max(NumberOfGuestsWeeklyCity['ukupno_gostiju']) * 0.9, f'Period anomalija {anomalous_period_count}', color='red', rotation=90)\n",
    "    anomalous_period_count += 1\n",
    "\n",
    "    if i < len(periods) - 1:\n",
    "        next_start = periods[i + 1][0]\n",
    "        midpoint = pd.to_datetime((end.value + next_start.value) // 2)\n",
    "        plt.text(midpoint, max(NumberOfGuestsWeeklyCity['ukupno_gostiju']) * 0.9, f'Period {normal_period_count}', color='blue', rotation=90)\n",
    "        normal_period_count += 1\n",
    "\n",
    "if periods[-1][1] != NumberOfGuestsWeeklyCity.index.max():\n",
    "    last_normal_start = periods[-1][1] + pd.Timedelta(weeks=1)\n",
    "    plt.text(last_normal_start, max(NumberOfGuestsWeeklyCity['ukupno_gostiju']) * 0.9, f'Period {normal_period_count}', color='blue', rotation=90)\n",
    "    normal_period_count += 1\n",
    "\n",
    "plt.title('Ukupan broj gostiju City Hotel na tjednoj razini')\n",
    "plt.xlabel('Tjedan dolaska')\n",
    "plt.ylabel('Broj gostiju na tjednoj razini')\n",
    "\n",
    "plt.legend()\n",
    "plt.show()"
   ]
  },
  {
   "cell_type": "markdown",
   "metadata": {},
   "source": [
    "KOMENTAR\n",
    "- period 1, 2 te 3 označavaju periode podatak iz dataseta gdje postoji dnevni broj gostiju različit od nule, dok periodi anomalija vremenske\n",
    "periode gdje je ukupan broj gostiju jedan nuli\n",
    "- prvi period anomalija ćemo izbaciti iz dataseta, kao i period 1 regularnih podataka, kako se radi o kratkom peroidu validnih podataka \n",
    " (imamo 30 dana zapisa i 88 dana bez gostiju)\n",
    "- drugi period anomalija, kao i treći, razrješiti će se na sljedeći način:\n",
    "   - za drugi period anomalija gledati ćemo period 2 te određeni dio perioda 3 \"zdravih podataka\" te izračunati daily mean te dodati tu vrijednosti danima anomalija\n",
    "   - za treći period koristiti ćemo dio trećeg te četvrtog perioda zdravih podataka i na taj način amputirati podatke u dane anomalija\n"
   ]
  },
  {
   "cell_type": "markdown",
   "metadata": {},
   "source": [
    "#### One Class SVM na podacima za detekciju anomalija"
   ]
  },
  {
   "cell_type": "markdown",
   "metadata": {},
   "source": [
    "##### Dnevna razina "
   ]
  },
  {
   "cell_type": "code",
   "execution_count": null,
   "metadata": {},
   "outputs": [],
   "source": [
    "from sklearn.preprocessing import StandardScaler\n",
    "scaler = StandardScaler()"
   ]
  },
  {
   "cell_type": "code",
   "execution_count": null,
   "metadata": {},
   "outputs": [],
   "source": [
    "daily_city_data_total_guests = NumberOfGuestsDailyCity['ukupno_gostiju'].values.reshape(-1,1)\n",
    "daily_city_data_total_guests_stand = scaler.fit_transform(daily_city_data_total_guests)"
   ]
  },
  {
   "cell_type": "code",
   "execution_count": null,
   "metadata": {},
   "outputs": [],
   "source": [
    "from sklearn.svm import OneClassSVM"
   ]
  },
  {
   "cell_type": "code",
   "execution_count": null,
   "metadata": {},
   "outputs": [],
   "source": [
    "outliers_fraction = float(0.05)"
   ]
  },
  {
   "cell_type": "code",
   "execution_count": null,
   "metadata": {},
   "outputs": [],
   "source": [
    "osvm_city = OneClassSVM(nu = outliers_fraction, \n",
    "                   kernel = 'rbf', \n",
    "                   gamma = 0.01)\n",
    "osvm_city.fit(daily_city_data_total_guests_stand)\n",
    "\n"
   ]
  },
  {
   "cell_type": "code",
   "execution_count": null,
   "metadata": {},
   "outputs": [],
   "source": [
    "NumberOfGuestsDailyCity['anomaly_value_osvm'] = osvm_city.predict(daily_city_data_total_guests_stand)\n",
    "   "
   ]
  },
  {
   "cell_type": "code",
   "execution_count": null,
   "metadata": {},
   "outputs": [],
   "source": [
    "plt.figure(figsize=(16, 8))\n",
    "\n",
    "plt.plot(NumberOfGuestsDailyCity['ukupno_gostiju'], marker='.')\n",
    "\n",
    "anomalies_osvm_total = NumberOfGuestsDailyCity[NumberOfGuestsDailyCity['anomaly_value_osvm'] == -1]\n",
    "plt.plot(anomalies_osvm_total['ukupno_gostiju'], 'o', color='red', label='Outlier')\n",
    "\n",
    "plt.title('Detekcija outliera One-Class SVM za City hotel na dnevnoj razini')\n",
    "plt.xlabel('Dan dolaska')\n",
    "plt.ylabel('Broj gostiju na dnevnoj razini')\n",
    "plt.legend()\n",
    "plt.show()\n"
   ]
  },
  {
   "cell_type": "markdown",
   "metadata": {},
   "source": [
    "##### Tjedna razina "
   ]
  },
  {
   "cell_type": "code",
   "execution_count": null,
   "metadata": {},
   "outputs": [],
   "source": [
    "weekly_city_data_total_guests = NumberOfGuestsWeeklyCity['ukupno_gostiju'].values.reshape(-1,1)\n",
    "weekly_city_data_total_guests_stand = scaler.fit_transform(weekly_city_data_total_guests)"
   ]
  },
  {
   "cell_type": "code",
   "execution_count": null,
   "metadata": {},
   "outputs": [],
   "source": [
    "outliers_fraction = float(0.05)"
   ]
  },
  {
   "cell_type": "code",
   "execution_count": null,
   "metadata": {},
   "outputs": [],
   "source": [
    "osvm_city = OneClassSVM(nu = outliers_fraction, \n",
    "                   kernel = 'rbf', \n",
    "                   gamma = 0.001)\n",
    "osvm_city.fit(weekly_city_data_total_guests_stand)\n",
    "\n"
   ]
  },
  {
   "cell_type": "code",
   "execution_count": null,
   "metadata": {},
   "outputs": [],
   "source": [
    "NumberOfGuestsWeeklyCity['anomaly_value_osvm'] = osvm_city.predict(weekly_city_data_total_guests_stand)"
   ]
  },
  {
   "cell_type": "code",
   "execution_count": null,
   "metadata": {},
   "outputs": [],
   "source": [
    "plt.figure(figsize=(16, 8))\n",
    "\n",
    "plt.plot(NumberOfGuestsWeeklyCity['ukupno_gostiju'], marker='.')\n",
    "\n",
    "anomalies_osvm_total = NumberOfGuestsWeeklyCity[NumberOfGuestsWeeklyCity['anomaly_value_osvm'] == -1]\n",
    "plt.plot(anomalies_osvm_total['ukupno_gostiju'], 'o', color='red', label='Outlier')\n",
    "\n",
    "plt.title('Detekcija outliera One-Class SVM za City hotel na tjednoj razini')\n",
    "plt.xlabel('Tjedan dolaska')\n",
    "plt.ylabel('Broj gostiju na tjednoj razini')\n",
    "plt.legend()\n",
    "plt.show()\n"
   ]
  },
  {
   "cell_type": "markdown",
   "metadata": {},
   "source": [
    "##### Mjesečna razina "
   ]
  },
  {
   "cell_type": "code",
   "execution_count": null,
   "metadata": {},
   "outputs": [],
   "source": [
    "monthly_city_data_total_guests = NumberOfGuestsMonthlyCity['ukupno_gostiju'].values.reshape(-1,1)\n",
    "monthly_city_data_total_guests_stand = scaler.fit_transform(monthly_city_data_total_guests)"
   ]
  },
  {
   "cell_type": "code",
   "execution_count": null,
   "metadata": {},
   "outputs": [],
   "source": [
    "outliers_fraction = float(0.05)"
   ]
  },
  {
   "cell_type": "code",
   "execution_count": null,
   "metadata": {},
   "outputs": [],
   "source": [
    "osvm_city = OneClassSVM(nu = outliers_fraction, \n",
    "                   kernel = 'rbf', \n",
    "                   gamma = 0.001)\n",
    "osvm_city.fit(monthly_city_data_total_guests_stand)\n",
    "\n"
   ]
  },
  {
   "cell_type": "code",
   "execution_count": null,
   "metadata": {},
   "outputs": [],
   "source": [
    "NumberOfGuestsMonthlyCity['anomaly_value_osvm'] = osvm_city.predict(monthly_city_data_total_guests_stand)"
   ]
  },
  {
   "cell_type": "code",
   "execution_count": null,
   "metadata": {},
   "outputs": [],
   "source": [
    "plt.figure(figsize=(16, 8))\n",
    "\n",
    "plt.plot(NumberOfGuestsMonthlyCity['ukupno_gostiju'], marker='.')\n",
    "\n",
    "anomalies_osvm_total = NumberOfGuestsMonthlyCity[NumberOfGuestsMonthlyCity['anomaly_value_osvm'] == -1]\n",
    "plt.plot(anomalies_osvm_total['ukupno_gostiju'], 'o', color='red', label='Outlier')\n",
    "\n",
    "plt.title('Detekcija outliera One-Class SVM za City hotel na mjesečnoj razini')\n",
    "plt.xlabel('Mjesec dolaska')\n",
    "plt.ylabel('Broj gostiju na mjesečnoj razini')\n",
    "plt.legend()\n",
    "plt.show()\n"
   ]
  },
  {
   "cell_type": "markdown",
   "metadata": {},
   "source": [
    "#### Brisanje, umetanje podataka i vizualizacija"
   ]
  },
  {
   "cell_type": "markdown",
   "metadata": {},
   "source": [
    "1.KORAK - brisanje podataka sve do kraja prvog područja anomalija - do 30-04-2015"
   ]
  },
  {
   "cell_type": "code",
   "execution_count": null,
   "metadata": {},
   "outputs": [],
   "source": [
    "cutoff_date = pd.to_datetime('2015-04-30')\n",
    "NumberOfGuestsDailyCity = NumberOfGuestsDailyCity[NumberOfGuestsDailyCity.index > cutoff_date]\n"
   ]
  },
  {
   "cell_type": "code",
   "execution_count": null,
   "metadata": {},
   "outputs": [],
   "source": [
    "NumberOfGuestsDailyCity.head(5)"
   ]
  },
  {
   "cell_type": "code",
   "execution_count": null,
   "metadata": {},
   "outputs": [],
   "source": [
    "indexes = NumberOfGuestsDailyCity[NumberOfGuestsDailyCity['ukupno_gostiju'] == 0].index\n",
    "periods = []\n",
    "start_date = indexes[0]\n",
    "for i in range(1, len(indexes)):\n",
    "    if (indexes[i] - indexes[i-1]).days >1:\n",
    "        end_date = indexes[i-1]\n",
    "        periods.append((start_date, end_date))\n",
    "        start_date = indexes[i]\n",
    "\n",
    "periods.append((start_date, indexes[-1]))\n",
    "for start, end in periods:\n",
    "    print(f\"Periodi gdje je broj gostiju jednak nuli : od {start.date()} do {end.date()}, ukupno {(end - start).days+1} dana\")\n",
    "    \n",
    "plt.figure(figsize=(16, 8))\n",
    "\n",
    "plt.plot(NumberOfGuestsDailyCity['ukupno_gostiju'], marker='.', label='Broj gostiju')\n",
    "plt.plot(NumberOfGuestsDailyCity.loc[indexes, 'ukupno_gostiju'], 'o', color='red', label='Problematične vrijednosti')\n",
    "\n",
    "plt.title('Broj gostiju City Hotel na dnevnoj razini')\n",
    "plt.xlabel('Dan dolaska')\n",
    "plt.ylabel('Broj gostiju na dnevnoj razini')\n",
    "\n",
    "plt.legend()\n",
    "plt.show()"
   ]
  },
  {
   "cell_type": "markdown",
   "metadata": {},
   "source": [
    "Problematično je gledati samo dane kada je dolaznost novih gostiju nula, kako ovdje govorimo o ukupnom broju gostiju. Jasno je da želimo i okolne točke oko točaka gdje je ukupan broj gostiju jednak nuli isto tako tranformirati, kako je u tim točkama dolaznost novih ljudi jednaka nuli. Ukoliko to ne bismo napravili, a kako klizećim prozorom uzimamo lokalno susjedne točke, dobili bismo liniju koja odudara od prethodnih valjanih perioda, odnosno linija bi bila slična lokalnim točkama u kojima je broj gostiju različit od nule, ali jako blizu nuli, kako se u tim točkama dolaznost smanjila na 0"
   ]
  },
  {
   "cell_type": "markdown",
   "metadata": {},
   "source": [
    "KOMENTAR: Ove raspone dana dobili smo uvidom u indekse anomalija za broj novih gostiju na dnevnoj razini"
   ]
  },
  {
   "cell_type": "code",
   "execution_count": null,
   "metadata": {},
   "outputs": [],
   "source": [
    "date_range_1 = pd.date_range(start='2015-06-01', end='2015-06-09', freq='D')\n",
    "date_range_2 = pd.date_range(start='2017-09-01', end='2017-09-08', freq='D')\n",
    "date_range_3 = pd.date_range(start='2017-08-30', end='2017-10-04', freq='D') "
   ]
  },
  {
   "cell_type": "code",
   "execution_count": null,
   "metadata": {},
   "outputs": [],
   "source": [
    "indexes =indexes.union(date_range_1).union(date_range_2).union(date_range_3)"
   ]
  },
  {
   "cell_type": "code",
   "execution_count": null,
   "metadata": {},
   "outputs": [],
   "source": [
    "periods = []\n",
    "start_date = indexes[0]\n",
    "for i in range(1, len(indexes)):\n",
    "    if (indexes[i] - indexes[i-1]).days >1:\n",
    "        end_date = indexes[i-1]\n",
    "        periods.append((start_date, end_date))\n",
    "        start_date = indexes[i]\n",
    "\n",
    "periods.append((start_date, indexes[-1]))\n",
    "for start, end in periods:\n",
    "    print(f\"Periodi gdje je broj gostiju jednak nuli : od {start.date()} do {end.date()}, ukupno {(end - start).days+1} dana\")\n",
    "    \n",
    "plt.figure(figsize=(16, 8))\n",
    "\n",
    "plt.plot(NumberOfGuestsDailyCity['ukupno_gostiju'], marker='.', label='Broj gostiju')\n",
    "plt.plot(NumberOfGuestsDailyCity.loc[indexes, 'ukupno_gostiju'], 'o', color='red', label='Problematične vrijednosti')\n",
    "\n",
    "plt.title('Broj gostiju City Hotel na dnevnoj razini - vizualizacija proširenog skupa problematičnih vrijednosti')\n",
    "plt.xlabel('Dan dolaska')\n",
    "plt.ylabel('Broj gostiju na dnevnoj razini')\n",
    "\n",
    "plt.legend()\n",
    "plt.show()"
   ]
  },
  {
   "cell_type": "markdown",
   "metadata": {},
   "source": [
    "2.KORAK -umetanje podataka"
   ]
  },
  {
   "cell_type": "code",
   "execution_count": null,
   "metadata": {},
   "outputs": [],
   "source": [
    "indexes_valid = NumberOfGuestsDailyCity[NumberOfGuestsDailyCity['ukupno_gostiju'] != 0].index\n",
    "periods_valid = []\n",
    "start_date = indexes_valid[0]\n",
    "for i in range(1, len(indexes_valid)):\n",
    "    if (indexes_valid[i] - indexes_valid[i-1]).days > 1:\n",
    "        end_date = indexes_valid[i-1]\n",
    "        periods_valid.append((start_date, end_date))\n",
    "        start_date = indexes_valid[i]\n",
    "\n",
    "periods_valid.append((start_date, indexes_valid[-1]))\n",
    "\n",
    "for start, end in periods_valid:\n",
    "    print(f\"Periodi gdje je broj gostiju različit nuli : od {start.date()} do {end.date()}, ukupno {(end - start).days+1} dana\")"
   ]
  },
  {
   "cell_type": "code",
   "execution_count": 1747,
   "metadata": {},
   "outputs": [],
   "source": [
    "def calculate_mean_for_window(start, end):\n",
    "    window_data = NumberOfGuestsDailyCity[(NumberOfGuestsDailyCity.index >= start) & (NumberOfGuestsDailyCity.index <= end)]\n",
    "    #print(window_data)\n",
    "    return window_data['ukupno_gostiju'].mean(),window_data['prosjecna_cijena_po_osobi'].mean()"
   ]
  },
  {
   "cell_type": "code",
   "execution_count": 1759,
   "metadata": {},
   "outputs": [],
   "source": [
    "for start, end in periods:\n",
    "    period_length = (end - start).days\n",
    "\n",
    "    if period_length == 1:\n",
    "        window_start_before = start - pd.Timedelta(days=1)\n",
    "        window_end_after = end + pd.Timedelta(days=1)\n",
    "    elif period_length < 3:\n",
    "        window_start_before = start - pd.Timedelta(days=7) #moguće mijenati veličinu prozora\n",
    "        window_end_after = end + pd.Timedelta(days=7) #moguće mijenati veličinu prozora\n",
    "    else:\n",
    "        window_start_before = start - pd.Timedelta(days=3) #moguće mijenati veličinu prozora\n",
    "        window_end_after = end + pd.Timedelta(days=3) #moguće mijenati veličinu prozora\n",
    "\n",
    "    window_start_before = max(window_start_before, NumberOfGuestsDailyCity.index.min())\n",
    "    window_end_after = min(window_end_after, NumberOfGuestsDailyCity.index.max())\n",
    "\n",
    "    mean_before, mean_price_before = calculate_mean_for_window(window_start_before, start - pd.Timedelta(days=1))\n",
    "    mean_after,mean_price_after = calculate_mean_for_window(end + pd.Timedelta(days=1), window_end_after)\n",
    "\n",
    "    mean_value = (mean_before + mean_after) / 2\n",
    "    mean_price = (mean_price_before + mean_price_after) / 2\n",
    "    for day in pd.date_range(start, end):\n",
    "        if day in NumberOfGuestsDailyCity.index:\n",
    "            if mean_value < 300:\n",
    "                variance_percentage = random.uniform(-0.2, 0.2)  # +/- 10%  varijance kako bismo simulirali stvarne podatke\n",
    "            else:\n",
    "                variance_percentage = random.uniform(-0.1, 0.1)  # +/- 10%  varijance kako bismo simulirali stvarne podatke\n",
    "                \n",
    "            mean_price = mean_price + (mean_price * random.uniform(-0.05, 0.05))\n",
    "            varied_mean_value = mean_value + (mean_value * variance_percentage)\n",
    "            NumberOfGuestsDailyCity.at[day, 'ukupno_gostiju'] = varied_mean_value\n",
    "            NumberOfGuestsDailyCity.at[day, 'prosjecna_cijena_po_osobi'] = mean_price"
   ]
  },
  {
   "cell_type": "code",
   "execution_count": 1760,
   "metadata": {},
   "outputs": [
    {
     "data": {
      "image/png": "[encoded data removed]",
      "text/plain": [
       "<Figure size 1600x800 with 1 Axes>"
      ]
     },
     "metadata": {},
     "output_type": "display_data"
    }
   ],
   "source": [
    "plt.figure(figsize=(16, 8))\n",
    "\n",
    "plt.plot(NumberOfGuestsDailyCity['ukupno_gostiju'], marker='.', label='Broj gostiju nakon transformacije', color='blue')\n",
    "plt.plot(NumberOfGuestsDailyCityCopy['ukupno_gostiju'], marker='.', label='Originalan broj gostiju', color='yellow')\n",
    "\n",
    "plt.title('Ukupan broj gostiju City Hotel na dnevnoj razini nakon čišćenja')\n",
    "plt.xlabel('Dan dolaska')\n",
    "plt.ylabel('Broj novih gostiju na dnevnoj razini')\n",
    "\n",
    "plt.legend()\n",
    "plt.show()\n"
   ]
  },
  {
   "cell_type": "code",
   "execution_count": 1771,
   "metadata": {},
   "outputs": [],
   "source": [
    "NumberOfGuestsWeeklyCity = NumberOfGuestsDailyCity.resample('W').sum()\n",
    "#NumberOfGuestsWeeklyCity.index = NumberOfGuestsWeeklyCity.index - pd.DateOffset(days=6)\n",
    "NumberOfGuestsMonthlyCity = NumberOfGuestsDailyCity.resample('MS').sum()\n",
    "NumberOfGuestsYearlyCity = NumberOfGuestsDailyCity.resample('YS').sum()\n"
   ]
  },
  {
   "cell_type": "code",
   "execution_count": 1772,
   "metadata": {},
   "outputs": [
    {
     "data": {
      "image/png": "[encoded data removed]",
      "text/plain": [
       "<Figure size 1600x800 with 1 Axes>"
      ]
     },
     "metadata": {},
     "output_type": "display_data"
    }
   ],
   "source": [
    "plt.figure(figsize=(16, 8))\n",
    "\n",
    "plt.plot(NumberOfGuestsWeeklyCity['ukupno_gostiju'], marker='.', label='Broj gostiju nakon transformacije', color='blue')\n",
    "\n",
    "plt.plot(NumberOfGuestsWeeklyCityCopy['ukupno_gostiju'], marker='.', label='Originalan broj gostiju' , color='yellow')\n",
    "\n",
    "plt.title('Ukupan broj gostiju City Hotel na tjednoj razini nakon čišćenja')\n",
    "plt.xlabel('Tjedan dolaska')\n",
    "plt.ylabel('Ukupan broj gostiju na tjednoj razini')\n",
    "\n",
    "plt.legend()\n",
    "plt.show()"
   ]
  },
  {
   "cell_type": "code",
   "execution_count": null,
   "metadata": {},
   "outputs": [],
   "source": [
    "plt.figure(figsize=(16, 8))\n",
    "\n",
    "plt.plot(NumberOfGuestsMonthlyCity['ukupno_gostiju'], marker='.', label='Broj gostiju nakon transformacije')\n",
    "\n",
    "plt.plot(NumberOfGuestsMonthlyCityCopy['ukupno_gostiju'], marker='.', label='Originalan broj gostiju', color='yellow')\n",
    "plt.title('Broj novih gostiju City Hotel na mjesečnoj razini nakon čišćenja')\n",
    "plt.xlabel('Tjedan dolaska')\n",
    "plt.ylabel('Broj novih gostiju na mjesečnoj razini')\n",
    "\n",
    "plt.legend()\n",
    "plt.show()"
   ]
  },
  {
   "cell_type": "code",
   "execution_count": 1765,
   "metadata": {},
   "outputs": [
    {
     "data": {
      "text/plain": [
       "Timestamp('2015-01-01 00:00:00')"
      ]
     },
     "execution_count": 1765,
     "metadata": {},
     "output_type": "execute_result"
    }
   ],
   "source": [
    "dataCity['datum_dolaska'].min()"
   ]
  },
  {
   "cell_type": "markdown",
   "metadata": {},
   "source": [
    "### Caption"
   ]
  }
 ],
 "metadata": {
  "kernelspec": {
   "display_name": "env",
   "language": "python",
   "name": "python3"
  },
  "language_info": {
   "codemirror_mode": {
    "name": "ipython",
    "version": 3
   },
   "file_extension": ".py",
   "mimetype": "text/x-python",
   "name": "python",
   "nbconvert_exporter": "python",
   "pygments_lexer": "ipython3",
   "version": "3.11.5"
  }
 },
 "nbformat": 4,
 "nbformat_minor": 2
}
