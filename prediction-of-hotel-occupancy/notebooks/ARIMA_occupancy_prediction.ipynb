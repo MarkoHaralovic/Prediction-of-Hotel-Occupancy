{
 "cells": [
  {
   "cell_type": "markdown",
   "id": "49e275b8",
   "metadata": {},
   "source": [
    "# Predviđanje broja gostiju na dnevnoj, tjodnoj i jesečnoj bazi koristeći statistički model ARIMA\n",
    "\n",
    "**Rezultati** \n",
    "- Hotel booking demand dataset\n",
    "    - Dnevne predikcije\n",
    "        - Test MAPE City Hotel: xx\n",
    "        - Test MAPE Resort Hotel: xx\n",
    "    - Tjedne predikcije\n",
    "        - Test MAPE City Hotel: xx\n",
    "        - Test MAPE Resort Hotel: xx\n",
    "    - Mjesečne predikcije\n",
    "        - Test MAPE City Hotel: xx\n",
    "        - Test MAPE Resort Hotel: xx\n",
    "\n",
    "- Lumen dataset `data/interim/data_wo_cancel.parquet`\n",
    "- Hotel 0 dataset `data/interim/data_wo_cancel_hotel0.parquet`\n",
    "- Hotel 1 dataset `data/interim/data_wo_cancel_hotel1.parquet`"
   ]
  },
  {
   "cell_type": "markdown",
   "id": "parallel-scientist",
   "metadata": {
    "papermill": {
     "duration": 0.052544,
     "end_time": "2021-07-29T22:07:47.098458",
     "exception": false,
     "start_time": "2021-07-29T22:07:47.045914",
     "status": "completed"
    },
    "tags": []
   },
   "source": [
    "# Učitavanje modula"
   ]
  },
  {
   "cell_type": "code",
   "execution_count": 3,
   "id": "normal-vancouver",
   "metadata": {
    "_cell_guid": "b1076dfc-b9ad-4769-8c92-a6c4dae69d19",
    "_kg_hide-input": true,
    "_kg_hide-output": true,
    "_uuid": "8f2839f25d086af736a60e9eeb907d3b93b6e0e5",
    "execution": {
     "iopub.execute_input": "2021-07-29T22:07:47.208495Z",
     "iopub.status.busy": "2021-07-29T22:07:47.207219Z",
     "iopub.status.idle": "2021-07-29T22:08:00.772684Z",
     "shell.execute_reply": "2021-07-29T22:08:00.771456Z"
    },
    "papermill": {
     "duration": 13.621585,
     "end_time": "2021-07-29T22:08:00.773018",
     "exception": false,
     "start_time": "2021-07-29T22:07:47.151433",
     "status": "completed"
    },
    "tags": []
   },
   "outputs": [
    {
     "name": "stdout",
     "output_type": "stream",
     "text": [
      "..\\data\\raw\\export_df.parquet\n"
     ]
    }
   ],
   "source": [
    "import os\n",
    "import matplotlib.pyplot as plt\n",
    "import pandas as pd\n",
    "from statsmodels.tsa.stattools import adfuller\n",
    "from statsmodels.tsa.arima.model import ARIMA\n",
    "from pmdarima import auto_arima\n",
    "import warnings\n",
    "from sklearn.metrics import mean_absolute_percentage_error\n",
    "import os\n",
    "\n",
    "for dirname, _, filenames in os.walk('..\\\\data\\\\raw'):\n",
    "    for filename in filenames:\n",
    "        print(os.path.join(dirname, filename))\n",
    "        \n",
    "warnings.filterwarnings(\"ignore\")"
   ]
  },
  {
   "cell_type": "markdown",
   "id": "94be9c46",
   "metadata": {},
   "source": [
    "# Učitavanje podataka "
   ]
  },
  {
   "cell_type": "code",
   "execution_count": 4,
   "id": "985ecb53",
   "metadata": {},
   "outputs": [],
   "source": [
    "DATA_WO_CANCELLATIONS_PATH = '../data/interim/data_wo_cancel.parquet'\n",
    "DATA_HOTEL0_PATH = '../data/interim/data_wo_cancel_hotel0.parquet'\n",
    "DATA_HOTEL1_PATH = '../data/interim/data_wo_cancel_hotel1.parquet'\n"
   ]
  },
  {
   "cell_type": "code",
   "execution_count": 14,
   "id": "postal-transmission",
   "metadata": {
    "execution": {
     "iopub.execute_input": "2021-07-29T22:08:00.898241Z",
     "iopub.status.busy": "2021-07-29T22:08:00.897540Z",
     "iopub.status.idle": "2021-07-29T22:08:01.640937Z",
     "shell.execute_reply": "2021-07-29T22:08:01.640312Z",
     "shell.execute_reply.started": "2021-07-04T21:33:32.540589Z"
    },
    "papermill": {
     "duration": 0.806263,
     "end_time": "2021-07-29T22:08:01.641099",
     "exception": false,
     "start_time": "2021-07-29T22:08:00.834836",
     "status": "completed"
    },
    "tags": []
   },
   "outputs": [
    {
     "data": {
      "text/html": [
       "<div>\n",
       "<style scoped>\n",
       "    .dataframe tbody tr th:only-of-type {\n",
       "        vertical-align: middle;\n",
       "    }\n",
       "\n",
       "    .dataframe tbody tr th {\n",
       "        vertical-align: top;\n",
       "    }\n",
       "\n",
       "    .dataframe thead th {\n",
       "        text-align: right;\n",
       "    }\n",
       "</style>\n",
       "<table border=\"1\" class=\"dataframe\">\n",
       "  <thead>\n",
       "    <tr style=\"text-align: right;\">\n",
       "      <th></th>\n",
       "      <th>hotel_id</th>\n",
       "      <th>datum_dolaska</th>\n",
       "      <th>zemlja_gosta</th>\n",
       "      <th>kanal_prodaje_id</th>\n",
       "      <th>tip_sobe_id</th>\n",
       "      <th>cijena_nocenja</th>\n",
       "      <th>gost_id</th>\n",
       "      <th>duljina_boravka</th>\n",
       "      <th>ukupno_gostiju</th>\n",
       "      <th>raspon_dolazak_rezervacija</th>\n",
       "    </tr>\n",
       "  </thead>\n",
       "  <tbody>\n",
       "    <tr>\n",
       "      <th>0</th>\n",
       "      <td>0</td>\n",
       "      <td>2015-07-01</td>\n",
       "      <td>PRT</td>\n",
       "      <td>0</td>\n",
       "      <td>0</td>\n",
       "      <td>100.000000</td>\n",
       "      <td>1077152</td>\n",
       "      <td>0</td>\n",
       "      <td>2.0</td>\n",
       "      <td>161</td>\n",
       "    </tr>\n",
       "    <tr>\n",
       "      <th>1</th>\n",
       "      <td>0</td>\n",
       "      <td>2015-07-01</td>\n",
       "      <td>PRT</td>\n",
       "      <td>0</td>\n",
       "      <td>0</td>\n",
       "      <td>100.000000</td>\n",
       "      <td>1017906</td>\n",
       "      <td>0</td>\n",
       "      <td>2.0</td>\n",
       "      <td>21</td>\n",
       "    </tr>\n",
       "    <tr>\n",
       "      <th>2</th>\n",
       "      <td>0</td>\n",
       "      <td>2015-07-01</td>\n",
       "      <td>GBR</td>\n",
       "      <td>0</td>\n",
       "      <td>1</td>\n",
       "      <td>64.991345</td>\n",
       "      <td>1039896</td>\n",
       "      <td>1</td>\n",
       "      <td>1.0</td>\n",
       "      <td>49</td>\n",
       "    </tr>\n",
       "    <tr>\n",
       "      <th>3</th>\n",
       "      <td>0</td>\n",
       "      <td>2015-07-01</td>\n",
       "      <td>GBR</td>\n",
       "      <td>1</td>\n",
       "      <td>1</td>\n",
       "      <td>74.368897</td>\n",
       "      <td>1008245</td>\n",
       "      <td>1</td>\n",
       "      <td>1.0</td>\n",
       "      <td>397</td>\n",
       "    </tr>\n",
       "    <tr>\n",
       "      <th>4</th>\n",
       "      <td>0</td>\n",
       "      <td>2015-07-01</td>\n",
       "      <td>GBR</td>\n",
       "      <td>2</td>\n",
       "      <td>1</td>\n",
       "      <td>130.973278</td>\n",
       "      <td>1093703</td>\n",
       "      <td>2</td>\n",
       "      <td>2.0</td>\n",
       "      <td>360</td>\n",
       "    </tr>\n",
       "  </tbody>\n",
       "</table>\n",
       "</div>"
      ],
      "text/plain": [
       "   hotel_id datum_dolaska zemlja_gosta  kanal_prodaje_id  tip_sobe_id  \\\n",
       "0         0    2015-07-01          PRT                 0            0   \n",
       "1         0    2015-07-01          PRT                 0            0   \n",
       "2         0    2015-07-01          GBR                 0            1   \n",
       "3         0    2015-07-01          GBR                 1            1   \n",
       "4         0    2015-07-01          GBR                 2            1   \n",
       "\n",
       "   cijena_nocenja  gost_id  duljina_boravka  ukupno_gostiju  \\\n",
       "0      100.000000  1077152                0             2.0   \n",
       "1      100.000000  1017906                0             2.0   \n",
       "2       64.991345  1039896                1             1.0   \n",
       "3       74.368897  1008245                1             1.0   \n",
       "4      130.973278  1093703                2             2.0   \n",
       "\n",
       "   raspon_dolazak_rezervacija  \n",
       "0                         161  \n",
       "1                          21  \n",
       "2                          49  \n",
       "3                         397  \n",
       "4                         360  "
      ]
     },
     "execution_count": 14,
     "metadata": {},
     "output_type": "execute_result"
    }
   ],
   "source": [
    "data = pd.read_parquet(DATA_WO_CANCELLATIONS_PATH)\n",
    "dataResort = pd.read_parquet(DATA_HOTEL0_PATH)\n",
    "dataCity = pd.read_parquet(DATA_HOTEL1_PATH)\n",
    "data.head()"
   ]
  },
  {
   "cell_type": "code",
   "execution_count": 8,
   "id": "helpful-bonus",
   "metadata": {
    "execution": {
     "iopub.execute_input": "2021-07-29T22:08:01.769667Z",
     "iopub.status.busy": "2021-07-29T22:08:01.768770Z",
     "iopub.status.idle": "2021-07-29T22:08:01.941686Z",
     "shell.execute_reply": "2021-07-29T22:08:01.940850Z",
     "shell.execute_reply.started": "2021-07-04T20:55:03.428663Z"
    },
    "papermill": {
     "duration": 0.240065,
     "end_time": "2021-07-29T22:08:01.941858",
     "exception": false,
     "start_time": "2021-07-29T22:08:01.701793",
     "status": "completed"
    },
    "tags": []
   },
   "outputs": [
    {
     "name": "stdout",
     "output_type": "stream",
     "text": [
      "<class 'pandas.core.frame.DataFrame'>\n",
      "RangeIndex: 74553 entries, 0 to 74552\n",
      "Data columns (total 10 columns):\n",
      " #   Column                      Non-Null Count  Dtype         \n",
      "---  ------                      --------------  -----         \n",
      " 0   hotel_id                    74553 non-null  int32         \n",
      " 1   datum_dolaska               74553 non-null  datetime64[ns]\n",
      " 2   zemlja_gosta                74553 non-null  object        \n",
      " 3   kanal_prodaje_id            74553 non-null  int32         \n",
      " 4   tip_sobe_id                 74553 non-null  int32         \n",
      " 5   cijena_nocenja              74553 non-null  float64       \n",
      " 6   gost_id                     74553 non-null  int32         \n",
      " 7   duljina_boravka             74553 non-null  int64         \n",
      " 8   ukupno_gostiju              74553 non-null  float64       \n",
      " 9   raspon_dolazak_rezervacija  74553 non-null  int64         \n",
      "dtypes: datetime64[ns](1), float64(2), int32(4), int64(2), object(1)\n",
      "memory usage: 4.6+ MB\n"
     ]
    }
   ],
   "source": [
    "data.info()"
   ]
  },
  {
   "cell_type": "code",
   "execution_count": 9,
   "id": "headed-bobby",
   "metadata": {
    "execution": {
     "iopub.execute_input": "2021-07-29T22:08:02.191793Z",
     "iopub.status.busy": "2021-07-29T22:08:02.190844Z",
     "iopub.status.idle": "2021-07-29T22:08:02.344884Z",
     "shell.execute_reply": "2021-07-29T22:08:02.344333Z",
     "shell.execute_reply.started": "2021-07-04T20:55:06.348585Z"
    },
    "papermill": {
     "duration": 0.220986,
     "end_time": "2021-07-29T22:08:02.345043",
     "exception": false,
     "start_time": "2021-07-29T22:08:02.124057",
     "status": "completed"
    },
    "tags": []
   },
   "outputs": [
    {
     "data": {
      "text/plain": [
       "hotel_id                      0\n",
       "datum_dolaska                 0\n",
       "zemlja_gosta                  0\n",
       "kanal_prodaje_id              0\n",
       "tip_sobe_id                   0\n",
       "cijena_nocenja                0\n",
       "gost_id                       0\n",
       "duljina_boravka               0\n",
       "ukupno_gostiju                0\n",
       "raspon_dolazak_rezervacija    0\n",
       "dtype: int64"
      ]
     },
     "execution_count": 9,
     "metadata": {},
     "output_type": "execute_result"
    }
   ],
   "source": [
    "NaN = data.isna().sum()\n",
    "NaN"
   ]
  },
  {
   "cell_type": "markdown",
   "id": "0074bebf",
   "metadata": {},
   "source": [
    "### Dodavanje ciljane varijable - ukupan broj gostiju u nekom periodu, na dnevnoj, tjednoj, mjesečnoj i godišnjoj razini"
   ]
  },
  {
   "cell_type": "markdown",
   "id": "2542bf6a",
   "metadata": {},
   "source": [
    "### City Hotel"
   ]
  },
  {
   "cell_type": "markdown",
   "id": "460e47c6",
   "metadata": {},
   "source": [
    "#### Dnevna razina"
   ]
  },
  {
   "cell_type": "code",
   "execution_count": 15,
   "id": "ac45785c",
   "metadata": {},
   "outputs": [
    {
     "data": {
      "text/html": [
       "<div>\n",
       "<style scoped>\n",
       "    .dataframe tbody tr th:only-of-type {\n",
       "        vertical-align: middle;\n",
       "    }\n",
       "\n",
       "    .dataframe tbody tr th {\n",
       "        vertical-align: top;\n",
       "    }\n",
       "\n",
       "    .dataframe thead th {\n",
       "        text-align: right;\n",
       "    }\n",
       "</style>\n",
       "<table border=\"1\" class=\"dataframe\">\n",
       "  <thead>\n",
       "    <tr style=\"text-align: right;\">\n",
       "      <th></th>\n",
       "      <th>ukupno_gostiju</th>\n",
       "    </tr>\n",
       "    <tr>\n",
       "      <th>datum_dolaska</th>\n",
       "      <th></th>\n",
       "    </tr>\n",
       "  </thead>\n",
       "  <tbody>\n",
       "    <tr>\n",
       "      <th>2015-01-01</th>\n",
       "      <td>10.0</td>\n",
       "    </tr>\n",
       "    <tr>\n",
       "      <th>2015-01-02</th>\n",
       "      <td>6.0</td>\n",
       "    </tr>\n",
       "    <tr>\n",
       "      <th>2015-01-03</th>\n",
       "      <td>11.0</td>\n",
       "    </tr>\n",
       "    <tr>\n",
       "      <th>2015-01-04</th>\n",
       "      <td>8.0</td>\n",
       "    </tr>\n",
       "    <tr>\n",
       "      <th>2015-01-05</th>\n",
       "      <td>4.0</td>\n",
       "    </tr>\n",
       "  </tbody>\n",
       "</table>\n",
       "</div>"
      ],
      "text/plain": [
       "               ukupno_gostiju\n",
       "datum_dolaska                \n",
       "2015-01-01               10.0\n",
       "2015-01-02                6.0\n",
       "2015-01-03               11.0\n",
       "2015-01-04                8.0\n",
       "2015-01-05                4.0"
      ]
     },
     "execution_count": 15,
     "metadata": {},
     "output_type": "execute_result"
    }
   ],
   "source": [
    "NumberOfGuestsDailyCity = dataCity['ukupno_gostiju'].groupby(dataCity['datum_dolaska']).sum()\n",
    "NumberOfGuestsDailyCity = NumberOfGuestsDailyCity.resample('d').sum().to_frame()\n",
    "org_len = len(NumberOfGuestsDailyCity)\n",
    "NumberOfGuestsDailyCity.head(5)"
   ]
  },
  {
   "cell_type": "markdown",
   "id": "082d9a0d",
   "metadata": {},
   "source": [
    "#### Tjedna razina"
   ]
  },
  {
   "cell_type": "code",
   "execution_count": 17,
   "id": "0df54219",
   "metadata": {},
   "outputs": [
    {
     "data": {
      "text/html": [
       "<div>\n",
       "<style scoped>\n",
       "    .dataframe tbody tr th:only-of-type {\n",
       "        vertical-align: middle;\n",
       "    }\n",
       "\n",
       "    .dataframe tbody tr th {\n",
       "        vertical-align: top;\n",
       "    }\n",
       "\n",
       "    .dataframe thead th {\n",
       "        text-align: right;\n",
       "    }\n",
       "</style>\n",
       "<table border=\"1\" class=\"dataframe\">\n",
       "  <thead>\n",
       "    <tr style=\"text-align: right;\">\n",
       "      <th></th>\n",
       "      <th>ukupno_gostiju</th>\n",
       "    </tr>\n",
       "    <tr>\n",
       "      <th>datum_dolaska</th>\n",
       "      <th></th>\n",
       "    </tr>\n",
       "  </thead>\n",
       "  <tbody>\n",
       "    <tr>\n",
       "      <th>2015-01-04</th>\n",
       "      <td>35.0</td>\n",
       "    </tr>\n",
       "    <tr>\n",
       "      <th>2015-01-11</th>\n",
       "      <td>42.0</td>\n",
       "    </tr>\n",
       "    <tr>\n",
       "      <th>2015-01-18</th>\n",
       "      <td>54.0</td>\n",
       "    </tr>\n",
       "    <tr>\n",
       "      <th>2015-01-25</th>\n",
       "      <td>48.0</td>\n",
       "    </tr>\n",
       "    <tr>\n",
       "      <th>2015-02-01</th>\n",
       "      <td>27.0</td>\n",
       "    </tr>\n",
       "  </tbody>\n",
       "</table>\n",
       "</div>"
      ],
      "text/plain": [
       "               ukupno_gostiju\n",
       "datum_dolaska                \n",
       "2015-01-04               35.0\n",
       "2015-01-11               42.0\n",
       "2015-01-18               54.0\n",
       "2015-01-25               48.0\n",
       "2015-02-01               27.0"
      ]
     },
     "execution_count": 17,
     "metadata": {},
     "output_type": "execute_result"
    }
   ],
   "source": [
    "NumberOfGuestsWeeklyCity = dataCity['ukupno_gostiju'].groupby(dataCity['datum_dolaska']).sum()\n",
    "NumberOfGuestsWeeklyCity = NumberOfGuestsWeeklyCity.resample('W').sum().to_frame()\n",
    "org_len = len(NumberOfGuestsWeeklyCity)\n",
    "NumberOfGuestsWeeklyCity.head(5)"
   ]
  },
  {
   "cell_type": "markdown",
   "id": "602c8dfd",
   "metadata": {},
   "source": [
    "#### Mjesečna razina"
   ]
  },
  {
   "cell_type": "code",
   "execution_count": 18,
   "id": "6640c1ca",
   "metadata": {},
   "outputs": [
    {
     "data": {
      "text/html": [
       "<div>\n",
       "<style scoped>\n",
       "    .dataframe tbody tr th:only-of-type {\n",
       "        vertical-align: middle;\n",
       "    }\n",
       "\n",
       "    .dataframe tbody tr th {\n",
       "        vertical-align: top;\n",
       "    }\n",
       "\n",
       "    .dataframe thead th {\n",
       "        text-align: right;\n",
       "    }\n",
       "</style>\n",
       "<table border=\"1\" class=\"dataframe\">\n",
       "  <thead>\n",
       "    <tr style=\"text-align: right;\">\n",
       "      <th></th>\n",
       "      <th>ukupno_gostiju</th>\n",
       "    </tr>\n",
       "    <tr>\n",
       "      <th>datum_dolaska</th>\n",
       "      <th></th>\n",
       "    </tr>\n",
       "  </thead>\n",
       "  <tbody>\n",
       "    <tr>\n",
       "      <th>2015-01-31</th>\n",
       "      <td>206.0</td>\n",
       "    </tr>\n",
       "    <tr>\n",
       "      <th>2015-02-28</th>\n",
       "      <td>0.0</td>\n",
       "    </tr>\n",
       "    <tr>\n",
       "      <th>2015-03-31</th>\n",
       "      <td>0.0</td>\n",
       "    </tr>\n",
       "    <tr>\n",
       "      <th>2015-04-30</th>\n",
       "      <td>0.0</td>\n",
       "    </tr>\n",
       "    <tr>\n",
       "      <th>2015-05-31</th>\n",
       "      <td>1072.0</td>\n",
       "    </tr>\n",
       "  </tbody>\n",
       "</table>\n",
       "</div>"
      ],
      "text/plain": [
       "               ukupno_gostiju\n",
       "datum_dolaska                \n",
       "2015-01-31              206.0\n",
       "2015-02-28                0.0\n",
       "2015-03-31                0.0\n",
       "2015-04-30                0.0\n",
       "2015-05-31             1072.0"
      ]
     },
     "execution_count": 18,
     "metadata": {},
     "output_type": "execute_result"
    }
   ],
   "source": [
    "NumberOfGuestsMonthlyCity = dataCity['ukupno_gostiju'].groupby(dataCity['datum_dolaska']).sum()\n",
    "NumberOfGuestsMonthlyCity = NumberOfGuestsMonthlyCity .resample('ME').sum().to_frame()\n",
    "org_len = len(NumberOfGuestsMonthlyCity)\n",
    "NumberOfGuestsMonthlyCity.head(5)"
   ]
  },
  {
   "cell_type": "markdown",
   "id": "d960ea73",
   "metadata": {},
   "source": [
    "#### Godišnja razina"
   ]
  },
  {
   "cell_type": "code",
   "execution_count": 21,
   "id": "ced58e63",
   "metadata": {},
   "outputs": [
    {
     "data": {
      "text/html": [
       "<div>\n",
       "<style scoped>\n",
       "    .dataframe tbody tr th:only-of-type {\n",
       "        vertical-align: middle;\n",
       "    }\n",
       "\n",
       "    .dataframe tbody tr th {\n",
       "        vertical-align: top;\n",
       "    }\n",
       "\n",
       "    .dataframe thead th {\n",
       "        text-align: right;\n",
       "    }\n",
       "</style>\n",
       "<table border=\"1\" class=\"dataframe\">\n",
       "  <thead>\n",
       "    <tr style=\"text-align: right;\">\n",
       "      <th></th>\n",
       "      <th>ukupno_gostiju</th>\n",
       "    </tr>\n",
       "    <tr>\n",
       "      <th>datum_dolaska</th>\n",
       "      <th></th>\n",
       "    </tr>\n",
       "  </thead>\n",
       "  <tbody>\n",
       "    <tr>\n",
       "      <th>2015-12-31</th>\n",
       "      <td>13723.0</td>\n",
       "    </tr>\n",
       "    <tr>\n",
       "      <th>2016-12-31</th>\n",
       "      <td>44405.0</td>\n",
       "    </tr>\n",
       "    <tr>\n",
       "      <th>2017-12-31</th>\n",
       "      <td>31254.0</td>\n",
       "    </tr>\n",
       "  </tbody>\n",
       "</table>\n",
       "</div>"
      ],
      "text/plain": [
       "               ukupno_gostiju\n",
       "datum_dolaska                \n",
       "2015-12-31            13723.0\n",
       "2016-12-31            44405.0\n",
       "2017-12-31            31254.0"
      ]
     },
     "execution_count": 21,
     "metadata": {},
     "output_type": "execute_result"
    }
   ],
   "source": [
    "NumberOfGuestsYearlyCity = dataCity['ukupno_gostiju'].groupby(dataCity['datum_dolaska']).sum()\n",
    "NumberOfGuestsYearlyCity = NumberOfGuestsYearlyCity.resample('y').sum().to_frame()\n",
    "NumberOfGuestsYearlyCity.head(5)"
   ]
  },
  {
   "cell_type": "markdown",
   "id": "abb480a4",
   "metadata": {},
   "source": [
    "#### Problemi s anomalija kod City Hotela (npr. 0 gostiju u nekim danima)"
   ]
  },
  {
   "cell_type": "code",
   "execution_count": 33,
   "id": "0e7d6240",
   "metadata": {},
   "outputs": [
    {
     "name": "stdout",
     "output_type": "stream",
     "text": [
      "Periodi gdje je broj gostiju jednak nuli : od 2015-02-01 do 2015-04-30, ukupno 88 dana\n",
      "Periodi gdje je broj gostiju jednak nuli : od 2015-06-01 do 2015-06-30, ukupno 29 dana\n",
      "Periodi gdje je broj gostiju jednak nuli : od 2015-07-05 do 2015-07-06, ukupno 1 dana\n",
      "Periodi gdje je broj gostiju jednak nuli : od 2015-07-12 do 2015-07-14, ukupno 2 dana\n",
      "Periodi gdje je broj gostiju jednak nuli : od 2015-07-19 do 2015-07-19, ukupno 0 dana\n",
      "Periodi gdje je broj gostiju jednak nuli : od 2015-07-21 do 2015-07-21, ukupno 0 dana\n",
      "Periodi gdje je broj gostiju jednak nuli : od 2017-09-01 do 2017-09-30, ukupno 29 dana\n"
     ]
    }
   ],
   "source": [
    "indexes = NumberOfGuestsDailyCity[NumberOfGuestsDailyCity['ukupno_gostiju'] == 0].index\n",
    "periods = []\n",
    "start_date = indexes[0]\n",
    "for i in range(1, len(indexes)):\n",
    "    if (indexes[i] - indexes[i-1]).days > 1:\n",
    "        end_date = indexes[i-1]\n",
    "        periods.append((start_date, end_date))\n",
    "        start_date = indexes[i]\n",
    "\n",
    "periods.append((start_date, indexes[-1]))\n",
    "\n",
    "for start, end in periods:\n",
    "    print(f\"Periodi gdje je broj gostiju jednak nuli : od {start.date()} do {end.date()}, ukupno {(end - start).days} dana\")"
   ]
  },
  {
   "cell_type": "markdown",
   "id": "a116069c",
   "metadata": {},
   "source": [
    "ZAKLJUČAK\n",
    "- dio podataka gdje je duljina perioda gdje hotel nema gostiju dulja od tjedan dana ima smisla izbaciti, zajedno s podacima koji prethode, ako govorimo o \"malom \"uzorku \"čistih\" podataka koji prethode dugim anomalijama\n",
    "- kako je taj \"mali\" uzorak podataka koji smijemo izbaciti arbitraran, moguće je modelirati na više načina, s većom/manjom količinom izbacivanja podataka\n",
    "- manje periode ima smisla modelirati na način da se agregiraju srednje vrijednosti podatka iz susjedstva (npr. tjedan dana prije i poslije) ili interpolirati srednje vrijednosti iz susjedstva\n",
    "- prethodno može biti primjenjemo na dulje periode, ukoliko je potrebno\n",
    "- ARIMA model, kao i MAPE metrika, ne reagiraju dobro na anomalije, odnosno MAPE puca (zbog djeljenja s nulom) ako su ciljani podaci nula, odnosno u ovom slučaju za svaki slučaj kada je broj ukupnih gosti na bilo kojoj vremenskoj bazi jednak nuli\n"
   ]
  },
  {
   "cell_type": "code",
   "execution_count": 37,
   "id": "eecbdc79",
   "metadata": {},
   "outputs": [
    {
     "data": {
      "image/png": "[encoded data removed]",
      "text/plain": [
       "<Figure size 1600x800 with 1 Axes>"
      ]
     },
     "metadata": {},
     "output_type": "display_data"
    }
   ],
   "source": [
    "plt.figure(figsize=(16, 8))\n",
    "\n",
    "plt.plot(NumberOfGuestsDailyCity['ukupno_gostiju'], marker='.', label='Guests')\n",
    "plt.plot(NumberOfGuestsDailyCity.loc[indexes, 'ukupno_gostiju'], 'o', color='red', label='Problematične vrijednsosti')\n",
    "\n",
    "plt.title('Broj gostiju City Hotel an dnevnoj razini')\n",
    "plt.xlabel('Dan dolaska')\n",
    "plt.ylabel('Broj gostiju na dnevnoj razini')\n",
    "\n",
    "plt.legend()\n",
    "plt.show()"
   ]
  },
  {
   "cell_type": "code",
   "execution_count": 42,
   "id": "752588b8",
   "metadata": {},
   "outputs": [
    {
     "data": {
      "image/png": "[encoded data removed]",
      "text/plain": [
       "<Figure size 1600x800 with 1 Axes>"
      ]
     },
     "metadata": {},
     "output_type": "display_data"
    }
   ],
   "source": [
    "weekly_indexes = NumberOfGuestsWeeklyCity[NumberOfGuestsWeeklyCity['ukupno_gostiju'] == 0].index\n",
    "outliers_weekly = NumberOfGuestsWeeklyCity[NumberOfGuestsWeeklyCity.index.isin(weekly_indexes)]\n",
    "\n",
    "plt.figure(figsize=(16, 8))\n",
    "plt.plot(NumberOfGuestsWeeklyCity['ukupno_gostiju'], marker='.', label='Guests')\n",
    "plt.plot(outliers_weekly['ukupno_gostiju'], 'o', color='red', label='Outlier')\n",
    "plt.title('Broj gostiju City Hotel an tjednoj razini')\n",
    "plt.xlabel('Tjedan dolaska')\n",
    "plt.ylabel('Broj gostiju na tjednoj razini')\n",
    "plt.legend()\n",
    "plt.show()"
   ]
  },
  {
   "cell_type": "code",
   "execution_count": null,
   "id": "708be0f9",
   "metadata": {},
   "outputs": [],
   "source": [
    "\n",
    "rolling_mean_daily = NumberOfGuestsDailyCity['ukupno_gostiju'].rolling(window=4, min_periods=1).mean()\n",
    "\n",
    "for idx in NumberOfGuestsDailyCity[NumberOfGuestsDailyCity['ukupno_gostiju'] == 0].index:\n",
    "    NumberOfGuestsDailyCity.at[idx, 'ukupno_gostiju'] = rolling_mean_daily[idx]\n",
    "\n",
    "new_len = len(NumberOfGuestsDailyCity)\n",
    "\n",
    "assert new_len == org_len\n"
   ]
  },
  {
   "cell_type": "markdown",
   "id": "a2054983",
   "metadata": {},
   "source": [
    "#### OPCIONALNO"
   ]
  },
  {
   "cell_type": "code",
   "execution_count": null,
   "id": "f2cea948",
   "metadata": {},
   "outputs": [],
   "source": [
    "rolling_mean_weekly = NumberOfGuestsWeeklyCity['ukupno_gostiju'].rolling(window=4, min_periods=1).mean()\n",
    "\n",
    "for idx in NumberOfGuestsWeeklyCity[NumberOfGuestsWeeklyCity['ukupno_gostiju'] == 0].index:\n",
    "    NumberOfGuestsWeeklyCity.at[idx, 'ukupno_gostiju'] = rolling_mean_weekly[idx]\n",
    "\n",
    "new_len = len(NumberOfGuestsWeeklyCity)\n",
    "\n",
    "assert new_len == org_len\n"
   ]
  },
  {
   "cell_type": "markdown",
   "id": "d9c960f9",
   "metadata": {},
   "source": [
    "#### OPCIONALNO"
   ]
  },
  {
   "cell_type": "code",
   "execution_count": null,
   "id": "21fd411c",
   "metadata": {},
   "outputs": [],
   "source": [
    "rolling_mean_monthly = NumberOfGuestsMonthlyCity['ukupno_gostiju'].rolling(window=4, min_periods=1).mean()\n",
    "\n",
    "for idx in NumberOfGuestsMonthlyCity[NumberOfGuestsMonthlyCity['ukupno_gostiju'] == 0].index:\n",
    "    NumberOfGuestsMonthlyCity.at[idx, 'ukupno_gostiju'] = rolling_mean_monthly[idx]\n",
    "\n",
    "new_len = len(NumberOfGuestsMonthlyCity)\n",
    "\n",
    "assert new_len == org_len\n",
    "NumberOfGuestsMonthlyCity.head(5)"
   ]
  },
  {
   "cell_type": "markdown",
   "id": "13019bba",
   "metadata": {},
   "source": [
    "### Resort Hotel"
   ]
  },
  {
   "cell_type": "code",
   "execution_count": 20,
   "id": "75e6e82c",
   "metadata": {},
   "outputs": [
    {
     "data": {
      "text/html": [
       "<div>\n",
       "<style scoped>\n",
       "    .dataframe tbody tr th:only-of-type {\n",
       "        vertical-align: middle;\n",
       "    }\n",
       "\n",
       "    .dataframe tbody tr th {\n",
       "        vertical-align: top;\n",
       "    }\n",
       "\n",
       "    .dataframe thead th {\n",
       "        text-align: right;\n",
       "    }\n",
       "</style>\n",
       "<table border=\"1\" class=\"dataframe\">\n",
       "  <thead>\n",
       "    <tr style=\"text-align: right;\">\n",
       "      <th></th>\n",
       "      <th>ukupno_gostiju</th>\n",
       "    </tr>\n",
       "    <tr>\n",
       "      <th>datum_dolaska</th>\n",
       "      <th></th>\n",
       "    </tr>\n",
       "  </thead>\n",
       "  <tbody>\n",
       "    <tr>\n",
       "      <th>2015-07-01</th>\n",
       "      <td>67.0</td>\n",
       "    </tr>\n",
       "    <tr>\n",
       "      <th>2015-07-02</th>\n",
       "      <td>72.0</td>\n",
       "    </tr>\n",
       "    <tr>\n",
       "      <th>2015-07-03</th>\n",
       "      <td>59.0</td>\n",
       "    </tr>\n",
       "    <tr>\n",
       "      <th>2015-07-04</th>\n",
       "      <td>80.0</td>\n",
       "    </tr>\n",
       "    <tr>\n",
       "      <th>2015-07-05</th>\n",
       "      <td>80.0</td>\n",
       "    </tr>\n",
       "  </tbody>\n",
       "</table>\n",
       "</div>"
      ],
      "text/plain": [
       "               ukupno_gostiju\n",
       "datum_dolaska                \n",
       "2015-07-01               67.0\n",
       "2015-07-02               72.0\n",
       "2015-07-03               59.0\n",
       "2015-07-04               80.0\n",
       "2015-07-05               80.0"
      ]
     },
     "execution_count": 20,
     "metadata": {},
     "output_type": "execute_result"
    }
   ],
   "source": [
    "NumberOfGuestsDailyResort = dataResort['ukupno_gostiju'].groupby(dataResort['datum_dolaska']).sum()\n",
    "NumberOfGuestsDailyResort = NumberOfGuestsDailyResort.resample('d').sum().to_frame()\n",
    "NumberOfGuestsDailyResort.head()"
   ]
  },
  {
   "cell_type": "markdown",
   "id": "f877f1cb",
   "metadata": {},
   "source": [
    "#### Dnevna razina"
   ]
  },
  {
   "cell_type": "code",
   "execution_count": 22,
   "id": "4275ca32",
   "metadata": {},
   "outputs": [
    {
     "data": {
      "text/html": [
       "<div>\n",
       "<style scoped>\n",
       "    .dataframe tbody tr th:only-of-type {\n",
       "        vertical-align: middle;\n",
       "    }\n",
       "\n",
       "    .dataframe tbody tr th {\n",
       "        vertical-align: top;\n",
       "    }\n",
       "\n",
       "    .dataframe thead th {\n",
       "        text-align: right;\n",
       "    }\n",
       "</style>\n",
       "<table border=\"1\" class=\"dataframe\">\n",
       "  <thead>\n",
       "    <tr style=\"text-align: right;\">\n",
       "      <th></th>\n",
       "      <th>ukupno_gostiju</th>\n",
       "    </tr>\n",
       "    <tr>\n",
       "      <th>datum_dolaska</th>\n",
       "      <th></th>\n",
       "    </tr>\n",
       "  </thead>\n",
       "  <tbody>\n",
       "    <tr>\n",
       "      <th>2015-07-01</th>\n",
       "      <td>67.0</td>\n",
       "    </tr>\n",
       "    <tr>\n",
       "      <th>2015-07-02</th>\n",
       "      <td>72.0</td>\n",
       "    </tr>\n",
       "    <tr>\n",
       "      <th>2015-07-03</th>\n",
       "      <td>59.0</td>\n",
       "    </tr>\n",
       "    <tr>\n",
       "      <th>2015-07-04</th>\n",
       "      <td>80.0</td>\n",
       "    </tr>\n",
       "    <tr>\n",
       "      <th>2015-07-05</th>\n",
       "      <td>80.0</td>\n",
       "    </tr>\n",
       "  </tbody>\n",
       "</table>\n",
       "</div>"
      ],
      "text/plain": [
       "               ukupno_gostiju\n",
       "datum_dolaska                \n",
       "2015-07-01               67.0\n",
       "2015-07-02               72.0\n",
       "2015-07-03               59.0\n",
       "2015-07-04               80.0\n",
       "2015-07-05               80.0"
      ]
     },
     "execution_count": 22,
     "metadata": {},
     "output_type": "execute_result"
    }
   ],
   "source": [
    "NumberOfGuestsDailyResort = dataResort['ukupno_gostiju'].groupby(dataResort['datum_dolaska']).sum()\n",
    "NumberOfGuestsDailyResort = NumberOfGuestsDailyResort.resample('d').sum().to_frame()\n",
    "NumberOfGuestsDailyResort.head(5)"
   ]
  },
  {
   "cell_type": "markdown",
   "id": "3d0971ad",
   "metadata": {},
   "source": [
    "#### Tjedna razina"
   ]
  },
  {
   "cell_type": "code",
   "execution_count": 23,
   "id": "bb55c35f",
   "metadata": {},
   "outputs": [
    {
     "data": {
      "text/html": [
       "<div>\n",
       "<style scoped>\n",
       "    .dataframe tbody tr th:only-of-type {\n",
       "        vertical-align: middle;\n",
       "    }\n",
       "\n",
       "    .dataframe tbody tr th {\n",
       "        vertical-align: top;\n",
       "    }\n",
       "\n",
       "    .dataframe thead th {\n",
       "        text-align: right;\n",
       "    }\n",
       "</style>\n",
       "<table border=\"1\" class=\"dataframe\">\n",
       "  <thead>\n",
       "    <tr style=\"text-align: right;\">\n",
       "      <th></th>\n",
       "      <th>ukupno_gostiju</th>\n",
       "    </tr>\n",
       "    <tr>\n",
       "      <th>datum_dolaska</th>\n",
       "      <th></th>\n",
       "    </tr>\n",
       "  </thead>\n",
       "  <tbody>\n",
       "    <tr>\n",
       "      <th>2015-07-05</th>\n",
       "      <td>358.0</td>\n",
       "    </tr>\n",
       "    <tr>\n",
       "      <th>2015-07-12</th>\n",
       "      <td>495.0</td>\n",
       "    </tr>\n",
       "    <tr>\n",
       "      <th>2015-07-19</th>\n",
       "      <td>537.0</td>\n",
       "    </tr>\n",
       "    <tr>\n",
       "      <th>2015-07-26</th>\n",
       "      <td>533.0</td>\n",
       "    </tr>\n",
       "    <tr>\n",
       "      <th>2015-08-02</th>\n",
       "      <td>554.0</td>\n",
       "    </tr>\n",
       "  </tbody>\n",
       "</table>\n",
       "</div>"
      ],
      "text/plain": [
       "               ukupno_gostiju\n",
       "datum_dolaska                \n",
       "2015-07-05              358.0\n",
       "2015-07-12              495.0\n",
       "2015-07-19              537.0\n",
       "2015-07-26              533.0\n",
       "2015-08-02              554.0"
      ]
     },
     "execution_count": 23,
     "metadata": {},
     "output_type": "execute_result"
    }
   ],
   "source": [
    "NumberOfGuestsWeeklyResort = dataResort['ukupno_gostiju'].groupby(dataResort['datum_dolaska']).sum()\n",
    "NumberOfGuestsWeeklyResort = NumberOfGuestsWeeklyResort.resample('w').sum().to_frame()\n",
    "NumberOfGuestsWeeklyResort.head(5)"
   ]
  },
  {
   "cell_type": "markdown",
   "id": "5917fa99",
   "metadata": {},
   "source": [
    "#### Mjesečna razina"
   ]
  },
  {
   "cell_type": "code",
   "execution_count": 24,
   "id": "7a6863db",
   "metadata": {},
   "outputs": [
    {
     "data": {
      "text/html": [
       "<div>\n",
       "<style scoped>\n",
       "    .dataframe tbody tr th:only-of-type {\n",
       "        vertical-align: middle;\n",
       "    }\n",
       "\n",
       "    .dataframe tbody tr th {\n",
       "        vertical-align: top;\n",
       "    }\n",
       "\n",
       "    .dataframe thead th {\n",
       "        text-align: right;\n",
       "    }\n",
       "</style>\n",
       "<table border=\"1\" class=\"dataframe\">\n",
       "  <thead>\n",
       "    <tr style=\"text-align: right;\">\n",
       "      <th></th>\n",
       "      <th>ukupno_gostiju</th>\n",
       "    </tr>\n",
       "    <tr>\n",
       "      <th>datum_dolaska</th>\n",
       "      <th></th>\n",
       "    </tr>\n",
       "  </thead>\n",
       "  <tbody>\n",
       "    <tr>\n",
       "      <th>2015-07-31</th>\n",
       "      <td>2300.0</td>\n",
       "    </tr>\n",
       "    <tr>\n",
       "      <th>2015-08-31</th>\n",
       "      <td>2318.0</td>\n",
       "    </tr>\n",
       "    <tr>\n",
       "      <th>2015-09-30</th>\n",
       "      <td>2013.0</td>\n",
       "    </tr>\n",
       "    <tr>\n",
       "      <th>2015-10-31</th>\n",
       "      <td>2108.0</td>\n",
       "    </tr>\n",
       "    <tr>\n",
       "      <th>2015-11-30</th>\n",
       "      <td>1534.0</td>\n",
       "    </tr>\n",
       "  </tbody>\n",
       "</table>\n",
       "</div>"
      ],
      "text/plain": [
       "               ukupno_gostiju\n",
       "datum_dolaska                \n",
       "2015-07-31             2300.0\n",
       "2015-08-31             2318.0\n",
       "2015-09-30             2013.0\n",
       "2015-10-31             2108.0\n",
       "2015-11-30             1534.0"
      ]
     },
     "execution_count": 24,
     "metadata": {},
     "output_type": "execute_result"
    }
   ],
   "source": [
    "NumberOfGuestsMonthlyResort =  dataResort['ukupno_gostiju'].groupby(dataResort['datum_dolaska']).sum()\n",
    "NumberOfGuestsMonthlyResort = NumberOfGuestsMonthlyResort.resample('m').sum().to_frame()\n",
    "NumberOfGuestsMonthlyResort.head(5)"
   ]
  },
  {
   "cell_type": "markdown",
   "id": "62e434c1",
   "metadata": {},
   "source": [
    "#### Godišnja razina"
   ]
  },
  {
   "cell_type": "code",
   "execution_count": 25,
   "id": "51cabbf4",
   "metadata": {},
   "outputs": [
    {
     "data": {
      "text/html": [
       "<div>\n",
       "<style scoped>\n",
       "    .dataframe tbody tr th:only-of-type {\n",
       "        vertical-align: middle;\n",
       "    }\n",
       "\n",
       "    .dataframe tbody tr th {\n",
       "        vertical-align: top;\n",
       "    }\n",
       "\n",
       "    .dataframe thead th {\n",
       "        text-align: right;\n",
       "    }\n",
       "</style>\n",
       "<table border=\"1\" class=\"dataframe\">\n",
       "  <thead>\n",
       "    <tr style=\"text-align: right;\">\n",
       "      <th></th>\n",
       "      <th>ukupno_gostiju</th>\n",
       "    </tr>\n",
       "    <tr>\n",
       "      <th>datum_dolaska</th>\n",
       "      <th></th>\n",
       "    </tr>\n",
       "  </thead>\n",
       "  <tbody>\n",
       "    <tr>\n",
       "      <th>2015-12-31</th>\n",
       "      <td>12053.0</td>\n",
       "    </tr>\n",
       "    <tr>\n",
       "      <th>2016-12-31</th>\n",
       "      <td>26091.0</td>\n",
       "    </tr>\n",
       "    <tr>\n",
       "      <th>2017-12-31</th>\n",
       "      <td>17816.0</td>\n",
       "    </tr>\n",
       "  </tbody>\n",
       "</table>\n",
       "</div>"
      ],
      "text/plain": [
       "               ukupno_gostiju\n",
       "datum_dolaska                \n",
       "2015-12-31            12053.0\n",
       "2016-12-31            26091.0\n",
       "2017-12-31            17816.0"
      ]
     },
     "execution_count": 25,
     "metadata": {},
     "output_type": "execute_result"
    }
   ],
   "source": [
    "NumberOfGuestsYearlyResort = dataResort['ukupno_gostiju'].groupby(dataResort['datum_dolaska']).sum()\n",
    "NumberOfGuestsYearlyResort = NumberOfGuestsYearlyResort.resample('y').sum().to_frame()\n",
    "NumberOfGuestsYearlyResort.head(5)"
   ]
  },
  {
   "cell_type": "markdown",
   "id": "paperback-deviation",
   "metadata": {
    "papermill": {
     "duration": 0.186186,
     "end_time": "2021-07-29T22:08:26.923810",
     "exception": false,
     "start_time": "2021-07-29T22:08:26.737624",
     "status": "completed"
    },
    "tags": []
   },
   "source": [
    "# ARIMA model za predviđanje budućeg broja gostiju - City Hotel"
   ]
  },
  {
   "cell_type": "markdown",
   "id": "44d53a32",
   "metadata": {},
   "source": [
    "## Predviđanje dnevnog broja gostiju \n"
   ]
  },
  {
   "cell_type": "markdown",
   "id": "35b3e235",
   "metadata": {},
   "source": [
    "#### Dickey-Fuller test za podatke o dnevnom broju gostiju"
   ]
  },
  {
   "cell_type": "markdown",
   "id": "03f9a71c",
   "metadata": {},
   "source": [
    "##### Augmented Dickey-Fuller (ADF) test se koristi u statistici i ekonometriji za testiranje prisutnosti tzv. \"jediničnog korijena\" (unit root) u vremenskim serijama\n",
    "##### Jedinični korijen ukazuje na to da vremenska serija nije stacionarna, što znači da njene statističke karakteristike kao što su srednja vrijednost, varijanca i autokorelacija, se mijenjaju tijekom vremena\n",
    "##### Nulta hipoteza (H0): Postoji jedinični korijen, tj. serija je nestacionarna.\n",
    "##### Alternativna hipoteza (H1): Ne postoji jedinični korijen, tj. serija je stacionarna."
   ]
  },
  {
   "cell_type": "code",
   "execution_count": null,
   "id": "598ce5e8",
   "metadata": {},
   "outputs": [],
   "source": [
    "CityDailyValues = NumberOfGuestsDailyCity.values\n",
    "result_city_daily = adfuller(CityDailyValues)\n",
    "print('ADF Statistic: %f' % result_city_daily[0])\n",
    "print('p-value: %f' % result_city_daily[1])\n",
    "print('Critical Values:')\n",
    "for key, value in result_city_daily[4].items():\n",
    "    print('\\t%s: %.3f' % (key, value))"
   ]
  },
  {
   "cell_type": "markdown",
   "id": "ff12b4b5",
   "metadata": {},
   "source": [
    "- Definirajmo razinu značajnosti alfa=0.05\n",
    "- Kako je p vrijednost veča od alfe, ne možemo odbaciti H0, odnosno serija je nestacionarna "
   ]
  },
  {
   "cell_type": "markdown",
   "id": "32cbf487",
   "metadata": {},
   "source": [
    "#### Rollling Mean i STD City Hotela"
   ]
  },
  {
   "cell_type": "code",
   "execution_count": null,
   "id": "75da7540",
   "metadata": {},
   "outputs": [],
   "source": [
    "plt.figure(figsize=(15, 8))\n",
    "rolling_mean_city_daily = NumberOfGuestsDailyCity.rolling(window=4).mean()\n",
    "rolling_std_city_daily = NumberOfGuestsDailyCity.rolling(window=4).std()\n",
    "plt.plot(NumberOfGuestsDailyCity, color='blue', label='Original')\n",
    "plt.plot(rolling_mean_city_daily, color='red', label='Rolling Mean')\n",
    "plt.plot(rolling_std_city_daily, color='black', label='Rolling Std')\n",
    "plt.legend(loc='upper right')\n",
    "plt.title('Klizni medijan i standardna devijacija ukupnog broja gostiju kod City Hotela nd dnevnoj razini')\n",
    "plt.show()"
   ]
  },
  {
   "cell_type": "markdown",
   "id": "d5192aa6",
   "metadata": {},
   "source": [
    "#### Train / test split podataka"
   ]
  },
  {
   "cell_type": "code",
   "execution_count": null,
   "id": "6d3dcc44",
   "metadata": {},
   "outputs": [],
   "source": [
    "split_ratio  =  0.8"
   ]
  },
  {
   "cell_type": "code",
   "execution_count": null,
   "id": "b97d4e51",
   "metadata": {},
   "outputs": [],
   "source": [
    "train_test_split_city_daily = int(len(NumberOfGuestsDailyCity)*split_ratio)\n",
    "print(f\"Split {split_ratio} na train/test, train ima {train_test_split_city_daily} podataka, test {len(NumberOfGuestsDailyCity)-train_test_split_city_daily} podataka\")\n",
    "\n",
    "trainCityDaily = NumberOfGuestsDailyCity[:train_test_split_city_daily]\n",
    "testCityDaily = NumberOfGuestsDailyCity[train_test_split_city_daily:]"
   ]
  },
  {
   "cell_type": "markdown",
   "id": "2f43f4d0",
   "metadata": {},
   "source": [
    "#### Fit ARIMA modela na podatke na dnevnoj bazi"
   ]
  },
  {
   "cell_type": "markdown",
   "id": "db83a2ef",
   "metadata": {},
   "source": [
    "- Iz službene dokumentacije (https://alkaline-ml.com/pmdarima/tips_and_tricks.html#period):\n",
    "   - The m parameter relates to the number of observations per seasonal cycle, and is one that must be known apriori. Typically, m will correspond to some recurrent periodicity such as:\n",
    "    - 7 - daily\n",
    "    - 12 - monthly\n",
    "    - 52 - weekly"
   ]
  },
  {
   "cell_type": "markdown",
   "id": "69e9f09a",
   "metadata": {},
   "source": [
    "- parametar 'd' koristi se ako je potrebno diferencirati vremensku seriju, odnosno postavljamo ga na None ako ne znamo kako diferencirati podatke,\n",
    "a inače na int vrijednost (tipično 1). Zaklkučak o tome izvodimo iz Augmented Dickey-Fuller Test koji testira jesu li neki podaci u vremenskoj seriji \n",
    "stacionarni ili nisu"
   ]
  },
  {
   "cell_type": "markdown",
   "id": "0302b851",
   "metadata": {},
   "source": [
    "- Vremenska je serija stacionarna kada su joj  medijan, varijanca, auto-korelacija i slične metrike konstante kroz vrijeme t.\n",
    "ARIMA pretpostavlja da podaci postaju stacionarni nako diferenciranja, ukoliko je d postavljen an vrijednost veću od nule, što\n",
    "se naziva diferencijablna stacionarnost. auto_arima određuje i optimalni d."
   ]
  },
  {
   "cell_type": "code",
   "execution_count": null,
   "id": "4627ee0b",
   "metadata": {},
   "outputs": [],
   "source": [
    "stepwise_fit_city_daily = auto_arima(trainCityDaily['ukupno_gostiju'],\n",
    "                          start_p=1, start_q=1,\n",
    "                          max_p=5, max_q=5, m=7,\n",
    "                          start_P=0, seasonal=True,\n",
    "                          d=None, D=1, trace=True,\n",
    "                          error_action='ignore',\n",
    "                          suppress_warnings=True,\n",
    "                          stepwise=True)\n",
    "\n",
    "stepwise_fit_city_daily.summary()"
   ]
  },
  {
   "cell_type": "markdown",
   "id": "2309e09c",
   "metadata": {},
   "source": [
    "- Bazirano na izlazu auto_arima metode, koristiti ćemo najbolji model \n",
    "- ARIMA(1,0,4)(1,1,1)[7]   je najbolji model te se to preslikava u parametre\n",
    "- order = (1,0,4)\n",
    "- seasonal_order = (1,1,1,7)"
   ]
  },
  {
   "cell_type": "code",
   "execution_count": null,
   "id": "2481c9e0",
   "metadata": {},
   "outputs": [],
   "source": [
    "modelCity_daily = ARIMA(trainCityDaily['ukupno_gostiju'],\n",
    "                  order=(1, 0, 4),\n",
    "                  seasonal_order=(1, 1, 1, 7))\n",
    "\n",
    "resultCity_daily = modelCity_daily.fit()\n"
   ]
  },
  {
   "cell_type": "markdown",
   "id": "6423707c",
   "metadata": {},
   "source": [
    "##### Predikcije modela na test podacima na dnevnoj bazi"
   ]
  },
  {
   "cell_type": "code",
   "execution_count": null,
   "id": "e6c3373d",
   "metadata": {},
   "outputs": [],
   "source": [
    "predictionsCityTestDaily = resultCity_daily.predict(train_test_split_city_daily, train_test_split_city_daily + len(testCityDaily) - 1, typ='levels').rename(\"Predictions\")\n"
   ]
  },
  {
   "cell_type": "markdown",
   "id": "77f8ad97",
   "metadata": {},
   "source": [
    "### Predikcija broja gostija na dnevnoj razini na testnim podacima\n"
   ]
  },
  {
   "cell_type": "code",
   "execution_count": null,
   "id": "39f8543a",
   "metadata": {},
   "outputs": [],
   "source": [
    "plt.figure(figsize=(15, 8))\n",
    "testCityDaily['ukupno_gostiju'].plot(legend=True)\n",
    "predictionsCityTestDaily.plot(legend=True)\n",
    "plt.title('Predikcija broja gostiju City Hotela na dnevnoj razini', fontsize=16)\n",
    "plt.xlabel('Datum dolaska', fontsize=12)\n",
    "plt.ylabel('Broj gostiju', fontsize=12)"
   ]
  },
  {
   "cell_type": "code",
   "execution_count": null,
   "id": "92d23a9c",
   "metadata": {},
   "outputs": [],
   "source": [
    "plt.figure(figsize=(15, 8))\n",
    "trainCityDaily['ukupno_gostiju'].plot(legend=True)\n",
    "predictionsCityTestDaily.plot(legend=True)\n",
    "plt.title('Predikcija broja gostiju kod City Hotela na dnevnoj bazi', fontsize=16)\n",
    "plt.xlabel('Datum dolaska', fontsize=12)\n",
    "plt.ylabel('Broj gostiju', fontsize=12)"
   ]
  },
  {
   "cell_type": "code",
   "execution_count": null,
   "id": "b7627240",
   "metadata": {},
   "outputs": [],
   "source": [
    "MeanAbsPercentageErrCityDaily_test = mean_absolute_percentage_error(testCityDaily, predictionsCityTestDaily)\n",
    "print('Test MAPE City Hotel na dnevnoj razini: %f' % MeanAbsPercentageErrCityDaily_test)"
   ]
  },
  {
   "cell_type": "markdown",
   "id": "800a37ee",
   "metadata": {},
   "source": [
    "## Predviđanje tjednog broja gostiju \n"
   ]
  },
  {
   "cell_type": "markdown",
   "id": "76a3563f",
   "metadata": {},
   "source": [
    "#### Dickey-Fuller test za podatke o dnevnom broju gostiju"
   ]
  },
  {
   "cell_type": "code",
   "execution_count": null,
   "id": "facial-islam",
   "metadata": {
    "execution": {
     "iopub.execute_input": "2021-07-29T22:08:27.301141Z",
     "iopub.status.busy": "2021-07-29T22:08:27.300454Z",
     "iopub.status.idle": "2021-07-29T22:08:27.332483Z",
     "shell.execute_reply": "2021-07-29T22:08:27.333335Z",
     "shell.execute_reply.started": "2021-07-04T21:15:41.734289Z"
    },
    "papermill": {
     "duration": 0.221316,
     "end_time": "2021-07-29T22:08:27.333680",
     "exception": false,
     "start_time": "2021-07-29T22:08:27.112364",
     "status": "completed"
    },
    "tags": []
   },
   "outputs": [],
   "source": [
    "CityWeeklyValues = NumberOfGuestsWeeklyCity.values\n",
    "result_city_weekly = adfuller(CityWeeklyValues)\n",
    "print('ADF Statistic: %f' % result_city_weekly[0])\n",
    "print('p-value: %f' % result_city_weekly[1])\n",
    "print('Critical Values:')\n",
    "for key, value in result_city_weekly[4].items():\n",
    "    print('\\t%s: %.3f' % (key, value))"
   ]
  },
  {
   "cell_type": "markdown",
   "id": "ad5111f8",
   "metadata": {},
   "source": [
    "- Definirajmo razinu značajnosti alfa=0.05\n",
    "- Kako je p vrijednost veća od alfe, ne možemo odbaciti H0, odnosno serija je nestacionarna "
   ]
  },
  {
   "cell_type": "markdown",
   "id": "a096e343",
   "metadata": {},
   "source": [
    "#### Rollling Mean i STD City Hotela"
   ]
  },
  {
   "cell_type": "code",
   "execution_count": null,
   "id": "thermal-blackjack",
   "metadata": {
    "execution": {
     "iopub.execute_input": "2021-07-29T22:08:27.741353Z",
     "iopub.status.busy": "2021-07-29T22:08:27.735521Z",
     "iopub.status.idle": "2021-07-29T22:08:28.015556Z",
     "shell.execute_reply": "2021-07-29T22:08:28.014938Z",
     "shell.execute_reply.started": "2021-07-04T21:15:55.801126Z"
    },
    "papermill": {
     "duration": 0.493669,
     "end_time": "2021-07-29T22:08:28.015715",
     "exception": false,
     "start_time": "2021-07-29T22:08:27.522046",
     "status": "completed"
    },
    "tags": []
   },
   "outputs": [],
   "source": [
    "plt.figure(figsize=(15, 8))\n",
    "rolling_mean_city_weekly = NumberOfGuestsWeeklyCity.rolling(window=4).mean()\n",
    "rolling_std_city_weekly = NumberOfGuestsWeeklyCity.rolling(window=4).std()\n",
    "plt.plot(NumberOfGuestsWeeklyCity, color='blue', label='Original')\n",
    "plt.plot(rolling_mean_city_weekly, color='red', label='Rolling Mean')\n",
    "plt.plot(rolling_std_city_weekly, color='black', label='Rolling Std')\n",
    "plt.legend(loc='upper right')\n",
    "plt.title('Klizni medijan i standardna devijacija ukupnog broja gostiju kod City Hotela na tjednoj razini')\n",
    "plt.show()"
   ]
  },
  {
   "cell_type": "code",
   "execution_count": null,
   "id": "024c6657",
   "metadata": {},
   "outputs": [],
   "source": [
    "split_ratio  =  0.8"
   ]
  },
  {
   "cell_type": "code",
   "execution_count": null,
   "id": "guilty-quilt",
   "metadata": {
    "execution": {
     "iopub.execute_input": "2021-07-29T22:08:28.395047Z",
     "iopub.status.busy": "2021-07-29T22:08:28.394387Z",
     "iopub.status.idle": "2021-07-29T22:08:28.397700Z",
     "shell.execute_reply": "2021-07-29T22:08:28.397055Z",
     "shell.execute_reply.started": "2021-07-04T21:16:35.930599Z"
    },
    "papermill": {
     "duration": 0.193457,
     "end_time": "2021-07-29T22:08:28.397842",
     "exception": false,
     "start_time": "2021-07-29T22:08:28.204385",
     "status": "completed"
    },
    "tags": []
   },
   "outputs": [],
   "source": [
    "train_test_split_city_weekly = int(len(NumberOfGuestsWeeklyCity)*split_ratio)\n",
    "print(f\"Split {split_ratio} na train/test, train ima {train_test_split_city_weekly} podataka, test {len(NumberOfGuestsWeeklyCity)-train_test_split_city_weekly} podataka\")\n",
    "\n",
    "trainCityWeekly = NumberOfGuestsWeeklyCity[:train_test_split_city_weekly]\n",
    "testCityWeekly = NumberOfGuestsWeeklyCity[train_test_split_city_weekly:]"
   ]
  },
  {
   "cell_type": "markdown",
   "id": "69bf3d6a",
   "metadata": {},
   "source": [
    "#### Fit ARIMA modela na podatke na tjednoj bazi"
   ]
  },
  {
   "cell_type": "code",
   "execution_count": null,
   "id": "damaged-share",
   "metadata": {
    "execution": {
     "iopub.execute_input": "2021-07-29T22:08:28.790904Z",
     "iopub.status.busy": "2021-07-29T22:08:28.787683Z",
     "iopub.status.idle": "2021-07-29T22:09:14.591087Z",
     "shell.execute_reply": "2021-07-29T22:09:14.592071Z",
     "shell.execute_reply.started": "2021-07-04T21:17:40.104702Z"
    },
    "papermill": {
     "duration": 46.006267,
     "end_time": "2021-07-29T22:09:14.592387",
     "exception": false,
     "start_time": "2021-07-29T22:08:28.586120",
     "status": "completed"
    },
    "tags": []
   },
   "outputs": [],
   "source": [
    "stepwise_fit_city_weekly = auto_arima(trainCityWeekly['ukupno_gostiju'], start_p=1, start_q=1,\n",
    "                          max_p=3, max_q=3, m=52,\n",
    "                          start_P=0, seasonal=True,\n",
    "                          d=None, D=1, trace=True,\n",
    "                          error_action='ignore',\n",
    "                          suppress_warnings=True,\n",
    "                          stepwise=True)\n",
    "\n",
    "stepwise_fit_city_weekly.summary()"
   ]
  },
  {
   "cell_type": "markdown",
   "id": "6dfd87ac",
   "metadata": {},
   "source": [
    "- Bazirano na izlazu auto_arima metode, koristiti ćemo najbolji model \n",
    "- ARIMA(0,1,0)(0,1,0)[52] je najbolji model te se to preslikava u parametre\n",
    "- order = (0,1,0)\n",
    "- seasonal_order = (0,1,0,52)"
   ]
  },
  {
   "cell_type": "code",
   "execution_count": null,
   "id": "distributed-headset",
   "metadata": {
    "execution": {
     "iopub.execute_input": "2021-07-29T22:09:15.020941Z",
     "iopub.status.busy": "2021-07-29T22:09:15.020180Z",
     "iopub.status.idle": "2021-07-29T22:09:16.224916Z",
     "shell.execute_reply": "2021-07-29T22:09:16.225792Z",
     "shell.execute_reply.started": "2021-07-04T21:18:56.356224Z"
    },
    "papermill": {
     "duration": 1.410897,
     "end_time": "2021-07-29T22:09:16.226095",
     "exception": false,
     "start_time": "2021-07-29T22:09:14.815198",
     "status": "completed"
    },
    "tags": []
   },
   "outputs": [],
   "source": [
    "modelCityWeekly = ARIMA(trainCityWeekly['ukupno_gostiju'],\n",
    "                  order=(0, 1, 0),\n",
    "                  seasonal_order=(0, 1, 0, 52))\n",
    "\n",
    "resultCityWeekly = modelCityWeekly.fit()\n"
   ]
  },
  {
   "cell_type": "markdown",
   "id": "369ebb85",
   "metadata": {},
   "source": [
    "##### Predikcije modela na test podacima na tjednoj bazi"
   ]
  },
  {
   "cell_type": "code",
   "execution_count": null,
   "id": "cfeb8c8f",
   "metadata": {},
   "outputs": [],
   "source": [
    "predictionsCityTestWeekly = resultCityWeekly.predict(train_test_split_city_weekly, train_test_split_city_weekly + len(testCityWeekly) - 1, typ='levels').rename(\"Predictions\")\n"
   ]
  },
  {
   "cell_type": "markdown",
   "id": "ultimate-functionality",
   "metadata": {
    "papermill": {
     "duration": 0.191871,
     "end_time": "2021-07-29T22:09:16.644444",
     "exception": false,
     "start_time": "2021-07-29T22:09:16.452573",
     "status": "completed"
    },
    "tags": []
   },
   "source": [
    "### Predikcija broja gostija na tjednoj razini na testnim podacima\n"
   ]
  },
  {
   "cell_type": "code",
   "execution_count": null,
   "id": "brilliant-thompson",
   "metadata": {
    "execution": {
     "iopub.execute_input": "2021-07-29T22:09:17.035482Z",
     "iopub.status.busy": "2021-07-29T22:09:17.034742Z",
     "iopub.status.idle": "2021-07-29T22:09:17.363965Z",
     "shell.execute_reply": "2021-07-29T22:09:17.363288Z",
     "shell.execute_reply.started": "2021-07-04T21:19:25.653789Z"
    },
    "papermill": {
     "duration": 0.530087,
     "end_time": "2021-07-29T22:09:17.364128",
     "exception": false,
     "start_time": "2021-07-29T22:09:16.834041",
     "status": "completed"
    },
    "tags": []
   },
   "outputs": [],
   "source": [
    "plt.figure(figsize=(15, 8))\n",
    "testCityWeekly['ukupno_gostiju'].plot(legend=True)\n",
    "predictionsCityTestWeekly.plot(legend=True)\n",
    "plt.title('Predikcija broja gostiju City Hotela na tjednoj razini', fontsize=16)\n",
    "plt.xlabel('Datum dolaska', fontsize=12)\n",
    "plt.ylabel('Broj gostiju', fontsize=12)"
   ]
  },
  {
   "cell_type": "markdown",
   "id": "liked-effort",
   "metadata": {
    "papermill": {
     "duration": 0.199626,
     "end_time": "2021-07-29T22:09:17.766092",
     "exception": false,
     "start_time": "2021-07-29T22:09:17.566466",
     "status": "completed"
    },
    "tags": []
   },
   "source": [
    "### Predikcija broja gostiju na tjednoj razini"
   ]
  },
  {
   "cell_type": "code",
   "execution_count": null,
   "id": "statistical-substance",
   "metadata": {
    "execution": {
     "iopub.execute_input": "2021-07-29T22:09:18.251660Z",
     "iopub.status.busy": "2021-07-29T22:09:18.237792Z",
     "iopub.status.idle": "2021-07-29T22:09:18.513865Z",
     "shell.execute_reply": "2021-07-29T22:09:18.513202Z",
     "shell.execute_reply.started": "2021-07-04T21:19:44.694369Z"
    },
    "papermill": {
     "duration": 0.547296,
     "end_time": "2021-07-29T22:09:18.514034",
     "exception": false,
     "start_time": "2021-07-29T22:09:17.966738",
     "status": "completed"
    },
    "tags": []
   },
   "outputs": [],
   "source": [
    "plt.figure(figsize=(15, 8))\n",
    "trainCityWeekly['ukupno_gostiju'].plot(legend=True)\n",
    "predictionsCityTestWeekly.plot(legend=True)\n",
    "plt.title('Predikcija broja gostiju kod City Hotela na tjednoj razini', fontsize=16)\n",
    "plt.xlabel('Datum dolaska', fontsize=12)\n",
    "plt.ylabel('Broj gostiju', fontsize=12)"
   ]
  },
  {
   "cell_type": "code",
   "execution_count": null,
   "id": "defined-aquatic",
   "metadata": {
    "execution": {
     "iopub.execute_input": "2021-07-29T22:09:18.932506Z",
     "iopub.status.busy": "2021-07-29T22:09:18.931415Z",
     "iopub.status.idle": "2021-07-29T22:09:18.934976Z",
     "shell.execute_reply": "2021-07-29T22:09:18.935524Z",
     "shell.execute_reply.started": "2021-07-04T21:20:00.618792Z"
    },
    "papermill": {
     "duration": 0.216577,
     "end_time": "2021-07-29T22:09:18.935740",
     "exception": false,
     "start_time": "2021-07-29T22:09:18.719163",
     "status": "completed"
    },
    "tags": []
   },
   "outputs": [],
   "source": [
    "MeanAbsPercentageErrCityWeekly_test = mean_absolute_percentage_error(testCityWeekly, predictionsCityTestWeekly)\n",
    "print('Test MAPE City Hotel tjedna razina: %f' % MeanAbsPercentageErrCityWeekly_test)"
   ]
  },
  {
   "cell_type": "markdown",
   "id": "6160a969",
   "metadata": {},
   "source": [
    "## Predviđanje mjesečnog broja gostiju \n"
   ]
  },
  {
   "cell_type": "markdown",
   "id": "8229d10c",
   "metadata": {},
   "source": [
    "#### Dickey-Fuller test za podatke o mjesečnombroju gostiju"
   ]
  },
  {
   "cell_type": "code",
   "execution_count": null,
   "id": "b6eb9fbb",
   "metadata": {},
   "outputs": [],
   "source": [
    "CityMonthlyValues = NumberOfGuestsMonthlyCity.values\n",
    "result_city_monthly = adfuller(CityMonthlyValues)\n",
    "print('ADF Statistic: %f' % result_city_monthly [0])\n",
    "print('p-value: %f' % result_city_monthly [1])\n",
    "print('Critical Values:')\n",
    "for key, value in result_city_monthly [4].items():\n",
    "    print('\\t%s: %.3f' % (key, value))"
   ]
  },
  {
   "cell_type": "markdown",
   "id": "5cd77db6",
   "metadata": {},
   "source": [
    "- Definirajmo razinu značajnosti alfa=0.05\n",
    "- Kako je p vrijednost veća od alfe, ne možemo odbaciti H0, odnosno serija je nestacionarna "
   ]
  },
  {
   "cell_type": "markdown",
   "id": "d484a305",
   "metadata": {},
   "source": [
    "#### Rollling Mean i STD City Hotela Mjesečna razina"
   ]
  },
  {
   "cell_type": "code",
   "execution_count": null,
   "id": "2ff66f97",
   "metadata": {},
   "outputs": [],
   "source": [
    "plt.figure(figsize=(15, 8))\n",
    "rolling_mean_city_monthly  = NumberOfGuestsMonthlyCity.rolling(window=4).mean()\n",
    "rolling_std_city_monthly = NumberOfGuestsMonthlyCity.rolling(window=4).std()\n",
    "plt.plot(NumberOfGuestsMonthlyCity, color='blue', label='Original')\n",
    "plt.plot(rolling_mean_city_monthly, color='red', label='Rolling Mean')\n",
    "plt.plot(rolling_std_city_monthly, color='black', label='Rolling Std')\n",
    "plt.legend(loc='upper right')\n",
    "plt.title('Klizni medijan i standardna devijacija ukupnog broja gostiju kod City Hotela na mjesečnoj razini')\n",
    "plt.show()"
   ]
  },
  {
   "cell_type": "code",
   "execution_count": null,
   "id": "1492001c",
   "metadata": {},
   "outputs": [],
   "source": [
    "split_ratio  =  0.8"
   ]
  },
  {
   "cell_type": "code",
   "execution_count": null,
   "id": "8cfdd994",
   "metadata": {},
   "outputs": [],
   "source": [
    "train_test_split_city_monthly = int(len(NumberOfGuestsMonthlyCity)*split_ratio)\n",
    "print(f\"Split {split_ratio} na train/test, train ima {train_test_split_city_monthly} podataka, test {len(NumberOfGuestsMonthlyCity)-train_test_split_city_monthly} podataka\")\n",
    "\n",
    "trainCityMonthly = NumberOfGuestsMonthlyCity[:train_test_split_city_monthly]\n",
    "testCityMonthly = NumberOfGuestsMonthlyCity[train_test_split_city_monthly:]"
   ]
  },
  {
   "cell_type": "markdown",
   "id": "c844f37e",
   "metadata": {},
   "source": [
    "#### Fit ARIMA modela na podatke na mjesečnoj bazi"
   ]
  },
  {
   "cell_type": "code",
   "execution_count": null,
   "id": "e1067c32",
   "metadata": {},
   "outputs": [],
   "source": [
    "stepwise_fit_city_monthly = auto_arima(trainCityMonthly['ukupno_gostiju'], start_p=1, start_q=1,\n",
    "                          max_p=3, max_q=3, m=12,\n",
    "                          start_P=0, seasonal=True,\n",
    "                          d=None, D=1, trace=True,\n",
    "                          error_action='ignore',\n",
    "                          suppress_warnings=True,\n",
    "                          stepwise=True)\n",
    "\n",
    "stepwise_fit_city_monthly.summary()"
   ]
  },
  {
   "cell_type": "markdown",
   "id": "1efa8b73",
   "metadata": {},
   "source": [
    "- Bazirano na izlazu auto_arima metode, koristiti ćemo najbolji model \n",
    "- ARIMA(1,0,0)(0,1,0)[12] je najbolji model te se to preslikava u parametre\n",
    "- order = (1,0,0)\n",
    "- seasonal_order = (0,1,0,12)"
   ]
  },
  {
   "cell_type": "code",
   "execution_count": null,
   "id": "9b8168bc",
   "metadata": {},
   "outputs": [],
   "source": [
    "modelCityMonthly = ARIMA(trainCityMonthly['ukupno_gostiju'],\n",
    "                  order=(1, 0, 0),\n",
    "                  seasonal_order=(0, 1, 0, 12))\n",
    "\n",
    "resultCityMonthly = modelCityMonthly.fit()\n"
   ]
  },
  {
   "cell_type": "markdown",
   "id": "6fcb5c9a",
   "metadata": {},
   "source": [
    "##### Predikcije modela na test podacima na mjesečnoj bazi"
   ]
  },
  {
   "cell_type": "code",
   "execution_count": null,
   "id": "57c34df7",
   "metadata": {},
   "outputs": [],
   "source": [
    "predictionsCityTestMonthly = resultCityMonthly.predict(train_test_split_city_monthly, train_test_split_city_monthly + len(testCityMonthly) - 1, typ='levels').rename(\"Predictions\")\n"
   ]
  },
  {
   "cell_type": "markdown",
   "id": "fdbfdf5a",
   "metadata": {},
   "source": [
    "### Predikcija broja gostija na mjesečnoj razini na testnim podacima\n"
   ]
  },
  {
   "cell_type": "code",
   "execution_count": null,
   "id": "0b8d3def",
   "metadata": {},
   "outputs": [],
   "source": [
    "plt.figure(figsize=(15, 8))\n",
    "testCityMonthly['ukupno_gostiju'].plot(legend=True)\n",
    "predictionsCityTestMonthly.plot(legend=True)\n",
    "plt.title('Predikcija broja gostiju City Hotela na mjesečnoj razini', fontsize=16)\n",
    "plt.xlabel('Datum dolaska', fontsize=12)\n",
    "plt.ylabel('Broj gostiju', fontsize=12)"
   ]
  },
  {
   "cell_type": "markdown",
   "id": "f20175cd",
   "metadata": {},
   "source": [
    "### Predikcija broja gostiju na mjesečnoj razini"
   ]
  },
  {
   "cell_type": "code",
   "execution_count": null,
   "id": "934c7ea7",
   "metadata": {},
   "outputs": [],
   "source": [
    "plt.figure(figsize=(15, 8))\n",
    "trainCityMonthly['ukupno_gostiju'].plot(legend=True)\n",
    "predictionsCityTestMonthly.plot(legend=True)\n",
    "plt.title('Predikcija broja gostiju kod City Hotela', fontsize=16)\n",
    "plt.xlabel('Datum dolaska', fontsize=12)\n",
    "plt.ylabel('Broj gostiju', fontsize=12)"
   ]
  },
  {
   "cell_type": "code",
   "execution_count": null,
   "id": "557db60f",
   "metadata": {},
   "outputs": [],
   "source": [
    "MeanAbsPercentageErrCityMonthly_test = mean_absolute_percentage_error(testCityMonthly, predictionsCityTestMonthly)\n",
    "print('Test MAPE City Hotel na mjesečnoj razini: %f' % MeanAbsPercentageErrCityMonthly_test)"
   ]
  },
  {
   "cell_type": "markdown",
   "id": "b4abe61b",
   "metadata": {},
   "source": [
    "# ARIMA model za predviđanje budućeg broja gostiju - Resort Hotel \n"
   ]
  },
  {
   "cell_type": "markdown",
   "id": "9eeb5afc",
   "metadata": {},
   "source": [
    "## Predviđanje dnevnog broja gostiju \n"
   ]
  },
  {
   "cell_type": "markdown",
   "id": "f41ff8c5",
   "metadata": {},
   "source": [
    "#### Dickey-Fuller test za podatke o dnevnom broju gostiju"
   ]
  },
  {
   "cell_type": "code",
   "execution_count": null,
   "id": "0952ad42",
   "metadata": {},
   "outputs": [],
   "source": [
    "ResortDailyValues = NumberOfGuestsDailyResort.values\n",
    "result_resort_daily = adfuller(ResortDailyValues)\n",
    "print('ADF Statistic: %f' % result_resort_daily[0])\n",
    "print('p-value: %f' % result_resort_daily[1])\n",
    "print('Critical Values:')\n",
    "for key, value in result_resort_daily[4].items():\n",
    "    print('\\t%s: %.3f' % (key, value))"
   ]
  },
  {
   "cell_type": "markdown",
   "id": "ca842e2b",
   "metadata": {},
   "source": [
    "- Definirajmo razinu značajnosti alfa=0.05\n",
    "- Kako je p vrijednost manja od alfe,  možemo odbaciti H0, odnosno serija je stacionarna "
   ]
  },
  {
   "cell_type": "markdown",
   "id": "1ed9fc56",
   "metadata": {},
   "source": [
    "#### Rollling Mean i STD Resort Hotela na dnevnioj razini"
   ]
  },
  {
   "cell_type": "code",
   "execution_count": null,
   "id": "dc65edf4",
   "metadata": {},
   "outputs": [],
   "source": [
    "plt.figure(figsize=(15, 8))\n",
    "rolling_mean_resort_daily = NumberOfGuestsDailyResort.rolling(window=4).mean()\n",
    "rolling_std_resort_daily  = NumberOfGuestsDailyResort.rolling(window=4).std()\n",
    "plt.plot(NumberOfGuestsDailyResort, color='blue', label='Original')\n",
    "plt.plot(rolling_mean_resort_daily , color='red', label='Rolling Mean')\n",
    "plt.plot(rolling_std_resort_daily , color='black', label='Rolling Std')\n",
    "plt.legend(loc='upper right')\n",
    "plt.title('Klizni medijan i standardna devijacija ukupnog broja gostiju kod Resort Hotela na dnevnoj razini')\n",
    "plt.show()"
   ]
  },
  {
   "cell_type": "code",
   "execution_count": null,
   "id": "06a4c8db",
   "metadata": {},
   "outputs": [],
   "source": [
    "split_ratio  =  0.8"
   ]
  },
  {
   "cell_type": "code",
   "execution_count": null,
   "id": "19e362ed",
   "metadata": {},
   "outputs": [],
   "source": [
    "train_test_split_resort_daily = int(len(NumberOfGuestsDailyResort)*split_ratio)\n",
    "print(f\"Split {split_ratio} na train/test, train ima {train_test_split_resort_daily} podataka, test {len(NumberOfGuestsDailyResort)-train_test_split_resort_daily} podataka\")\n",
    "\n",
    "trainResortDaily = NumberOfGuestsDailyResort[:train_test_split_resort_daily]\n",
    "testResortDaily = NumberOfGuestsDailyResort[train_test_split_resort_daily:]"
   ]
  },
  {
   "cell_type": "markdown",
   "id": "66dc2478",
   "metadata": {},
   "source": [
    "#### Fit ARIMA modela na podatke na dnevnoj bazi"
   ]
  },
  {
   "cell_type": "code",
   "execution_count": null,
   "id": "79a7254b",
   "metadata": {},
   "outputs": [],
   "source": [
    "stepwise_fit_resort_daily = auto_arima(trainResortDaily['ukupno_gostiju'], start_p=1, start_q=1,\n",
    "                          max_p=3, max_q=3, m=7,\n",
    "                          start_P=0, seasonal=True,\n",
    "                          d=0, D=1, trace=True,\n",
    "                          error_action='ignore',\n",
    "                          suppress_warnings=True,\n",
    "                          stepwise=True)\n",
    "\n",
    "stepwise_fit_resort_daily.summary()"
   ]
  },
  {
   "cell_type": "markdown",
   "id": "78f59238",
   "metadata": {},
   "source": [
    "- Bazirano na izlazu auto_arima metode, koristiti ćemo najbolji model \n",
    "- ARIMA(0,0,1)(0,1,1)[7]    je najbolji model te se to preslikava u parametre\n",
    "- order = (0, 0 ,1)\n",
    "- seasonal_order = (0,1,1,7)\n"
   ]
  },
  {
   "cell_type": "code",
   "execution_count": null,
   "id": "0ee1bae3",
   "metadata": {},
   "outputs": [],
   "source": [
    "modelResort_daily = ARIMA(trainResortDaily['ukupno_gostiju'],\n",
    "                  order=(0, 0, 1),\n",
    "                  seasonal_order=(0, 1, 1, 7))\n",
    "\n",
    "resultResort_daily = modelResort_daily.fit()\n"
   ]
  },
  {
   "cell_type": "markdown",
   "id": "fc0708b1",
   "metadata": {},
   "source": [
    "##### Predikcije modela na test podacima na dnevnoj bazi"
   ]
  },
  {
   "cell_type": "code",
   "execution_count": null,
   "id": "fd4fa222",
   "metadata": {},
   "outputs": [],
   "source": [
    "predictionsResortTestDaily = resultResort_daily.predict(train_test_split_resort_daily, train_test_split_resort_daily + len(testResortDaily) - 1, typ='levels').rename(\"Predictions\")\n"
   ]
  },
  {
   "cell_type": "markdown",
   "id": "ddd5749d",
   "metadata": {},
   "source": [
    "### Predikcija broja gostija na dnevnoj razini na testnim podacima\n"
   ]
  },
  {
   "cell_type": "code",
   "execution_count": null,
   "id": "cf929501",
   "metadata": {},
   "outputs": [],
   "source": [
    "plt.figure(figsize=(15, 8))\n",
    "testResortDaily['ukupno_gostiju'].plot(legend=True)\n",
    "predictionsResortTestDaily.plot(legend=True)\n",
    "plt.title('Predikcija broja gostiju Resort Hotela na dnevnoj razini', fontsize=16)\n",
    "plt.xlabel('Datum dolaska', fontsize=12)\n",
    "plt.ylabel('Broj gostiju', fontsize=12)"
   ]
  },
  {
   "cell_type": "code",
   "execution_count": null,
   "id": "c13cd91d",
   "metadata": {},
   "outputs": [],
   "source": [
    "plt.figure(figsize=(15, 8))\n",
    "trainResortDaily['ukupno_gostiju'].plot(legend=True)\n",
    "predictionsResortTestDaily.plot(legend=True)\n",
    "plt.title('Predikcija dnevnog broja gostiju kod Resort Hotela', fontsize=16)\n",
    "plt.xlabel('Datum dolaska', fontsize=12)\n",
    "plt.ylabel('Broj gostiju', fontsize=12)"
   ]
  },
  {
   "cell_type": "code",
   "execution_count": null,
   "id": "8c10bdf7",
   "metadata": {},
   "outputs": [],
   "source": [
    "MeanAbsPercentageErrResortDaily_test = mean_absolute_percentage_error(testResortDaily, predictionsResortTestDaily)\n",
    "print('Test MAPE Resort Hotel na dnevnoj razini: %f' % MeanAbsPercentageErrResortDaily_test)"
   ]
  },
  {
   "cell_type": "markdown",
   "id": "bb67b53a",
   "metadata": {},
   "source": [
    "## Predviđanje tjednog broja gostiju \n"
   ]
  },
  {
   "cell_type": "markdown",
   "id": "5bd4b2a2",
   "metadata": {},
   "source": [
    "#### Dickey-Fuller test za podatke o tjednom broju gostiju"
   ]
  },
  {
   "cell_type": "code",
   "execution_count": null,
   "id": "ee5272f5",
   "metadata": {},
   "outputs": [],
   "source": [
    "ResortWeeklyValues = NumberOfGuestsWeeklyResort.values\n",
    "result_resort_weekly = adfuller(ResortWeeklyValues)\n",
    "print('ADF Statistic: %f' % result_resort_weekly [0])\n",
    "print('p-value: %f' % result_resort_weekly [1])\n",
    "print('Critical Values:')\n",
    "for key, value in result_resort_weekly [4].items():\n",
    "    print('\\t%s: %.3f' % (key, value))"
   ]
  },
  {
   "cell_type": "markdown",
   "id": "81c56ada",
   "metadata": {},
   "source": [
    "- Definirajmo razinu značajnosti alfa=0.05\n",
    "- Kako je p vrijednost manja od alfe,  možemo odbaciti H0, odnosno serija je stacionarna "
   ]
  },
  {
   "cell_type": "markdown",
   "id": "b88c78ae",
   "metadata": {},
   "source": [
    "#### Rollling Mean i STD Resort Hotela na tjednoj razini"
   ]
  },
  {
   "cell_type": "code",
   "execution_count": null,
   "id": "eff58ed6",
   "metadata": {},
   "outputs": [],
   "source": [
    "plt.figure(figsize=(15, 8))\n",
    "rolling_mean_resort_weekly = NumberOfGuestsWeeklyResort.rolling(window=4).mean()\n",
    "rolling_std_resort_weekly = NumberOfGuestsWeeklyResort.rolling(window=4).std()\n",
    "plt.plot(NumberOfGuestsWeeklyResort, color='blue', label='Original')\n",
    "plt.plot(rolling_mean_resort_weekly, color='red', label='Rolling Mean')\n",
    "plt.plot(rolling_std_resort_weekly, color='black', label='Rolling Std')\n",
    "plt.legend(loc='upper right')\n",
    "plt.title('Klizni medijan i standardna devijacija ukupnog broja gostiju kod Resort Hotela na tjednoj razini')\n",
    "plt.show()"
   ]
  },
  {
   "cell_type": "code",
   "execution_count": null,
   "id": "4ef3d8b7",
   "metadata": {},
   "outputs": [],
   "source": [
    "split_ratio  =  0.8"
   ]
  },
  {
   "cell_type": "code",
   "execution_count": null,
   "id": "acc4bb77",
   "metadata": {},
   "outputs": [],
   "source": [
    "train_test_split_resort_weekly = int(len(NumberOfGuestsWeeklyResort)*split_ratio)\n",
    "print(f\"Split {split_ratio} na train/test, train ima {train_test_split_resort_weekly} podataka, test {len(NumberOfGuestsWeeklyResort)-train_test_split_resort_weekly} podataka\")\n",
    "\n",
    "trainResortWeekly = NumberOfGuestsWeeklyResort[:train_test_split_resort_weekly]\n",
    "testResortWeekly = NumberOfGuestsWeeklyResort[train_test_split_resort_weekly:]"
   ]
  },
  {
   "cell_type": "markdown",
   "id": "ecb3736d",
   "metadata": {},
   "source": [
    "#### Fit ARIMA modela na podatke na tjednoj bazi"
   ]
  },
  {
   "cell_type": "code",
   "execution_count": null,
   "id": "25e356c9",
   "metadata": {},
   "outputs": [],
   "source": [
    "stepwise_fit_resort_weekly = auto_arima(trainResortWeekly['ukupno_gostiju'], \n",
    "                          start_p=1, start_q=1,\n",
    "                          max_p=3, max_q=3, m=54,\n",
    "                          start_P=0, seasonal=True,\n",
    "                          d=0, D=1, trace=True,\n",
    "                          error_action='ignore',\n",
    "                          suppress_warnings=True,\n",
    "                          stepwise=True)\n",
    "\n",
    "stepwise_fit_resort_weekly.summary()"
   ]
  },
  {
   "cell_type": "markdown",
   "id": "2be83ad7",
   "metadata": {},
   "source": [
    "- Bazirano na izlazu auto_arima metode, koristiti ćemo najbolji model \n",
    "- ARIMA(0,0,0)(0,1,0)[54]    je najbolji model te se to preslikava u parametre\n",
    "- order = (0,0,0)\n",
    "- seasonal_order = (0,1,0)[54] \n"
   ]
  },
  {
   "cell_type": "code",
   "execution_count": null,
   "id": "a6a0b3ce",
   "metadata": {},
   "outputs": [],
   "source": [
    "modelResort_weekly = ARIMA(trainResortWeekly['ukupno_gostiju'],\n",
    "                  order=(0, 0, 0),\n",
    "                  seasonal_order=(0, 1, 0, 54))\n",
    "\n",
    "resultResort_weekly= modelResort_weekly.fit()\n"
   ]
  },
  {
   "cell_type": "markdown",
   "id": "f35a8939",
   "metadata": {},
   "source": [
    "##### Predikcije modela na test podacima na tjednoj bazi"
   ]
  },
  {
   "cell_type": "code",
   "execution_count": null,
   "id": "a8bd26bb",
   "metadata": {},
   "outputs": [],
   "source": [
    "predictionsResortTestWeekly = resultResort_weekly.predict(train_test_split_resort_weekly, train_test_split_resort_weekly + len(testResortWeekly) - 1, typ='levels').rename(\"Predictions\")\n"
   ]
  },
  {
   "cell_type": "markdown",
   "id": "048ba855",
   "metadata": {},
   "source": [
    "### Predikcija broja gostija na tjednoj razini na testnim podacima\n"
   ]
  },
  {
   "cell_type": "code",
   "execution_count": null,
   "id": "86ec1100",
   "metadata": {},
   "outputs": [],
   "source": [
    "plt.figure(figsize=(15, 8))\n",
    "testResortWeekly['ukupno_gostiju'].plot(legend=True)\n",
    "predictionsResortTestWeekly.plot(legend=True)\n",
    "plt.title('Predikcija broja gostiju Resort Hotela na tjednoj razini', fontsize=16)\n",
    "plt.xlabel('Datum dolaska', fontsize=12)\n",
    "plt.ylabel('Broj gostiju', fontsize=12)"
   ]
  },
  {
   "cell_type": "code",
   "execution_count": null,
   "id": "e33b986d",
   "metadata": {},
   "outputs": [],
   "source": [
    "plt.figure(figsize=(15, 8))\n",
    "trainResortWeekly['ukupno_gostiju'].plot(legend=True)\n",
    "predictionsResortTestWeekly.plot(legend=True)\n",
    "plt.title('Predikcija broja gostiju kod Resort Hotela na tjednoj razini', fontsize=16)\n",
    "plt.xlabel('Datum dolaska', fontsize=12)\n",
    "plt.ylabel('Broj gostiju', fontsize=12)"
   ]
  },
  {
   "cell_type": "code",
   "execution_count": null,
   "id": "1cb2798f",
   "metadata": {},
   "outputs": [],
   "source": [
    "MeanAbsPercentageErrResortWeekly_test = mean_absolute_percentage_error(testResortWeekly, predictionsResortTestWeekly)\n",
    "print('Test MAPE Resort Hotel na tjednoj razini: %f' % MeanAbsPercentageErrResortWeekly_test)"
   ]
  },
  {
   "cell_type": "markdown",
   "id": "fab3767f",
   "metadata": {},
   "source": [
    "## Predviđanje mjesečnog broja gostiju \n"
   ]
  },
  {
   "cell_type": "markdown",
   "id": "1b483693",
   "metadata": {},
   "source": [
    "#### Dickey-Fuller test za podatke o mjesečnom broju gostiju"
   ]
  },
  {
   "cell_type": "code",
   "execution_count": null,
   "id": "e60dff5f",
   "metadata": {},
   "outputs": [],
   "source": [
    "ResortMonthlyValues = NumberOfGuestsMonthlyResort.values\n",
    "result_resort_monthly = adfuller(ResortMonthlyValues)\n",
    "print('ADF Statistic: %f' % result_resort_monthly[0])\n",
    "print('p-value: %f' % result_resort_monthly[1])\n",
    "print('Critical Values:')\n",
    "for key, value in result_resort_monthly[4].items():\n",
    "    print('\\t%s: %.3f' % (key, value))"
   ]
  },
  {
   "cell_type": "markdown",
   "id": "788ba1e7",
   "metadata": {},
   "source": [
    "- Definirajmo razinu značajnosti alfa=0.05\n",
    "- Kako je p vrijednost manje od alfe, možemo odbaciti H0, odnosno serija je stacionarna "
   ]
  },
  {
   "cell_type": "markdown",
   "id": "077cd9db",
   "metadata": {},
   "source": [
    "#### Rollling Mean i STD Resort Hotela na mjesečnoj razini"
   ]
  },
  {
   "cell_type": "code",
   "execution_count": null,
   "id": "f01b0684",
   "metadata": {},
   "outputs": [],
   "source": [
    "plt.figure(figsize=(15, 8))\n",
    "rolling_mean_resort_monthly = NumberOfGuestsMonthlyResort.rolling(window=4).mean()\n",
    "rolling_std_resort_monthly = NumberOfGuestsMonthlyResort.rolling(window=4).std()\n",
    "plt.plot(NumberOfGuestsMonthlyResort, color='blue', label='Original')\n",
    "plt.plot(rolling_mean_resort_monthly, color='red', label='Rolling Mean')\n",
    "plt.plot(rolling_std_resort_monthly, color='black', label='Rolling Std')\n",
    "plt.legend(loc='upper right')\n",
    "plt.title('Klizni medijan i standardna devijacija ukupnog broja gostiju kod Resort Hotela na mjesečnoj razini')\n",
    "plt.show()"
   ]
  },
  {
   "cell_type": "code",
   "execution_count": null,
   "id": "9c3e5319",
   "metadata": {},
   "outputs": [],
   "source": [
    "split_ratio  =  0.8"
   ]
  },
  {
   "cell_type": "code",
   "execution_count": null,
   "id": "693994a0",
   "metadata": {},
   "outputs": [],
   "source": [
    "train_test_split_resort_monthly = int(len(NumberOfGuestsMonthlyResort)*split_ratio)\n",
    "print(f\"Split {split_ratio} na train/test, train ima {train_test_split_resort_monthly} podataka, test {len(NumberOfGuestsMonthlyResort)-train_test_split_resort_monthly} podataka\")\n",
    "\n",
    "trainResortMonthly = NumberOfGuestsMonthlyResort[:train_test_split_resort_monthly]\n",
    "testResortMonthly = NumberOfGuestsMonthlyResort[train_test_split_resort_monthly:]"
   ]
  },
  {
   "cell_type": "code",
   "execution_count": null,
   "id": "f134f8f9",
   "metadata": {},
   "outputs": [],
   "source": [
    "stepwise_fit_resort_monthly = auto_arima(trainResortMonthly['ukupno_gostiju'], \n",
    "                          start_p=1, start_q=1,\n",
    "                          max_p=3, max_q=3, m=12,\n",
    "                          start_P=0, seasonal=True,\n",
    "                          d=0, D=1, trace=True,\n",
    "                          error_action='ignore',\n",
    "                          suppress_warnings=True,\n",
    "                          stepwise=True)\n",
    "\n",
    "stepwise_fit_resort_monthly.summary()"
   ]
  },
  {
   "cell_type": "markdown",
   "id": "232dc7ba",
   "metadata": {},
   "source": [
    "- Bazirano na izlazu auto_arima metode, koristiti ćemo najbolji model \n",
    "- ARIMA(0,0,0)(0,1,0)[12]    je najbolji model te se to preslikava u parametre\n",
    "- order = (0,0,0)\n",
    "- seasonal_order = (0,1,0)[12] \n"
   ]
  },
  {
   "cell_type": "code",
   "execution_count": null,
   "id": "5cbc27e2",
   "metadata": {},
   "outputs": [],
   "source": [
    "modelResort_monthly = ARIMA(trainResortMonthly['ukupno_gostiju'],\n",
    "                  order=(0, 0, 0),\n",
    "                  seasonal_order=(0, 1, 0, 12))\n",
    "\n",
    "resultResort_monthly= modelResort_monthly.fit()\n"
   ]
  },
  {
   "cell_type": "markdown",
   "id": "1bd3f03d",
   "metadata": {},
   "source": [
    "##### Predikcije modela na test podacima na mjesečnoj bazi"
   ]
  },
  {
   "cell_type": "code",
   "execution_count": null,
   "id": "71f4d0eb",
   "metadata": {},
   "outputs": [],
   "source": [
    "predictionsResortTestMonthly = resultResort_monthly.predict(train_test_split_resort_monthly, train_test_split_resort_monthly + len(testResortMonthly) - 1, typ='levels').rename(\"Predictions\")\n"
   ]
  },
  {
   "cell_type": "markdown",
   "id": "551795f1",
   "metadata": {},
   "source": [
    "### Predikcija broja gostija na mjesečnoj razini na testnim podacima\n"
   ]
  },
  {
   "cell_type": "code",
   "execution_count": null,
   "id": "613af44a",
   "metadata": {},
   "outputs": [],
   "source": [
    "plt.figure(figsize=(15, 8))\n",
    "testResortMonthly['ukupno_gostiju'].plot(legend=True)\n",
    "predictionsResortTestMonthly.plot(legend=True)\n",
    "plt.title('Predikcija Broja Gostiju Resort Hotela na mjesečnoj razini', fontsize=16)\n",
    "plt.xlabel('Datum dolaska', fontsize=12)\n",
    "plt.ylabel('Broj gostiju', fontsize=12)"
   ]
  },
  {
   "cell_type": "code",
   "execution_count": null,
   "id": "73f959fb",
   "metadata": {},
   "outputs": [],
   "source": [
    "plt.figure(figsize=(15, 8))\n",
    "trainResortMonthly['ukupno_gostiju'].plot(legend=True)\n",
    "predictionsResortTestMonthly.plot(legend=True)\n",
    "plt.title('Predikcija broja gostiju kod Resort Hotela na mjesečnoj razini', fontsize=16)\n",
    "plt.xlabel('Datum dolaska', fontsize=12)\n",
    "plt.ylabel('Broj gostiju', fontsize=12)"
   ]
  },
  {
   "cell_type": "code",
   "execution_count": null,
   "id": "49a9f412",
   "metadata": {},
   "outputs": [],
   "source": [
    "MeanAbsPercentageErrResortMonthly_test = mean_absolute_percentage_error(testResortMonthly, predictionsResortTestMonthly)\n",
    "print('Test MAPE Resort Hotel na mjesečnoj razini: %f' % MeanAbsPercentageErrResortMonthly_test)"
   ]
  },
  {
   "cell_type": "markdown",
   "id": "c5fd79cb",
   "metadata": {},
   "source": [
    "## Pregled svih rezultata "
   ]
  },
  {
   "cell_type": "code",
   "execution_count": null,
   "id": "1be0dde3",
   "metadata": {},
   "outputs": [],
   "source": [
    "errors_data = {\n",
    "    'Hotel': ['City', 'City', 'City', 'Resort', 'Resort', 'Resort'],\n",
    "    'Time Range': ['Daily', 'Weekly', 'Monthly', 'Daily', 'Weekly', 'Monthly'],\n",
    "    'MeanAbsPercentageError/%': [\n",
    "        MeanAbsPercentageErrCityDaily_test,\n",
    "        MeanAbsPercentageErrCityWeekly_test,\n",
    "        MeanAbsPercentageErrCityMonthly_test,\n",
    "        MeanAbsPercentageErrResortDaily_test,\n",
    "        MeanAbsPercentageErrResortWeekly_test,\n",
    "        MeanAbsPercentageErrResortMonthly_test\n",
    "    ]\n",
    "}\n",
    "\n",
    "errors_df = pd.DataFrame(errors_data)\n",
    "errors_df = errors_df.style.format({'MeanAbsPercentageError': \"{:.2f}\"})"
   ]
  },
  {
   "cell_type": "code",
   "execution_count": null,
   "id": "6c36c84f",
   "metadata": {},
   "outputs": [],
   "source": [
    "errors_df"
   ]
  }
 ],
 "metadata": {
  "kernelspec": {
   "display_name": "Python 3",
   "language": "python",
   "name": "python3"
  },
  "language_info": {
   "codemirror_mode": {
    "name": "ipython",
    "version": 3
   },
   "file_extension": ".py",
   "mimetype": "text/x-python",
   "name": "python",
   "nbconvert_exporter": "python",
   "pygments_lexer": "ipython3",
   "version": "3.11.5"
  },
  "papermill": {
   "default_parameters": {},
   "duration": 148.309899,
   "end_time": "2021-07-29T22:10:05.714579",
   "environment_variables": {},
   "exception": null,
   "input_path": "__notebook__.ipynb",
   "output_path": "__notebook__.ipynb",
   "parameters": {},
   "start_time": "2021-07-29T22:07:37.404680",
   "version": "2.3.3"
  }
 },
 "nbformat": 4,
 "nbformat_minor": 5
}
