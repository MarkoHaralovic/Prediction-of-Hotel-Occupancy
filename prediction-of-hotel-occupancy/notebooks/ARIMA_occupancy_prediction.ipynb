{
 "cells": [
  {
   "cell_type": "markdown",
   "id": "49e275b8",
   "metadata": {},
   "source": [
    "# Number of guests prediction demo\n",
    "\n",
    "Stripped-down version of [this notebook](https://www.kaggle.com/code/atasaygin/hotel-booking-demand-eda-and-of-guest-prediction).\n",
    "\n",
    "**Performance** \n",
    "- Hotel booking demand dataset\n",
    "    - Test MAPE City Hotel: 0.249210\n",
    "    - Test MAPE Resort Hotel: 0.241623\n",
    "- Lumen dataset `data/raw/lumen_dataset`"
   ]
  },
  {
   "cell_type": "markdown",
   "id": "parallel-scientist",
   "metadata": {
    "papermill": {
     "duration": 0.052544,
     "end_time": "2021-07-29T22:07:47.098458",
     "exception": false,
     "start_time": "2021-07-29T22:07:47.045914",
     "status": "completed"
    },
    "tags": []
   },
   "source": [
    "# Libraries"
   ]
  },
  {
   "cell_type": "code",
   "execution_count": 1,
   "id": "normal-vancouver",
   "metadata": {
    "_cell_guid": "b1076dfc-b9ad-4769-8c92-a6c4dae69d19",
    "_kg_hide-input": true,
    "_kg_hide-output": true,
    "_uuid": "8f2839f25d086af736a60e9eeb907d3b93b6e0e5",
    "execution": {
     "iopub.execute_input": "2021-07-29T22:07:47.208495Z",
     "iopub.status.busy": "2021-07-29T22:07:47.207219Z",
     "iopub.status.idle": "2021-07-29T22:08:00.772684Z",
     "shell.execute_reply": "2021-07-29T22:08:00.771456Z"
    },
    "papermill": {
     "duration": 13.621585,
     "end_time": "2021-07-29T22:08:00.773018",
     "exception": false,
     "start_time": "2021-07-29T22:07:47.151433",
     "status": "completed"
    },
    "tags": []
   },
   "outputs": [
    {
     "name": "stdout",
     "output_type": "stream",
     "text": [
      "..\\data\\raw\\export_df.parquet\n"
     ]
    }
   ],
   "source": [
    "import os\n",
    "import matplotlib.pyplot as plt\n",
    "import pandas as pd\n",
    "from statsmodels.tsa.stattools import adfuller\n",
    "from statsmodels.tsa.arima.model import ARIMA\n",
    "from pmdarima import auto_arima\n",
    "import warnings\n",
    "from sklearn.metrics import mean_absolute_percentage_error\n",
    "import os\n",
    "\n",
    "for dirname, _, filenames in os.walk('..\\\\data\\\\raw'):\n",
    "    for filename in filenames:\n",
    "        print(os.path.join(dirname, filename))\n",
    "        \n",
    "warnings.filterwarnings(\"ignore\")"
   ]
  },
  {
   "cell_type": "code",
   "execution_count": 2,
   "id": "postal-transmission",
   "metadata": {
    "execution": {
     "iopub.execute_input": "2021-07-29T22:08:00.898241Z",
     "iopub.status.busy": "2021-07-29T22:08:00.897540Z",
     "iopub.status.idle": "2021-07-29T22:08:01.640937Z",
     "shell.execute_reply": "2021-07-29T22:08:01.640312Z",
     "shell.execute_reply.started": "2021-07-04T21:33:32.540589Z"
    },
    "papermill": {
     "duration": 0.806263,
     "end_time": "2021-07-29T22:08:01.641099",
     "exception": false,
     "start_time": "2021-07-29T22:08:00.834836",
     "status": "completed"
    },
    "tags": []
   },
   "outputs": [
    {
     "data": {
      "text/html": [
       "<div>\n",
       "<style scoped>\n",
       "    .dataframe tbody tr th:only-of-type {\n",
       "        vertical-align: middle;\n",
       "    }\n",
       "\n",
       "    .dataframe tbody tr th {\n",
       "        vertical-align: top;\n",
       "    }\n",
       "\n",
       "    .dataframe thead th {\n",
       "        text-align: right;\n",
       "    }\n",
       "</style>\n",
       "<table border=\"1\" class=\"dataframe\">\n",
       "  <thead>\n",
       "    <tr style=\"text-align: right;\">\n",
       "      <th></th>\n",
       "      <th>hotel_id</th>\n",
       "      <th>datum_dolaska</th>\n",
       "      <th>datum_kreiranja_rezervacije</th>\n",
       "      <th>datum_odjave</th>\n",
       "      <th>datum_otkazivanja_rezervacije</th>\n",
       "      <th>broj_odraslih_gostiju</th>\n",
       "      <th>broj_djece_gostiju</th>\n",
       "      <th>zemlja_gosta</th>\n",
       "      <th>kanal_prodaje_id</th>\n",
       "      <th>tip_sobe_id</th>\n",
       "      <th>cijena_nocenja</th>\n",
       "      <th>status_rezervacije</th>\n",
       "      <th>rezervacija_id</th>\n",
       "      <th>gost_id</th>\n",
       "    </tr>\n",
       "  </thead>\n",
       "  <tbody>\n",
       "    <tr>\n",
       "      <th>0</th>\n",
       "      <td>0</td>\n",
       "      <td>2015-07-01</td>\n",
       "      <td>2015-01-21</td>\n",
       "      <td>2015-07-01</td>\n",
       "      <td>None</td>\n",
       "      <td>2</td>\n",
       "      <td>0.0</td>\n",
       "      <td>PRT</td>\n",
       "      <td>0</td>\n",
       "      <td>0</td>\n",
       "      <td>100.000000</td>\n",
       "      <td>Check-Out</td>\n",
       "      <td>1313223</td>\n",
       "      <td>1077152</td>\n",
       "    </tr>\n",
       "    <tr>\n",
       "      <th>1</th>\n",
       "      <td>0</td>\n",
       "      <td>2015-07-01</td>\n",
       "      <td>2015-06-10</td>\n",
       "      <td>2015-07-01</td>\n",
       "      <td>None</td>\n",
       "      <td>2</td>\n",
       "      <td>0.0</td>\n",
       "      <td>PRT</td>\n",
       "      <td>0</td>\n",
       "      <td>0</td>\n",
       "      <td>100.000000</td>\n",
       "      <td>Check-Out</td>\n",
       "      <td>1313224</td>\n",
       "      <td>1017906</td>\n",
       "    </tr>\n",
       "    <tr>\n",
       "      <th>2</th>\n",
       "      <td>0</td>\n",
       "      <td>2015-07-01</td>\n",
       "      <td>2015-05-13</td>\n",
       "      <td>2015-07-02</td>\n",
       "      <td>None</td>\n",
       "      <td>1</td>\n",
       "      <td>0.0</td>\n",
       "      <td>GBR</td>\n",
       "      <td>0</td>\n",
       "      <td>1</td>\n",
       "      <td>64.991345</td>\n",
       "      <td>Check-Out</td>\n",
       "      <td>1313225</td>\n",
       "      <td>1039896</td>\n",
       "    </tr>\n",
       "    <tr>\n",
       "      <th>3</th>\n",
       "      <td>0</td>\n",
       "      <td>2015-07-01</td>\n",
       "      <td>2014-05-30</td>\n",
       "      <td>2015-07-02</td>\n",
       "      <td>None</td>\n",
       "      <td>1</td>\n",
       "      <td>0.0</td>\n",
       "      <td>GBR</td>\n",
       "      <td>1</td>\n",
       "      <td>1</td>\n",
       "      <td>74.368897</td>\n",
       "      <td>Check-Out</td>\n",
       "      <td>1313226</td>\n",
       "      <td>1008245</td>\n",
       "    </tr>\n",
       "    <tr>\n",
       "      <th>4</th>\n",
       "      <td>0</td>\n",
       "      <td>2015-07-01</td>\n",
       "      <td>2014-07-06</td>\n",
       "      <td>2015-07-03</td>\n",
       "      <td>None</td>\n",
       "      <td>2</td>\n",
       "      <td>0.0</td>\n",
       "      <td>GBR</td>\n",
       "      <td>2</td>\n",
       "      <td>1</td>\n",
       "      <td>130.973278</td>\n",
       "      <td>Check-Out</td>\n",
       "      <td>1313227</td>\n",
       "      <td>1093703</td>\n",
       "    </tr>\n",
       "  </tbody>\n",
       "</table>\n",
       "</div>"
      ],
      "text/plain": [
       "   hotel_id datum_dolaska datum_kreiranja_rezervacije datum_odjave  \\\n",
       "0         0    2015-07-01                  2015-01-21   2015-07-01   \n",
       "1         0    2015-07-01                  2015-06-10   2015-07-01   \n",
       "2         0    2015-07-01                  2015-05-13   2015-07-02   \n",
       "3         0    2015-07-01                  2014-05-30   2015-07-02   \n",
       "4         0    2015-07-01                  2014-07-06   2015-07-03   \n",
       "\n",
       "  datum_otkazivanja_rezervacije  broj_odraslih_gostiju  broj_djece_gostiju  \\\n",
       "0                          None                      2                 0.0   \n",
       "1                          None                      2                 0.0   \n",
       "2                          None                      1                 0.0   \n",
       "3                          None                      1                 0.0   \n",
       "4                          None                      2                 0.0   \n",
       "\n",
       "  zemlja_gosta  kanal_prodaje_id  tip_sobe_id  cijena_nocenja  \\\n",
       "0          PRT                 0            0      100.000000   \n",
       "1          PRT                 0            0      100.000000   \n",
       "2          GBR                 0            1       64.991345   \n",
       "3          GBR                 1            1       74.368897   \n",
       "4          GBR                 2            1      130.973278   \n",
       "\n",
       "  status_rezervacije  rezervacija_id  gost_id  \n",
       "0          Check-Out         1313223  1077152  \n",
       "1          Check-Out         1313224  1017906  \n",
       "2          Check-Out         1313225  1039896  \n",
       "3          Check-Out         1313226  1008245  \n",
       "4          Check-Out         1313227  1093703  "
      ]
     },
     "execution_count": 2,
     "metadata": {},
     "output_type": "execute_result"
    }
   ],
   "source": [
    "data = pd.read_parquet('../data/raw/export_df.parquet')\n",
    "data.head()"
   ]
  },
  {
   "cell_type": "code",
   "execution_count": 3,
   "id": "helpful-bonus",
   "metadata": {
    "execution": {
     "iopub.execute_input": "2021-07-29T22:08:01.769667Z",
     "iopub.status.busy": "2021-07-29T22:08:01.768770Z",
     "iopub.status.idle": "2021-07-29T22:08:01.941686Z",
     "shell.execute_reply": "2021-07-29T22:08:01.940850Z",
     "shell.execute_reply.started": "2021-07-04T20:55:03.428663Z"
    },
    "papermill": {
     "duration": 0.240065,
     "end_time": "2021-07-29T22:08:01.941858",
     "exception": false,
     "start_time": "2021-07-29T22:08:01.701793",
     "status": "completed"
    },
    "tags": []
   },
   "outputs": [
    {
     "name": "stdout",
     "output_type": "stream",
     "text": [
      "<class 'pandas.core.frame.DataFrame'>\n",
      "RangeIndex: 119210 entries, 0 to 119209\n",
      "Data columns (total 14 columns):\n",
      " #   Column                         Non-Null Count   Dtype         \n",
      "---  ------                         --------------   -----         \n",
      " 0   hotel_id                       119210 non-null  int32         \n",
      " 1   datum_dolaska                  119210 non-null  datetime64[ns]\n",
      " 2   datum_kreiranja_rezervacije    119210 non-null  datetime64[ns]\n",
      " 3   datum_odjave                   119210 non-null  datetime64[ns]\n",
      " 4   datum_otkazivanja_rezervacije  44199 non-null   object        \n",
      " 5   broj_odraslih_gostiju          119210 non-null  int64         \n",
      " 6   broj_djece_gostiju             119210 non-null  float64       \n",
      " 7   zemlja_gosta                   119210 non-null  object        \n",
      " 8   kanal_prodaje_id               119210 non-null  int32         \n",
      " 9   tip_sobe_id                    119210 non-null  int32         \n",
      " 10  cijena_nocenja                 119210 non-null  float64       \n",
      " 11  status_rezervacije             119210 non-null  object        \n",
      " 12  rezervacija_id                 119210 non-null  int32         \n",
      " 13  gost_id                        119210 non-null  int32         \n",
      "dtypes: datetime64[ns](3), float64(2), int32(5), int64(1), object(3)\n",
      "memory usage: 10.5+ MB\n"
     ]
    }
   ],
   "source": [
    "data.info()"
   ]
  },
  {
   "cell_type": "code",
   "execution_count": 4,
   "id": "headed-bobby",
   "metadata": {
    "execution": {
     "iopub.execute_input": "2021-07-29T22:08:02.191793Z",
     "iopub.status.busy": "2021-07-29T22:08:02.190844Z",
     "iopub.status.idle": "2021-07-29T22:08:02.344884Z",
     "shell.execute_reply": "2021-07-29T22:08:02.344333Z",
     "shell.execute_reply.started": "2021-07-04T20:55:06.348585Z"
    },
    "papermill": {
     "duration": 0.220986,
     "end_time": "2021-07-29T22:08:02.345043",
     "exception": false,
     "start_time": "2021-07-29T22:08:02.124057",
     "status": "completed"
    },
    "tags": []
   },
   "outputs": [
    {
     "data": {
      "text/plain": [
       "hotel_id                             0\n",
       "datum_dolaska                        0\n",
       "datum_kreiranja_rezervacije          0\n",
       "datum_odjave                         0\n",
       "datum_otkazivanja_rezervacije    75011\n",
       "broj_odraslih_gostiju                0\n",
       "broj_djece_gostiju                   0\n",
       "zemlja_gosta                         0\n",
       "kanal_prodaje_id                     0\n",
       "tip_sobe_id                          0\n",
       "cijena_nocenja                       0\n",
       "status_rezervacije                   0\n",
       "rezervacija_id                       0\n",
       "gost_id                              0\n",
       "dtype: int64"
      ]
     },
     "execution_count": 4,
     "metadata": {},
     "output_type": "execute_result"
    }
   ],
   "source": [
    "NaN = data.isna().sum()\n",
    "NaN"
   ]
  },
  {
   "cell_type": "markdown",
   "id": "medical-information",
   "metadata": {
    "papermill": {
     "duration": 0.060474,
     "end_time": "2021-07-29T22:08:02.586646",
     "exception": false,
     "start_time": "2021-07-29T22:08:02.526172",
     "status": "completed"
    },
    "tags": []
   },
   "source": [
    "# Čišćenje podataka "
   ]
  },
  {
   "cell_type": "code",
   "execution_count": 5,
   "id": "dying-madness",
   "metadata": {
    "execution": {
     "iopub.execute_input": "2021-07-29T22:08:02.738891Z",
     "iopub.status.busy": "2021-07-29T22:08:02.738152Z",
     "iopub.status.idle": "2021-07-29T22:08:02.870880Z",
     "shell.execute_reply": "2021-07-29T22:08:02.870028Z",
     "shell.execute_reply.started": "2021-07-04T21:33:36.268574Z"
    },
    "papermill": {
     "duration": 0.223559,
     "end_time": "2021-07-29T22:08:02.871059",
     "exception": false,
     "start_time": "2021-07-29T22:08:02.647500",
     "status": "completed"
    },
    "tags": []
   },
   "outputs": [],
   "source": [
    "data = data.dropna(subset=['zemlja_gosta', 'broj_djece_gostiju','datum_dolaska'], axis=0)\n",
    "data = data.reset_index(drop=True)\n",
    "data.head()\n",
    "\n",
    "orig_len = len(data)"
   ]
  },
  {
   "cell_type": "code",
   "execution_count": 6,
   "id": "d9fe3520",
   "metadata": {},
   "outputs": [
    {
     "name": "stdout",
     "output_type": "stream",
     "text": [
      "Resort (hotel id 0) ima 40047 zapisa\n",
      "City (hotel id 1) ima 79163 zapisa\n"
     ]
    }
   ],
   "source": [
    "print(f\"Resort (hotel id 0) ima {len(data[data['hotel_id']==0])} zapisa\")\n",
    "print(f\"City (hotel id 1) ima {len(data[data['hotel_id']==1])} zapisa\")\n"
   ]
  },
  {
   "cell_type": "markdown",
   "id": "340dbf44",
   "metadata": {},
   "source": [
    "#### Uklanjanje zapisa (redaka) gdje je zemlja gosta 0 "
   ]
  },
  {
   "cell_type": "code",
   "execution_count": 7,
   "id": "9e1ea8a3",
   "metadata": {},
   "outputs": [
    {
     "name": "stdout",
     "output_type": "stream",
     "text": [
      "Govorimo o 552 redaka, odnosno 0.4630484019796997% podataka\n",
      "Resort ima 39583 zapisa\n",
      "City ima 79075 zapisa\n"
     ]
    }
   ],
   "source": [
    "print(f\"Govorimo o {len(data[data['zemlja_gosta']=='0'])} redaka, odnosno {len(data[data['zemlja_gosta']=='0'])/len(data)*100}% podataka\")\n",
    "data = data[~(data['zemlja_gosta']=='0')]\n",
    "print(f\"Resort ima {len(data[data['hotel_id']==0])} zapisa\")\n",
    "print(f\"City ima {len(data[data['hotel_id']==1])} zapisa\")\n"
   ]
  },
  {
   "cell_type": "code",
   "execution_count": 8,
   "id": "surrounded-pavilion",
   "metadata": {
    "execution": {
     "iopub.execute_input": "2021-07-29T22:08:03.001746Z",
     "iopub.status.busy": "2021-07-29T22:08:03.000566Z",
     "iopub.status.idle": "2021-07-29T22:08:03.008874Z",
     "shell.execute_reply": "2021-07-29T22:08:03.008134Z",
     "shell.execute_reply.started": "2021-07-04T21:33:38.324169Z"
    },
    "papermill": {
     "duration": 0.077221,
     "end_time": "2021-07-29T22:08:03.009041",
     "exception": false,
     "start_time": "2021-07-29T22:08:02.931820",
     "status": "completed"
    },
    "tags": []
   },
   "outputs": [
    {
     "data": {
      "text/plain": [
       "dtype('int32')"
      ]
     },
     "execution_count": 8,
     "metadata": {},
     "output_type": "execute_result"
    }
   ],
   "source": [
    "data['broj_djece_gostiju'] = data['broj_djece_gostiju'].astype(int)\n",
    "data['broj_djece_gostiju'].dtype "
   ]
  },
  {
   "cell_type": "code",
   "execution_count": 9,
   "id": "unauthorized-temple",
   "metadata": {
    "execution": {
     "iopub.execute_input": "2021-07-29T22:08:03.276301Z",
     "iopub.status.busy": "2021-07-29T22:08:03.275590Z",
     "iopub.status.idle": "2021-07-29T22:08:03.291237Z",
     "shell.execute_reply": "2021-07-29T22:08:03.290551Z",
     "shell.execute_reply.started": "2021-07-04T21:33:39.878694Z"
    },
    "papermill": {
     "duration": 0.220093,
     "end_time": "2021-07-29T22:08:03.291407",
     "exception": false,
     "start_time": "2021-07-29T22:08:03.071314",
     "status": "completed"
    },
    "tags": []
   },
   "outputs": [
    {
     "data": {
      "text/plain": [
       "hotel_id                             0\n",
       "datum_dolaska                        0\n",
       "datum_kreiranja_rezervacije          0\n",
       "datum_odjave                         0\n",
       "datum_otkazivanja_rezervacije    74553\n",
       "broj_odraslih_gostiju                0\n",
       "broj_djece_gostiju                   0\n",
       "zemlja_gosta                         0\n",
       "kanal_prodaje_id                     0\n",
       "tip_sobe_id                          0\n",
       "cijena_nocenja                       0\n",
       "status_rezervacije                   0\n",
       "rezervacija_id                       0\n",
       "gost_id                              0\n",
       "dtype: int64"
      ]
     },
     "execution_count": 9,
     "metadata": {},
     "output_type": "execute_result"
    }
   ],
   "source": [
    "NaN_updated = data.isna().sum()\n",
    "NaN_updated"
   ]
  },
  {
   "cell_type": "code",
   "execution_count": 10,
   "id": "3c000d40",
   "metadata": {},
   "outputs": [
    {
     "data": {
      "text/html": [
       "<div>\n",
       "<style scoped>\n",
       "    .dataframe tbody tr th:only-of-type {\n",
       "        vertical-align: middle;\n",
       "    }\n",
       "\n",
       "    .dataframe tbody tr th {\n",
       "        vertical-align: top;\n",
       "    }\n",
       "\n",
       "    .dataframe thead th {\n",
       "        text-align: right;\n",
       "    }\n",
       "</style>\n",
       "<table border=\"1\" class=\"dataframe\">\n",
       "  <thead>\n",
       "    <tr style=\"text-align: right;\">\n",
       "      <th></th>\n",
       "      <th>hotel_id</th>\n",
       "      <th>datum_dolaska</th>\n",
       "      <th>datum_kreiranja_rezervacije</th>\n",
       "      <th>datum_odjave</th>\n",
       "      <th>datum_otkazivanja_rezervacije</th>\n",
       "      <th>broj_odraslih_gostiju</th>\n",
       "      <th>broj_djece_gostiju</th>\n",
       "      <th>zemlja_gosta</th>\n",
       "      <th>kanal_prodaje_id</th>\n",
       "      <th>tip_sobe_id</th>\n",
       "      <th>cijena_nocenja</th>\n",
       "      <th>status_rezervacije</th>\n",
       "      <th>rezervacija_id</th>\n",
       "      <th>gost_id</th>\n",
       "    </tr>\n",
       "  </thead>\n",
       "  <tbody>\n",
       "    <tr>\n",
       "      <th>0</th>\n",
       "      <td>0</td>\n",
       "      <td>2015-07-01</td>\n",
       "      <td>2015-01-21</td>\n",
       "      <td>2015-07-01</td>\n",
       "      <td>None</td>\n",
       "      <td>2</td>\n",
       "      <td>0</td>\n",
       "      <td>PRT</td>\n",
       "      <td>0</td>\n",
       "      <td>0</td>\n",
       "      <td>100.000000</td>\n",
       "      <td>Check-Out</td>\n",
       "      <td>1313223</td>\n",
       "      <td>1077152</td>\n",
       "    </tr>\n",
       "    <tr>\n",
       "      <th>1</th>\n",
       "      <td>0</td>\n",
       "      <td>2015-07-01</td>\n",
       "      <td>2015-06-10</td>\n",
       "      <td>2015-07-01</td>\n",
       "      <td>None</td>\n",
       "      <td>2</td>\n",
       "      <td>0</td>\n",
       "      <td>PRT</td>\n",
       "      <td>0</td>\n",
       "      <td>0</td>\n",
       "      <td>100.000000</td>\n",
       "      <td>Check-Out</td>\n",
       "      <td>1313224</td>\n",
       "      <td>1017906</td>\n",
       "    </tr>\n",
       "    <tr>\n",
       "      <th>2</th>\n",
       "      <td>0</td>\n",
       "      <td>2015-07-01</td>\n",
       "      <td>2015-05-13</td>\n",
       "      <td>2015-07-02</td>\n",
       "      <td>None</td>\n",
       "      <td>1</td>\n",
       "      <td>0</td>\n",
       "      <td>GBR</td>\n",
       "      <td>0</td>\n",
       "      <td>1</td>\n",
       "      <td>64.991345</td>\n",
       "      <td>Check-Out</td>\n",
       "      <td>1313225</td>\n",
       "      <td>1039896</td>\n",
       "    </tr>\n",
       "    <tr>\n",
       "      <th>3</th>\n",
       "      <td>0</td>\n",
       "      <td>2015-07-01</td>\n",
       "      <td>2014-05-30</td>\n",
       "      <td>2015-07-02</td>\n",
       "      <td>None</td>\n",
       "      <td>1</td>\n",
       "      <td>0</td>\n",
       "      <td>GBR</td>\n",
       "      <td>1</td>\n",
       "      <td>1</td>\n",
       "      <td>74.368897</td>\n",
       "      <td>Check-Out</td>\n",
       "      <td>1313226</td>\n",
       "      <td>1008245</td>\n",
       "    </tr>\n",
       "    <tr>\n",
       "      <th>4</th>\n",
       "      <td>0</td>\n",
       "      <td>2015-07-01</td>\n",
       "      <td>2014-07-06</td>\n",
       "      <td>2015-07-03</td>\n",
       "      <td>None</td>\n",
       "      <td>2</td>\n",
       "      <td>0</td>\n",
       "      <td>GBR</td>\n",
       "      <td>2</td>\n",
       "      <td>1</td>\n",
       "      <td>130.973278</td>\n",
       "      <td>Check-Out</td>\n",
       "      <td>1313227</td>\n",
       "      <td>1093703</td>\n",
       "    </tr>\n",
       "  </tbody>\n",
       "</table>\n",
       "</div>"
      ],
      "text/plain": [
       "   hotel_id datum_dolaska datum_kreiranja_rezervacije datum_odjave  \\\n",
       "0         0    2015-07-01                  2015-01-21   2015-07-01   \n",
       "1         0    2015-07-01                  2015-06-10   2015-07-01   \n",
       "2         0    2015-07-01                  2015-05-13   2015-07-02   \n",
       "3         0    2015-07-01                  2014-05-30   2015-07-02   \n",
       "4         0    2015-07-01                  2014-07-06   2015-07-03   \n",
       "\n",
       "  datum_otkazivanja_rezervacije  broj_odraslih_gostiju  broj_djece_gostiju  \\\n",
       "0                          None                      2                   0   \n",
       "1                          None                      2                   0   \n",
       "2                          None                      1                   0   \n",
       "3                          None                      1                   0   \n",
       "4                          None                      2                   0   \n",
       "\n",
       "  zemlja_gosta  kanal_prodaje_id  tip_sobe_id  cijena_nocenja  \\\n",
       "0          PRT                 0            0      100.000000   \n",
       "1          PRT                 0            0      100.000000   \n",
       "2          GBR                 0            1       64.991345   \n",
       "3          GBR                 1            1       74.368897   \n",
       "4          GBR                 2            1      130.973278   \n",
       "\n",
       "  status_rezervacije  rezervacija_id  gost_id  \n",
       "0          Check-Out         1313223  1077152  \n",
       "1          Check-Out         1313224  1017906  \n",
       "2          Check-Out         1313225  1039896  \n",
       "3          Check-Out         1313226  1008245  \n",
       "4          Check-Out         1313227  1093703  "
      ]
     },
     "execution_count": 10,
     "metadata": {},
     "output_type": "execute_result"
    }
   ],
   "source": [
    "data.head()"
   ]
  },
  {
   "cell_type": "markdown",
   "id": "prompt-demographic",
   "metadata": {
    "papermill": {
     "duration": 0.061923,
     "end_time": "2021-07-29T22:08:08.053139",
     "exception": false,
     "start_time": "2021-07-29T22:08:07.991216",
     "status": "completed"
    },
    "tags": []
   },
   "source": [
    "# Stvaranje novih značajki (feature engineering)"
   ]
  },
  {
   "cell_type": "markdown",
   "id": "625e1994",
   "metadata": {},
   "source": [
    "##### Računanje ukupnog broja gostiju za svaki redak (djeca + odrasli)"
   ]
  },
  {
   "cell_type": "code",
   "execution_count": 11,
   "id": "level-observer",
   "metadata": {
    "execution": {
     "iopub.execute_input": "2021-07-29T22:08:08.186084Z",
     "iopub.status.busy": "2021-07-29T22:08:08.185322Z",
     "iopub.status.idle": "2021-07-29T22:08:08.194061Z",
     "shell.execute_reply": "2021-07-29T22:08:08.193343Z",
     "shell.execute_reply.started": "2021-07-04T21:33:52.317163Z"
    },
    "papermill": {
     "duration": 0.078118,
     "end_time": "2021-07-29T22:08:08.194229",
     "exception": false,
     "start_time": "2021-07-29T22:08:08.116111",
     "status": "completed"
    },
    "tags": []
   },
   "outputs": [
    {
     "data": {
      "text/plain": [
       "0    2\n",
       "1    2\n",
       "2    1\n",
       "3    1\n",
       "4    2\n",
       "5    2\n",
       "6    2\n",
       "7    2\n",
       "8    2\n",
       "9    2\n",
       "Name: ukupno_gostiju, dtype: int64"
      ]
     },
     "execution_count": 11,
     "metadata": {},
     "output_type": "execute_result"
    }
   ],
   "source": [
    "data['ukupno_gostiju'] = data['broj_odraslih_gostiju'] + data['broj_djece_gostiju']\n",
    "data['ukupno_gostiju'].head(10)"
   ]
  },
  {
   "cell_type": "markdown",
   "id": "025f9496",
   "metadata": {},
   "source": [
    "#### Duljina boravka - datum odlaska - datum dolaska"
   ]
  },
  {
   "cell_type": "code",
   "execution_count": 12,
   "id": "53e5219c",
   "metadata": {},
   "outputs": [
    {
     "data": {
      "text/html": [
       "<div>\n",
       "<style scoped>\n",
       "    .dataframe tbody tr th:only-of-type {\n",
       "        vertical-align: middle;\n",
       "    }\n",
       "\n",
       "    .dataframe tbody tr th {\n",
       "        vertical-align: top;\n",
       "    }\n",
       "\n",
       "    .dataframe thead th {\n",
       "        text-align: right;\n",
       "    }\n",
       "</style>\n",
       "<table border=\"1\" class=\"dataframe\">\n",
       "  <thead>\n",
       "    <tr style=\"text-align: right;\">\n",
       "      <th></th>\n",
       "      <th>hotel_id</th>\n",
       "      <th>datum_dolaska</th>\n",
       "      <th>datum_kreiranja_rezervacije</th>\n",
       "      <th>datum_odjave</th>\n",
       "      <th>datum_otkazivanja_rezervacije</th>\n",
       "      <th>broj_odraslih_gostiju</th>\n",
       "      <th>broj_djece_gostiju</th>\n",
       "      <th>zemlja_gosta</th>\n",
       "      <th>kanal_prodaje_id</th>\n",
       "      <th>tip_sobe_id</th>\n",
       "      <th>cijena_nocenja</th>\n",
       "      <th>status_rezervacije</th>\n",
       "      <th>rezervacija_id</th>\n",
       "      <th>gost_id</th>\n",
       "      <th>ukupno_gostiju</th>\n",
       "      <th>duljina_boravka</th>\n",
       "    </tr>\n",
       "  </thead>\n",
       "  <tbody>\n",
       "    <tr>\n",
       "      <th>0</th>\n",
       "      <td>0</td>\n",
       "      <td>2015-07-01</td>\n",
       "      <td>2015-01-21</td>\n",
       "      <td>2015-07-01</td>\n",
       "      <td>None</td>\n",
       "      <td>2</td>\n",
       "      <td>0</td>\n",
       "      <td>PRT</td>\n",
       "      <td>0</td>\n",
       "      <td>0</td>\n",
       "      <td>100.000000</td>\n",
       "      <td>Check-Out</td>\n",
       "      <td>1313223</td>\n",
       "      <td>1077152</td>\n",
       "      <td>2</td>\n",
       "      <td>0</td>\n",
       "    </tr>\n",
       "    <tr>\n",
       "      <th>1</th>\n",
       "      <td>0</td>\n",
       "      <td>2015-07-01</td>\n",
       "      <td>2015-06-10</td>\n",
       "      <td>2015-07-01</td>\n",
       "      <td>None</td>\n",
       "      <td>2</td>\n",
       "      <td>0</td>\n",
       "      <td>PRT</td>\n",
       "      <td>0</td>\n",
       "      <td>0</td>\n",
       "      <td>100.000000</td>\n",
       "      <td>Check-Out</td>\n",
       "      <td>1313224</td>\n",
       "      <td>1017906</td>\n",
       "      <td>2</td>\n",
       "      <td>0</td>\n",
       "    </tr>\n",
       "    <tr>\n",
       "      <th>2</th>\n",
       "      <td>0</td>\n",
       "      <td>2015-07-01</td>\n",
       "      <td>2015-05-13</td>\n",
       "      <td>2015-07-02</td>\n",
       "      <td>None</td>\n",
       "      <td>1</td>\n",
       "      <td>0</td>\n",
       "      <td>GBR</td>\n",
       "      <td>0</td>\n",
       "      <td>1</td>\n",
       "      <td>64.991345</td>\n",
       "      <td>Check-Out</td>\n",
       "      <td>1313225</td>\n",
       "      <td>1039896</td>\n",
       "      <td>1</td>\n",
       "      <td>1</td>\n",
       "    </tr>\n",
       "    <tr>\n",
       "      <th>3</th>\n",
       "      <td>0</td>\n",
       "      <td>2015-07-01</td>\n",
       "      <td>2014-05-30</td>\n",
       "      <td>2015-07-02</td>\n",
       "      <td>None</td>\n",
       "      <td>1</td>\n",
       "      <td>0</td>\n",
       "      <td>GBR</td>\n",
       "      <td>1</td>\n",
       "      <td>1</td>\n",
       "      <td>74.368897</td>\n",
       "      <td>Check-Out</td>\n",
       "      <td>1313226</td>\n",
       "      <td>1008245</td>\n",
       "      <td>1</td>\n",
       "      <td>1</td>\n",
       "    </tr>\n",
       "    <tr>\n",
       "      <th>4</th>\n",
       "      <td>0</td>\n",
       "      <td>2015-07-01</td>\n",
       "      <td>2014-07-06</td>\n",
       "      <td>2015-07-03</td>\n",
       "      <td>None</td>\n",
       "      <td>2</td>\n",
       "      <td>0</td>\n",
       "      <td>GBR</td>\n",
       "      <td>2</td>\n",
       "      <td>1</td>\n",
       "      <td>130.973278</td>\n",
       "      <td>Check-Out</td>\n",
       "      <td>1313227</td>\n",
       "      <td>1093703</td>\n",
       "      <td>2</td>\n",
       "      <td>2</td>\n",
       "    </tr>\n",
       "    <tr>\n",
       "      <th>5</th>\n",
       "      <td>0</td>\n",
       "      <td>2015-07-01</td>\n",
       "      <td>2015-04-21</td>\n",
       "      <td>2015-07-03</td>\n",
       "      <td>None</td>\n",
       "      <td>2</td>\n",
       "      <td>0</td>\n",
       "      <td>GBR</td>\n",
       "      <td>2</td>\n",
       "      <td>1</td>\n",
       "      <td>143.304560</td>\n",
       "      <td>Check-Out</td>\n",
       "      <td>1313228</td>\n",
       "      <td>1044263</td>\n",
       "      <td>2</td>\n",
       "      <td>2</td>\n",
       "    </tr>\n",
       "    <tr>\n",
       "      <th>6</th>\n",
       "      <td>0</td>\n",
       "      <td>2015-07-01</td>\n",
       "      <td>2015-06-25</td>\n",
       "      <td>2015-07-03</td>\n",
       "      <td>None</td>\n",
       "      <td>2</td>\n",
       "      <td>0</td>\n",
       "      <td>PRT</td>\n",
       "      <td>0</td>\n",
       "      <td>0</td>\n",
       "      <td>161.502814</td>\n",
       "      <td>Check-Out</td>\n",
       "      <td>1313229</td>\n",
       "      <td>1022260</td>\n",
       "      <td>2</td>\n",
       "      <td>2</td>\n",
       "    </tr>\n",
       "    <tr>\n",
       "      <th>7</th>\n",
       "      <td>0</td>\n",
       "      <td>2015-07-01</td>\n",
       "      <td>2014-09-15</td>\n",
       "      <td>2015-07-03</td>\n",
       "      <td>None</td>\n",
       "      <td>2</td>\n",
       "      <td>0</td>\n",
       "      <td>PRT</td>\n",
       "      <td>0</td>\n",
       "      <td>0</td>\n",
       "      <td>151.176542</td>\n",
       "      <td>Check-Out</td>\n",
       "      <td>1313230</td>\n",
       "      <td>1101557</td>\n",
       "      <td>2</td>\n",
       "      <td>2</td>\n",
       "    </tr>\n",
       "    <tr>\n",
       "      <th>8</th>\n",
       "      <td>0</td>\n",
       "      <td>2015-07-01</td>\n",
       "      <td>2015-06-30</td>\n",
       "      <td>2015-07-04</td>\n",
       "      <td>2015-05-06</td>\n",
       "      <td>2</td>\n",
       "      <td>0</td>\n",
       "      <td>PRT</td>\n",
       "      <td>2</td>\n",
       "      <td>1</td>\n",
       "      <td>61.437192</td>\n",
       "      <td>Canceled</td>\n",
       "      <td>1313231</td>\n",
       "      <td>1075633</td>\n",
       "      <td>2</td>\n",
       "      <td>3</td>\n",
       "    </tr>\n",
       "    <tr>\n",
       "      <th>9</th>\n",
       "      <td>0</td>\n",
       "      <td>2015-07-01</td>\n",
       "      <td>2015-06-28</td>\n",
       "      <td>2015-07-04</td>\n",
       "      <td>2015-04-22</td>\n",
       "      <td>2</td>\n",
       "      <td>0</td>\n",
       "      <td>PRT</td>\n",
       "      <td>2</td>\n",
       "      <td>2</td>\n",
       "      <td>150.365262</td>\n",
       "      <td>Canceled</td>\n",
       "      <td>1313232</td>\n",
       "      <td>1056139</td>\n",
       "      <td>2</td>\n",
       "      <td>3</td>\n",
       "    </tr>\n",
       "  </tbody>\n",
       "</table>\n",
       "</div>"
      ],
      "text/plain": [
       "   hotel_id datum_dolaska datum_kreiranja_rezervacije datum_odjave  \\\n",
       "0         0    2015-07-01                  2015-01-21   2015-07-01   \n",
       "1         0    2015-07-01                  2015-06-10   2015-07-01   \n",
       "2         0    2015-07-01                  2015-05-13   2015-07-02   \n",
       "3         0    2015-07-01                  2014-05-30   2015-07-02   \n",
       "4         0    2015-07-01                  2014-07-06   2015-07-03   \n",
       "5         0    2015-07-01                  2015-04-21   2015-07-03   \n",
       "6         0    2015-07-01                  2015-06-25   2015-07-03   \n",
       "7         0    2015-07-01                  2014-09-15   2015-07-03   \n",
       "8         0    2015-07-01                  2015-06-30   2015-07-04   \n",
       "9         0    2015-07-01                  2015-06-28   2015-07-04   \n",
       "\n",
       "  datum_otkazivanja_rezervacije  broj_odraslih_gostiju  broj_djece_gostiju  \\\n",
       "0                          None                      2                   0   \n",
       "1                          None                      2                   0   \n",
       "2                          None                      1                   0   \n",
       "3                          None                      1                   0   \n",
       "4                          None                      2                   0   \n",
       "5                          None                      2                   0   \n",
       "6                          None                      2                   0   \n",
       "7                          None                      2                   0   \n",
       "8                    2015-05-06                      2                   0   \n",
       "9                    2015-04-22                      2                   0   \n",
       "\n",
       "  zemlja_gosta  kanal_prodaje_id  tip_sobe_id  cijena_nocenja  \\\n",
       "0          PRT                 0            0      100.000000   \n",
       "1          PRT                 0            0      100.000000   \n",
       "2          GBR                 0            1       64.991345   \n",
       "3          GBR                 1            1       74.368897   \n",
       "4          GBR                 2            1      130.973278   \n",
       "5          GBR                 2            1      143.304560   \n",
       "6          PRT                 0            0      161.502814   \n",
       "7          PRT                 0            0      151.176542   \n",
       "8          PRT                 2            1       61.437192   \n",
       "9          PRT                 2            2      150.365262   \n",
       "\n",
       "  status_rezervacije  rezervacija_id  gost_id  ukupno_gostiju  duljina_boravka  \n",
       "0          Check-Out         1313223  1077152               2                0  \n",
       "1          Check-Out         1313224  1017906               2                0  \n",
       "2          Check-Out         1313225  1039896               1                1  \n",
       "3          Check-Out         1313226  1008245               1                1  \n",
       "4          Check-Out         1313227  1093703               2                2  \n",
       "5          Check-Out         1313228  1044263               2                2  \n",
       "6          Check-Out         1313229  1022260               2                2  \n",
       "7          Check-Out         1313230  1101557               2                2  \n",
       "8           Canceled         1313231  1075633               2                3  \n",
       "9           Canceled         1313232  1056139               2                3  "
      ]
     },
     "execution_count": 12,
     "metadata": {},
     "output_type": "execute_result"
    }
   ],
   "source": [
    "data['duljina_boravka'] = data['datum_odjave'] - data['datum_dolaska']\n",
    "data['duljina_boravka'] = data['duljina_boravka'].dt.days\n",
    "data.head(10)\n"
   ]
  },
  {
   "cell_type": "markdown",
   "id": "42beb013",
   "metadata": {},
   "source": [
    "##### Uklanjanje rezervacija u kojima nema gostiju, odnosno ukupan je broj gostiju 0"
   ]
  },
  {
   "cell_type": "code",
   "execution_count": 13,
   "id": "chief-pontiac",
   "metadata": {
    "execution": {
     "iopub.execute_input": "2021-07-29T22:08:08.326694Z",
     "iopub.status.busy": "2021-07-29T22:08:08.325970Z",
     "iopub.status.idle": "2021-07-29T22:08:08.365361Z",
     "shell.execute_reply": "2021-07-29T22:08:08.364610Z",
     "shell.execute_reply.started": "2021-07-04T21:33:53.739467Z"
    },
    "papermill": {
     "duration": 0.10806,
     "end_time": "2021-07-29T22:08:08.365535",
     "exception": false,
     "start_time": "2021-07-29T22:08:08.257475",
     "status": "completed"
    },
    "tags": []
   },
   "outputs": [],
   "source": [
    "data = data[data['ukupno_gostiju'] != 0]"
   ]
  },
  {
   "cell_type": "markdown",
   "id": "0ac0972b",
   "metadata": {},
   "source": [
    "##### Filtriranje podataka na temelju stupca datum_otkazivanja_rezervacije\n",
    "- Ukoliko je datum otkazivanja rezervacije vrijednost (datum) znači da je rezervacija otkazan i to na taj dan"
   ]
  },
  {
   "cell_type": "code",
   "execution_count": 14,
   "id": "anonymous-somalia",
   "metadata": {
    "execution": {
     "iopub.execute_input": "2021-07-29T22:08:08.499060Z",
     "iopub.status.busy": "2021-07-29T22:08:08.498205Z",
     "iopub.status.idle": "2021-07-29T22:08:08.536936Z",
     "shell.execute_reply": "2021-07-29T22:08:08.536216Z",
     "shell.execute_reply.started": "2021-07-04T21:33:55.17824Z"
    },
    "papermill": {
     "duration": 0.108584,
     "end_time": "2021-07-29T22:08:08.537108",
     "exception": false,
     "start_time": "2021-07-29T22:08:08.428524",
     "status": "completed"
    },
    "tags": []
   },
   "outputs": [],
   "source": [
    "data = data[~data['datum_otkazivanja_rezervacije'].notna()]\n",
    "data = data.reset_index(drop=True)"
   ]
  },
  {
   "cell_type": "code",
   "execution_count": 15,
   "id": "7357036a",
   "metadata": {},
   "outputs": [
    {
     "name": "stdout",
     "output_type": "stream",
     "text": [
      "Imamo 74553 zapisa za stvarne dolaske, odnosno 62.53921650868216% podataka\n"
     ]
    }
   ],
   "source": [
    "print(f\"Imamo {len(data)} zapisa za stvarne dolaske, odnosno {len(data)/orig_len*100}% podataka\")"
   ]
  },
  {
   "cell_type": "code",
   "execution_count": 16,
   "id": "cd924848",
   "metadata": {},
   "outputs": [],
   "source": [
    "dataResort = data[data['hotel_id'] == 0]\n",
    "dataCity = data[data['hotel_id'] == 1]\n",
    "\n",
    "assert len(dataResort) + len(dataCity) == len(data)"
   ]
  },
  {
   "cell_type": "code",
   "execution_count": 17,
   "id": "32c84f9c",
   "metadata": {},
   "outputs": [
    {
     "name": "stdout",
     "output_type": "stream",
     "text": [
      "Resort ima 28506 zapisa\n",
      "City ima 46047 zapisa\n"
     ]
    }
   ],
   "source": [
    "print(f\"Resort ima {len(dataResort)} zapisa\")\n",
    "print(f\"City ima {len(dataCity)} zapisa\")"
   ]
  },
  {
   "cell_type": "markdown",
   "id": "0074bebf",
   "metadata": {},
   "source": [
    "### Dodavanje ciljane varijable - ukupan broj gostiju u nekom periodu, na dnevnoj, tjednoj, mjesečnoj i godišnjoj razini"
   ]
  },
  {
   "cell_type": "markdown",
   "id": "2542bf6a",
   "metadata": {},
   "source": [
    "### City Hotel"
   ]
  },
  {
   "cell_type": "code",
   "execution_count": 18,
   "id": "ac45785c",
   "metadata": {},
   "outputs": [
    {
     "data": {
      "text/html": [
       "<div>\n",
       "<style scoped>\n",
       "    .dataframe tbody tr th:only-of-type {\n",
       "        vertical-align: middle;\n",
       "    }\n",
       "\n",
       "    .dataframe tbody tr th {\n",
       "        vertical-align: top;\n",
       "    }\n",
       "\n",
       "    .dataframe thead th {\n",
       "        text-align: right;\n",
       "    }\n",
       "</style>\n",
       "<table border=\"1\" class=\"dataframe\">\n",
       "  <thead>\n",
       "    <tr style=\"text-align: right;\">\n",
       "      <th></th>\n",
       "      <th>datum_dolaska</th>\n",
       "      <th>ukupno_gostiju</th>\n",
       "    </tr>\n",
       "  </thead>\n",
       "  <tbody>\n",
       "    <tr>\n",
       "      <th>28506</th>\n",
       "      <td>2015-11-01</td>\n",
       "      <td>1</td>\n",
       "    </tr>\n",
       "    <tr>\n",
       "      <th>28507</th>\n",
       "      <td>2015-07-02</td>\n",
       "      <td>1</td>\n",
       "    </tr>\n",
       "    <tr>\n",
       "      <th>28508</th>\n",
       "      <td>2015-10-03</td>\n",
       "      <td>2</td>\n",
       "    </tr>\n",
       "    <tr>\n",
       "      <th>28509</th>\n",
       "      <td>2015-07-03</td>\n",
       "      <td>2</td>\n",
       "    </tr>\n",
       "    <tr>\n",
       "      <th>28510</th>\n",
       "      <td>2015-12-03</td>\n",
       "      <td>2</td>\n",
       "    </tr>\n",
       "  </tbody>\n",
       "</table>\n",
       "</div>"
      ],
      "text/plain": [
       "      datum_dolaska  ukupno_gostiju\n",
       "28506    2015-11-01               1\n",
       "28507    2015-07-02               1\n",
       "28508    2015-10-03               2\n",
       "28509    2015-07-03               2\n",
       "28510    2015-12-03               2"
      ]
     },
     "execution_count": 18,
     "metadata": {},
     "output_type": "execute_result"
    }
   ],
   "source": [
    "NumberOfGuestsCity = dataCity[['datum_dolaska', 'ukupno_gostiju']]\n",
    "NumberOfGuestsCity.head(5)"
   ]
  },
  {
   "cell_type": "markdown",
   "id": "460e47c6",
   "metadata": {},
   "source": [
    "#### Dnevna razina"
   ]
  },
  {
   "cell_type": "code",
   "execution_count": 19,
   "id": "773bb648",
   "metadata": {},
   "outputs": [
    {
     "data": {
      "text/html": [
       "<div>\n",
       "<style scoped>\n",
       "    .dataframe tbody tr th:only-of-type {\n",
       "        vertical-align: middle;\n",
       "    }\n",
       "\n",
       "    .dataframe tbody tr th {\n",
       "        vertical-align: top;\n",
       "    }\n",
       "\n",
       "    .dataframe thead th {\n",
       "        text-align: right;\n",
       "    }\n",
       "</style>\n",
       "<table border=\"1\" class=\"dataframe\">\n",
       "  <thead>\n",
       "    <tr style=\"text-align: right;\">\n",
       "      <th></th>\n",
       "      <th>ukupno_gostiju</th>\n",
       "    </tr>\n",
       "    <tr>\n",
       "      <th>datum_dolaska</th>\n",
       "      <th></th>\n",
       "    </tr>\n",
       "  </thead>\n",
       "  <tbody>\n",
       "    <tr>\n",
       "      <th>2015-01-01</th>\n",
       "      <td>10</td>\n",
       "    </tr>\n",
       "    <tr>\n",
       "      <th>2015-01-02</th>\n",
       "      <td>6</td>\n",
       "    </tr>\n",
       "    <tr>\n",
       "      <th>2015-01-03</th>\n",
       "      <td>11</td>\n",
       "    </tr>\n",
       "    <tr>\n",
       "      <th>2015-01-04</th>\n",
       "      <td>8</td>\n",
       "    </tr>\n",
       "    <tr>\n",
       "      <th>2015-01-05</th>\n",
       "      <td>4</td>\n",
       "    </tr>\n",
       "  </tbody>\n",
       "</table>\n",
       "</div>"
      ],
      "text/plain": [
       "               ukupno_gostiju\n",
       "datum_dolaska                \n",
       "2015-01-01                 10\n",
       "2015-01-02                  6\n",
       "2015-01-03                 11\n",
       "2015-01-04                  8\n",
       "2015-01-05                  4"
      ]
     },
     "execution_count": 19,
     "metadata": {},
     "output_type": "execute_result"
    }
   ],
   "source": [
    "NumberOfGuestsDailyCity = dataCity['ukupno_gostiju'].groupby(dataCity['datum_dolaska']).sum()\n",
    "org_len = NumberOfGuestsDailyCity = NumberOfGuestsDailyCity.resample('d').sum().to_frame()\n",
    "NumberOfGuestsDailyCity.head(5)"
   ]
  },
  {
   "cell_type": "markdown",
   "id": "c5b14962",
   "metadata": {},
   "source": [
    "#### OPCIONALNO\n",
    "\n",
    "- ARIMA model, kao i MAPE metrika, ne reagiraju dobro na anomalije, odnosno MAPE puca (zbog djeljenja s nulom) za svaki dan/tjedan/mjesec kada \n",
    "  su podaci nula, odnosno u ovom slučaju za svaki slučaj kada je broj ukuopnih gosti na bilo kojoj vremenskoj bazi jednak nuli\n",
    "- stoga, kako MAPE ne bi bio veličine beskonačno, odlučio sam izbaciti sve dane kada je broj gostiju jednak nuli \n",
    " (alternativa je umetanje umjetnog broja,nasumično ili inteligentnijim pristupom kako bi se prešlo preko ovog problema)\n",
    " \n",
    " - PRETPOSTAVKA je kako su dani, tjedni i mjeseci s nula gostiju anomalija, kako je u pitanju \"nasumičan\" vremenski period, odnosno nema dovoljno \n",
    "   argumenata kojima bismo pokazali kako je broj gostiju nula zbog nekog drugog razloga (npr. sezonskih promjena, praznika, vikenda, itd.)"
   ]
  },
  {
   "cell_type": "code",
   "execution_count": 20,
   "id": "708be0f9",
   "metadata": {},
   "outputs": [
    {
     "name": "stdout",
     "output_type": "stream",
     "text": [
      "Ostalo je 940 zapisa, odnosno 85.76642335766424% od originalnog broja podataka\n"
     ]
    }
   ],
   "source": [
    "org_len = len(NumberOfGuestsDailyCity)\n",
    "NumberOfGuestsDailyCity = NumberOfGuestsDailyCity[NumberOfGuestsDailyCity['ukupno_gostiju'] > 0]\n",
    "print(f\"Ostalo je {len(NumberOfGuestsDailyCity)} zapisa, odnosno {len(NumberOfGuestsDailyCity)/org_len*100}% od originalnog broja podataka\")\n"
   ]
  },
  {
   "cell_type": "markdown",
   "id": "082d9a0d",
   "metadata": {},
   "source": [
    "#### Tjedna razina"
   ]
  },
  {
   "cell_type": "code",
   "execution_count": 23,
   "id": "0df54219",
   "metadata": {},
   "outputs": [
    {
     "data": {
      "text/html": [
       "<div>\n",
       "<style scoped>\n",
       "    .dataframe tbody tr th:only-of-type {\n",
       "        vertical-align: middle;\n",
       "    }\n",
       "\n",
       "    .dataframe tbody tr th {\n",
       "        vertical-align: top;\n",
       "    }\n",
       "\n",
       "    .dataframe thead th {\n",
       "        text-align: right;\n",
       "    }\n",
       "</style>\n",
       "<table border=\"1\" class=\"dataframe\">\n",
       "  <thead>\n",
       "    <tr style=\"text-align: right;\">\n",
       "      <th></th>\n",
       "      <th>ukupno_gostiju</th>\n",
       "    </tr>\n",
       "    <tr>\n",
       "      <th>datum_dolaska</th>\n",
       "      <th></th>\n",
       "    </tr>\n",
       "  </thead>\n",
       "  <tbody>\n",
       "    <tr>\n",
       "      <th>2015-01-04</th>\n",
       "      <td>35</td>\n",
       "    </tr>\n",
       "    <tr>\n",
       "      <th>2015-01-11</th>\n",
       "      <td>42</td>\n",
       "    </tr>\n",
       "    <tr>\n",
       "      <th>2015-01-18</th>\n",
       "      <td>54</td>\n",
       "    </tr>\n",
       "    <tr>\n",
       "      <th>2015-01-25</th>\n",
       "      <td>48</td>\n",
       "    </tr>\n",
       "    <tr>\n",
       "      <th>2015-02-01</th>\n",
       "      <td>27</td>\n",
       "    </tr>\n",
       "  </tbody>\n",
       "</table>\n",
       "</div>"
      ],
      "text/plain": [
       "               ukupno_gostiju\n",
       "datum_dolaska                \n",
       "2015-01-04                 35\n",
       "2015-01-11                 42\n",
       "2015-01-18                 54\n",
       "2015-01-25                 48\n",
       "2015-02-01                 27"
      ]
     },
     "execution_count": 23,
     "metadata": {},
     "output_type": "execute_result"
    }
   ],
   "source": [
    "NumberOfGuestsWeeklyCity = dataCity['ukupno_gostiju'].groupby(dataCity['datum_dolaska']).sum()\n",
    "NumberOfGuestsWeeklyCity = NumberOfGuestsWeeklyCity.resample('w').sum().to_frame()\n",
    "NumberOfGuestsWeeklyCity.head(5)"
   ]
  },
  {
   "cell_type": "markdown",
   "id": "a2054983",
   "metadata": {},
   "source": [
    "#### OPCIONALNO"
   ]
  },
  {
   "cell_type": "code",
   "execution_count": 24,
   "id": "f2cea948",
   "metadata": {},
   "outputs": [
    {
     "name": "stdout",
     "output_type": "stream",
     "text": [
      "Ostalo je 138 zapisa, odnosno 87.89808917197452% od originalnog broja podataka\n"
     ]
    }
   ],
   "source": [
    "org_len = len(NumberOfGuestsWeeklyCity)\n",
    "NumberOfGuestsWeeklyCity = NumberOfGuestsWeeklyCity[NumberOfGuestsWeeklyCity['ukupno_gostiju'] > 0]\n",
    "print(f\"Ostalo je {len(NumberOfGuestsWeeklyCity)} zapisa, odnosno {len(NumberOfGuestsWeeklyCity)/org_len*100}% od originalnog broja podataka\")\n"
   ]
  },
  {
   "cell_type": "markdown",
   "id": "602c8dfd",
   "metadata": {},
   "source": [
    "#### Mjesečna razina"
   ]
  },
  {
   "cell_type": "code",
   "execution_count": 25,
   "id": "6640c1ca",
   "metadata": {},
   "outputs": [
    {
     "data": {
      "text/html": [
       "<div>\n",
       "<style scoped>\n",
       "    .dataframe tbody tr th:only-of-type {\n",
       "        vertical-align: middle;\n",
       "    }\n",
       "\n",
       "    .dataframe tbody tr th {\n",
       "        vertical-align: top;\n",
       "    }\n",
       "\n",
       "    .dataframe thead th {\n",
       "        text-align: right;\n",
       "    }\n",
       "</style>\n",
       "<table border=\"1\" class=\"dataframe\">\n",
       "  <thead>\n",
       "    <tr style=\"text-align: right;\">\n",
       "      <th></th>\n",
       "      <th>ukupno_gostiju</th>\n",
       "    </tr>\n",
       "    <tr>\n",
       "      <th>datum_dolaska</th>\n",
       "      <th></th>\n",
       "    </tr>\n",
       "  </thead>\n",
       "  <tbody>\n",
       "    <tr>\n",
       "      <th>2015-01-31</th>\n",
       "      <td>206</td>\n",
       "    </tr>\n",
       "    <tr>\n",
       "      <th>2015-02-28</th>\n",
       "      <td>0</td>\n",
       "    </tr>\n",
       "    <tr>\n",
       "      <th>2015-03-31</th>\n",
       "      <td>0</td>\n",
       "    </tr>\n",
       "    <tr>\n",
       "      <th>2015-04-30</th>\n",
       "      <td>0</td>\n",
       "    </tr>\n",
       "    <tr>\n",
       "      <th>2015-05-31</th>\n",
       "      <td>1072</td>\n",
       "    </tr>\n",
       "  </tbody>\n",
       "</table>\n",
       "</div>"
      ],
      "text/plain": [
       "               ukupno_gostiju\n",
       "datum_dolaska                \n",
       "2015-01-31                206\n",
       "2015-02-28                  0\n",
       "2015-03-31                  0\n",
       "2015-04-30                  0\n",
       "2015-05-31               1072"
      ]
     },
     "execution_count": 25,
     "metadata": {},
     "output_type": "execute_result"
    }
   ],
   "source": [
    "NumberOfGuestsMonthlyCity = dataCity['ukupno_gostiju'].groupby(dataCity['datum_dolaska']).sum()\n",
    "NumberOfGuestsMonthlyCity = NumberOfGuestsMonthlyCity.resample('m').sum().to_frame()\n",
    "NumberOfGuestsMonthlyCity.head(5)"
   ]
  },
  {
   "cell_type": "markdown",
   "id": "d9c960f9",
   "metadata": {},
   "source": [
    "#### OPCIONALNO"
   ]
  },
  {
   "cell_type": "code",
   "execution_count": 27,
   "id": "21fd411c",
   "metadata": {},
   "outputs": [
    {
     "name": "stdout",
     "output_type": "stream",
     "text": [
      "Ostalo je 31 zapisa, odnosno 86.11111111111111% od originalnog broja podataka\n"
     ]
    }
   ],
   "source": [
    "org_len = len(NumberOfGuestsMonthlyCity)\n",
    "NumberOfGuestsMonthlyCity  = NumberOfGuestsMonthlyCity[NumberOfGuestsMonthlyCity['ukupno_gostiju'] > 0]\n",
    "print(f\"Ostalo je {len(NumberOfGuestsMonthlyCity)} zapisa, odnosno {len(NumberOfGuestsMonthlyCity)/org_len*100}% od originalnog broja podataka\")\n"
   ]
  },
  {
   "cell_type": "markdown",
   "id": "d960ea73",
   "metadata": {},
   "source": [
    "#### Godišnja razina"
   ]
  },
  {
   "cell_type": "code",
   "execution_count": 28,
   "id": "ced58e63",
   "metadata": {},
   "outputs": [
    {
     "data": {
      "text/html": [
       "<div>\n",
       "<style scoped>\n",
       "    .dataframe tbody tr th:only-of-type {\n",
       "        vertical-align: middle;\n",
       "    }\n",
       "\n",
       "    .dataframe tbody tr th {\n",
       "        vertical-align: top;\n",
       "    }\n",
       "\n",
       "    .dataframe thead th {\n",
       "        text-align: right;\n",
       "    }\n",
       "</style>\n",
       "<table border=\"1\" class=\"dataframe\">\n",
       "  <thead>\n",
       "    <tr style=\"text-align: right;\">\n",
       "      <th></th>\n",
       "      <th>ukupno_gostiju</th>\n",
       "    </tr>\n",
       "    <tr>\n",
       "      <th>datum_dolaska</th>\n",
       "      <th></th>\n",
       "    </tr>\n",
       "  </thead>\n",
       "  <tbody>\n",
       "    <tr>\n",
       "      <th>2015-12-31</th>\n",
       "      <td>13723</td>\n",
       "    </tr>\n",
       "    <tr>\n",
       "      <th>2016-12-31</th>\n",
       "      <td>44405</td>\n",
       "    </tr>\n",
       "    <tr>\n",
       "      <th>2017-12-31</th>\n",
       "      <td>31254</td>\n",
       "    </tr>\n",
       "  </tbody>\n",
       "</table>\n",
       "</div>"
      ],
      "text/plain": [
       "               ukupno_gostiju\n",
       "datum_dolaska                \n",
       "2015-12-31              13723\n",
       "2016-12-31              44405\n",
       "2017-12-31              31254"
      ]
     },
     "execution_count": 28,
     "metadata": {},
     "output_type": "execute_result"
    }
   ],
   "source": [
    "NumberOfGuestsYearlyCity = dataCity['ukupno_gostiju'].groupby(dataCity['datum_dolaska']).sum()\n",
    "NumberOfGuestsYearlyCity = NumberOfGuestsYearlyCity.resample('y').sum().to_frame()\n",
    "NumberOfGuestsYearlyCity.head(5)"
   ]
  },
  {
   "cell_type": "markdown",
   "id": "13019bba",
   "metadata": {},
   "source": [
    "### Resort Hotel"
   ]
  },
  {
   "cell_type": "code",
   "execution_count": 29,
   "id": "75e6e82c",
   "metadata": {},
   "outputs": [
    {
     "data": {
      "text/html": [
       "<div>\n",
       "<style scoped>\n",
       "    .dataframe tbody tr th:only-of-type {\n",
       "        vertical-align: middle;\n",
       "    }\n",
       "\n",
       "    .dataframe tbody tr th {\n",
       "        vertical-align: top;\n",
       "    }\n",
       "\n",
       "    .dataframe thead th {\n",
       "        text-align: right;\n",
       "    }\n",
       "</style>\n",
       "<table border=\"1\" class=\"dataframe\">\n",
       "  <thead>\n",
       "    <tr style=\"text-align: right;\">\n",
       "      <th></th>\n",
       "      <th>datum_dolaska</th>\n",
       "      <th>ukupno_gostiju</th>\n",
       "    </tr>\n",
       "  </thead>\n",
       "  <tbody>\n",
       "    <tr>\n",
       "      <th>0</th>\n",
       "      <td>2015-07-01</td>\n",
       "      <td>2</td>\n",
       "    </tr>\n",
       "    <tr>\n",
       "      <th>1</th>\n",
       "      <td>2015-07-01</td>\n",
       "      <td>2</td>\n",
       "    </tr>\n",
       "    <tr>\n",
       "      <th>2</th>\n",
       "      <td>2015-07-01</td>\n",
       "      <td>1</td>\n",
       "    </tr>\n",
       "    <tr>\n",
       "      <th>3</th>\n",
       "      <td>2015-07-01</td>\n",
       "      <td>1</td>\n",
       "    </tr>\n",
       "    <tr>\n",
       "      <th>4</th>\n",
       "      <td>2015-07-01</td>\n",
       "      <td>2</td>\n",
       "    </tr>\n",
       "  </tbody>\n",
       "</table>\n",
       "</div>"
      ],
      "text/plain": [
       "  datum_dolaska  ukupno_gostiju\n",
       "0    2015-07-01               2\n",
       "1    2015-07-01               2\n",
       "2    2015-07-01               1\n",
       "3    2015-07-01               1\n",
       "4    2015-07-01               2"
      ]
     },
     "execution_count": 29,
     "metadata": {},
     "output_type": "execute_result"
    }
   ],
   "source": [
    "NumberOfGuestsResort = dataResort[['datum_dolaska', 'ukupno_gostiju']]\n",
    "NumberOfGuestsResort.head(5)"
   ]
  },
  {
   "cell_type": "markdown",
   "id": "f877f1cb",
   "metadata": {},
   "source": [
    "#### Dnevna razina"
   ]
  },
  {
   "cell_type": "code",
   "execution_count": 30,
   "id": "4275ca32",
   "metadata": {},
   "outputs": [
    {
     "data": {
      "text/html": [
       "<div>\n",
       "<style scoped>\n",
       "    .dataframe tbody tr th:only-of-type {\n",
       "        vertical-align: middle;\n",
       "    }\n",
       "\n",
       "    .dataframe tbody tr th {\n",
       "        vertical-align: top;\n",
       "    }\n",
       "\n",
       "    .dataframe thead th {\n",
       "        text-align: right;\n",
       "    }\n",
       "</style>\n",
       "<table border=\"1\" class=\"dataframe\">\n",
       "  <thead>\n",
       "    <tr style=\"text-align: right;\">\n",
       "      <th></th>\n",
       "      <th>ukupno_gostiju</th>\n",
       "    </tr>\n",
       "    <tr>\n",
       "      <th>datum_dolaska</th>\n",
       "      <th></th>\n",
       "    </tr>\n",
       "  </thead>\n",
       "  <tbody>\n",
       "    <tr>\n",
       "      <th>2015-07-01</th>\n",
       "      <td>67</td>\n",
       "    </tr>\n",
       "    <tr>\n",
       "      <th>2015-07-02</th>\n",
       "      <td>72</td>\n",
       "    </tr>\n",
       "    <tr>\n",
       "      <th>2015-07-03</th>\n",
       "      <td>59</td>\n",
       "    </tr>\n",
       "    <tr>\n",
       "      <th>2015-07-04</th>\n",
       "      <td>80</td>\n",
       "    </tr>\n",
       "    <tr>\n",
       "      <th>2015-07-05</th>\n",
       "      <td>80</td>\n",
       "    </tr>\n",
       "  </tbody>\n",
       "</table>\n",
       "</div>"
      ],
      "text/plain": [
       "               ukupno_gostiju\n",
       "datum_dolaska                \n",
       "2015-07-01                 67\n",
       "2015-07-02                 72\n",
       "2015-07-03                 59\n",
       "2015-07-04                 80\n",
       "2015-07-05                 80"
      ]
     },
     "execution_count": 30,
     "metadata": {},
     "output_type": "execute_result"
    }
   ],
   "source": [
    "NumberOfGuestsDailyResort = dataResort['ukupno_gostiju'].groupby(dataResort['datum_dolaska']).sum()\n",
    "NumberOfGuestsDailyResort = NumberOfGuestsDailyResort.resample('d').sum().to_frame()\n",
    "NumberOfGuestsDailyResort.head(5)"
   ]
  },
  {
   "cell_type": "markdown",
   "id": "3d0971ad",
   "metadata": {},
   "source": [
    "#### Tjedna razina"
   ]
  },
  {
   "cell_type": "code",
   "execution_count": 31,
   "id": "bb55c35f",
   "metadata": {},
   "outputs": [
    {
     "data": {
      "text/html": [
       "<div>\n",
       "<style scoped>\n",
       "    .dataframe tbody tr th:only-of-type {\n",
       "        vertical-align: middle;\n",
       "    }\n",
       "\n",
       "    .dataframe tbody tr th {\n",
       "        vertical-align: top;\n",
       "    }\n",
       "\n",
       "    .dataframe thead th {\n",
       "        text-align: right;\n",
       "    }\n",
       "</style>\n",
       "<table border=\"1\" class=\"dataframe\">\n",
       "  <thead>\n",
       "    <tr style=\"text-align: right;\">\n",
       "      <th></th>\n",
       "      <th>ukupno_gostiju</th>\n",
       "    </tr>\n",
       "    <tr>\n",
       "      <th>datum_dolaska</th>\n",
       "      <th></th>\n",
       "    </tr>\n",
       "  </thead>\n",
       "  <tbody>\n",
       "    <tr>\n",
       "      <th>2015-07-05</th>\n",
       "      <td>358</td>\n",
       "    </tr>\n",
       "    <tr>\n",
       "      <th>2015-07-12</th>\n",
       "      <td>495</td>\n",
       "    </tr>\n",
       "    <tr>\n",
       "      <th>2015-07-19</th>\n",
       "      <td>537</td>\n",
       "    </tr>\n",
       "    <tr>\n",
       "      <th>2015-07-26</th>\n",
       "      <td>533</td>\n",
       "    </tr>\n",
       "    <tr>\n",
       "      <th>2015-08-02</th>\n",
       "      <td>554</td>\n",
       "    </tr>\n",
       "  </tbody>\n",
       "</table>\n",
       "</div>"
      ],
      "text/plain": [
       "               ukupno_gostiju\n",
       "datum_dolaska                \n",
       "2015-07-05                358\n",
       "2015-07-12                495\n",
       "2015-07-19                537\n",
       "2015-07-26                533\n",
       "2015-08-02                554"
      ]
     },
     "execution_count": 31,
     "metadata": {},
     "output_type": "execute_result"
    }
   ],
   "source": [
    "NumberOfGuestsWeeklyResort = dataResort['ukupno_gostiju'].groupby(dataResort['datum_dolaska']).sum()\n",
    "NumberOfGuestsWeeklyResort = NumberOfGuestsWeeklyResort.resample('w').sum().to_frame()\n",
    "NumberOfGuestsWeeklyResort.head(5)"
   ]
  },
  {
   "cell_type": "markdown",
   "id": "5917fa99",
   "metadata": {},
   "source": [
    "#### Mjesečna razina"
   ]
  },
  {
   "cell_type": "code",
   "execution_count": 32,
   "id": "7a6863db",
   "metadata": {},
   "outputs": [
    {
     "data": {
      "text/html": [
       "<div>\n",
       "<style scoped>\n",
       "    .dataframe tbody tr th:only-of-type {\n",
       "        vertical-align: middle;\n",
       "    }\n",
       "\n",
       "    .dataframe tbody tr th {\n",
       "        vertical-align: top;\n",
       "    }\n",
       "\n",
       "    .dataframe thead th {\n",
       "        text-align: right;\n",
       "    }\n",
       "</style>\n",
       "<table border=\"1\" class=\"dataframe\">\n",
       "  <thead>\n",
       "    <tr style=\"text-align: right;\">\n",
       "      <th></th>\n",
       "      <th>ukupno_gostiju</th>\n",
       "    </tr>\n",
       "    <tr>\n",
       "      <th>datum_dolaska</th>\n",
       "      <th></th>\n",
       "    </tr>\n",
       "  </thead>\n",
       "  <tbody>\n",
       "    <tr>\n",
       "      <th>2015-07-31</th>\n",
       "      <td>2300</td>\n",
       "    </tr>\n",
       "    <tr>\n",
       "      <th>2015-08-31</th>\n",
       "      <td>2318</td>\n",
       "    </tr>\n",
       "    <tr>\n",
       "      <th>2015-09-30</th>\n",
       "      <td>2013</td>\n",
       "    </tr>\n",
       "    <tr>\n",
       "      <th>2015-10-31</th>\n",
       "      <td>2108</td>\n",
       "    </tr>\n",
       "    <tr>\n",
       "      <th>2015-11-30</th>\n",
       "      <td>1534</td>\n",
       "    </tr>\n",
       "  </tbody>\n",
       "</table>\n",
       "</div>"
      ],
      "text/plain": [
       "               ukupno_gostiju\n",
       "datum_dolaska                \n",
       "2015-07-31               2300\n",
       "2015-08-31               2318\n",
       "2015-09-30               2013\n",
       "2015-10-31               2108\n",
       "2015-11-30               1534"
      ]
     },
     "execution_count": 32,
     "metadata": {},
     "output_type": "execute_result"
    }
   ],
   "source": [
    "NumberOfGuestsMonthlyResort = dataResort['ukupno_gostiju'].groupby(dataResort['datum_dolaska']).sum()\n",
    "NumberOfGuestsMonthlyResort = NumberOfGuestsMonthlyResort.resample('m').sum().to_frame()\n",
    "NumberOfGuestsMonthlyResort.head(5)"
   ]
  },
  {
   "cell_type": "markdown",
   "id": "62e434c1",
   "metadata": {},
   "source": [
    "#### Godišnja razina"
   ]
  },
  {
   "cell_type": "code",
   "execution_count": 33,
   "id": "51cabbf4",
   "metadata": {},
   "outputs": [
    {
     "data": {
      "text/html": [
       "<div>\n",
       "<style scoped>\n",
       "    .dataframe tbody tr th:only-of-type {\n",
       "        vertical-align: middle;\n",
       "    }\n",
       "\n",
       "    .dataframe tbody tr th {\n",
       "        vertical-align: top;\n",
       "    }\n",
       "\n",
       "    .dataframe thead th {\n",
       "        text-align: right;\n",
       "    }\n",
       "</style>\n",
       "<table border=\"1\" class=\"dataframe\">\n",
       "  <thead>\n",
       "    <tr style=\"text-align: right;\">\n",
       "      <th></th>\n",
       "      <th>ukupno_gostiju</th>\n",
       "    </tr>\n",
       "    <tr>\n",
       "      <th>datum_dolaska</th>\n",
       "      <th></th>\n",
       "    </tr>\n",
       "  </thead>\n",
       "  <tbody>\n",
       "    <tr>\n",
       "      <th>2015-12-31</th>\n",
       "      <td>12053</td>\n",
       "    </tr>\n",
       "    <tr>\n",
       "      <th>2016-12-31</th>\n",
       "      <td>26091</td>\n",
       "    </tr>\n",
       "    <tr>\n",
       "      <th>2017-12-31</th>\n",
       "      <td>17816</td>\n",
       "    </tr>\n",
       "  </tbody>\n",
       "</table>\n",
       "</div>"
      ],
      "text/plain": [
       "               ukupno_gostiju\n",
       "datum_dolaska                \n",
       "2015-12-31              12053\n",
       "2016-12-31              26091\n",
       "2017-12-31              17816"
      ]
     },
     "execution_count": 33,
     "metadata": {},
     "output_type": "execute_result"
    }
   ],
   "source": [
    "NumberOfGuestsYearlyResort = dataResort['ukupno_gostiju'].groupby(dataResort['datum_dolaska']).sum()\n",
    "NumberOfGuestsYearlyResort = NumberOfGuestsYearlyResort.resample('y').sum().to_frame()\n",
    "NumberOfGuestsYearlyResort.head(5)"
   ]
  },
  {
   "cell_type": "markdown",
   "id": "paperback-deviation",
   "metadata": {
    "papermill": {
     "duration": 0.186186,
     "end_time": "2021-07-29T22:08:26.923810",
     "exception": false,
     "start_time": "2021-07-29T22:08:26.737624",
     "status": "completed"
    },
    "tags": []
   },
   "source": [
    "# ARIMA model za predviđanje budućeg broja gostiju - City Hotel"
   ]
  },
  {
   "cell_type": "markdown",
   "id": "44d53a32",
   "metadata": {},
   "source": [
    "## Predviđanje dnevnog broja gostiju \n"
   ]
  },
  {
   "cell_type": "markdown",
   "id": "35b3e235",
   "metadata": {},
   "source": [
    "#### Dickey-Fuller test za podatke o dnevnom broju gostiju"
   ]
  },
  {
   "cell_type": "markdown",
   "id": "03f9a71c",
   "metadata": {},
   "source": [
    "##### Augmented Dickey-Fuller (ADF) test se koristi u statistici i ekonometriji za testiranje prisutnosti tzv. \"jediničnog korijena\" (unit root) u vremenskim serijama\n",
    "##### Jedinični korijen ukazuje na to da vremenska serija nije stacionarna, što znači da njene statističke karakteristike kao što su srednja vrijednost, varijanca i autokorelacija, se mijenjaju tijekom vremena\n",
    "##### Nulta hipoteza (H0): Postoji jedinični korijen, tj. serija je nestacionarna.\n",
    "##### Alternativna hipoteza (H1): Ne postoji jedinični korijen, tj. serija je stacionarna."
   ]
  },
  {
   "cell_type": "code",
   "execution_count": 34,
   "id": "598ce5e8",
   "metadata": {},
   "outputs": [
    {
     "name": "stdout",
     "output_type": "stream",
     "text": [
      "ADF Statistic: -2.868268\n",
      "p-value: 0.049164\n",
      "Critical Values:\n",
      "\t1%: -3.437\n",
      "\t5%: -2.865\n",
      "\t10%: -2.568\n"
     ]
    }
   ],
   "source": [
    "CityDailyValues = NumberOfGuestsDailyCity.values\n",
    "result_city_daily = adfuller(CityDailyValues)\n",
    "print('ADF Statistic: %f' % result_city_daily[0])\n",
    "print('p-value: %f' % result_city_daily[1])\n",
    "print('Critical Values:')\n",
    "for key, value in result_city_daily[4].items():\n",
    "    print('\\t%s: %.3f' % (key, value))"
   ]
  },
  {
   "cell_type": "markdown",
   "id": "ff12b4b5",
   "metadata": {},
   "source": [
    "- Definirajmo razinu značajnosti alfa=0.05\n",
    "- Kako je p vrijednost veća od alfe, ne možemo odbaciti H0, odnosno serija je nestacionarna "
   ]
  },
  {
   "cell_type": "markdown",
   "id": "32cbf487",
   "metadata": {},
   "source": [
    "#### Rollling Mean i STD City Hotela"
   ]
  },
  {
   "cell_type": "code",
   "execution_count": 35,
   "id": "75da7540",
   "metadata": {},
   "outputs": [
    {
     "data": {
      "image/png": "[encoded data removed]",
      "text/plain": [
       "<Figure size 1500x800 with 1 Axes>"
      ]
     },
     "metadata": {},
     "output_type": "display_data"
    }
   ],
   "source": [
    "plt.figure(figsize=(15, 8))\n",
    "rolling_mean_city_daily = NumberOfGuestsDailyCity.rolling(window=4).mean()\n",
    "rolling_std_city_daily = NumberOfGuestsDailyCity.rolling(window=4).std()\n",
    "plt.plot(NumberOfGuestsDailyCity, color='blue', label='Original')\n",
    "plt.plot(rolling_mean_city_daily, color='red', label='Rolling Mean')\n",
    "plt.plot(rolling_std_city_daily, color='black', label='Rolling Std')\n",
    "plt.legend(loc='upper right')\n",
    "plt.title('Klizni medijan i standardna devijacija ukupnog broja gostiju kod City Hotela nd dnevnoj razini')\n",
    "plt.show()"
   ]
  },
  {
   "cell_type": "markdown",
   "id": "d5192aa6",
   "metadata": {},
   "source": [
    "#### Train / test split podataka"
   ]
  },
  {
   "cell_type": "code",
   "execution_count": 36,
   "id": "6d3dcc44",
   "metadata": {},
   "outputs": [],
   "source": [
    "split_ratio  =  0.8"
   ]
  },
  {
   "cell_type": "code",
   "execution_count": 37,
   "id": "b97d4e51",
   "metadata": {},
   "outputs": [
    {
     "name": "stdout",
     "output_type": "stream",
     "text": [
      "Split 0.8 na train/test, train ima 752 podataka, test 188 podataka\n"
     ]
    }
   ],
   "source": [
    "train_test_split_city_daily = int(len(NumberOfGuestsDailyCity)*split_ratio)\n",
    "print(f\"Split {split_ratio} na train/test, train ima {train_test_split_city_daily} podataka, test {len(NumberOfGuestsDailyCity)-train_test_split_city_daily} podataka\")\n",
    "\n",
    "trainCityDaily = NumberOfGuestsDailyCity[:train_test_split_city_daily]\n",
    "testCityDaily = NumberOfGuestsDailyCity[train_test_split_city_daily:]"
   ]
  },
  {
   "cell_type": "markdown",
   "id": "2f43f4d0",
   "metadata": {},
   "source": [
    "#### Fit ARIMA modela na podatke na dnevnoj bazi"
   ]
  },
  {
   "cell_type": "markdown",
   "id": "db83a2ef",
   "metadata": {},
   "source": [
    "- Iz službene dokumentacije (https://alkaline-ml.com/pmdarima/tips_and_tricks.html#period):\n",
    "   - The m parameter relates to the number of observations per seasonal cycle, and is one that must be known apriori. Typically, m will correspond to some recurrent periodicity such as:\n",
    "    - 7 - daily\n",
    "    - 12 - monthly\n",
    "    - 52 - weekly"
   ]
  },
  {
   "cell_type": "markdown",
   "id": "69e9f09a",
   "metadata": {},
   "source": [
    "- parametar 'd' koristi se ako je potrebno diferencirati vremensku seriju, odnosno postavljamo ga na None ako ne znamo kako diferencirati podatke,\n",
    "a inače na int vrijednost (tipično 1). Zaklkučak o tome izvodimo iz Augmented Dickey-Fuller Test koji testira jesu li neki podaci u vremenskoj seriji \n",
    "stacionarni ili nisu"
   ]
  },
  {
   "cell_type": "markdown",
   "id": "0302b851",
   "metadata": {},
   "source": [
    "- Vremenska je serija stacionarna kada su joj  medijan, varijanca, auto-korelacija i slične metrike konstante kroz vrijeme t.\n",
    "ARIMA pretpostavlja da podaci postaju stacionarni nako diferenciranja, ukoliko je d postavljen an vrijednost veću od nule, što\n",
    "se naziva diferencijablna stacionarnost. auto_arima određuje i optimalni d."
   ]
  },
  {
   "cell_type": "code",
   "execution_count": 38,
   "id": "4627ee0b",
   "metadata": {},
   "outputs": [
    {
     "name": "stdout",
     "output_type": "stream",
     "text": [
      "Performing stepwise search to minimize aic\n",
      " ARIMA(1,0,1)(0,1,1)[7] intercept   : AIC=inf, Time=1.74 sec\n",
      " ARIMA(0,0,0)(0,1,0)[7] intercept   : AIC=7818.719, Time=0.03 sec\n",
      " ARIMA(1,0,0)(1,1,0)[7] intercept   : AIC=7592.582, Time=0.44 sec\n",
      " ARIMA(0,0,1)(0,1,1)[7] intercept   : AIC=7561.272, Time=0.40 sec\n",
      " ARIMA(0,0,0)(0,1,0)[7]             : AIC=7816.800, Time=0.03 sec\n",
      " ARIMA(0,0,1)(0,1,0)[7] intercept   : AIC=7743.021, Time=0.20 sec\n"
     ]
    }
   ],
   "source": [
    "stepwise_fit_city_daily = auto_arima(trainCityDaily['ukupno_gostiju'],\n",
    "                          start_p=1, start_q=1,\n",
    "                          max_p=5, max_q=5, m=7,\n",
    "                          start_P=0, seasonal=True,\n",
    "                          d=None, D=1, trace=True,\n",
    "                          error_action='ignore',\n",
    "                          suppress_warnings=True,\n",
    "                          stepwise=True)\n",
    "\n",
    "stepwise_fit_city_daily.summary()"
   ]
  },
  {
   "cell_type": "markdown",
   "id": "2309e09c",
   "metadata": {},
   "source": [
    "- Bazirano na izlazu auto_arima metode, koristiti ćemo najbolji model \n",
    "- ARIMA(0,0,5)(1,1,1)[7] je najbolji model te se to preslikava u parametre\n",
    "- order = (0,0,5)\n",
    "- seasonal_order = (1,1,1,7)"
   ]
  },
  {
   "cell_type": "code",
   "execution_count": null,
   "id": "2481c9e0",
   "metadata": {},
   "outputs": [],
   "source": [
    "modelCity_daily = ARIMA(trainCityDaily['ukupno_gostiju'],\n",
    "                  order=(0, 0, 5),\n",
    "                  seasonal_order=(1, 1, 1, 7))\n",
    "\n",
    "resultCity_daily = modelCity_daily.fit()\n"
   ]
  },
  {
   "cell_type": "markdown",
   "id": "6423707c",
   "metadata": {},
   "source": [
    "##### Predikcije modela na test podacima na dnevnoj bazi"
   ]
  },
  {
   "cell_type": "code",
   "execution_count": null,
   "id": "e6c3373d",
   "metadata": {},
   "outputs": [],
   "source": [
    "predictionsCityTestDaily = resultCity_daily.predict(train_test_split_city_daily, train_test_split_city_daily + len(testCityDaily) - 1, typ='levels').rename(\"Predictions\")\n"
   ]
  },
  {
   "cell_type": "markdown",
   "id": "77f8ad97",
   "metadata": {},
   "source": [
    "### Predikcija broja gostija na dnevnoj razini na testnim podacima\n"
   ]
  },
  {
   "cell_type": "code",
   "execution_count": null,
   "id": "39f8543a",
   "metadata": {},
   "outputs": [],
   "source": [
    "plt.figure(figsize=(15, 8))\n",
    "testCityDaily['ukupno_gostiju'].plot(legend=True)\n",
    "predictionsCityTestDaily.plot(legend=True)\n",
    "plt.title('Predikcija broja gostiju City Hotela na dnevnoj razini', fontsize=16)\n",
    "plt.xlabel('Datum dolaska', fontsize=12)\n",
    "plt.ylabel('Broj gostiju', fontsize=12)"
   ]
  },
  {
   "cell_type": "code",
   "execution_count": null,
   "id": "92d23a9c",
   "metadata": {},
   "outputs": [],
   "source": [
    "plt.figure(figsize=(15, 8))\n",
    "trainCityDaily['ukupno_gostiju'].plot(legend=True)\n",
    "predictionsCityTestDaily.plot(legend=True)\n",
    "plt.title('Predikcija broja gostiju kod City Hotela na dnevnoj bazi', fontsize=16)\n",
    "plt.xlabel('Datum dolaska', fontsize=12)\n",
    "plt.ylabel('Broj gostiju', fontsize=12)"
   ]
  },
  {
   "cell_type": "code",
   "execution_count": null,
   "id": "b7627240",
   "metadata": {},
   "outputs": [],
   "source": [
    "MeanAbsPercentageErrCityDaily_test = mean_absolute_percentage_error(testCityDaily, predictionsCityTestDaily)\n",
    "print('Test MAPE City Hotel na dnevnoj razini: %f' % MeanAbsPercentageErrCityDaily_test)"
   ]
  },
  {
   "cell_type": "markdown",
   "id": "800a37ee",
   "metadata": {},
   "source": [
    "## Predviđanje tjednog broja gostiju \n"
   ]
  },
  {
   "cell_type": "markdown",
   "id": "76a3563f",
   "metadata": {},
   "source": [
    "#### Dickey-Fuller test za podatke o dnevnom broju gostiju"
   ]
  },
  {
   "cell_type": "code",
   "execution_count": null,
   "id": "facial-islam",
   "metadata": {
    "execution": {
     "iopub.execute_input": "2021-07-29T22:08:27.301141Z",
     "iopub.status.busy": "2021-07-29T22:08:27.300454Z",
     "iopub.status.idle": "2021-07-29T22:08:27.332483Z",
     "shell.execute_reply": "2021-07-29T22:08:27.333335Z",
     "shell.execute_reply.started": "2021-07-04T21:15:41.734289Z"
    },
    "papermill": {
     "duration": 0.221316,
     "end_time": "2021-07-29T22:08:27.333680",
     "exception": false,
     "start_time": "2021-07-29T22:08:27.112364",
     "status": "completed"
    },
    "tags": []
   },
   "outputs": [],
   "source": [
    "CityWeeklyValues = NumberOfGuestsWeeklyCity.values\n",
    "result_city_weekly = adfuller(CityWeeklyValues)\n",
    "print('ADF Statistic: %f' % result_city_weekly[0])\n",
    "print('p-value: %f' % result_city_weekly[1])\n",
    "print('Critical Values:')\n",
    "for key, value in result_city_weekly[4].items():\n",
    "    print('\\t%s: %.3f' % (key, value))"
   ]
  },
  {
   "cell_type": "markdown",
   "id": "ad5111f8",
   "metadata": {},
   "source": [
    "- Definirajmo razinu značajnosti alfa=0.05\n",
    "- Kako je p vrijednost veća od alfe, ne možemo odbaciti H0, odnosno serija je nestacionarna "
   ]
  },
  {
   "cell_type": "markdown",
   "id": "a096e343",
   "metadata": {},
   "source": [
    "#### Rollling Mean i STD City Hotela"
   ]
  },
  {
   "cell_type": "code",
   "execution_count": null,
   "id": "thermal-blackjack",
   "metadata": {
    "execution": {
     "iopub.execute_input": "2021-07-29T22:08:27.741353Z",
     "iopub.status.busy": "2021-07-29T22:08:27.735521Z",
     "iopub.status.idle": "2021-07-29T22:08:28.015556Z",
     "shell.execute_reply": "2021-07-29T22:08:28.014938Z",
     "shell.execute_reply.started": "2021-07-04T21:15:55.801126Z"
    },
    "papermill": {
     "duration": 0.493669,
     "end_time": "2021-07-29T22:08:28.015715",
     "exception": false,
     "start_time": "2021-07-29T22:08:27.522046",
     "status": "completed"
    },
    "tags": []
   },
   "outputs": [],
   "source": [
    "plt.figure(figsize=(15, 8))\n",
    "rolling_mean_city_weekly = NumberOfGuestsWeeklyCity.rolling(window=4).mean()\n",
    "rolling_std_city_weekly = NumberOfGuestsWeeklyCity.rolling(window=4).std()\n",
    "plt.plot(NumberOfGuestsWeeklyCity, color='blue', label='Original')\n",
    "plt.plot(rolling_mean_city_weekly, color='red', label='Rolling Mean')\n",
    "plt.plot(rolling_std_city_weekly, color='black', label='Rolling Std')\n",
    "plt.legend(loc='upper right')\n",
    "plt.title('Klizni medijan i standardna devijacija ukupnog broja gostiju kod City Hotela na tjednoj razini')\n",
    "plt.show()"
   ]
  },
  {
   "cell_type": "code",
   "execution_count": null,
   "id": "024c6657",
   "metadata": {},
   "outputs": [],
   "source": [
    "split_ratio  =  0.8"
   ]
  },
  {
   "cell_type": "code",
   "execution_count": null,
   "id": "guilty-quilt",
   "metadata": {
    "execution": {
     "iopub.execute_input": "2021-07-29T22:08:28.395047Z",
     "iopub.status.busy": "2021-07-29T22:08:28.394387Z",
     "iopub.status.idle": "2021-07-29T22:08:28.397700Z",
     "shell.execute_reply": "2021-07-29T22:08:28.397055Z",
     "shell.execute_reply.started": "2021-07-04T21:16:35.930599Z"
    },
    "papermill": {
     "duration": 0.193457,
     "end_time": "2021-07-29T22:08:28.397842",
     "exception": false,
     "start_time": "2021-07-29T22:08:28.204385",
     "status": "completed"
    },
    "tags": []
   },
   "outputs": [],
   "source": [
    "train_test_split_city_weekly = int(len(NumberOfGuestsWeeklyCity)*split_ratio)\n",
    "print(f\"Split {split_ratio} na train/test, train ima {train_test_split_city_weekly} podataka, test {len(NumberOfGuestsWeeklyCity)-train_test_split_city_weekly} podataka\")\n",
    "\n",
    "trainCityWeekly = NumberOfGuestsWeeklyCity[:train_test_split_city_weekly]\n",
    "testCityWeekly = NumberOfGuestsWeeklyCity[train_test_split_city_weekly:]"
   ]
  },
  {
   "cell_type": "markdown",
   "id": "69bf3d6a",
   "metadata": {},
   "source": [
    "#### Fit ARIMA modela na podatke na tjednoj bazi"
   ]
  },
  {
   "cell_type": "code",
   "execution_count": null,
   "id": "damaged-share",
   "metadata": {
    "execution": {
     "iopub.execute_input": "2021-07-29T22:08:28.790904Z",
     "iopub.status.busy": "2021-07-29T22:08:28.787683Z",
     "iopub.status.idle": "2021-07-29T22:09:14.591087Z",
     "shell.execute_reply": "2021-07-29T22:09:14.592071Z",
     "shell.execute_reply.started": "2021-07-04T21:17:40.104702Z"
    },
    "papermill": {
     "duration": 46.006267,
     "end_time": "2021-07-29T22:09:14.592387",
     "exception": false,
     "start_time": "2021-07-29T22:08:28.586120",
     "status": "completed"
    },
    "tags": []
   },
   "outputs": [],
   "source": [
    "stepwise_fit_city_weekly = auto_arima(trainCityWeekly['ukupno_gostiju'], start_p=1, start_q=1,\n",
    "                          max_p=3, max_q=3, m=52,\n",
    "                          start_P=0, seasonal=True,\n",
    "                          d=None, D=1, trace=True,\n",
    "                          error_action='ignore',\n",
    "                          suppress_warnings=True,\n",
    "                          stepwise=True)\n",
    "\n",
    "stepwise_fit_city_weekly.summary()"
   ]
  },
  {
   "cell_type": "markdown",
   "id": "6dfd87ac",
   "metadata": {},
   "source": [
    "- Bazirano na izlazu auto_arima metode, koristiti ćemo najbolji model \n",
    "- ARIMA(0,1,0)(0,1,0)[52]  je najbolji model te se to preslikava u parametre\n",
    "- order = (0,1,0)\n",
    "- seasonal_order = (0,1,0,52)"
   ]
  },
  {
   "cell_type": "code",
   "execution_count": null,
   "id": "distributed-headset",
   "metadata": {
    "execution": {
     "iopub.execute_input": "2021-07-29T22:09:15.020941Z",
     "iopub.status.busy": "2021-07-29T22:09:15.020180Z",
     "iopub.status.idle": "2021-07-29T22:09:16.224916Z",
     "shell.execute_reply": "2021-07-29T22:09:16.225792Z",
     "shell.execute_reply.started": "2021-07-04T21:18:56.356224Z"
    },
    "papermill": {
     "duration": 1.410897,
     "end_time": "2021-07-29T22:09:16.226095",
     "exception": false,
     "start_time": "2021-07-29T22:09:14.815198",
     "status": "completed"
    },
    "tags": []
   },
   "outputs": [],
   "source": [
    "modelCityWeekly = ARIMA(trainCityWeekly['ukupno_gostiju'],\n",
    "                  order=(0, 1, 0),\n",
    "                  seasonal_order=(0, 1, 0, 52))\n",
    "\n",
    "resultCityWeekly = modelCityWeekly.fit()\n"
   ]
  },
  {
   "cell_type": "markdown",
   "id": "369ebb85",
   "metadata": {},
   "source": [
    "##### Predikcije modela na test podacima na tjednoj bazi"
   ]
  },
  {
   "cell_type": "code",
   "execution_count": null,
   "id": "cfeb8c8f",
   "metadata": {},
   "outputs": [],
   "source": [
    "predictionsCityTestWeekly = resultCityWeekly.predict(train_test_split_city_weekly, train_test_split_city_weekly + len(testCityWeekly) - 1, typ='levels').rename(\"Predictions\")\n"
   ]
  },
  {
   "cell_type": "markdown",
   "id": "ultimate-functionality",
   "metadata": {
    "papermill": {
     "duration": 0.191871,
     "end_time": "2021-07-29T22:09:16.644444",
     "exception": false,
     "start_time": "2021-07-29T22:09:16.452573",
     "status": "completed"
    },
    "tags": []
   },
   "source": [
    "### Predikcija broja gostija na tjednoj razini na testnim podacima\n"
   ]
  },
  {
   "cell_type": "code",
   "execution_count": null,
   "id": "brilliant-thompson",
   "metadata": {
    "execution": {
     "iopub.execute_input": "2021-07-29T22:09:17.035482Z",
     "iopub.status.busy": "2021-07-29T22:09:17.034742Z",
     "iopub.status.idle": "2021-07-29T22:09:17.363965Z",
     "shell.execute_reply": "2021-07-29T22:09:17.363288Z",
     "shell.execute_reply.started": "2021-07-04T21:19:25.653789Z"
    },
    "papermill": {
     "duration": 0.530087,
     "end_time": "2021-07-29T22:09:17.364128",
     "exception": false,
     "start_time": "2021-07-29T22:09:16.834041",
     "status": "completed"
    },
    "tags": []
   },
   "outputs": [],
   "source": [
    "plt.figure(figsize=(15, 8))\n",
    "testCityWeekly['ukupno_gostiju'].plot(legend=True)\n",
    "predictionsCityTestWeekly.plot(legend=True)\n",
    "plt.title('Predikcija Broja Gostiju City Hotela na tjednoj razini', fontsize=16)\n",
    "plt.xlabel('Datum dolaska', fontsize=12)\n",
    "plt.ylabel('Broj gostiju', fontsize=12)"
   ]
  },
  {
   "cell_type": "markdown",
   "id": "liked-effort",
   "metadata": {
    "papermill": {
     "duration": 0.199626,
     "end_time": "2021-07-29T22:09:17.766092",
     "exception": false,
     "start_time": "2021-07-29T22:09:17.566466",
     "status": "completed"
    },
    "tags": []
   },
   "source": [
    "### Predikcija broja gostiju na tjednoj razini"
   ]
  },
  {
   "cell_type": "code",
   "execution_count": null,
   "id": "statistical-substance",
   "metadata": {
    "execution": {
     "iopub.execute_input": "2021-07-29T22:09:18.251660Z",
     "iopub.status.busy": "2021-07-29T22:09:18.237792Z",
     "iopub.status.idle": "2021-07-29T22:09:18.513865Z",
     "shell.execute_reply": "2021-07-29T22:09:18.513202Z",
     "shell.execute_reply.started": "2021-07-04T21:19:44.694369Z"
    },
    "papermill": {
     "duration": 0.547296,
     "end_time": "2021-07-29T22:09:18.514034",
     "exception": false,
     "start_time": "2021-07-29T22:09:17.966738",
     "status": "completed"
    },
    "tags": []
   },
   "outputs": [],
   "source": [
    "plt.figure(figsize=(15, 8))\n",
    "trainCityWeekly['ukupno_gostiju'].plot(legend=True)\n",
    "predictionsCityTestWeekly.plot(legend=True)\n",
    "plt.title('Predikcija broja gostiju kod City Hotela na tjednoj razini', fontsize=16)\n",
    "plt.xlabel('Datum dolaska', fontsize=12)\n",
    "plt.ylabel('Broj gostiju', fontsize=12)"
   ]
  },
  {
   "cell_type": "code",
   "execution_count": null,
   "id": "defined-aquatic",
   "metadata": {
    "execution": {
     "iopub.execute_input": "2021-07-29T22:09:18.932506Z",
     "iopub.status.busy": "2021-07-29T22:09:18.931415Z",
     "iopub.status.idle": "2021-07-29T22:09:18.934976Z",
     "shell.execute_reply": "2021-07-29T22:09:18.935524Z",
     "shell.execute_reply.started": "2021-07-04T21:20:00.618792Z"
    },
    "papermill": {
     "duration": 0.216577,
     "end_time": "2021-07-29T22:09:18.935740",
     "exception": false,
     "start_time": "2021-07-29T22:09:18.719163",
     "status": "completed"
    },
    "tags": []
   },
   "outputs": [],
   "source": [
    "MeanAbsPercentageErrCityWeekly_test = mean_absolute_percentage_error(testCityWeekly, predictionsCityTestWeekly)\n",
    "print('Test MAPE City Hotel tjedna razina: %f' % MeanAbsPercentageErrCityWeekly_test)"
   ]
  },
  {
   "cell_type": "markdown",
   "id": "6160a969",
   "metadata": {},
   "source": [
    "## Predviđanje mjesečnog broja gostiju \n"
   ]
  },
  {
   "cell_type": "markdown",
   "id": "8229d10c",
   "metadata": {},
   "source": [
    "#### Dickey-Fuller test za podatke o mjesečnombroju gostiju"
   ]
  },
  {
   "cell_type": "code",
   "execution_count": null,
   "id": "b6eb9fbb",
   "metadata": {},
   "outputs": [],
   "source": [
    "CityMonthlyValues = NumberOfGuestsMonthlyCity.values\n",
    "result_city_monthly = adfuller(CityMonthlyValues)\n",
    "print('ADF Statistic: %f' % result_city_monthly [0])\n",
    "print('p-value: %f' % result_city_monthly [1])\n",
    "print('Critical Values:')\n",
    "for key, value in result_city_monthly [4].items():\n",
    "    print('\\t%s: %.3f' % (key, value))"
   ]
  },
  {
   "cell_type": "markdown",
   "id": "5cd77db6",
   "metadata": {},
   "source": [
    "- Definirajmo razinu značajnosti alfa=0.05\n",
    "- Kako je p vrijednost veća od alfe, ne možemo odbaciti H0, odnosno serija je nestacionarna "
   ]
  },
  {
   "cell_type": "markdown",
   "id": "d484a305",
   "metadata": {},
   "source": [
    "#### Rollling Mean i STD City Hotela Mjesečna razina"
   ]
  },
  {
   "cell_type": "code",
   "execution_count": null,
   "id": "2ff66f97",
   "metadata": {},
   "outputs": [],
   "source": [
    "plt.figure(figsize=(15, 8))\n",
    "rolling_mean_city_monthly  = NumberOfGuestsMonthlyCity.rolling(window=4).mean()\n",
    "rolling_std_city_monthly = NumberOfGuestsMonthlyCity.rolling(window=4).std()\n",
    "plt.plot(NumberOfGuestsMonthlyCity, color='blue', label='Original')\n",
    "plt.plot(rolling_mean_city_monthly, color='red', label='Rolling Mean')\n",
    "plt.plot(rolling_std_city_monthly, color='black', label='Rolling Std')\n",
    "plt.legend(loc='upper right')\n",
    "plt.title('Klizni medijan i standardna devijacija ukupnog broja gostiju kod City Hotela na mjesečnoj razini')\n",
    "plt.show()"
   ]
  },
  {
   "cell_type": "code",
   "execution_count": null,
   "id": "1492001c",
   "metadata": {},
   "outputs": [],
   "source": [
    "split_ratio  =  0.8"
   ]
  },
  {
   "cell_type": "code",
   "execution_count": null,
   "id": "8cfdd994",
   "metadata": {},
   "outputs": [],
   "source": [
    "train_test_split_city_monthly = int(len(NumberOfGuestsMonthlyCity)*split_ratio)\n",
    "print(f\"Split {split_ratio} na train/test, train ima {train_test_split_city_monthly} podataka, test {len(NumberOfGuestsMonthlyCity)-train_test_split_city_monthly} podataka\")\n",
    "\n",
    "trainCityMonthly = NumberOfGuestsMonthlyCity[:train_test_split_city_monthly]\n",
    "testCityMonthly = NumberOfGuestsMonthlyCity[train_test_split_city_monthly:]"
   ]
  },
  {
   "cell_type": "markdown",
   "id": "c844f37e",
   "metadata": {},
   "source": [
    "#### Fit ARIMA modela na podatke na mjesečnoj bazi"
   ]
  },
  {
   "cell_type": "code",
   "execution_count": null,
   "id": "e1067c32",
   "metadata": {},
   "outputs": [],
   "source": [
    "stepwise_fit_city_monthly = auto_arima(trainCityMonthly['ukupno_gostiju'], start_p=1, start_q=1,\n",
    "                          max_p=3, max_q=3, m=12,\n",
    "                          start_P=0, seasonal=True,\n",
    "                          d=None, D=1, trace=True,\n",
    "                          error_action='ignore',\n",
    "                          suppress_warnings=True,\n",
    "                          stepwise=True)\n",
    "\n",
    "stepwise_fit_city_monthly.summary()"
   ]
  },
  {
   "cell_type": "markdown",
   "id": "1efa8b73",
   "metadata": {},
   "source": [
    "- Bazirano na izlazu auto_arima metode, koristiti ćemo najbolji model \n",
    "- ARIMA(1,0,0)(0,1,0)[12] je najbolji model te se to preslikava u parametre\n",
    "- order = (1,0,0)\n",
    "- seasonal_order = (0,1,0,12)"
   ]
  },
  {
   "cell_type": "code",
   "execution_count": null,
   "id": "9b8168bc",
   "metadata": {},
   "outputs": [],
   "source": [
    "modelCityMonthly = ARIMA(trainCityMonthly['ukupno_gostiju'],\n",
    "                  order=(1, 0, 0),\n",
    "                  seasonal_order=(0, 1, 0, 12))\n",
    "\n",
    "resultCityMonthly = modelCityMonthly.fit()\n"
   ]
  },
  {
   "cell_type": "markdown",
   "id": "6fcb5c9a",
   "metadata": {},
   "source": [
    "##### Predikcije modela na test podacima na mjesečnoj bazi"
   ]
  },
  {
   "cell_type": "code",
   "execution_count": null,
   "id": "57c34df7",
   "metadata": {},
   "outputs": [],
   "source": [
    "predictionsCityTestMonthly = resultCityMonthly.predict(train_test_split_city_monthly, train_test_split_city_monthly + len(testCityMonthly) - 1, typ='levels').rename(\"Predictions\")\n"
   ]
  },
  {
   "cell_type": "markdown",
   "id": "fdbfdf5a",
   "metadata": {},
   "source": [
    "### Predikcija broja gostija na mjesečnoj razini na testnim podacima\n"
   ]
  },
  {
   "cell_type": "code",
   "execution_count": null,
   "id": "0b8d3def",
   "metadata": {},
   "outputs": [],
   "source": [
    "plt.figure(figsize=(15, 8))\n",
    "testCityMonthly['ukupno_gostiju'].plot(legend=True)\n",
    "predictionsCityTestMonthly.plot(legend=True)\n",
    "plt.title('Predikcija broja gostiju City Hotela na mjesečnoj razini', fontsize=16)\n",
    "plt.xlabel('Datum dolaska', fontsize=12)\n",
    "plt.ylabel('Broj gostiju', fontsize=12)"
   ]
  },
  {
   "cell_type": "markdown",
   "id": "f20175cd",
   "metadata": {},
   "source": [
    "### Predikcija broja gostiju na mjesečnoj razini"
   ]
  },
  {
   "cell_type": "code",
   "execution_count": null,
   "id": "934c7ea7",
   "metadata": {},
   "outputs": [],
   "source": [
    "plt.figure(figsize=(15, 8))\n",
    "trainCityMonthly['ukupno_gostiju'].plot(legend=True)\n",
    "predictionsCityTestMonthly.plot(legend=True)\n",
    "plt.title('Predikcija broja gostiju kod City Hotela', fontsize=16)\n",
    "plt.xlabel('Datum dolaska', fontsize=12)\n",
    "plt.ylabel('Broj gostiju', fontsize=12)"
   ]
  },
  {
   "cell_type": "code",
   "execution_count": null,
   "id": "557db60f",
   "metadata": {},
   "outputs": [],
   "source": [
    "MeanAbsPercentageErrCityMonthly_test = mean_absolute_percentage_error(testCityMonthly, predictionsCityTestMonthly)\n",
    "print('Test MAPE City Hotel na mjesečnoj razini: %f' % MeanAbsPercentageErrCityMonthly_test)"
   ]
  },
  {
   "cell_type": "markdown",
   "id": "b4abe61b",
   "metadata": {},
   "source": [
    "# ARIMA model za predviđanje budućeg broja gostiju - Resort Hotel \n"
   ]
  },
  {
   "cell_type": "markdown",
   "id": "9eeb5afc",
   "metadata": {},
   "source": [
    "## Predviđanje dnevnog broja gostiju \n"
   ]
  },
  {
   "cell_type": "markdown",
   "id": "f41ff8c5",
   "metadata": {},
   "source": [
    "#### Dickey-Fuller test za podatke o dnevnom broju gostiju"
   ]
  },
  {
   "cell_type": "code",
   "execution_count": null,
   "id": "0952ad42",
   "metadata": {},
   "outputs": [],
   "source": [
    "ResortDailyValues = NumberOfGuestsDailyResort.values\n",
    "result_resort_daily = adfuller(ResortDailyValues)\n",
    "print('ADF Statistic: %f' % result_resort_daily[0])\n",
    "print('p-value: %f' % result_resort_daily[1])\n",
    "print('Critical Values:')\n",
    "for key, value in result_resort_daily[4].items():\n",
    "    print('\\t%s: %.3f' % (key, value))"
   ]
  },
  {
   "cell_type": "markdown",
   "id": "ca842e2b",
   "metadata": {},
   "source": [
    "- Definirajmo razinu značajnosti alfa=0.05\n",
    "- Kako je p vrijednost manja od alfe,  možemo odbaciti H0, odnosno serija je stacionarna "
   ]
  },
  {
   "cell_type": "markdown",
   "id": "1ed9fc56",
   "metadata": {},
   "source": [
    "#### Rollling Mean i STD Resort Hotela na dnevnioj razini"
   ]
  },
  {
   "cell_type": "code",
   "execution_count": null,
   "id": "dc65edf4",
   "metadata": {},
   "outputs": [],
   "source": [
    "plt.figure(figsize=(15, 8))\n",
    "rolling_mean_resort_daily = NumberOfGuestsDailyResort.rolling(window=4).mean()\n",
    "rolling_std_resort_daily  = NumberOfGuestsDailyResort.rolling(window=4).std()\n",
    "plt.plot(NumberOfGuestsDailyResort, color='blue', label='Original')\n",
    "plt.plot(rolling_mean_resort_daily , color='red', label='Rolling Mean')\n",
    "plt.plot(rolling_std_resort_daily , color='black', label='Rolling Std')\n",
    "plt.legend(loc='upper right')\n",
    "plt.title('Klizni medijan i standardna devijacija ukupnog broja gostiju kod Resort Hotela na dnevnoj razini')\n",
    "plt.show()"
   ]
  },
  {
   "cell_type": "code",
   "execution_count": null,
   "id": "06a4c8db",
   "metadata": {},
   "outputs": [],
   "source": [
    "split_ratio  =  0.8"
   ]
  },
  {
   "cell_type": "code",
   "execution_count": null,
   "id": "19e362ed",
   "metadata": {},
   "outputs": [],
   "source": [
    "train_test_split_resort_daily = int(len(NumberOfGuestsDailyResort)*split_ratio)\n",
    "print(f\"Split {split_ratio} na train/test, train ima {train_test_split_resort_daily} podataka, test {len(NumberOfGuestsDailyResort)-train_test_split_resort_daily} podataka\")\n",
    "\n",
    "trainResortDaily = NumberOfGuestsDailyResort[:train_test_split_resort_daily]\n",
    "testResortDaily = NumberOfGuestsDailyResort[train_test_split_resort_daily:]"
   ]
  },
  {
   "cell_type": "markdown",
   "id": "66dc2478",
   "metadata": {},
   "source": [
    "#### Fit ARIMA modela na podatke na dnevnoj bazi"
   ]
  },
  {
   "cell_type": "code",
   "execution_count": null,
   "id": "79a7254b",
   "metadata": {},
   "outputs": [],
   "source": [
    "stepwise_fit_resort_daily = auto_arima(trainResortDaily['ukupno_gostiju'], start_p=1, start_q=1,\n",
    "                          max_p=3, max_q=3, m=7,\n",
    "                          start_P=0, seasonal=True,\n",
    "                          d=0, D=1, trace=True,\n",
    "                          error_action='ignore',\n",
    "                          suppress_warnings=True,\n",
    "                          stepwise=True)\n",
    "\n",
    "stepwise_fit_resort_daily.summary()"
   ]
  },
  {
   "cell_type": "markdown",
   "id": "78f59238",
   "metadata": {},
   "source": [
    "- Bazirano na izlazu auto_arima metode, koristiti ćemo najbolji model \n",
    "- ARIMA(0,0,1)(0,1,1)[7]    je najbolji model te se to preslikava u parametre\n",
    "- order = (0, 0 ,1)\n",
    "- seasonal_order = (0,1,1,7)\n"
   ]
  },
  {
   "cell_type": "code",
   "execution_count": null,
   "id": "0ee1bae3",
   "metadata": {},
   "outputs": [],
   "source": [
    "modelResort_daily = ARIMA(trainResortDaily['ukupno_gostiju'],\n",
    "                  order=(0, 0, 1),\n",
    "                  seasonal_order=(0, 1, 1, 7))\n",
    "\n",
    "resultResort_daily = modelResort_daily.fit()\n"
   ]
  },
  {
   "cell_type": "markdown",
   "id": "fc0708b1",
   "metadata": {},
   "source": [
    "##### Predikcije modela na test podacima na dnevnoj bazi"
   ]
  },
  {
   "cell_type": "code",
   "execution_count": null,
   "id": "fd4fa222",
   "metadata": {},
   "outputs": [],
   "source": [
    "predictionsResortTestDaily = resultResort_daily.predict(train_test_split_resort_daily, train_test_split_resort_daily + len(testResortDaily) - 1, typ='levels').rename(\"Predictions\")\n"
   ]
  },
  {
   "cell_type": "markdown",
   "id": "ddd5749d",
   "metadata": {},
   "source": [
    "### Predikcija broja gostija na dnevnoj razini na testnim podacima\n"
   ]
  },
  {
   "cell_type": "code",
   "execution_count": null,
   "id": "cf929501",
   "metadata": {},
   "outputs": [],
   "source": [
    "plt.figure(figsize=(15, 8))\n",
    "testResortDaily['ukupno_gostiju'].plot(legend=True)\n",
    "predictionsResortTestDaily.plot(legend=True)\n",
    "plt.title('Predikcija broja gostiju Resort Hotela na dnevnoj razini', fontsize=16)\n",
    "plt.xlabel('Datum dolaska', fontsize=12)\n",
    "plt.ylabel('Broj gostiju', fontsize=12)"
   ]
  },
  {
   "cell_type": "code",
   "execution_count": null,
   "id": "c13cd91d",
   "metadata": {},
   "outputs": [],
   "source": [
    "plt.figure(figsize=(15, 8))\n",
    "trainResortDaily['ukupno_gostiju'].plot(legend=True)\n",
    "predictionsResortTestDaily.plot(legend=True)\n",
    "plt.title('Predikcija dnevnog broja gostiju kod Resort Hotela', fontsize=16)\n",
    "plt.xlabel('Datum dolaska', fontsize=12)\n",
    "plt.ylabel('Broj gostiju', fontsize=12)"
   ]
  },
  {
   "cell_type": "code",
   "execution_count": null,
   "id": "8c10bdf7",
   "metadata": {},
   "outputs": [],
   "source": [
    "MeanAbsPercentageErrResortDaily_test = mean_absolute_percentage_error(testResortDaily, predictionsResortTestDaily)\n",
    "print('Test MAPE Resort Hotel na dnevnoj razini: %f' % MeanAbsPercentageErrResortDaily_test)"
   ]
  },
  {
   "cell_type": "markdown",
   "id": "bb67b53a",
   "metadata": {},
   "source": [
    "## Predviđanje tjednog broja gostiju \n"
   ]
  },
  {
   "cell_type": "markdown",
   "id": "5bd4b2a2",
   "metadata": {},
   "source": [
    "#### Dickey-Fuller test za podatke o tjednom broju gostiju"
   ]
  },
  {
   "cell_type": "code",
   "execution_count": null,
   "id": "ee5272f5",
   "metadata": {},
   "outputs": [],
   "source": [
    "ResortWeeklyValues = NumberOfGuestsWeeklyResort.values\n",
    "result_resort_weekly = adfuller(ResortWeeklyValues)\n",
    "print('ADF Statistic: %f' % result_resort_weekly [0])\n",
    "print('p-value: %f' % result_resort_weekly [1])\n",
    "print('Critical Values:')\n",
    "for key, value in result_resort_weekly [4].items():\n",
    "    print('\\t%s: %.3f' % (key, value))"
   ]
  },
  {
   "cell_type": "markdown",
   "id": "81c56ada",
   "metadata": {},
   "source": [
    "- Definirajmo razinu značajnosti alfa=0.05\n",
    "- Kako je p vrijednost manja od alfe,  možemo odbaciti H0, odnosno serija je stacionarna "
   ]
  },
  {
   "cell_type": "markdown",
   "id": "b88c78ae",
   "metadata": {},
   "source": [
    "#### Rollling Mean i STD Resort Hotela na tjednoj razini"
   ]
  },
  {
   "cell_type": "code",
   "execution_count": null,
   "id": "eff58ed6",
   "metadata": {},
   "outputs": [],
   "source": [
    "plt.figure(figsize=(15, 8))\n",
    "rolling_mean_resort_weekly = NumberOfGuestsWeeklyResort.rolling(window=4).mean()\n",
    "rolling_std_resort_weekly = NumberOfGuestsWeeklyResort.rolling(window=4).std()\n",
    "plt.plot(NumberOfGuestsWeeklyResort, color='blue', label='Original')\n",
    "plt.plot(rolling_mean_resort_weekly, color='red', label='Rolling Mean')\n",
    "plt.plot(rolling_std_resort_weekly, color='black', label='Rolling Std')\n",
    "plt.legend(loc='upper right')\n",
    "plt.title('Klizni medijan i standardna devijacija ukupnog broja gostiju kod Resort Hotela na tjednoj razini')\n",
    "plt.show()"
   ]
  },
  {
   "cell_type": "code",
   "execution_count": null,
   "id": "4ef3d8b7",
   "metadata": {},
   "outputs": [],
   "source": [
    "split_ratio  =  0.8"
   ]
  },
  {
   "cell_type": "code",
   "execution_count": null,
   "id": "acc4bb77",
   "metadata": {},
   "outputs": [],
   "source": [
    "train_test_split_resort_weekly = int(len(NumberOfGuestsWeeklyResort)*split_ratio)\n",
    "print(f\"Split {split_ratio} na train/test, train ima {train_test_split_resort_weekly} podataka, test {len(NumberOfGuestsWeeklyResort)-train_test_split_resort_weekly} podataka\")\n",
    "\n",
    "trainResortWeekly = NumberOfGuestsWeeklyResort[:train_test_split_resort_weekly]\n",
    "testResortWeekly = NumberOfGuestsWeeklyResort[train_test_split_resort_weekly:]"
   ]
  },
  {
   "cell_type": "markdown",
   "id": "ecb3736d",
   "metadata": {},
   "source": [
    "#### Fit ARIMA modela na podatke na tjednoj bazi"
   ]
  },
  {
   "cell_type": "code",
   "execution_count": null,
   "id": "25e356c9",
   "metadata": {},
   "outputs": [],
   "source": [
    "stepwise_fit_resort_weekly = auto_arima(trainResortWeekly['ukupno_gostiju'], \n",
    "                          start_p=1, start_q=1,\n",
    "                          max_p=3, max_q=3, m=54,\n",
    "                          start_P=0, seasonal=True,\n",
    "                          d=0, D=1, trace=True,\n",
    "                          error_action='ignore',\n",
    "                          suppress_warnings=True,\n",
    "                          stepwise=True)\n",
    "\n",
    "stepwise_fit_resort_weekly.summary()"
   ]
  },
  {
   "cell_type": "markdown",
   "id": "2be83ad7",
   "metadata": {},
   "source": [
    "- Bazirano na izlazu auto_arima metode, koristiti ćemo najbolji model \n",
    "- ARIMA(0,0,0)(0,1,0)[54]    je najbolji model te se to preslikava u parametre\n",
    "- order = (0,0,0)\n",
    "- seasonal_order = (0,1,0)[54] \n"
   ]
  },
  {
   "cell_type": "code",
   "execution_count": null,
   "id": "a6a0b3ce",
   "metadata": {},
   "outputs": [],
   "source": [
    "modelResort_weekly = ARIMA(trainResortWeekly['ukupno_gostiju'],\n",
    "                  order=(0, 0, 0),\n",
    "                  seasonal_order=(0, 1, 0, 54))\n",
    "\n",
    "resultResort_weekly= modelResort_weekly.fit()\n"
   ]
  },
  {
   "cell_type": "markdown",
   "id": "f35a8939",
   "metadata": {},
   "source": [
    "##### Predikcije modela na test podacima na tjednoj bazi"
   ]
  },
  {
   "cell_type": "code",
   "execution_count": null,
   "id": "a8bd26bb",
   "metadata": {},
   "outputs": [],
   "source": [
    "predictionsResortTestWeekly = resultResort_weekly.predict(train_test_split_resort_weekly, train_test_split_resort_weekly + len(testResortWeekly) - 1, typ='levels').rename(\"Predictions\")\n"
   ]
  },
  {
   "cell_type": "markdown",
   "id": "048ba855",
   "metadata": {},
   "source": [
    "### Predikcija broja gostija na tjednoj razini na testnim podacima\n"
   ]
  },
  {
   "cell_type": "code",
   "execution_count": null,
   "id": "86ec1100",
   "metadata": {},
   "outputs": [],
   "source": [
    "plt.figure(figsize=(15, 8))\n",
    "testResortWeekly['ukupno_gostiju'].plot(legend=True)\n",
    "predictionsResortTestWeekly.plot(legend=True)\n",
    "plt.title('Predikcija broja gostiju Resort Hotela na tjednoj razini', fontsize=16)\n",
    "plt.xlabel('Datum dolaska', fontsize=12)\n",
    "plt.ylabel('Broj gostiju', fontsize=12)"
   ]
  },
  {
   "cell_type": "code",
   "execution_count": null,
   "id": "e33b986d",
   "metadata": {},
   "outputs": [],
   "source": [
    "plt.figure(figsize=(15, 8))\n",
    "trainResortWeekly['ukupno_gostiju'].plot(legend=True)\n",
    "predictionsResortTestWeekly.plot(legend=True)\n",
    "plt.title('Predikcija broja gostiju kod Resort Hotela na tjednoj razini', fontsize=16)\n",
    "plt.xlabel('Datum dolaska', fontsize=12)\n",
    "plt.ylabel('Broj gostiju', fontsize=12)"
   ]
  },
  {
   "cell_type": "code",
   "execution_count": null,
   "id": "1cb2798f",
   "metadata": {},
   "outputs": [],
   "source": [
    "MeanAbsPercentageErrResortWeekly_test = mean_absolute_percentage_error(testResortWeekly, predictionsResortTestWeekly)\n",
    "print('Test MAPE Resort Hotel na tjednoj razini: %f' % MeanAbsPercentageErrResortWeekly_test)"
   ]
  },
  {
   "cell_type": "markdown",
   "id": "fab3767f",
   "metadata": {},
   "source": [
    "## Predviđanje mjesečnog broja gostiju \n"
   ]
  },
  {
   "cell_type": "markdown",
   "id": "1b483693",
   "metadata": {},
   "source": [
    "#### Dickey-Fuller test za podatke o mjesečnom broju gostiju"
   ]
  },
  {
   "cell_type": "code",
   "execution_count": null,
   "id": "e60dff5f",
   "metadata": {},
   "outputs": [],
   "source": [
    "ResortMonthlyValues = NumberOfGuestsMonthlyResort.values\n",
    "result_resort_monthly = adfuller(ResortMonthlyValues)\n",
    "print('ADF Statistic: %f' % result_resort_monthly[0])\n",
    "print('p-value: %f' % result_resort_monthly[1])\n",
    "print('Critical Values:')\n",
    "for key, value in result_resort_monthly[4].items():\n",
    "    print('\\t%s: %.3f' % (key, value))"
   ]
  },
  {
   "cell_type": "markdown",
   "id": "788ba1e7",
   "metadata": {},
   "source": [
    "- Definirajmo razinu značajnosti alfa=0.05\n",
    "- Kako je p vrijednost veća od alfe, možemo odbaciti H0, odnosno serija je stacionarna "
   ]
  },
  {
   "cell_type": "markdown",
   "id": "077cd9db",
   "metadata": {},
   "source": [
    "#### Rollling Mean i STD Resort Hotela na mjesečnoj razini"
   ]
  },
  {
   "cell_type": "code",
   "execution_count": null,
   "id": "f01b0684",
   "metadata": {},
   "outputs": [],
   "source": [
    "plt.figure(figsize=(15, 8))\n",
    "rolling_mean_resort_monthly = NumberOfGuestsMonthlyResort.rolling(window=4).mean()\n",
    "rolling_std_resort_monthly = NumberOfGuestsMonthlyResort.rolling(window=4).std()\n",
    "plt.plot(NumberOfGuestsMonthlyResort, color='blue', label='Original')\n",
    "plt.plot(rolling_mean_resort_monthly, color='red', label='Rolling Mean')\n",
    "plt.plot(rolling_std_resort_monthly, color='black', label='Rolling Std')\n",
    "plt.legend(loc='upper right')\n",
    "plt.title('Klizni medijan i standardna devijacija ukupnog broja gostiju kod Resort Hotela na mjesečnoj razini')\n",
    "plt.show()"
   ]
  },
  {
   "cell_type": "code",
   "execution_count": null,
   "id": "9c3e5319",
   "metadata": {},
   "outputs": [],
   "source": [
    "split_ratio  =  0.8"
   ]
  },
  {
   "cell_type": "code",
   "execution_count": null,
   "id": "693994a0",
   "metadata": {},
   "outputs": [],
   "source": [
    "train_test_split_resort_monthly = int(len(NumberOfGuestsMonthlyResort)*split_ratio)\n",
    "print(f\"Split {split_ratio} na train/test, train ima {train_test_split_resort_monthly} podataka, test {len(NumberOfGuestsMonthlyResort)-train_test_split_resort_monthly} podataka\")\n",
    "\n",
    "trainResortMonthly = NumberOfGuestsMonthlyResort[:train_test_split_resort_monthly]\n",
    "testResortMonthly = NumberOfGuestsMonthlyResort[train_test_split_resort_monthly:]"
   ]
  },
  {
   "cell_type": "code",
   "execution_count": null,
   "id": "f134f8f9",
   "metadata": {},
   "outputs": [],
   "source": [
    "stepwise_fit_resort_monthly = auto_arima(trainResortMonthly['ukupno_gostiju'], \n",
    "                          start_p=1, start_q=1,\n",
    "                          max_p=3, max_q=3, m=12,\n",
    "                          start_P=0, seasonal=True,\n",
    "                          d=0, D=1, trace=True,\n",
    "                          error_action='ignore',\n",
    "                          suppress_warnings=True,\n",
    "                          stepwise=True)\n",
    "\n",
    "stepwise_fit_resort_monthly.summary()"
   ]
  },
  {
   "cell_type": "markdown",
   "id": "232dc7ba",
   "metadata": {},
   "source": [
    "- Bazirano na izlazu auto_arima metode, koristiti ćemo najbolji model \n",
    "- ARIMA(0,0,0)(0,1,0)[12]    je najbolji model te se to preslikava u parametre\n",
    "- order = (0,0,0)\n",
    "- seasonal_order = (0,1,0)[12] \n"
   ]
  },
  {
   "cell_type": "code",
   "execution_count": null,
   "id": "5cbc27e2",
   "metadata": {},
   "outputs": [],
   "source": [
    "modelResort_monthly = ARIMA(trainResortMonthly['ukupno_gostiju'],\n",
    "                  order=(0, 0, 0),\n",
    "                  seasonal_order=(0, 1, 0, 12))\n",
    "\n",
    "resultResort_monthly= modelResort_monthly.fit()\n"
   ]
  },
  {
   "cell_type": "markdown",
   "id": "1bd3f03d",
   "metadata": {},
   "source": [
    "##### Predikcije modela na test podacima na mjesečnoj bazi"
   ]
  },
  {
   "cell_type": "code",
   "execution_count": null,
   "id": "71f4d0eb",
   "metadata": {},
   "outputs": [],
   "source": [
    "predictionsResortTestMonthly = resultResort_monthly.predict(train_test_split_resort_monthly, train_test_split_resort_monthly + len(testResortMonthly) - 1, typ='levels').rename(\"Predictions\")\n"
   ]
  },
  {
   "cell_type": "markdown",
   "id": "551795f1",
   "metadata": {},
   "source": [
    "### Predikcija broja gostija na mjesečnoj razini na testnim podacima\n"
   ]
  },
  {
   "cell_type": "code",
   "execution_count": null,
   "id": "613af44a",
   "metadata": {},
   "outputs": [],
   "source": [
    "plt.figure(figsize=(15, 8))\n",
    "testResortMonthly['ukupno_gostiju'].plot(legend=True)\n",
    "predictionsResortTestMonthly.plot(legend=True)\n",
    "plt.title('Predikcija Broja Gostiju Resort Hotela na mjesečnoj razini', fontsize=16)\n",
    "plt.xlabel('Datum dolaska', fontsize=12)\n",
    "plt.ylabel('Broj gostiju', fontsize=12)"
   ]
  },
  {
   "cell_type": "code",
   "execution_count": null,
   "id": "73f959fb",
   "metadata": {},
   "outputs": [],
   "source": [
    "plt.figure(figsize=(15, 8))\n",
    "trainResortMonthly['ukupno_gostiju'].plot(legend=True)\n",
    "predictionsResortTestMonthly.plot(legend=True)\n",
    "plt.title('Predikcija broja gostiju kod Resort Hotela na mjesečnoj razini', fontsize=16)\n",
    "plt.xlabel('Datum dolaska', fontsize=12)\n",
    "plt.ylabel('Broj gostiju', fontsize=12)"
   ]
  },
  {
   "cell_type": "code",
   "execution_count": null,
   "id": "49a9f412",
   "metadata": {},
   "outputs": [],
   "source": [
    "MeanAbsPercentageErrResortMonthly_test = mean_absolute_percentage_error(testResortMonthly, predictionsResortTestMonthly)\n",
    "print('Test MAPE Resort Hotel na mjesečnoj razini: %f' % MeanAbsPercentageErrResortMonthly_test)"
   ]
  }
 ],
 "metadata": {
  "kernelspec": {
   "display_name": "Python 3",
   "language": "python",
   "name": "python3"
  },
  "language_info": {
   "codemirror_mode": {
    "name": "ipython",
    "version": 3
   },
   "file_extension": ".py",
   "mimetype": "text/x-python",
   "name": "python",
   "nbconvert_exporter": "python",
   "pygments_lexer": "ipython3",
   "version": "3.11.5"
  },
  "papermill": {
   "default_parameters": {},
   "duration": 148.309899,
   "end_time": "2021-07-29T22:10:05.714579",
   "environment_variables": {},
   "exception": null,
   "input_path": "__notebook__.ipynb",
   "output_path": "__notebook__.ipynb",
   "parameters": {},
   "start_time": "2021-07-29T22:07:37.404680",
   "version": "2.3.3"
  }
 },
 "nbformat": 4,
 "nbformat_minor": 5
}
